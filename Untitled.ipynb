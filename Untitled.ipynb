{
 "cells": [
  {
   "cell_type": "code",
   "execution_count": 3,
   "id": "b49b98c6",
   "metadata": {},
   "outputs": [
    {
     "name": "stdout",
     "output_type": "stream",
     "text": [
      "Collecting opencv-python\n",
      "  Obtaining dependency information for opencv-python from https://files.pythonhosted.org/packages/c7/ec/9dabb6a9abfdebb3c45b0cc52dec901caafef2b2c7e7d6a839ed86d81e91/opencv_python-4.9.0.80-cp37-abi3-win_amd64.whl.metadata\n",
      "  Downloading opencv_python-4.9.0.80-cp37-abi3-win_amd64.whl.metadata (20 kB)\n",
      "Requirement already satisfied: numpy>=1.21.2 in c:\\users\\jsd76\\anaconda3\\lib\\site-packages (from opencv-python) (1.24.3)\n",
      "Downloading opencv_python-4.9.0.80-cp37-abi3-win_amd64.whl (38.6 MB)\n",
      "   ---------------------------------------- 0.0/38.6 MB ? eta -:--:--\n",
      "   ---------------------------------------- 0.0/38.6 MB ? eta -:--:--\n",
      "   ---------------------------------------- 0.1/38.6 MB 991.0 kB/s eta 0:00:39\n",
      "    --------------------------------------- 0.8/38.6 MB 8.8 MB/s eta 0:00:05\n",
      "   --- ------------------------------------ 3.8/38.6 MB 30.4 MB/s eta 0:00:02\n",
      "   ------- -------------------------------- 7.3/38.6 MB 42.6 MB/s eta 0:00:01\n",
      "   ---------- ----------------------------- 10.6/38.6 MB 81.8 MB/s eta 0:00:01\n",
      "   ----------- ---------------------------- 10.7/38.6 MB 73.1 MB/s eta 0:00:01\n",
      "   ----------- ---------------------------- 10.7/38.6 MB 54.7 MB/s eta 0:00:01\n",
      "   ----------- ---------------------------- 10.8/38.6 MB 43.7 MB/s eta 0:00:01\n",
      "   ----------- ---------------------------- 10.9/38.6 MB 43.5 MB/s eta 0:00:01\n",
      "   ----------- ---------------------------- 11.1/38.6 MB 36.3 MB/s eta 0:00:01\n",
      "   ----------- ---------------------------- 11.4/38.6 MB 32.7 MB/s eta 0:00:01\n",
      "   --------------- ------------------------ 14.5/38.6 MB 32.7 MB/s eta 0:00:01\n",
      "   ------------------ --------------------- 17.8/38.6 MB 32.8 MB/s eta 0:00:01\n",
      "   ---------------------- ----------------- 21.4/38.6 MB 72.6 MB/s eta 0:00:01\n",
      "   ------------------------- -------------- 24.9/38.6 MB 93.9 MB/s eta 0:00:01\n",
      "   ----------------------------- ---------- 28.5/38.6 MB 110.0 MB/s eta 0:00:01\n",
      "   -------------------------------- ------- 31.7/38.6 MB 93.9 MB/s eta 0:00:01\n",
      "   ---------------------------------- ----- 32.9/38.6 MB 81.8 MB/s eta 0:00:01\n",
      "   ---------------------------------- ----- 33.2/38.6 MB 65.6 MB/s eta 0:00:01\n",
      "   ------------------------------------ --- 34.9/38.6 MB 54.4 MB/s eta 0:00:01\n",
      "   ------------------------------------- -- 36.1/38.6 MB 50.4 MB/s eta 0:00:01\n",
      "   ---------------------------------------  38.0/38.6 MB 46.7 MB/s eta 0:00:01\n",
      "   ---------------------------------------  38.6/38.6 MB 43.5 MB/s eta 0:00:01\n",
      "   ---------------------------------------  38.6/38.6 MB 43.5 MB/s eta 0:00:01\n",
      "   ---------------------------------------  38.6/38.6 MB 43.5 MB/s eta 0:00:01\n",
      "   ---------------------------------------- 38.6/38.6 MB 26.2 MB/s eta 0:00:00\n",
      "Installing collected packages: opencv-python\n",
      "Successfully installed opencv-python-4.9.0.80\n",
      "Note: you may need to restart the kernel to use updated packages.\n"
     ]
    }
   ],
   "source": [
    "pip install opencv-python"
   ]
  },
  {
   "cell_type": "code",
   "execution_count": 4,
   "id": "9203fe47",
   "metadata": {},
   "outputs": [
    {
     "name": "stdout",
     "output_type": "stream",
     "text": [
      "Collecting face_recognition\n",
      "  Obtaining dependency information for face_recognition from https://files.pythonhosted.org/packages/1e/95/f6c9330f54ab07bfa032bf3715c12455a381083125d8880c43cbe76bb3d0/face_recognition-1.3.0-py2.py3-none-any.whl.metadata\n",
      "  Downloading face_recognition-1.3.0-py2.py3-none-any.whl.metadata (21 kB)\n",
      "Collecting face-recognition-models>=0.3.0 (from face_recognition)\n",
      "  Downloading face_recognition_models-0.3.0.tar.gz (100.1 MB)\n",
      "     ---------------------------------------- 0.0/100.1 MB ? eta -:--:--\n",
      "     ---------------------------------------- 0.0/100.1 MB ? eta -:--:--\n",
      "     ---------------------------------------- 0.1/100.1 MB 1.3 MB/s eta 0:01:17\n",
      "     ---------------------------------------- 0.5/100.1 MB 4.7 MB/s eta 0:00:22\n",
      "     ---------------------------------------- 1.0/100.1 MB 8.1 MB/s eta 0:00:13\n",
      "      -------------------------------------- 1.8/100.1 MB 10.5 MB/s eta 0:00:10\n",
      "     - ------------------------------------- 2.8/100.1 MB 13.9 MB/s eta 0:00:07\n",
      "     - ------------------------------------- 4.3/100.1 MB 18.3 MB/s eta 0:00:06\n",
      "     -- ------------------------------------ 6.3/100.1 MB 22.5 MB/s eta 0:00:05\n",
      "     --- ----------------------------------- 9.0/100.1 MB 28.8 MB/s eta 0:00:04\n",
      "     ---- --------------------------------- 12.1/100.1 MB 59.5 MB/s eta 0:00:02\n",
      "     ------ ------------------------------- 16.2/100.1 MB 81.8 MB/s eta 0:00:02\n",
      "     ------- ------------------------------ 19.1/100.1 MB 93.9 MB/s eta 0:00:01\n",
      "     ------- ------------------------------ 19.6/100.1 MB 81.8 MB/s eta 0:00:01\n",
      "     -------- ----------------------------- 23.0/100.1 MB 73.1 MB/s eta 0:00:02\n",
      "     -------- ----------------------------- 23.3/100.1 MB 65.6 MB/s eta 0:00:02\n",
      "     -------- ----------------------------- 23.4/100.1 MB 50.4 MB/s eta 0:00:02\n",
      "     -------- ----------------------------- 23.7/100.1 MB 43.7 MB/s eta 0:00:02\n",
      "     --------- ---------------------------- 24.2/100.1 MB 38.5 MB/s eta 0:00:02\n",
      "     ---------- --------------------------- 26.8/100.1 MB 36.4 MB/s eta 0:00:03\n",
      "     ----------- -------------------------- 30.0/100.1 MB 40.9 MB/s eta 0:00:02\n",
      "     ------------ ------------------------- 33.6/100.1 MB 54.7 MB/s eta 0:00:02\n",
      "     ------------- ----------------------- 37.6/100.1 MB 108.8 MB/s eta 0:00:01\n",
      "     --------------- --------------------- 41.3/100.1 MB 108.8 MB/s eta 0:00:01\n",
      "     ---------------- -------------------- 45.0/100.1 MB 108.8 MB/s eta 0:00:01\n",
      "     ----------------- ------------------- 48.5/100.1 MB 108.8 MB/s eta 0:00:01\n",
      "     ------------------ ------------------- 49.7/100.1 MB 81.8 MB/s eta 0:00:01\n",
      "     ------------------- ------------------ 51.7/100.1 MB 73.1 MB/s eta 0:00:01\n",
      "     -------------------- ----------------- 53.0/100.1 MB 59.5 MB/s eta 0:00:01\n",
      "     -------------------- ----------------- 55.2/100.1 MB 50.4 MB/s eta 0:00:01\n",
      "     --------------------- ---------------- 57.5/100.1 MB 50.4 MB/s eta 0:00:01\n",
      "     ----------------------- -------------- 60.6/100.1 MB 59.8 MB/s eta 0:00:01\n",
      "     ------------------------ ------------- 64.1/100.1 MB 73.1 MB/s eta 0:00:01\n",
      "     ------------------------- ------------ 67.5/100.1 MB 93.0 MB/s eta 0:00:01\n",
      "     -------------------------- ----------- 70.5/100.1 MB 93.0 MB/s eta 0:00:01\n",
      "     --------------------------- ---------- 73.8/100.1 MB 93.0 MB/s eta 0:00:01\n",
      "     ---------------------------- --------- 75.7/100.1 MB 81.8 MB/s eta 0:00:01\n",
      "     ---------------------------- --------- 75.8/100.1 MB 65.6 MB/s eta 0:00:01\n",
      "     ---------------------------- --------- 76.1/100.1 MB 50.4 MB/s eta 0:00:01\n",
      "     ----------------------------- -------- 76.4/100.1 MB 43.7 MB/s eta 0:00:01\n",
      "     ----------------------------- -------- 78.8/100.1 MB 43.5 MB/s eta 0:00:01\n",
      "     ----------------------------- -------- 78.8/100.1 MB 36.4 MB/s eta 0:00:01\n",
      "     ------------------------------ ------- 79.1/100.1 MB 32.7 MB/s eta 0:00:01\n",
      "     ------------------------------ ------- 79.5/100.1 MB 31.2 MB/s eta 0:00:01\n",
      "     ------------------------------- ------ 81.8/100.1 MB 28.4 MB/s eta 0:00:01\n",
      "     -------------------------------- ----- 84.7/100.1 MB 28.5 MB/s eta 0:00:01\n",
      "     --------------------------------- ---- 87.7/100.1 MB 43.7 MB/s eta 0:00:01\n",
      "     ---------------------------------- --- 90.8/100.1 MB 81.8 MB/s eta 0:00:01\n",
      "     ----------------------------------- -- 94.0/100.1 MB 81.8 MB/s eta 0:00:01\n",
      "     ------------------------------------ - 97.2/100.1 MB 81.8 MB/s eta 0:00:01\n",
      "     ------------------------------------  100.1/100.1 MB 93.9 MB/s eta 0:00:01\n",
      "     ------------------------------------  100.1/100.1 MB 93.9 MB/s eta 0:00:01\n",
      "     ------------------------------------  100.1/100.1 MB 93.9 MB/s eta 0:00:01\n",
      "     ------------------------------------  100.1/100.1 MB 93.9 MB/s eta 0:00:01\n",
      "     ------------------------------------  100.1/100.1 MB 93.9 MB/s eta 0:00:01\n",
      "     ------------------------------------- 100.1/100.1 MB 25.2 MB/s eta 0:00:00\n",
      "  Preparing metadata (setup.py): started\n",
      "  Preparing metadata (setup.py): finished with status 'done'\n",
      "Requirement already satisfied: Click>=6.0 in c:\\users\\jsd76\\anaconda3\\lib\\site-packages (from face_recognition) (8.0.4)\n",
      "Collecting dlib>=19.7 (from face_recognition)\n",
      "  Downloading dlib-19.24.4.tar.gz (3.3 MB)\n",
      "     ---------------------------------------- 0.0/3.3 MB ? eta -:--:--\n",
      "     ---------------------------------------  3.3/3.3 MB 216.4 MB/s eta 0:00:01\n",
      "     ---------------------------------------- 3.3/3.3 MB 104.7 MB/s eta 0:00:00\n",
      "  Installing build dependencies: started\n",
      "  Installing build dependencies: finished with status 'done'\n",
      "  Getting requirements to build wheel: started\n",
      "  Getting requirements to build wheel: finished with status 'done'\n",
      "  Preparing metadata (pyproject.toml): started\n",
      "  Preparing metadata (pyproject.toml): finished with status 'done'\n",
      "Requirement already satisfied: numpy in c:\\users\\jsd76\\anaconda3\\lib\\site-packages (from face_recognition) (1.24.3)\n",
      "Requirement already satisfied: Pillow in c:\\users\\jsd76\\anaconda3\\lib\\site-packages (from face_recognition) (10.2.0)\n",
      "Requirement already satisfied: colorama in c:\\users\\jsd76\\anaconda3\\lib\\site-packages (from Click>=6.0->face_recognition) (0.4.6)\n",
      "Downloading face_recognition-1.3.0-py2.py3-none-any.whl (15 kB)\n",
      "Building wheels for collected packages: dlib, face-recognition-models\n",
      "  Building wheel for dlib (pyproject.toml): started\n",
      "  Building wheel for dlib (pyproject.toml): finished with status 'error'\n",
      "  Building wheel for face-recognition-models (setup.py): started\n",
      "  Building wheel for face-recognition-models (setup.py): finished with status 'done'\n",
      "  Created wheel for face-recognition-models: filename=face_recognition_models-0.3.0-py2.py3-none-any.whl size=100566184 sha256=eef536bc67bf1cda4f5ba76085ddbca85e819af16b05b6052f9e7a58ec6ed6d8\n",
      "  Stored in directory: c:\\users\\jsd76\\appdata\\local\\pip\\cache\\wheels\\04\\52\\ec\\9355da79c29f160b038a20c784db2803c2f9fa2c8a462c176a\n",
      "Successfully built face-recognition-models\n",
      "Failed to build dlib\n",
      "Note: you may need to restart the kernel to use updated packages.\n"
     ]
    },
    {
     "name": "stderr",
     "output_type": "stream",
     "text": [
      "  error: subprocess-exited-with-error\n",
      "  \n",
      "  Building wheel for dlib (pyproject.toml) did not run successfully.\n",
      "  exit code: 1\n",
      "  \n",
      "  [6 lines of output]\n",
      "  running bdist_wheel\n",
      "  running build\n",
      "  running build_ext\n",
      "  \n",
      "  ERROR: CMake must be installed to build dlib\n",
      "  \n",
      "  [end of output]\n",
      "  \n",
      "  note: This error originates from a subprocess, and is likely not a problem with pip.\n",
      "  ERROR: Failed building wheel for dlib\n",
      "ERROR: Could not build wheels for dlib, which is required to install pyproject.toml-based projects\n"
     ]
    }
   ],
   "source": [
    "pip install face_recognition"
   ]
  },
  {
   "cell_type": "code",
   "execution_count": 5,
   "id": "e2dbfa63",
   "metadata": {},
   "outputs": [
    {
     "name": "stdout",
     "output_type": "stream",
     "text": [
      "Collecting dlibNote: you may need to restart the kernel to use updated packages.\n",
      "\n",
      "  Using cached dlib-19.24.4.tar.gz (3.3 MB)\n",
      "  Installing build dependencies: started\n",
      "  Installing build dependencies: finished with status 'done'\n",
      "  Getting requirements to build wheel: started\n",
      "  Getting requirements to build wheel: finished with status 'done'\n",
      "  Preparing metadata (pyproject.toml): started\n",
      "  Preparing metadata (pyproject.toml): finished with status 'done'\n",
      "Building wheels for collected packages: dlib\n",
      "  Building wheel for dlib (pyproject.toml): started\n",
      "  Building wheel for dlib (pyproject.toml): finished with status 'error'\n",
      "Failed to build dlib\n"
     ]
    },
    {
     "name": "stderr",
     "output_type": "stream",
     "text": [
      "  error: subprocess-exited-with-error\n",
      "  \n",
      "  Building wheel for dlib (pyproject.toml) did not run successfully.\n",
      "  exit code: 1\n",
      "  \n",
      "  [6 lines of output]\n",
      "  running bdist_wheel\n",
      "  running build\n",
      "  running build_ext\n",
      "  \n",
      "  ERROR: CMake must be installed to build dlib\n",
      "  \n",
      "  [end of output]\n",
      "  \n",
      "  note: This error originates from a subprocess, and is likely not a problem with pip.\n",
      "  ERROR: Failed building wheel for dlib\n",
      "ERROR: Could not build wheels for dlib, which is required to install pyproject.toml-based projects\n"
     ]
    }
   ],
   "source": [
    "pip install dlib"
   ]
  },
  {
   "cell_type": "code",
   "execution_count": 6,
   "id": "f88132d1",
   "metadata": {},
   "outputs": [
    {
     "name": "stdout",
     "output_type": "stream",
     "text": [
      "Collecting face_recognition\n",
      "  Obtaining dependency information for face_recognition from https://files.pythonhosted.org/packages/1e/95/f6c9330f54ab07bfa032bf3715c12455a381083125d8880c43cbe76bb3d0/face_recognition-1.3.0-py2.py3-none-any.whl.metadata\n",
      "  Using cached face_recognition-1.3.0-py2.py3-none-any.whl.metadata (21 kB)\n",
      "Collecting face-recognition-models>=0.3.0 (from face_recognition)\n",
      "  Using cached face_recognition_models-0.3.0-py2.py3-none-any.whl\n",
      "Requirement already satisfied: Click>=6.0 in c:\\users\\jsd76\\anaconda3\\lib\\site-packages (from face_recognition) (8.0.4)\n",
      "Collecting dlib>=19.7 (from face_recognition)\n",
      "  Using cached dlib-19.24.4.tar.gz (3.3 MB)\n",
      "  Installing build dependencies: started\n",
      "  Installing build dependencies: finished with status 'done'\n",
      "  Getting requirements to build wheel: started\n",
      "  Getting requirements to build wheel: finished with status 'done'\n",
      "  Preparing metadata (pyproject.toml): started\n",
      "  Preparing metadata (pyproject.toml): finished with status 'done'\n",
      "Requirement already satisfied: numpy in c:\\users\\jsd76\\anaconda3\\lib\\site-packages (from face_recognition) (1.24.3)\n",
      "Requirement already satisfied: Pillow in c:\\users\\jsd76\\anaconda3\\lib\\site-packages (from face_recognition) (10.2.0)\n",
      "Requirement already satisfied: colorama in c:\\users\\jsd76\\anaconda3\\lib\\site-packages (from Click>=6.0->face_recognition) (0.4.6)\n",
      "Using cached face_recognition-1.3.0-py2.py3-none-any.whl (15 kB)\n",
      "Building wheels for collected packages: dlib\n",
      "  Building wheel for dlib (pyproject.toml): started\n",
      "  Building wheel for dlib (pyproject.toml): finished with status 'error'\n",
      "Failed to build dlib\n",
      "Note: you may need to restart the kernel to use updated packages.\n"
     ]
    },
    {
     "name": "stderr",
     "output_type": "stream",
     "text": [
      "  error: subprocess-exited-with-error\n",
      "  \n",
      "  Building wheel for dlib (pyproject.toml) did not run successfully.\n",
      "  exit code: 1\n",
      "  \n",
      "  [6 lines of output]\n",
      "  running bdist_wheel\n",
      "  running build\n",
      "  running build_ext\n",
      "  \n",
      "  ERROR: CMake must be installed to build dlib\n",
      "  \n",
      "  [end of output]\n",
      "  \n",
      "  note: This error originates from a subprocess, and is likely not a problem with pip.\n",
      "  ERROR: Failed building wheel for dlib\n",
      "ERROR: Could not build wheels for dlib, which is required to install pyproject.toml-based projects\n"
     ]
    }
   ],
   "source": [
    "pip install face_recognition"
   ]
  }
 ],
 "metadata": {
  "kernelspec": {
   "display_name": "Python 3 (ipykernel)",
   "language": "python",
   "name": "python3"
  },
  "language_info": {
   "codemirror_mode": {
    "name": "ipython",
    "version": 3
   },
   "file_extension": ".py",
   "mimetype": "text/x-python",
   "name": "python",
   "nbconvert_exporter": "python",
   "pygments_lexer": "ipython3",
   "version": "3.11.5"
  }
 },
 "nbformat": 4,
 "nbformat_minor": 5
}
