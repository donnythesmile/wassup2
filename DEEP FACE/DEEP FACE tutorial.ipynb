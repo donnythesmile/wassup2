{
 "cells": [
  {
   "cell_type": "code",
   "execution_count": 1,
   "id": "340f0918",
   "metadata": {},
   "outputs": [
    {
     "name": "stdout",
     "output_type": "stream",
     "text": [
      "Requirement already satisfied: deepface in c:\\users\\jsd76\\anaconda3\\lib\\site-packages (0.0.91)\n",
      "Requirement already satisfied: requests>=2.27.1 in c:\\users\\jsd76\\anaconda3\\lib\\site-packages (from deepface) (2.31.0)\n",
      "Requirement already satisfied: numpy>=1.14.0 in c:\\users\\jsd76\\anaconda3\\lib\\site-packages (from deepface) (1.24.3)\n",
      "Requirement already satisfied: pandas>=0.23.4 in c:\\users\\jsd76\\anaconda3\\lib\\site-packages (from deepface) (2.0.3)\n",
      "Requirement already satisfied: gdown>=3.10.1 in c:\\users\\jsd76\\anaconda3\\lib\\site-packages (from deepface) (5.2.0)\n",
      "Requirement already satisfied: tqdm>=4.30.0 in c:\\users\\jsd76\\anaconda3\\lib\\site-packages (from deepface) (4.65.0)\n",
      "Requirement already satisfied: Pillow>=5.2.0 in c:\\users\\jsd76\\anaconda3\\lib\\site-packages (from deepface) (10.2.0)\n",
      "Requirement already satisfied: opencv-python>=4.5.5.64 in c:\\users\\jsd76\\anaconda3\\lib\\site-packages (from deepface) (4.9.0.80)\n",
      "Requirement already satisfied: tensorflow>=1.9.0 in c:\\users\\jsd76\\anaconda3\\lib\\site-packages (from deepface) (2.16.1)\n",
      "Requirement already satisfied: keras>=2.2.0 in c:\\users\\jsd76\\anaconda3\\lib\\site-packages (from deepface) (3.1.1)\n",
      "Requirement already satisfied: Flask>=1.1.2 in c:\\users\\jsd76\\anaconda3\\lib\\site-packages (from deepface) (2.2.2)\n",
      "Requirement already satisfied: mtcnn>=0.1.0 in c:\\users\\jsd76\\anaconda3\\lib\\site-packages (from deepface) (0.1.1)\n",
      "Requirement already satisfied: retina-face>=0.0.1 in c:\\users\\jsd76\\anaconda3\\lib\\site-packages (from deepface) (0.0.17)\n",
      "Requirement already satisfied: fire>=0.4.0 in c:\\users\\jsd76\\anaconda3\\lib\\site-packages (from deepface) (0.6.0)\n",
      "Requirement already satisfied: gunicorn>=20.1.0 in c:\\users\\jsd76\\anaconda3\\lib\\site-packages (from deepface) (22.0.0)\n",
      "Requirement already satisfied: six in c:\\users\\jsd76\\anaconda3\\lib\\site-packages (from fire>=0.4.0->deepface) (1.16.0)\n",
      "Requirement already satisfied: termcolor in c:\\users\\jsd76\\anaconda3\\lib\\site-packages (from fire>=0.4.0->deepface) (2.4.0)\n",
      "Requirement already satisfied: Werkzeug>=2.2.2 in c:\\users\\jsd76\\anaconda3\\lib\\site-packages (from Flask>=1.1.2->deepface) (2.2.3)\n",
      "Requirement already satisfied: Jinja2>=3.0 in c:\\users\\jsd76\\anaconda3\\lib\\site-packages (from Flask>=1.1.2->deepface) (3.1.2)\n",
      "Requirement already satisfied: itsdangerous>=2.0 in c:\\users\\jsd76\\anaconda3\\lib\\site-packages (from Flask>=1.1.2->deepface) (2.0.1)\n",
      "Requirement already satisfied: click>=8.0 in c:\\users\\jsd76\\anaconda3\\lib\\site-packages (from Flask>=1.1.2->deepface) (8.0.4)\n",
      "Requirement already satisfied: beautifulsoup4 in c:\\users\\jsd76\\anaconda3\\lib\\site-packages (from gdown>=3.10.1->deepface) (4.12.2)\n",
      "Requirement already satisfied: filelock in c:\\users\\jsd76\\anaconda3\\lib\\site-packages (from gdown>=3.10.1->deepface) (3.9.0)\n",
      "Requirement already satisfied: packaging in c:\\users\\jsd76\\anaconda3\\lib\\site-packages (from gunicorn>=20.1.0->deepface) (23.1)\n",
      "Requirement already satisfied: absl-py in c:\\users\\jsd76\\anaconda3\\lib\\site-packages (from keras>=2.2.0->deepface) (2.1.0)\n",
      "Requirement already satisfied: rich in c:\\users\\jsd76\\anaconda3\\lib\\site-packages (from keras>=2.2.0->deepface) (13.7.1)\n",
      "Requirement already satisfied: namex in c:\\users\\jsd76\\anaconda3\\lib\\site-packages (from keras>=2.2.0->deepface) (0.0.7)\n",
      "Requirement already satisfied: h5py in c:\\users\\jsd76\\anaconda3\\lib\\site-packages (from keras>=2.2.0->deepface) (3.10.0)\n",
      "Requirement already satisfied: optree in c:\\users\\jsd76\\anaconda3\\lib\\site-packages (from keras>=2.2.0->deepface) (0.11.0)\n",
      "Requirement already satisfied: ml-dtypes in c:\\users\\jsd76\\anaconda3\\lib\\site-packages (from keras>=2.2.0->deepface) (0.3.2)\n",
      "Requirement already satisfied: python-dateutil>=2.8.2 in c:\\users\\jsd76\\anaconda3\\lib\\site-packages (from pandas>=0.23.4->deepface) (2.8.2)\n",
      "Requirement already satisfied: pytz>=2020.1 in c:\\users\\jsd76\\anaconda3\\lib\\site-packages (from pandas>=0.23.4->deepface) (2023.3.post1)\n",
      "Requirement already satisfied: tzdata>=2022.1 in c:\\users\\jsd76\\anaconda3\\lib\\site-packages (from pandas>=0.23.4->deepface) (2023.3)\n",
      "Requirement already satisfied: charset-normalizer<4,>=2 in c:\\users\\jsd76\\anaconda3\\lib\\site-packages (from requests>=2.27.1->deepface) (2.0.4)\n",
      "Requirement already satisfied: idna<4,>=2.5 in c:\\users\\jsd76\\anaconda3\\lib\\site-packages (from requests>=2.27.1->deepface) (2.10)\n",
      "Requirement already satisfied: urllib3<3,>=1.21.1 in c:\\users\\jsd76\\anaconda3\\lib\\site-packages (from requests>=2.27.1->deepface) (1.25.11)\n",
      "Requirement already satisfied: certifi>=2017.4.17 in c:\\users\\jsd76\\anaconda3\\lib\\site-packages (from requests>=2.27.1->deepface) (2024.2.2)\n",
      "Requirement already satisfied: tensorflow-intel==2.16.1 in c:\\users\\jsd76\\anaconda3\\lib\\site-packages (from tensorflow>=1.9.0->deepface) (2.16.1)\n",
      "Requirement already satisfied: astunparse>=1.6.0 in c:\\users\\jsd76\\anaconda3\\lib\\site-packages (from tensorflow-intel==2.16.1->tensorflow>=1.9.0->deepface) (1.6.3)\n",
      "Requirement already satisfied: flatbuffers>=23.5.26 in c:\\users\\jsd76\\anaconda3\\lib\\site-packages (from tensorflow-intel==2.16.1->tensorflow>=1.9.0->deepface) (24.3.25)\n",
      "Requirement already satisfied: gast!=0.5.0,!=0.5.1,!=0.5.2,>=0.2.1 in c:\\users\\jsd76\\anaconda3\\lib\\site-packages (from tensorflow-intel==2.16.1->tensorflow>=1.9.0->deepface) (0.5.4)\n",
      "Requirement already satisfied: google-pasta>=0.1.1 in c:\\users\\jsd76\\anaconda3\\lib\\site-packages (from tensorflow-intel==2.16.1->tensorflow>=1.9.0->deepface) (0.2.0)\n",
      "Requirement already satisfied: libclang>=13.0.0 in c:\\users\\jsd76\\anaconda3\\lib\\site-packages (from tensorflow-intel==2.16.1->tensorflow>=1.9.0->deepface) (18.1.1)\n",
      "Requirement already satisfied: opt-einsum>=2.3.2 in c:\\users\\jsd76\\anaconda3\\lib\\site-packages (from tensorflow-intel==2.16.1->tensorflow>=1.9.0->deepface) (3.3.0)\n",
      "Requirement already satisfied: protobuf!=4.21.0,!=4.21.1,!=4.21.2,!=4.21.3,!=4.21.4,!=4.21.5,<5.0.0dev,>=3.20.3 in c:\\users\\jsd76\\anaconda3\\lib\\site-packages (from tensorflow-intel==2.16.1->tensorflow>=1.9.0->deepface) (4.25.3)\n",
      "Requirement already satisfied: setuptools in c:\\users\\jsd76\\anaconda3\\lib\\site-packages (from tensorflow-intel==2.16.1->tensorflow>=1.9.0->deepface) (68.0.0)\n",
      "Requirement already satisfied: typing-extensions>=3.6.6 in c:\\users\\jsd76\\anaconda3\\lib\\site-packages (from tensorflow-intel==2.16.1->tensorflow>=1.9.0->deepface) (4.10.0)\n",
      "Requirement already satisfied: wrapt>=1.11.0 in c:\\users\\jsd76\\anaconda3\\lib\\site-packages (from tensorflow-intel==2.16.1->tensorflow>=1.9.0->deepface) (1.14.1)\n",
      "Requirement already satisfied: grpcio<2.0,>=1.24.3 in c:\\users\\jsd76\\anaconda3\\lib\\site-packages (from tensorflow-intel==2.16.1->tensorflow>=1.9.0->deepface) (1.62.1)\n",
      "Requirement already satisfied: tensorboard<2.17,>=2.16 in c:\\users\\jsd76\\anaconda3\\lib\\site-packages (from tensorflow-intel==2.16.1->tensorflow>=1.9.0->deepface) (2.16.2)\n",
      "Requirement already satisfied: tensorflow-io-gcs-filesystem>=0.23.1 in c:\\users\\jsd76\\anaconda3\\lib\\site-packages (from tensorflow-intel==2.16.1->tensorflow>=1.9.0->deepface) (0.31.0)\n",
      "Requirement already satisfied: colorama in c:\\users\\jsd76\\anaconda3\\lib\\site-packages (from tqdm>=4.30.0->deepface) (0.4.6)\n",
      "Requirement already satisfied: MarkupSafe>=2.0 in c:\\users\\jsd76\\anaconda3\\lib\\site-packages (from Jinja2>=3.0->Flask>=1.1.2->deepface) (2.1.1)\n",
      "Requirement already satisfied: soupsieve>1.2 in c:\\users\\jsd76\\anaconda3\\lib\\site-packages (from beautifulsoup4->gdown>=3.10.1->deepface) (2.4)\n",
      "Requirement already satisfied: PySocks!=1.5.7,>=1.5.6 in c:\\users\\jsd76\\anaconda3\\lib\\site-packages (from requests>=2.27.1->deepface) (1.7.1)\n",
      "Requirement already satisfied: markdown-it-py>=2.2.0 in c:\\users\\jsd76\\anaconda3\\lib\\site-packages (from rich->keras>=2.2.0->deepface) (2.2.0)\n",
      "Requirement already satisfied: pygments<3.0.0,>=2.13.0 in c:\\users\\jsd76\\anaconda3\\lib\\site-packages (from rich->keras>=2.2.0->deepface) (2.15.1)\n",
      "Requirement already satisfied: wheel<1.0,>=0.23.0 in c:\\users\\jsd76\\anaconda3\\lib\\site-packages (from astunparse>=1.6.0->tensorflow-intel==2.16.1->tensorflow>=1.9.0->deepface) (0.38.4)\n",
      "Requirement already satisfied: mdurl~=0.1 in c:\\users\\jsd76\\anaconda3\\lib\\site-packages (from markdown-it-py>=2.2.0->rich->keras>=2.2.0->deepface) (0.1.0)\n",
      "Requirement already satisfied: markdown>=2.6.8 in c:\\users\\jsd76\\anaconda3\\lib\\site-packages (from tensorboard<2.17,>=2.16->tensorflow-intel==2.16.1->tensorflow>=1.9.0->deepface) (3.4.1)\n",
      "Requirement already satisfied: tensorboard-data-server<0.8.0,>=0.7.0 in c:\\users\\jsd76\\anaconda3\\lib\\site-packages (from tensorboard<2.17,>=2.16->tensorflow-intel==2.16.1->tensorflow>=1.9.0->deepface) (0.7.2)\n"
     ]
    }
   ],
   "source": [
    "!pip install deepface"
   ]
  },
  {
   "cell_type": "code",
   "execution_count": 2,
   "id": "f9119b11",
   "metadata": {},
   "outputs": [
    {
     "name": "stdout",
     "output_type": "stream",
     "text": [
      "Requirement already satisfied: tf-keras in c:\\users\\jsd76\\anaconda3\\lib\\site-packages (2.16.0)\n",
      "Requirement already satisfied: tensorflow<2.17,>=2.16 in c:\\users\\jsd76\\anaconda3\\lib\\site-packages (from tf-keras) (2.16.1)\n",
      "Requirement already satisfied: tensorflow-intel==2.16.1 in c:\\users\\jsd76\\anaconda3\\lib\\site-packages (from tensorflow<2.17,>=2.16->tf-keras) (2.16.1)\n",
      "Requirement already satisfied: absl-py>=1.0.0 in c:\\users\\jsd76\\anaconda3\\lib\\site-packages (from tensorflow-intel==2.16.1->tensorflow<2.17,>=2.16->tf-keras) (2.1.0)\n",
      "Requirement already satisfied: astunparse>=1.6.0 in c:\\users\\jsd76\\anaconda3\\lib\\site-packages (from tensorflow-intel==2.16.1->tensorflow<2.17,>=2.16->tf-keras) (1.6.3)\n",
      "Requirement already satisfied: flatbuffers>=23.5.26 in c:\\users\\jsd76\\anaconda3\\lib\\site-packages (from tensorflow-intel==2.16.1->tensorflow<2.17,>=2.16->tf-keras) (24.3.25)\n",
      "Requirement already satisfied: gast!=0.5.0,!=0.5.1,!=0.5.2,>=0.2.1 in c:\\users\\jsd76\\anaconda3\\lib\\site-packages (from tensorflow-intel==2.16.1->tensorflow<2.17,>=2.16->tf-keras) (0.5.4)\n",
      "Requirement already satisfied: google-pasta>=0.1.1 in c:\\users\\jsd76\\anaconda3\\lib\\site-packages (from tensorflow-intel==2.16.1->tensorflow<2.17,>=2.16->tf-keras) (0.2.0)\n",
      "Requirement already satisfied: h5py>=3.10.0 in c:\\users\\jsd76\\anaconda3\\lib\\site-packages (from tensorflow-intel==2.16.1->tensorflow<2.17,>=2.16->tf-keras) (3.10.0)\n",
      "Requirement already satisfied: libclang>=13.0.0 in c:\\users\\jsd76\\anaconda3\\lib\\site-packages (from tensorflow-intel==2.16.1->tensorflow<2.17,>=2.16->tf-keras) (18.1.1)\n",
      "Requirement already satisfied: ml-dtypes~=0.3.1 in c:\\users\\jsd76\\anaconda3\\lib\\site-packages (from tensorflow-intel==2.16.1->tensorflow<2.17,>=2.16->tf-keras) (0.3.2)\n",
      "Requirement already satisfied: opt-einsum>=2.3.2 in c:\\users\\jsd76\\anaconda3\\lib\\site-packages (from tensorflow-intel==2.16.1->tensorflow<2.17,>=2.16->tf-keras) (3.3.0)\n",
      "Requirement already satisfied: packaging in c:\\users\\jsd76\\anaconda3\\lib\\site-packages (from tensorflow-intel==2.16.1->tensorflow<2.17,>=2.16->tf-keras) (23.1)\n",
      "Requirement already satisfied: protobuf!=4.21.0,!=4.21.1,!=4.21.2,!=4.21.3,!=4.21.4,!=4.21.5,<5.0.0dev,>=3.20.3 in c:\\users\\jsd76\\anaconda3\\lib\\site-packages (from tensorflow-intel==2.16.1->tensorflow<2.17,>=2.16->tf-keras) (4.25.3)\n",
      "Requirement already satisfied: requests<3,>=2.21.0 in c:\\users\\jsd76\\anaconda3\\lib\\site-packages (from tensorflow-intel==2.16.1->tensorflow<2.17,>=2.16->tf-keras) (2.31.0)\n",
      "Requirement already satisfied: setuptools in c:\\users\\jsd76\\anaconda3\\lib\\site-packages (from tensorflow-intel==2.16.1->tensorflow<2.17,>=2.16->tf-keras) (68.0.0)\n",
      "Requirement already satisfied: six>=1.12.0 in c:\\users\\jsd76\\anaconda3\\lib\\site-packages (from tensorflow-intel==2.16.1->tensorflow<2.17,>=2.16->tf-keras) (1.16.0)\n",
      "Requirement already satisfied: termcolor>=1.1.0 in c:\\users\\jsd76\\anaconda3\\lib\\site-packages (from tensorflow-intel==2.16.1->tensorflow<2.17,>=2.16->tf-keras) (2.4.0)\n",
      "Requirement already satisfied: typing-extensions>=3.6.6 in c:\\users\\jsd76\\anaconda3\\lib\\site-packages (from tensorflow-intel==2.16.1->tensorflow<2.17,>=2.16->tf-keras) (4.10.0)\n",
      "Requirement already satisfied: wrapt>=1.11.0 in c:\\users\\jsd76\\anaconda3\\lib\\site-packages (from tensorflow-intel==2.16.1->tensorflow<2.17,>=2.16->tf-keras) (1.14.1)\n",
      "Requirement already satisfied: grpcio<2.0,>=1.24.3 in c:\\users\\jsd76\\anaconda3\\lib\\site-packages (from tensorflow-intel==2.16.1->tensorflow<2.17,>=2.16->tf-keras) (1.62.1)\n",
      "Requirement already satisfied: tensorboard<2.17,>=2.16 in c:\\users\\jsd76\\anaconda3\\lib\\site-packages (from tensorflow-intel==2.16.1->tensorflow<2.17,>=2.16->tf-keras) (2.16.2)\n",
      "Requirement already satisfied: keras>=3.0.0 in c:\\users\\jsd76\\anaconda3\\lib\\site-packages (from tensorflow-intel==2.16.1->tensorflow<2.17,>=2.16->tf-keras) (3.1.1)\n",
      "Requirement already satisfied: tensorflow-io-gcs-filesystem>=0.23.1 in c:\\users\\jsd76\\anaconda3\\lib\\site-packages (from tensorflow-intel==2.16.1->tensorflow<2.17,>=2.16->tf-keras) (0.31.0)\n",
      "Requirement already satisfied: numpy<2.0.0,>=1.23.5 in c:\\users\\jsd76\\anaconda3\\lib\\site-packages (from tensorflow-intel==2.16.1->tensorflow<2.17,>=2.16->tf-keras) (1.24.3)\n",
      "Requirement already satisfied: wheel<1.0,>=0.23.0 in c:\\users\\jsd76\\anaconda3\\lib\\site-packages (from astunparse>=1.6.0->tensorflow-intel==2.16.1->tensorflow<2.17,>=2.16->tf-keras) (0.38.4)\n",
      "Requirement already satisfied: rich in c:\\users\\jsd76\\anaconda3\\lib\\site-packages (from keras>=3.0.0->tensorflow-intel==2.16.1->tensorflow<2.17,>=2.16->tf-keras) (13.7.1)\n",
      "Requirement already satisfied: namex in c:\\users\\jsd76\\anaconda3\\lib\\site-packages (from keras>=3.0.0->tensorflow-intel==2.16.1->tensorflow<2.17,>=2.16->tf-keras) (0.0.7)\n",
      "Requirement already satisfied: optree in c:\\users\\jsd76\\anaconda3\\lib\\site-packages (from keras>=3.0.0->tensorflow-intel==2.16.1->tensorflow<2.17,>=2.16->tf-keras) (0.11.0)\n",
      "Requirement already satisfied: charset-normalizer<4,>=2 in c:\\users\\jsd76\\anaconda3\\lib\\site-packages (from requests<3,>=2.21.0->tensorflow-intel==2.16.1->tensorflow<2.17,>=2.16->tf-keras) (2.0.4)\n",
      "Requirement already satisfied: idna<4,>=2.5 in c:\\users\\jsd76\\anaconda3\\lib\\site-packages (from requests<3,>=2.21.0->tensorflow-intel==2.16.1->tensorflow<2.17,>=2.16->tf-keras) (2.10)\n",
      "Requirement already satisfied: urllib3<3,>=1.21.1 in c:\\users\\jsd76\\anaconda3\\lib\\site-packages (from requests<3,>=2.21.0->tensorflow-intel==2.16.1->tensorflow<2.17,>=2.16->tf-keras) (1.25.11)\n",
      "Requirement already satisfied: certifi>=2017.4.17 in c:\\users\\jsd76\\anaconda3\\lib\\site-packages (from requests<3,>=2.21.0->tensorflow-intel==2.16.1->tensorflow<2.17,>=2.16->tf-keras) (2024.2.2)\n",
      "Requirement already satisfied: markdown>=2.6.8 in c:\\users\\jsd76\\anaconda3\\lib\\site-packages (from tensorboard<2.17,>=2.16->tensorflow-intel==2.16.1->tensorflow<2.17,>=2.16->tf-keras) (3.4.1)\n",
      "Requirement already satisfied: tensorboard-data-server<0.8.0,>=0.7.0 in c:\\users\\jsd76\\anaconda3\\lib\\site-packages (from tensorboard<2.17,>=2.16->tensorflow-intel==2.16.1->tensorflow<2.17,>=2.16->tf-keras) (0.7.2)\n",
      "Requirement already satisfied: werkzeug>=1.0.1 in c:\\users\\jsd76\\anaconda3\\lib\\site-packages (from tensorboard<2.17,>=2.16->tensorflow-intel==2.16.1->tensorflow<2.17,>=2.16->tf-keras) (2.2.3)\n",
      "Requirement already satisfied: MarkupSafe>=2.1.1 in c:\\users\\jsd76\\anaconda3\\lib\\site-packages (from werkzeug>=1.0.1->tensorboard<2.17,>=2.16->tensorflow-intel==2.16.1->tensorflow<2.17,>=2.16->tf-keras) (2.1.1)\n",
      "Requirement already satisfied: markdown-it-py>=2.2.0 in c:\\users\\jsd76\\anaconda3\\lib\\site-packages (from rich->keras>=3.0.0->tensorflow-intel==2.16.1->tensorflow<2.17,>=2.16->tf-keras) (2.2.0)\n",
      "Requirement already satisfied: pygments<3.0.0,>=2.13.0 in c:\\users\\jsd76\\anaconda3\\lib\\site-packages (from rich->keras>=3.0.0->tensorflow-intel==2.16.1->tensorflow<2.17,>=2.16->tf-keras) (2.15.1)\n",
      "Requirement already satisfied: mdurl~=0.1 in c:\\users\\jsd76\\anaconda3\\lib\\site-packages (from markdown-it-py>=2.2.0->rich->keras>=3.0.0->tensorflow-intel==2.16.1->tensorflow<2.17,>=2.16->tf-keras) (0.1.0)\n",
      "Note: you may need to restart the kernel to use updated packages.\n"
     ]
    }
   ],
   "source": [
    "pip install tf-keras"
   ]
  },
  {
   "cell_type": "code",
   "execution_count": 1,
   "id": "ea053f98",
   "metadata": {},
   "outputs": [
    {
     "name": "stdout",
     "output_type": "stream",
     "text": [
      "WARNING:tensorflow:From C:\\Users\\jsd76\\anaconda3\\Lib\\site-packages\\tf_keras\\src\\losses.py:2976: The name tf.losses.sparse_softmax_cross_entropy is deprecated. Please use tf.compat.v1.losses.sparse_softmax_cross_entropy instead.\n",
      "\n"
     ]
    }
   ],
   "source": [
    "from deepface import DeepFace"
   ]
  },
  {
   "cell_type": "code",
   "execution_count": 2,
   "id": "7d0b268b",
   "metadata": {},
   "outputs": [],
   "source": [
    "img1_path = 'C:/Users/jsd76/workspace/python/wassup2/DEEP FACE/img4.jpg' \n",
    "img2_path = 'C:/Users/jsd76/workspace/python/wassup2/DEEP FACE/img3.jpg' "
   ]
  },
  {
   "cell_type": "code",
   "execution_count": 3,
   "id": "72bd3019",
   "metadata": {},
   "outputs": [],
   "source": [
    "model_name = 'Facenet'"
   ]
  },
  {
   "cell_type": "code",
   "execution_count": 4,
   "id": "3f2801a5",
   "metadata": {},
   "outputs": [
    {
     "name": "stdout",
     "output_type": "stream",
     "text": [
      "1/1 [==============================] - 6s 6s/step\n",
      "1/1 [==============================] - 0s 356ms/step\n",
      "1/1 [==============================] - 0s 23ms/step\n",
      "1/1 [==============================] - 0s 22ms/step\n",
      "1/1 [==============================] - 0s 22ms/step\n",
      "1/1 [==============================] - 0s 22ms/step\n",
      "1/1 [==============================] - 0s 23ms/step\n",
      "1/1 [==============================] - 0s 23ms/step\n",
      "1/1 [==============================] - 0s 23ms/step\n",
      "2/2 [==============================] - 1s 5ms/step\n",
      "1/1 [==============================] - 1s 550ms/step\n",
      "1/1 [==============================] - 0s 30ms/step\n",
      "1/1 [==============================] - 0s 25ms/step\n",
      "1/1 [==============================] - 0s 25ms/step\n",
      "1/1 [==============================] - 0s 23ms/step\n",
      "1/1 [==============================] - 0s 22ms/step\n",
      "1/1 [==============================] - 0s 24ms/step\n",
      "1/1 [==============================] - 0s 22ms/step\n",
      "1/1 [==============================] - 0s 21ms/step\n",
      "1/1 [==============================] - 0s 23ms/step\n",
      "1/1 [==============================] - 0s 23ms/step\n",
      "1/1 [==============================] - 0s 26ms/step\n",
      "1/1 [==============================] - 0s 25ms/step\n"
     ]
    },
    {
     "data": {
      "text/plain": [
       "{'verified': True,\n",
       " 'distance': 0.3256081684857527,\n",
       " 'threshold': 0.4,\n",
       " 'model': 'Facenet',\n",
       " 'detector_backend': 'mtcnn',\n",
       " 'similarity_metric': 'cosine',\n",
       " 'facial_areas': {'img1': {'x': 117,\n",
       "   'y': 97,\n",
       "   'w': 204,\n",
       "   'h': 287,\n",
       "   'left_eye': (271, 218),\n",
       "   'right_eye': (175, 213)},\n",
       "  'img2': {'x': 80,\n",
       "   'y': 96,\n",
       "   'w': 160,\n",
       "   'h': 196,\n",
       "   'left_eye': (188, 155),\n",
       "   'right_eye': (117, 170)}},\n",
       " 'time': 14.48}"
      ]
     },
     "execution_count": 4,
     "metadata": {},
     "output_type": "execute_result"
    }
   ],
   "source": [
    "DeepFace.verify(img1_path = img1_path, img2_path = img2_path, model_name = model_name, detector_backend='mtcnn')"
   ]
  },
  {
   "cell_type": "code",
   "execution_count": null,
   "id": "58716533",
   "metadata": {},
   "outputs": [],
   "source": [
    "pip uninstall h5py -v"
   ]
  }
 ],
 "metadata": {
  "kernelspec": {
   "display_name": "deepfaceenv",
   "language": "python",
   "name": "deepface-env"
  },
  "language_info": {
   "codemirror_mode": {
    "name": "ipython",
    "version": 3
   },
   "file_extension": ".py",
   "mimetype": "text/x-python",
   "name": "python",
   "nbconvert_exporter": "python",
   "pygments_lexer": "ipython3",
   "version": "3.11.5"
  }
 },
 "nbformat": 4,
 "nbformat_minor": 5
}
