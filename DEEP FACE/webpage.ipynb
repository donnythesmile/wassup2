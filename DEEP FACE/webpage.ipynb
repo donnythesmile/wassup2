{
 "cells": [
  {
   "cell_type": "code",
   "execution_count": null,
   "id": "d29d4acd-8914-4f4d-8e88-da1d53129de2",
   "metadata": {},
   "outputs": [],
   "source": [
    "import os\n",
    "import tensorflow as tf\n",
    "tf.compat.v1.logging.set_verbosity(tf.compat.v1.logging.ERROR)\n",
    "\n",
    "from flask import Flask, render_template, request\n",
    "from deepface import DeepFace\n",
    "\n",
    "app = Flask(__name__)\n",
    "\n",
    "# uploads 폴더가 없으면 생성\n",
    "if not os.path.exists('uploads'):\n",
    "    os.makedirs('uploads')\n",
    "\n",
    "@app.route('/', methods=['GET', 'POST'])\n",
    "def index():\n",
    "    if request.method == 'POST':\n",
    "        img1 = request.files['img1']\n",
    "        img2 = request.files['img2']\n",
    "\n",
    "        img1_path = 'uploads/' + img1.filename\n",
    "        img2_path = 'uploads/' + img2.filename\n",
    "\n",
    "        img1.save(img1_path)\n",
    "        img2.save(img2_path)\n",
    "\n",
    "        result = DeepFace.verify(img1_path, img2_path, model_name='Facenet', detector_backend='mtcnn')\n",
    "\n",
    "        if result['verified']:\n",
    "            message = \"두 이미지는 동일인입니다.\"\n",
    "        else:\n",
    "            message = \"두 이미지는 다른 사람입니다.\"\n",
    "\n",
    "        similarity = result['distance']\n",
    "\n",
    "        return render_template('result.html', message=message, similarity=similarity)\n",
    "\n",
    "    return render_template('index.html')\n",
    "\n",
    "if __name__ == '__main__':\n",
    "    app.run(host='0.0.0.0', port=5000)"
   ]
  },
  {
   "cell_type": "code",
   "execution_count": null,
   "id": "30b6d6ee-e69d-4499-ac21-6979695a0070",
   "metadata": {
    "scrolled": true
   },
   "outputs": [],
   "source": [
    "from IPython.core.interactiveshell import InteractiveShell\n",
    "InteractiveShell.ast_node_interactivity = \"all\"\n",
    "\n",
    "%tb\n"
   ]
  },
  {
   "cell_type": "code",
   "execution_count": null,
   "id": "d8fef58f-a967-49b3-942d-83a5b689c55a",
   "metadata": {},
   "outputs": [],
   "source": []
  }
 ],
 "metadata": {
  "kernelspec": {
   "display_name": "deepfaceenv",
   "language": "python",
   "name": "deepface-env"
  },
  "language_info": {
   "codemirror_mode": {
    "name": "ipython",
    "version": 3
   },
   "file_extension": ".py",
   "mimetype": "text/x-python",
   "name": "python",
   "nbconvert_exporter": "python",
   "pygments_lexer": "ipython3",
   "version": "3.11.5"
  }
 },
 "nbformat": 4,
 "nbformat_minor": 5
}
