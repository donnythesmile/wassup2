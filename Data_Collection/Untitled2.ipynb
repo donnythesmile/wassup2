{
 "cells": [
  {
   "cell_type": "code",
   "execution_count": 2,
   "id": "250bae56",
   "metadata": {},
   "outputs": [
    {
     "name": "stdout",
     "output_type": "stream",
     "text": [
      "헤드라인 기사가 CSV 파일로 저장되었습니다.\n"
     ]
    }
   ],
   "source": [
    "import requests\n",
    "from bs4 import BeautifulSoup\n",
    "import csv\n",
    "\n",
    "# 네이버 뉴스 헤드라인 페이지 URL\n",
    "url = \"https://news.naver.com/main/list.naver?mode=LSD&mid=sec&sid1=101\"\n",
    "\n",
    "# 페이지 요청\n",
    "response = requests.get(url)\n",
    "\n",
    "# BeautifulSoup을 사용하여 HTML 파싱\n",
    "soup = BeautifulSoup(response.text, \"html.parser\")\n",
    "\n",
    "# 헤드라인 기사 링크 수집\n",
    "article_links = []\n",
    "for link in soup.select(\".type06_headline li dl dt a\"):\n",
    "    article_links.append(link[\"href\"])\n",
    "\n",
    "# CSV 파일로 저장\n",
    "with open(\"headline_articles.csv\", \"w\", newline=\"\", encoding=\"utf-8\") as csvfile:\n",
    "    writer = csv.writer(csvfile)\n",
    "    writer.writerow([\"제목\", \"내용\", \"링크\"])\n",
    "\n",
    "    for link in article_links:\n",
    "        # 개별 기사 페이지 요청\n",
    "        article_response = requests.get(link)\n",
    "        article_soup = BeautifulSoup(article_response.text, \"html.parser\")\n",
    "\n",
    "        # 기사 제목 추출\n",
    "        title_element = article_soup.select_one(\"#articleTitle\")\n",
    "        title = title_element.text.strip() if title_element else \"\"\n",
    "\n",
    "        # 기사 내용 추출\n",
    "        content_element = article_soup.select_one(\"#articleBodyContents\")\n",
    "        content = content_element.text.strip() if content_element else \"\"\n",
    "\n",
    "        # CSV 파일에 기사 정보 저장\n",
    "        writer.writerow([title, content, link])\n",
    "\n",
    "print(\"헤드라인 기사가 CSV 파일로 저장되었습니다.\")"
   ]
  }
 ],
 "metadata": {
  "kernelspec": {
   "display_name": "Python 3 (ipykernel)",
   "language": "python",
   "name": "python3"
  },
  "language_info": {
   "codemirror_mode": {
    "name": "ipython",
    "version": 3
   },
   "file_extension": ".py",
   "mimetype": "text/x-python",
   "name": "python",
   "nbconvert_exporter": "python",
   "pygments_lexer": "ipython3",
   "version": "3.11.5"
  }
 },
 "nbformat": 4,
 "nbformat_minor": 5
}
