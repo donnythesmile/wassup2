{
 "cells": [
  {
   "cell_type": "code",
   "execution_count": 4,
   "id": "2e13777a",
   "metadata": {},
   "outputs": [],
   "source": [
    "import requests\n",
    "from bs4 import BeautifulSoup"
   ]
  },
  {
   "cell_type": "code",
   "execution_count": 5,
   "id": "b419a7d3",
   "metadata": {},
   "outputs": [],
   "source": [
    "PATH = 'https://lol.ps/statistics'\n",
    "resp = requests.get(PATH)"
   ]
  },
  {
   "cell_type": "code",
   "execution_count": 1,
   "id": "e44176a3",
   "metadata": {},
   "outputs": [],
   "source": [
    "info = {'User-Agent':'Mozilla/5.0 (Windows NT 10.0; Win64; x64) AppleWebKit/537.36 (KHTML, like Gecko) Chrome/122.0.0.0 Safari/537.36'}"
   ]
  },
  {
   "cell_type": "code",
   "execution_count": 6,
   "id": "345ffe94",
   "metadata": {},
   "outputs": [
    {
     "data": {
      "text/plain": [
       "<Response [403]>"
      ]
     },
     "execution_count": 6,
     "metadata": {},
     "output_type": "execute_result"
    }
   ],
   "source": [
    "resp"
   ]
  },
  {
   "cell_type": "code",
   "execution_count": null,
   "id": "fa6dabe9",
   "metadata": {},
   "outputs": [],
   "source": [
    "resp?"
   ]
  },
  {
   "cell_type": "code",
   "execution_count": 5,
   "id": "b45d8bff",
   "metadata": {},
   "outputs": [
    {
     "data": {
      "text/plain": [
       "'<!DOCTYPE html><html lang=\"en-US\"><head><title>Just a moment...</title><meta http-equiv=\"Content-Type\" content=\"text/html; charset=UTF-8\"><meta http-equiv=\"X-UA-Compatible\" content=\"IE=Edge\"><meta name=\"robots\" content=\"noindex,nofollow\"><meta name=\"viewport\" content=\"width=device-width,initial-scale=1\"><style>*{box-sizing:border-box;margin:0;padding:0}html{line-height:1.15;-webkit-text-size-adjust:100%;color:#313131}button,html{font-family:system-ui,-apple-system,BlinkMacSystemFont,Segoe UI,Roboto,Helvetica Neue,Arial,Noto Sans,sans-serif,Apple Color Emoji,Segoe UI Emoji,Segoe UI Symbol,Noto Color Emoji}@media (prefers-color-scheme:dark){body{background-color:#222;color:#d9d9d9}body a{color:#fff}body a:hover{color:#ee730a;text-decoration:underline}body .lds-ring div{border-color:#999 transparent transparent}body .font-red{color:#b20f03}body .big-button,body .pow-button{background-color:#4693ff;color:#1d1d1d}body #challenge-success-text{background-image:url(data:image/svg+xml;base64,PHN2ZyB4bWxucz0iaHR0cDovL3d3dy53My5vcmcvMjAwMC9zdmciIHdpZHRoPSIzMiIgaGVpZ2h0PSIzMiIgZmlsbD0ibm9uZSIgdmlld0JveD0iMCAwIDI2IDI2Ij48cGF0aCBmaWxsPSIjZDlkOWQ5IiBkPSJNMTMgMGExMyAxMyAwIDEgMCAwIDI2IDEzIDEzIDAgMCAwIDAtMjZtMCAyNGExMSAxMSAwIDEgMSAwLTIyIDExIDExIDAgMCAxIDAgMjIiLz48cGF0aCBmaWxsPSIjZDlkOWQ5IiBkPSJtMTAuOTU1IDE2LjA1NS0zLjk1LTQuMTI1LTEuNDQ1IDEuMzg1IDUuMzcgNS42MSA5LjQ5NS05LjYtMS40Mi0xLjQwNXoiLz48L3N2Zz4=)}body #challenge-error-text{background-image:url(data:image/svg+xml;base64,PHN2ZyB4bWxucz0iaHR0cDovL3d3dy53My5vcmcvMjAwMC9zdmciIHdpZHRoPSIzMiIgaGVpZ2h0PSIzMiIgZmlsbD0ibm9uZSI+PHBhdGggZmlsbD0iI0IyMEYwMyIgZD0iTTE2IDNhMTMgMTMgMCAxIDAgMTMgMTNBMTMuMDE1IDEzLjAxNSAwIDAgMCAxNiAzbTAgMjRhMTEgMTEgMCAxIDEgMTEtMTEgMTEuMDEgMTEuMDEgMCAwIDEtMTEgMTEiLz48cGF0aCBmaWxsPSIjQjIwRjAzIiBkPSJNMTcuMDM4IDE4LjYxNUgxNC44N0wxNC41NjMgOS41aDIuNzgzem0tMS4wODQgMS40MjdxLjY2IDAgMS4wNTcuMzg4LjQwNy4zODkuNDA3Ljk5NCAwIC41OTYtLjQwNy45ODQtLjM5Ny4zOS0xLjA1Ny4zODktLjY1IDAtMS4wNTYtLjM4OS0uMzk4LS4zODktLjM5OC0uOTg0IDAtLjU5Ny4zOTgtLjk4NS40MDYtLjM5NyAxLjA1Ni0uMzk3Ii8+PC9zdmc+)}}body{display:flex;flex-direction:column;min-height:100vh}body.no-js .loading-spinner{visibility:hidden}body.no-js .challenge-running{display:none}body.dark{background-color:#222;color:#d9d9d9}body.dark a{color:#fff}body.dark a:hover{color:#ee730a;text-decoration:underline}body.dark .lds-ring div{border-color:#999 transparent transparent}body.dark .font-red{color:#b20f03}body.dark .big-button,body.dark .pow-button{background-color:#4693ff;color:#1d1d1d}body.dark #challenge-success-text{background-image:url(data:image/svg+xml;base64,PHN2ZyB4bWxucz0iaHR0cDovL3d3dy53My5vcmcvMjAwMC9zdmciIHdpZHRoPSIzMiIgaGVpZ2h0PSIzMiIgZmlsbD0ibm9uZSIgdmlld0JveD0iMCAwIDI2IDI2Ij48cGF0aCBmaWxsPSIjZDlkOWQ5IiBkPSJNMTMgMGExMyAxMyAwIDEgMCAwIDI2IDEzIDEzIDAgMCAwIDAtMjZtMCAyNGExMSAxMSAwIDEgMSAwLTIyIDExIDExIDAgMCAxIDAgMjIiLz48cGF0aCBmaWxsPSIjZDlkOWQ5IiBkPSJtMTAuOTU1IDE2LjA1NS0zLjk1LTQuMTI1LTEuNDQ1IDEuMzg1IDUuMzcgNS42MSA5LjQ5NS05LjYtMS40Mi0xLjQwNXoiLz48L3N2Zz4=)}body.dark #challenge-error-text{background-image:url(data:image/svg+xml;base64,PHN2ZyB4bWxucz0iaHR0cDovL3d3dy53My5vcmcvMjAwMC9zdmciIHdpZHRoPSIzMiIgaGVpZ2h0PSIzMiIgZmlsbD0ibm9uZSI+PHBhdGggZmlsbD0iI0IyMEYwMyIgZD0iTTE2IDNhMTMgMTMgMCAxIDAgMTMgMTNBMTMuMDE1IDEzLjAxNSAwIDAgMCAxNiAzbTAgMjRhMTEgMTEgMCAxIDEgMTEtMTEgMTEuMDEgMTEuMDEgMCAwIDEtMTEgMTEiLz48cGF0aCBmaWxsPSIjQjIwRjAzIiBkPSJNMTcuMDM4IDE4LjYxNUgxNC44N0wxNC41NjMgOS41aDIuNzgzem0tMS4wODQgMS40MjdxLjY2IDAgMS4wNTcuMzg4LjQwNy4zODkuNDA3Ljk5NCAwIC41OTYtLjQwNy45ODQtLjM5Ny4zOS0xLjA1Ny4zODktLjY1IDAtMS4wNTYtLjM4OS0uMzk4LS4zODktLjM5OC0uOTg0IDAtLjU5Ny4zOTgtLjk4NS40MDYtLjM5NyAxLjA1Ni0uMzk3Ii8+PC9zdmc+)}body.light{background-color:transparent;color:#313131}body.light a{color:#0051c3}body.light a:hover{color:#ee730a;text-decoration:underline}body.light .lds-ring div{border-color:#595959 transparent transparent}body.light .font-red{color:#fc574a}body.light .big-button,body.light .pow-button{background-color:#003681;border-color:#003681;color:#fff}body.light #challenge-success-text{background-image:url(data:image/svg+xml;base64,PHN2ZyB4bWxucz0iaHR0cDovL3d3dy53My5vcmcvMjAwMC9zdmciIHdpZHRoPSIzMiIgaGVpZ2h0PSIzMiIgZmlsbD0ibm9uZSIgdmlld0JveD0iMCAwIDI2IDI2Ij48cGF0aCBmaWxsPSIjMzEzMTMxIiBkPSJNMTMgMGExMyAxMyAwIDEgMCAwIDI2IDEzIDEzIDAgMCAwIDAtMjZtMCAyNGExMSAxMSAwIDEgMSAwLTIyIDExIDExIDAgMCAxIDAgMjIiLz48cGF0aCBmaWxsPSIjMzEzMTMxIiBkPSJtMTAuOTU1IDE2LjA1NS0zLjk1LTQuMTI1LTEuNDQ1IDEuMzg1IDUuMzcgNS42MSA5LjQ5NS05LjYtMS40Mi0xLjQwNXoiLz48L3N2Zz4=)}body.light #challenge-error-text{background-image:url(data:image/svg+xml;base64,PHN2ZyB4bWxucz0iaHR0cDovL3d3dy53My5vcmcvMjAwMC9zdmciIHdpZHRoPSIzMiIgaGVpZ2h0PSIzMiIgZmlsbD0ibm9uZSI+PHBhdGggZmlsbD0iI2ZjNTc0YSIgZD0iTTE2IDNhMTMgMTMgMCAxIDAgMTMgMTNBMTMuMDE1IDEzLjAxNSAwIDAgMCAxNiAzbTAgMjRhMTEgMTEgMCAxIDEgMTEtMTEgMTEuMDEgMTEuMDEgMCAwIDEtMTEgMTEiLz48cGF0aCBmaWxsPSIjZmM1NzRhIiBkPSJNMTcuMDM4IDE4LjYxNUgxNC44N0wxNC41NjMgOS41aDIuNzgzem0tMS4wODQgMS40MjdxLjY2IDAgMS4wNTcuMzg4LjQwNy4zODkuNDA3Ljk5NCAwIC41OTYtLjQwNy45ODQtLjM5Ny4zOS0xLjA1Ny4zODktLjY1IDAtMS4wNTYtLjM4OS0uMzk4LS4zODktLjM5OC0uOTg0IDAtLjU5Ny4zOTgtLjk4NS40MDYtLjM5NyAxLjA1Ni0uMzk3Ii8+PC9zdmc+)}a{background-color:transparent;color:#0051c3;text-decoration:none;transition:color .15s ease}a:hover{color:#ee730a;text-decoration:underline}.main-content{margin:8rem auto;max-width:60rem;width:100%}.heading-favicon{height:2rem;margin-right:.5rem;width:2rem}@media (width <= 720px){.main-content{margin-top:4rem}.heading-favicon{height:1.5rem;width:1.5rem}}.footer,.main-content{padding-left:1.5rem;padding-right:1.5rem}.main-wrapper{align-items:center;display:flex;flex:1;flex-direction:column}.font-red{color:#b20f03}.spacer{margin:2rem 0}.h1{font-size:2.5rem;font-weight:500;line-height:3.75rem}.h2{font-weight:500}.core-msg,.h2{font-size:1.5rem;line-height:2.25rem}.body-text,.core-msg{font-weight:400}.body-text{font-size:1rem;line-height:1.25rem}@media (width <= 720px){.h1{font-size:1.5rem;line-height:1.75rem}.h2{font-size:1.25rem}.core-msg,.h2{line-height:1.5rem}.core-msg{font-size:1rem}}#challenge-error-text{background-image:url(data:image/svg+xml;base64,PHN2ZyB4bWxucz0iaHR0cDovL3d3dy53My5vcmcvMjAwMC9zdmciIHdpZHRoPSIzMiIgaGVpZ2h0PSIzMiIgZmlsbD0ibm9uZSI+PHBhdGggZmlsbD0iI2ZjNTc0YSIgZD0iTTE2IDNhMTMgMTMgMCAxIDAgMTMgMTNBMTMuMDE1IDEzLjAxNSAwIDAgMCAxNiAzbTAgMjRhMTEgMTEgMCAxIDEgMTEtMTEgMTEuMDEgMTEuMDEgMCAwIDEtMTEgMTEiLz48cGF0aCBmaWxsPSIjZmM1NzRhIiBkPSJNMTcuMDM4IDE4LjYxNUgxNC44N0wxNC41NjMgOS41aDIuNzgzem0tMS4wODQgMS40MjdxLjY2IDAgMS4wNTcuMzg4LjQwNy4zODkuNDA3Ljk5NCAwIC41OTYtLjQwNy45ODQtLjM5Ny4zOS0xLjA1Ny4zODktLjY1IDAtMS4wNTYtLjM4OS0uMzk4LS4zODktLjM5OC0uOTg0IDAtLjU5Ny4zOTgtLjk4NS40MDYtLjM5NyAxLjA1Ni0uMzk3Ii8+PC9zdmc+);padding-left:34px}#challenge-error-text,#challenge-success-text{background-repeat:no-repeat;background-size:contain}#challenge-success-text{background-image:url(data:image/svg+xml;base64,PHN2ZyB4bWxucz0iaHR0cDovL3d3dy53My5vcmcvMjAwMC9zdmciIHdpZHRoPSIzMiIgaGVpZ2h0PSIzMiIgZmlsbD0ibm9uZSIgdmlld0JveD0iMCAwIDI2IDI2Ij48cGF0aCBmaWxsPSIjMzEzMTMxIiBkPSJNMTMgMGExMyAxMyAwIDEgMCAwIDI2IDEzIDEzIDAgMCAwIDAtMjZtMCAyNGExMSAxMSAwIDEgMSAwLTIyIDExIDExIDAgMCAxIDAgMjIiLz48cGF0aCBmaWxsPSIjMzEzMTMxIiBkPSJtMTAuOTU1IDE2LjA1NS0zLjk1LTQuMTI1LTEuNDQ1IDEuMzg1IDUuMzcgNS42MSA5LjQ5NS05LjYtMS40Mi0xLjQwNXoiLz48L3N2Zz4=);padding-left:42px}.text-center{text-align:center}.big-button{border:.063rem solid #0051c3;border-radius:.313rem;font-size:.875rem;line-height:1.313rem;padding:.375rem 1rem;transition-duration:.2s;transition-property:background-color,border-color,color;transition-timing-function:ease}.big-button:hover{cursor:pointer}.captcha-prompt:not(.hidden){display:flex}@media (width <= 720px){.captcha-prompt:not(.hidden){flex-wrap:wrap;justify-content:center}}.pow-button{background-color:#0051c3;color:#fff;margin:2rem 0}.pow-button:hover{background-color:#003681;border-color:#003681;color:#fff}.footer{font-size:.75rem;line-height:1.125rem;margin:0 auto;max-width:60rem;width:100%}.footer-inner{border-top:1px solid #d9d9d9;padding-bottom:1rem;padding-top:1rem}.clearfix:after{clear:both;content:\"\";display:table}.clearfix .column{float:left;padding-right:1.5rem;width:50%}.diagnostic-wrapper{margin-bottom:.5rem}.footer .ray-id{text-align:center}.footer .ray-id code{font-family:monaco,courier,monospace}.core-msg,.zone-name-title{overflow-wrap:break-word}@media (width <= 720px){.diagnostic-wrapper{display:flex;flex-wrap:wrap;justify-content:center}.clearfix:after{clear:none;content:none;display:initial;text-align:center}.column{padding-bottom:2rem}.clearfix .column{float:none;padding:0;width:auto;word-break:keep-all}.zone-name-title{margin-bottom:1rem}}.loading-spinner{height:76.391px}.lds-ring{display:inline-block;position:relative}.lds-ring,.lds-ring div{height:1.875rem;width:1.875rem}.lds-ring div{animation:lds-ring 1.2s cubic-bezier(.5,0,.5,1) infinite;border:.3rem solid transparent;border-radius:50%;border-top-color:#313131;box-sizing:border-box;display:block;position:absolute}.lds-ring div:first-child{animation-delay:-.45s}.lds-ring div:nth-child(2){animation-delay:-.3s}.lds-ring div:nth-child(3){animation-delay:-.15s}@keyframes lds-ring{0%{transform:rotate(0)}to{transform:rotate(1turn)}}@media screen and (-ms-high-contrast:active),screen and (-ms-high-contrast:none){.main-wrapper,body{display:block}}</style><meta http-equiv=\"refresh\" content=\"375\"></head><body class=\"no-js\"><div class=\"main-wrapper\" role=\"main\"><div class=\"main-content\"><noscript><div id=\"challenge-error-title\"><div class=\"h2\"><span id=\"challenge-error-text\">Enable JavaScript and cookies to continue</span></div></div></noscript></div></div><script>(function(){window._cf_chl_opt={cvId: \\'3\\',cZone: \"lol.ps\",cType: \\'managed\\',cNounce: \\'23524\\',cRay: \\'8641a119cd91322a\\',cHash: \\'87a1cc790a22fd8\\',cUPMDTk: \"\\\\/statistics?__cf_chl_tk=3uwh0CbwA.B6fMTRIJlvXXJaXEfQNP5c2K6uAo9iSM4-1710391684-0.0.1.1-1578\",cFPWv: \\'g\\',cTTimeMs: \\'1000\\',cMTimeMs: \\'375000\\',cTplV: 5,cTplB: \\'cf\\',cK: \"visitor-time\",fa: \"\\\\/statistics?__cf_chl_f_tk=3uwh0CbwA.B6fMTRIJlvXXJaXEfQNP5c2K6uAo9iSM4-1710391684-0.0.1.1-1578\",md: \"sJ9salLA7iaUNpbBShJUOr1RX5Nsj667__PaJWBTZoA-1710391684-1.1.1.1-.njaVY439ROMhAqTZPErAIc3rVZT8Moz7i4do4vRbWEG760xa0regJjbMgmPcGDfzXMqrGDAYkNXiclRmoqaW2EO41_g.fctgXkvoJGjAZ6uBQw1M4lwSHdVV.ZwqAaehynebRA9AgfVATJm5IQxWC3GXILwlRidTWCJzGyJVVVo4y.C7pWGX53v43FxuIpDUC3pCrfJiUdYGfdANYC4rcFS1m.SPLmWxBDKc5XUEbbTtx7bmxhP4pgvuBVbjIVu_aqcVssX5Otk3I4xgYJydtc6_xrrS.YOUHa8nZ3vCk5H00DDpu5krq_2ZINz9wXc85IXalrVui.G57ouQmqIxyfyFm9qGnpsTv8i_aI8gTLS2FuJePyrSgihRA5fzxTL3p1WFCwBxkg8x.SLsSlSLOwFWKzlgN_9A_O2OuEnhUQfhYSDtbOgQRdYQT53euKkmQdPiRZxGYMqb1Pb6KDTBG07KqZbC2rAnx.mnCjLET8biCoAA1GxzIbLekyxg6ADSX6kBXl_kUhBw_p.e7fGwoM8mwtWZyNSGuRscgCjHHboRJn3mExYsIf9PIcago1CaKRtavIVG7_bnYqdz7FclCm.v1YKSgjPaVWNsnyyD_HvoWXBZ0TW4q36IpoN7tspjtduC6dvVpQqQrSpVcVnRbGubAw3wTDt7lTJWNnx1ia1p9EmTA8aYDza3L1Zu75eJL8chyCdHsMsP5F9QiQBBHuAA0e5Aa4VgcTf9P_KJzL83CFOFpPbsUt8PyeJHvjvAbpzb3oY_M8hzalrfZQXLXyexBajYaWTcpSc2jY2Nixa61nFFdL6U5.9ElxAhrnkGR1Cf3xjkMTPDNxxYzHssj.IMWt2GKl14pJ2ByX.bHP11KwgbIkgll1Mo_M6e5GQI05fL.WAVHTxdE1nA.sqAXwRU1jvoYfhptOLlpAs7GbXhOIjuP2PXk5rzcQOACkPC8FdOdyberzphfBWfsfJ_5I6cIk4GG7xZuwGu3Ibq_eI9lgAmuHp7whpBcv3PGoE6Hbe3hVlbZv0ynoK6KktSpcpsnjOZofkcN98FoNQv83x52TgODzDTZYD83fX9IKiOOnFbt_9gVS9Q1aBzwa62PSDA2Enf8VV5AKu4MWz.DJdWMvdk7g3xvDgpRrtMr9ybCrReTdUJzqiASQo1okFBCJR.brUuI6v5RJo_ZHU9seNj9ObeFY6ljN8kvbLR20I8GXv56EWyvyf8841tFzFBLFd1PIK7chaL_vGTw_638WMdXyAiQ7nHnpIlm3LTh4TqFs4OsC0rWYFhszO8yx9.ptPOxWzfSS4jyIvkuTAzviY5d0lY7tblmk.w19Bg1YXKc8QY9titczVE0.XdxQmn1W55J_unqh118sXdvaRTy8pFMHulNWHSCEauFjmkMG1.aZQra_2y8onQFfSyrnTbwC5tSCnAsRyA87g0b3lK3N6mevNfmQOOtP69g0UZvibmsKUl0rsH25j66usB1cd5_sOdk48RuSafRyN4Bg8bgk\",mdrd: \"EV4cQrntfLQdSBYshuGtdwpBj_QsSLbmnjoa5r3LrXE-1710391684-1.1.1.1-h8nAFnkK_mNWbNcQcJJhi71BTKJRoXAuBpR4yjb2ni.SJTTZ8EDVSXZd313C4mwv.b33vfR_lLFaSW9D.09Nz100A2V1JeX8a7Ep9jxlTJApTIMccTvF_Etn3Q2iKjUnWEzIjzLRe7fpbqaBaJeR9JBlyQPf.t_rMBdgOG.d8aU6o5gn6XnMwzJEyrvSQu_s.KEw2lVJm0gNDYf48i_PZabEsV3CJDhWgD7ngPv1ecbSFKI.hLJVVo59BeJWLhfVjNFx1O6IdbQKPKOzAZkRFndXWSvPwcCCk2yomMUlO2MlDahKDh0AOi0I3_hle3UvK5ZiDg8mOM9945dpVc20lZbEf9.6C28u227hLbgd9P2Sg.tott6VOsh2bQbz7YGc0WGzYWmOuz78Xzx9Zl6vjxQvG0_PyRx8og7RV9BvvvC1iHQIBZwvq1D5jpCv5yccLX.YYnFB2IVMEH5MHXZ24T8HDr2ZfomE1GE7PQO9mqQcVkGGpl_CvxhAS_VhXb6Iuz1N_pdc8V5WEfp3TJT.MH70tMJTyc9sqP9i_7Zc4Qgoj3KogeeEWjq0368XrRwZUcDsjR_nzr.KZgaweecfC7sS5MrkXZCKFTq3AJr6iZjIClfGS3tMIDZ0ql57Q2z5fYqVQQvzK7Af3fiPIOmqv2xjRJcBJnmALPQxDa3LJamySiUgshtZO4DzeBhLHL110XnxNGZlxw71avuJa0ep9.Bv3BJDZBA3GW_tJ8DVGIcIv.8Ekn0XaW419wyt3nqCv6uK_4dXLH47GFfcoU7IAtvPmKm0vzAKON1oYT3FfVacNdrTouuooMWtPSFpu44bWJSjGFAfaGi8cmaH8rREIhB0Qfhq5YplFQrVn.qPt7bKiVx9aLP5YRa7AHhToljm_xEEOKND6w_32HhXkWZ1_TaHco8RsP8KyEi5XWGKjwjdgjdE3cPMpVAXE6sSNHqauQ95OdiA7CSq9HPJ_Mc_WCoCklPCfwMwqyEiFLTjKKb54kohSoB77QT83Y3WrBYcgV49Qb4x.6gq9KANAdWPOrbMTiaHutve8DynZWEpVd0f8GAGyY7l8p2W.NxnK17jI1fAyhe6auclucj.SAq.xAfPT.6ZaAbD8S4vTjywN_FTYBjo6FkgcWO9Bvr_lB9bujqE2SmfRfXuesiaqqG5V9Klp7WzzFqsGP.DDKr4yBrTaDipjINeJDV3jt_oBE3KI6tnDVuFHZBjlvssuiL2wlaPCjimpYRN6dPhj6fm7RioKPSvZXVqOZn2jTBZlGp7tFASY4Q1aSvJGzezDi7I6uaszvEuMd2DCI0hBkQx00W5gGx584a8OajCLBtqTBX71W_EknLRUuhVp2rcuDdvTyXpM2ThcrHwrlUhTYcsR1dYuQBK7.a6xQW__7yGcAQhUoLLbz_F_QXUpqhdON1H0qtRPK1T9gRZvtfcrun_y5e2gjY9ncyKGt4hSQ0mJruQ32PzBomh99kNLTWA6F8grs1vNhDFTeam3FKC9ZXWy9U5VxdTE6II623EejR2BKJPG1YpkGJpr_srHYkM0.o3h1lVAnA39rWUTEHzkfoRxMc1wFbozgUk8.HESLtxaZtk_2rAwbAa9g.vW36khmis2mOBRJyQAP7ynx.6wVVmmX5YEfk0n9pCPBdxy2wcd42P10djMtdS4duoIk9XNuWO9z5OGC1l7B2tc3SUJfvcSzUpkAB1XTSiY9ePoibYRVHSnPH5s_lyQFB0LiaZUKZqLtWdU9sjMtDPR5CCTFDus_3maV2k4BpfA4Y1YCvsry_u.bYEo.jpKbPknegSIlRu_GCKbWlufIx6zjEQUG4K1YtvxICBoHX6GOSVLFbuNeOpdHzAJQqHPLLDgaVgmAHkRw7ZYUbcfbuAsmukakRVlcarSzKoikyxkyqFRTwCzl1X\",cRq: {ru: \\'aHR0cHM6Ly9sb2wucHMvc3RhdGlzdGljcw==\\',ra: \\'cHl0aG9uLXJlcXVlc3RzLzIuMzEuMA==\\',rm: \\'R0VU\\',d: \\'6SILeHB5rffgiWu+S05Ny6K9RBKcxFIignUsIN31B6X4MKUjggXykoMB0PkCOgcrcAu0GuKb2i3o14jMMSANzzD9aABYYY2uvo1/uzsKLo2lXNE73tq8i6PwCoTvAIltbpBWnFErcyOPjpGEU1Iypw8g/wVqrh+yS7HrsIU7YB4JXiGZ23hqz/z1xuHwhT7Ja9HtSRfKxScJKjLMfqPlhp3nlud5CCWJYelH1XxEIXjMPA5nECKObJIOQvt1QnNuDw1KsOOd5s3Gnoi68HRh0Js3xks66fFyWHuEYTDGIRdsj395Y4Uq/leToyLJH4E2M9N0eYCBWRlnVp/0VIHCzZLPFK1tqfqgEMv8HDSBZWH2R96eMTl4oXce4ZvjcuZbOzD4aNScEFnLirgiwOb/Rh0mEcbmfZ639juFdKIPjTI/muJrNat5ooRUAqXdGm53S0tSjphLQboe1KrNgLck6UzK2yF3muQZ6Vue+tS5D+dGbH1dW80mnmEGqrh7YSx7IdEF8o8uyY3n8lNpfWUSbAKakCrb9/x3R0KWgZfhdDrzbyZPYHx9zWAkJQqbZrXKBt58WP4mJwXrc/bh7kDoew==\\',t: \\'MTcxMDM5MTY4NC4xMzAwMDA=\\',cT: Math.floor(Date.now() / 1000),m: \\'qv940sl2yMkLW3ylRWfhw1HdeBtsN/DntHccMi5oewc=\\',i1: \\'56q0kAfwdCMKo6nTWLWkfA==\\',i2: \\'0FvJDsZI2UPC7ge/umcr0w==\\',zh: \\'un4Eyp405pd1hE7z0La/zilCemlUlPQF1rAZjj0bC+U=\\',uh: \\'YE9XOpG5TeHmhA1zfs5mxC8CrRZzq2a/+r+OU7dliYQ=\\',hh: \\'KPL7xtBa02DHSQ0CUGxiDyDke8XAgC32qId16cw3tpo=\\',}};var cpo = document.createElement(\\'script\\');cpo.src = \\'/cdn-cgi/challenge-platform/h/g/orchestrate/chl_page/v1?ray=8641a119cd91322a\\';window._cf_chl_opt.cOgUHash = location.hash === \\'\\' && location.href.indexOf(\\'#\\') !== -1 ? \\'#\\' : location.hash;window._cf_chl_opt.cOgUQuery = location.search === \\'\\' && location.href.slice(0, location.href.length - window._cf_chl_opt.cOgUHash.length).indexOf(\\'?\\') !== -1 ? \\'?\\' : location.search;if (window.history && window.history.replaceState) {var ogU = location.pathname + window._cf_chl_opt.cOgUQuery + window._cf_chl_opt.cOgUHash;history.replaceState(null, null, \"\\\\/statistics?__cf_chl_rt_tk=3uwh0CbwA.B6fMTRIJlvXXJaXEfQNP5c2K6uAo9iSM4-1710391684-0.0.1.1-1578\" + window._cf_chl_opt.cOgUHash);cpo.onload = function() {history.replaceState(null, null, ogU);}}document.getElementsByTagName(\\'head\\')[0].appendChild(cpo);}());</script><script defer src=\"https://static.cloudflareinsights.com/beacon.min.js/v84a3a4012de94ce1a686ba8c167c359c1696973893317\" integrity=\"sha512-euoFGowhlaLqXsPWQ48qSkBSCFs3DPRyiwVu3FjR96cMPx+Fr+gpWRhIafcHwqwCqWS42RZhIudOvEI+Ckf6MA==\" data-cf-beacon=\\'{\"rayId\":\"8641a119cd91322a\",\"b\":1,\"version\":\"2024.2.4\",\"token\":\"452c91d8ce31466ba226915af90c2349\"}\\' crossorigin=\"anonymous\"></script>\\n</body></html>'"
      ]
     },
     "execution_count": 5,
     "metadata": {},
     "output_type": "execute_result"
    }
   ],
   "source": [
    "resp.text"
   ]
  },
  {
   "cell_type": "code",
   "execution_count": 6,
   "id": "d19d7ca1",
   "metadata": {},
   "outputs": [],
   "source": [
    "src = resp.text"
   ]
  },
  {
   "cell_type": "code",
   "execution_count": 7,
   "id": "5195458f",
   "metadata": {},
   "outputs": [
    {
     "name": "stdout",
     "output_type": "stream",
     "text": [
      "<!DOCTYPE html>\n",
      "<html lang=\"en-US\"><head><title>Just a moment...</title><meta content=\"text/html; charset=utf-8\" http-equiv=\"Content-Type\"/><meta content=\"IE=Edge\" http-equiv=\"X-UA-Compatible\"/><meta content=\"noindex,nofollow\" name=\"robots\"/><meta content=\"width=device-width,initial-scale=1\" name=\"viewport\"/><style>*{box-sizing:border-box;margin:0;padding:0}html{line-height:1.15;-webkit-text-size-adjust:100%;color:#313131}button,html{font-family:system-ui,-apple-system,BlinkMacSystemFont,Segoe UI,Roboto,Helvetica Neue,Arial,Noto Sans,sans-serif,Apple Color Emoji,Segoe UI Emoji,Segoe UI Symbol,Noto Color Emoji}@media (prefers-color-scheme:dark){body{background-color:#222;color:#d9d9d9}body a{color:#fff}body a:hover{color:#ee730a;text-decoration:underline}body .lds-ring div{border-color:#999 transparent transparent}body .font-red{color:#b20f03}body .big-button,body .pow-button{background-color:#4693ff;color:#1d1d1d}body #challenge-success-text{background-image:url(data:image/svg+xml;base64,PHN2ZyB4bWxucz0iaHR0cDovL3d3dy53My5vcmcvMjAwMC9zdmciIHdpZHRoPSIzMiIgaGVpZ2h0PSIzMiIgZmlsbD0ibm9uZSIgdmlld0JveD0iMCAwIDI2IDI2Ij48cGF0aCBmaWxsPSIjZDlkOWQ5IiBkPSJNMTMgMGExMyAxMyAwIDEgMCAwIDI2IDEzIDEzIDAgMCAwIDAtMjZtMCAyNGExMSAxMSAwIDEgMSAwLTIyIDExIDExIDAgMCAxIDAgMjIiLz48cGF0aCBmaWxsPSIjZDlkOWQ5IiBkPSJtMTAuOTU1IDE2LjA1NS0zLjk1LTQuMTI1LTEuNDQ1IDEuMzg1IDUuMzcgNS42MSA5LjQ5NS05LjYtMS40Mi0xLjQwNXoiLz48L3N2Zz4=)}body #challenge-error-text{background-image:url(data:image/svg+xml;base64,PHN2ZyB4bWxucz0iaHR0cDovL3d3dy53My5vcmcvMjAwMC9zdmciIHdpZHRoPSIzMiIgaGVpZ2h0PSIzMiIgZmlsbD0ibm9uZSI+PHBhdGggZmlsbD0iI0IyMEYwMyIgZD0iTTE2IDNhMTMgMTMgMCAxIDAgMTMgMTNBMTMuMDE1IDEzLjAxNSAwIDAgMCAxNiAzbTAgMjRhMTEgMTEgMCAxIDEgMTEtMTEgMTEuMDEgMTEuMDEgMCAwIDEtMTEgMTEiLz48cGF0aCBmaWxsPSIjQjIwRjAzIiBkPSJNMTcuMDM4IDE4LjYxNUgxNC44N0wxNC41NjMgOS41aDIuNzgzem0tMS4wODQgMS40MjdxLjY2IDAgMS4wNTcuMzg4LjQwNy4zODkuNDA3Ljk5NCAwIC41OTYtLjQwNy45ODQtLjM5Ny4zOS0xLjA1Ny4zODktLjY1IDAtMS4wNTYtLjM4OS0uMzk4LS4zODktLjM5OC0uOTg0IDAtLjU5Ny4zOTgtLjk4NS40MDYtLjM5NyAxLjA1Ni0uMzk3Ii8+PC9zdmc+)}}body{display:flex;flex-direction:column;min-height:100vh}body.no-js .loading-spinner{visibility:hidden}body.no-js .challenge-running{display:none}body.dark{background-color:#222;color:#d9d9d9}body.dark a{color:#fff}body.dark a:hover{color:#ee730a;text-decoration:underline}body.dark .lds-ring div{border-color:#999 transparent transparent}body.dark .font-red{color:#b20f03}body.dark .big-button,body.dark .pow-button{background-color:#4693ff;color:#1d1d1d}body.dark #challenge-success-text{background-image:url(data:image/svg+xml;base64,PHN2ZyB4bWxucz0iaHR0cDovL3d3dy53My5vcmcvMjAwMC9zdmciIHdpZHRoPSIzMiIgaGVpZ2h0PSIzMiIgZmlsbD0ibm9uZSIgdmlld0JveD0iMCAwIDI2IDI2Ij48cGF0aCBmaWxsPSIjZDlkOWQ5IiBkPSJNMTMgMGExMyAxMyAwIDEgMCAwIDI2IDEzIDEzIDAgMCAwIDAtMjZtMCAyNGExMSAxMSAwIDEgMSAwLTIyIDExIDExIDAgMCAxIDAgMjIiLz48cGF0aCBmaWxsPSIjZDlkOWQ5IiBkPSJtMTAuOTU1IDE2LjA1NS0zLjk1LTQuMTI1LTEuNDQ1IDEuMzg1IDUuMzcgNS42MSA5LjQ5NS05LjYtMS40Mi0xLjQwNXoiLz48L3N2Zz4=)}body.dark #challenge-error-text{background-image:url(data:image/svg+xml;base64,PHN2ZyB4bWxucz0iaHR0cDovL3d3dy53My5vcmcvMjAwMC9zdmciIHdpZHRoPSIzMiIgaGVpZ2h0PSIzMiIgZmlsbD0ibm9uZSI+PHBhdGggZmlsbD0iI0IyMEYwMyIgZD0iTTE2IDNhMTMgMTMgMCAxIDAgMTMgMTNBMTMuMDE1IDEzLjAxNSAwIDAgMCAxNiAzbTAgMjRhMTEgMTEgMCAxIDEgMTEtMTEgMTEuMDEgMTEuMDEgMCAwIDEtMTEgMTEiLz48cGF0aCBmaWxsPSIjQjIwRjAzIiBkPSJNMTcuMDM4IDE4LjYxNUgxNC44N0wxNC41NjMgOS41aDIuNzgzem0tMS4wODQgMS40MjdxLjY2IDAgMS4wNTcuMzg4LjQwNy4zODkuNDA3Ljk5NCAwIC41OTYtLjQwNy45ODQtLjM5Ny4zOS0xLjA1Ny4zODktLjY1IDAtMS4wNTYtLjM4OS0uMzk4LS4zODktLjM5OC0uOTg0IDAtLjU5Ny4zOTgtLjk4NS40MDYtLjM5NyAxLjA1Ni0uMzk3Ii8+PC9zdmc+)}body.light{background-color:transparent;color:#313131}body.light a{color:#0051c3}body.light a:hover{color:#ee730a;text-decoration:underline}body.light .lds-ring div{border-color:#595959 transparent transparent}body.light .font-red{color:#fc574a}body.light .big-button,body.light .pow-button{background-color:#003681;border-color:#003681;color:#fff}body.light #challenge-success-text{background-image:url(data:image/svg+xml;base64,PHN2ZyB4bWxucz0iaHR0cDovL3d3dy53My5vcmcvMjAwMC9zdmciIHdpZHRoPSIzMiIgaGVpZ2h0PSIzMiIgZmlsbD0ibm9uZSIgdmlld0JveD0iMCAwIDI2IDI2Ij48cGF0aCBmaWxsPSIjMzEzMTMxIiBkPSJNMTMgMGExMyAxMyAwIDEgMCAwIDI2IDEzIDEzIDAgMCAwIDAtMjZtMCAyNGExMSAxMSAwIDEgMSAwLTIyIDExIDExIDAgMCAxIDAgMjIiLz48cGF0aCBmaWxsPSIjMzEzMTMxIiBkPSJtMTAuOTU1IDE2LjA1NS0zLjk1LTQuMTI1LTEuNDQ1IDEuMzg1IDUuMzcgNS42MSA5LjQ5NS05LjYtMS40Mi0xLjQwNXoiLz48L3N2Zz4=)}body.light #challenge-error-text{background-image:url(data:image/svg+xml;base64,PHN2ZyB4bWxucz0iaHR0cDovL3d3dy53My5vcmcvMjAwMC9zdmciIHdpZHRoPSIzMiIgaGVpZ2h0PSIzMiIgZmlsbD0ibm9uZSI+PHBhdGggZmlsbD0iI2ZjNTc0YSIgZD0iTTE2IDNhMTMgMTMgMCAxIDAgMTMgMTNBMTMuMDE1IDEzLjAxNSAwIDAgMCAxNiAzbTAgMjRhMTEgMTEgMCAxIDEgMTEtMTEgMTEuMDEgMTEuMDEgMCAwIDEtMTEgMTEiLz48cGF0aCBmaWxsPSIjZmM1NzRhIiBkPSJNMTcuMDM4IDE4LjYxNUgxNC44N0wxNC41NjMgOS41aDIuNzgzem0tMS4wODQgMS40MjdxLjY2IDAgMS4wNTcuMzg4LjQwNy4zODkuNDA3Ljk5NCAwIC41OTYtLjQwNy45ODQtLjM5Ny4zOS0xLjA1Ny4zODktLjY1IDAtMS4wNTYtLjM4OS0uMzk4LS4zODktLjM5OC0uOTg0IDAtLjU5Ny4zOTgtLjk4NS40MDYtLjM5NyAxLjA1Ni0uMzk3Ii8+PC9zdmc+)}a{background-color:transparent;color:#0051c3;text-decoration:none;transition:color .15s ease}a:hover{color:#ee730a;text-decoration:underline}.main-content{margin:8rem auto;max-width:60rem;width:100%}.heading-favicon{height:2rem;margin-right:.5rem;width:2rem}@media (width <= 720px){.main-content{margin-top:4rem}.heading-favicon{height:1.5rem;width:1.5rem}}.footer,.main-content{padding-left:1.5rem;padding-right:1.5rem}.main-wrapper{align-items:center;display:flex;flex:1;flex-direction:column}.font-red{color:#b20f03}.spacer{margin:2rem 0}.h1{font-size:2.5rem;font-weight:500;line-height:3.75rem}.h2{font-weight:500}.core-msg,.h2{font-size:1.5rem;line-height:2.25rem}.body-text,.core-msg{font-weight:400}.body-text{font-size:1rem;line-height:1.25rem}@media (width <= 720px){.h1{font-size:1.5rem;line-height:1.75rem}.h2{font-size:1.25rem}.core-msg,.h2{line-height:1.5rem}.core-msg{font-size:1rem}}#challenge-error-text{background-image:url(data:image/svg+xml;base64,PHN2ZyB4bWxucz0iaHR0cDovL3d3dy53My5vcmcvMjAwMC9zdmciIHdpZHRoPSIzMiIgaGVpZ2h0PSIzMiIgZmlsbD0ibm9uZSI+PHBhdGggZmlsbD0iI2ZjNTc0YSIgZD0iTTE2IDNhMTMgMTMgMCAxIDAgMTMgMTNBMTMuMDE1IDEzLjAxNSAwIDAgMCAxNiAzbTAgMjRhMTEgMTEgMCAxIDEgMTEtMTEgMTEuMDEgMTEuMDEgMCAwIDEtMTEgMTEiLz48cGF0aCBmaWxsPSIjZmM1NzRhIiBkPSJNMTcuMDM4IDE4LjYxNUgxNC44N0wxNC41NjMgOS41aDIuNzgzem0tMS4wODQgMS40MjdxLjY2IDAgMS4wNTcuMzg4LjQwNy4zODkuNDA3Ljk5NCAwIC41OTYtLjQwNy45ODQtLjM5Ny4zOS0xLjA1Ny4zODktLjY1IDAtMS4wNTYtLjM4OS0uMzk4LS4zODktLjM5OC0uOTg0IDAtLjU5Ny4zOTgtLjk4NS40MDYtLjM5NyAxLjA1Ni0uMzk3Ii8+PC9zdmc+);padding-left:34px}#challenge-error-text,#challenge-success-text{background-repeat:no-repeat;background-size:contain}#challenge-success-text{background-image:url(data:image/svg+xml;base64,PHN2ZyB4bWxucz0iaHR0cDovL3d3dy53My5vcmcvMjAwMC9zdmciIHdpZHRoPSIzMiIgaGVpZ2h0PSIzMiIgZmlsbD0ibm9uZSIgdmlld0JveD0iMCAwIDI2IDI2Ij48cGF0aCBmaWxsPSIjMzEzMTMxIiBkPSJNMTMgMGExMyAxMyAwIDEgMCAwIDI2IDEzIDEzIDAgMCAwIDAtMjZtMCAyNGExMSAxMSAwIDEgMSAwLTIyIDExIDExIDAgMCAxIDAgMjIiLz48cGF0aCBmaWxsPSIjMzEzMTMxIiBkPSJtMTAuOTU1IDE2LjA1NS0zLjk1LTQuMTI1LTEuNDQ1IDEuMzg1IDUuMzcgNS42MSA5LjQ5NS05LjYtMS40Mi0xLjQwNXoiLz48L3N2Zz4=);padding-left:42px}.text-center{text-align:center}.big-button{border:.063rem solid #0051c3;border-radius:.313rem;font-size:.875rem;line-height:1.313rem;padding:.375rem 1rem;transition-duration:.2s;transition-property:background-color,border-color,color;transition-timing-function:ease}.big-button:hover{cursor:pointer}.captcha-prompt:not(.hidden){display:flex}@media (width <= 720px){.captcha-prompt:not(.hidden){flex-wrap:wrap;justify-content:center}}.pow-button{background-color:#0051c3;color:#fff;margin:2rem 0}.pow-button:hover{background-color:#003681;border-color:#003681;color:#fff}.footer{font-size:.75rem;line-height:1.125rem;margin:0 auto;max-width:60rem;width:100%}.footer-inner{border-top:1px solid #d9d9d9;padding-bottom:1rem;padding-top:1rem}.clearfix:after{clear:both;content:\"\";display:table}.clearfix .column{float:left;padding-right:1.5rem;width:50%}.diagnostic-wrapper{margin-bottom:.5rem}.footer .ray-id{text-align:center}.footer .ray-id code{font-family:monaco,courier,monospace}.core-msg,.zone-name-title{overflow-wrap:break-word}@media (width <= 720px){.diagnostic-wrapper{display:flex;flex-wrap:wrap;justify-content:center}.clearfix:after{clear:none;content:none;display:initial;text-align:center}.column{padding-bottom:2rem}.clearfix .column{float:none;padding:0;width:auto;word-break:keep-all}.zone-name-title{margin-bottom:1rem}}.loading-spinner{height:76.391px}.lds-ring{display:inline-block;position:relative}.lds-ring,.lds-ring div{height:1.875rem;width:1.875rem}.lds-ring div{animation:lds-ring 1.2s cubic-bezier(.5,0,.5,1) infinite;border:.3rem solid transparent;border-radius:50%;border-top-color:#313131;box-sizing:border-box;display:block;position:absolute}.lds-ring div:first-child{animation-delay:-.45s}.lds-ring div:nth-child(2){animation-delay:-.3s}.lds-ring div:nth-child(3){animation-delay:-.15s}@keyframes lds-ring{0%{transform:rotate(0)}to{transform:rotate(1turn)}}@media screen and (-ms-high-contrast:active),screen and (-ms-high-contrast:none){.main-wrapper,body{display:block}}</style><meta content=\"375\" http-equiv=\"refresh\"/></head><body class=\"no-js\"><div class=\"main-wrapper\" role=\"main\"><div class=\"main-content\"><noscript><div id=\"challenge-error-title\"><div class=\"h2\"><span id=\"challenge-error-text\">Enable JavaScript and cookies to continue</span></div></div></noscript></div></div><script>(function(){window._cf_chl_opt={cvId: '3',cZone: \"lol.ps\",cType: 'managed',cNounce: '23524',cRay: '8641a119cd91322a',cHash: '87a1cc790a22fd8',cUPMDTk: \"\\/statistics?__cf_chl_tk=3uwh0CbwA.B6fMTRIJlvXXJaXEfQNP5c2K6uAo9iSM4-1710391684-0.0.1.1-1578\",cFPWv: 'g',cTTimeMs: '1000',cMTimeMs: '375000',cTplV: 5,cTplB: 'cf',cK: \"visitor-time\",fa: \"\\/statistics?__cf_chl_f_tk=3uwh0CbwA.B6fMTRIJlvXXJaXEfQNP5c2K6uAo9iSM4-1710391684-0.0.1.1-1578\",md: \"sJ9salLA7iaUNpbBShJUOr1RX5Nsj667__PaJWBTZoA-1710391684-1.1.1.1-.njaVY439ROMhAqTZPErAIc3rVZT8Moz7i4do4vRbWEG760xa0regJjbMgmPcGDfzXMqrGDAYkNXiclRmoqaW2EO41_g.fctgXkvoJGjAZ6uBQw1M4lwSHdVV.ZwqAaehynebRA9AgfVATJm5IQxWC3GXILwlRidTWCJzGyJVVVo4y.C7pWGX53v43FxuIpDUC3pCrfJiUdYGfdANYC4rcFS1m.SPLmWxBDKc5XUEbbTtx7bmxhP4pgvuBVbjIVu_aqcVssX5Otk3I4xgYJydtc6_xrrS.YOUHa8nZ3vCk5H00DDpu5krq_2ZINz9wXc85IXalrVui.G57ouQmqIxyfyFm9qGnpsTv8i_aI8gTLS2FuJePyrSgihRA5fzxTL3p1WFCwBxkg8x.SLsSlSLOwFWKzlgN_9A_O2OuEnhUQfhYSDtbOgQRdYQT53euKkmQdPiRZxGYMqb1Pb6KDTBG07KqZbC2rAnx.mnCjLET8biCoAA1GxzIbLekyxg6ADSX6kBXl_kUhBw_p.e7fGwoM8mwtWZyNSGuRscgCjHHboRJn3mExYsIf9PIcago1CaKRtavIVG7_bnYqdz7FclCm.v1YKSgjPaVWNsnyyD_HvoWXBZ0TW4q36IpoN7tspjtduC6dvVpQqQrSpVcVnRbGubAw3wTDt7lTJWNnx1ia1p9EmTA8aYDza3L1Zu75eJL8chyCdHsMsP5F9QiQBBHuAA0e5Aa4VgcTf9P_KJzL83CFOFpPbsUt8PyeJHvjvAbpzb3oY_M8hzalrfZQXLXyexBajYaWTcpSc2jY2Nixa61nFFdL6U5.9ElxAhrnkGR1Cf3xjkMTPDNxxYzHssj.IMWt2GKl14pJ2ByX.bHP11KwgbIkgll1Mo_M6e5GQI05fL.WAVHTxdE1nA.sqAXwRU1jvoYfhptOLlpAs7GbXhOIjuP2PXk5rzcQOACkPC8FdOdyberzphfBWfsfJ_5I6cIk4GG7xZuwGu3Ibq_eI9lgAmuHp7whpBcv3PGoE6Hbe3hVlbZv0ynoK6KktSpcpsnjOZofkcN98FoNQv83x52TgODzDTZYD83fX9IKiOOnFbt_9gVS9Q1aBzwa62PSDA2Enf8VV5AKu4MWz.DJdWMvdk7g3xvDgpRrtMr9ybCrReTdUJzqiASQo1okFBCJR.brUuI6v5RJo_ZHU9seNj9ObeFY6ljN8kvbLR20I8GXv56EWyvyf8841tFzFBLFd1PIK7chaL_vGTw_638WMdXyAiQ7nHnpIlm3LTh4TqFs4OsC0rWYFhszO8yx9.ptPOxWzfSS4jyIvkuTAzviY5d0lY7tblmk.w19Bg1YXKc8QY9titczVE0.XdxQmn1W55J_unqh118sXdvaRTy8pFMHulNWHSCEauFjmkMG1.aZQra_2y8onQFfSyrnTbwC5tSCnAsRyA87g0b3lK3N6mevNfmQOOtP69g0UZvibmsKUl0rsH25j66usB1cd5_sOdk48RuSafRyN4Bg8bgk\",mdrd: \"EV4cQrntfLQdSBYshuGtdwpBj_QsSLbmnjoa5r3LrXE-1710391684-1.1.1.1-h8nAFnkK_mNWbNcQcJJhi71BTKJRoXAuBpR4yjb2ni.SJTTZ8EDVSXZd313C4mwv.b33vfR_lLFaSW9D.09Nz100A2V1JeX8a7Ep9jxlTJApTIMccTvF_Etn3Q2iKjUnWEzIjzLRe7fpbqaBaJeR9JBlyQPf.t_rMBdgOG.d8aU6o5gn6XnMwzJEyrvSQu_s.KEw2lVJm0gNDYf48i_PZabEsV3CJDhWgD7ngPv1ecbSFKI.hLJVVo59BeJWLhfVjNFx1O6IdbQKPKOzAZkRFndXWSvPwcCCk2yomMUlO2MlDahKDh0AOi0I3_hle3UvK5ZiDg8mOM9945dpVc20lZbEf9.6C28u227hLbgd9P2Sg.tott6VOsh2bQbz7YGc0WGzYWmOuz78Xzx9Zl6vjxQvG0_PyRx8og7RV9BvvvC1iHQIBZwvq1D5jpCv5yccLX.YYnFB2IVMEH5MHXZ24T8HDr2ZfomE1GE7PQO9mqQcVkGGpl_CvxhAS_VhXb6Iuz1N_pdc8V5WEfp3TJT.MH70tMJTyc9sqP9i_7Zc4Qgoj3KogeeEWjq0368XrRwZUcDsjR_nzr.KZgaweecfC7sS5MrkXZCKFTq3AJr6iZjIClfGS3tMIDZ0ql57Q2z5fYqVQQvzK7Af3fiPIOmqv2xjRJcBJnmALPQxDa3LJamySiUgshtZO4DzeBhLHL110XnxNGZlxw71avuJa0ep9.Bv3BJDZBA3GW_tJ8DVGIcIv.8Ekn0XaW419wyt3nqCv6uK_4dXLH47GFfcoU7IAtvPmKm0vzAKON1oYT3FfVacNdrTouuooMWtPSFpu44bWJSjGFAfaGi8cmaH8rREIhB0Qfhq5YplFQrVn.qPt7bKiVx9aLP5YRa7AHhToljm_xEEOKND6w_32HhXkWZ1_TaHco8RsP8KyEi5XWGKjwjdgjdE3cPMpVAXE6sSNHqauQ95OdiA7CSq9HPJ_Mc_WCoCklPCfwMwqyEiFLTjKKb54kohSoB77QT83Y3WrBYcgV49Qb4x.6gq9KANAdWPOrbMTiaHutve8DynZWEpVd0f8GAGyY7l8p2W.NxnK17jI1fAyhe6auclucj.SAq.xAfPT.6ZaAbD8S4vTjywN_FTYBjo6FkgcWO9Bvr_lB9bujqE2SmfRfXuesiaqqG5V9Klp7WzzFqsGP.DDKr4yBrTaDipjINeJDV3jt_oBE3KI6tnDVuFHZBjlvssuiL2wlaPCjimpYRN6dPhj6fm7RioKPSvZXVqOZn2jTBZlGp7tFASY4Q1aSvJGzezDi7I6uaszvEuMd2DCI0hBkQx00W5gGx584a8OajCLBtqTBX71W_EknLRUuhVp2rcuDdvTyXpM2ThcrHwrlUhTYcsR1dYuQBK7.a6xQW__7yGcAQhUoLLbz_F_QXUpqhdON1H0qtRPK1T9gRZvtfcrun_y5e2gjY9ncyKGt4hSQ0mJruQ32PzBomh99kNLTWA6F8grs1vNhDFTeam3FKC9ZXWy9U5VxdTE6II623EejR2BKJPG1YpkGJpr_srHYkM0.o3h1lVAnA39rWUTEHzkfoRxMc1wFbozgUk8.HESLtxaZtk_2rAwbAa9g.vW36khmis2mOBRJyQAP7ynx.6wVVmmX5YEfk0n9pCPBdxy2wcd42P10djMtdS4duoIk9XNuWO9z5OGC1l7B2tc3SUJfvcSzUpkAB1XTSiY9ePoibYRVHSnPH5s_lyQFB0LiaZUKZqLtWdU9sjMtDPR5CCTFDus_3maV2k4BpfA4Y1YCvsry_u.bYEo.jpKbPknegSIlRu_GCKbWlufIx6zjEQUG4K1YtvxICBoHX6GOSVLFbuNeOpdHzAJQqHPLLDgaVgmAHkRw7ZYUbcfbuAsmukakRVlcarSzKoikyxkyqFRTwCzl1X\",cRq: {ru: 'aHR0cHM6Ly9sb2wucHMvc3RhdGlzdGljcw==',ra: 'cHl0aG9uLXJlcXVlc3RzLzIuMzEuMA==',rm: 'R0VU',d: '6SILeHB5rffgiWu+S05Ny6K9RBKcxFIignUsIN31B6X4MKUjggXykoMB0PkCOgcrcAu0GuKb2i3o14jMMSANzzD9aABYYY2uvo1/uzsKLo2lXNE73tq8i6PwCoTvAIltbpBWnFErcyOPjpGEU1Iypw8g/wVqrh+yS7HrsIU7YB4JXiGZ23hqz/z1xuHwhT7Ja9HtSRfKxScJKjLMfqPlhp3nlud5CCWJYelH1XxEIXjMPA5nECKObJIOQvt1QnNuDw1KsOOd5s3Gnoi68HRh0Js3xks66fFyWHuEYTDGIRdsj395Y4Uq/leToyLJH4E2M9N0eYCBWRlnVp/0VIHCzZLPFK1tqfqgEMv8HDSBZWH2R96eMTl4oXce4ZvjcuZbOzD4aNScEFnLirgiwOb/Rh0mEcbmfZ639juFdKIPjTI/muJrNat5ooRUAqXdGm53S0tSjphLQboe1KrNgLck6UzK2yF3muQZ6Vue+tS5D+dGbH1dW80mnmEGqrh7YSx7IdEF8o8uyY3n8lNpfWUSbAKakCrb9/x3R0KWgZfhdDrzbyZPYHx9zWAkJQqbZrXKBt58WP4mJwXrc/bh7kDoew==',t: 'MTcxMDM5MTY4NC4xMzAwMDA=',cT: Math.floor(Date.now() / 1000),m: 'qv940sl2yMkLW3ylRWfhw1HdeBtsN/DntHccMi5oewc=',i1: '56q0kAfwdCMKo6nTWLWkfA==',i2: '0FvJDsZI2UPC7ge/umcr0w==',zh: 'un4Eyp405pd1hE7z0La/zilCemlUlPQF1rAZjj0bC+U=',uh: 'YE9XOpG5TeHmhA1zfs5mxC8CrRZzq2a/+r+OU7dliYQ=',hh: 'KPL7xtBa02DHSQ0CUGxiDyDke8XAgC32qId16cw3tpo=',}};var cpo = document.createElement('script');cpo.src = '/cdn-cgi/challenge-platform/h/g/orchestrate/chl_page/v1?ray=8641a119cd91322a';window._cf_chl_opt.cOgUHash = location.hash === '' && location.href.indexOf('#') !== -1 ? '#' : location.hash;window._cf_chl_opt.cOgUQuery = location.search === '' && location.href.slice(0, location.href.length - window._cf_chl_opt.cOgUHash.length).indexOf('?') !== -1 ? '?' : location.search;if (window.history && window.history.replaceState) {var ogU = location.pathname + window._cf_chl_opt.cOgUQuery + window._cf_chl_opt.cOgUHash;history.replaceState(null, null, \"\\/statistics?__cf_chl_rt_tk=3uwh0CbwA.B6fMTRIJlvXXJaXEfQNP5c2K6uAo9iSM4-1710391684-0.0.1.1-1578\" + window._cf_chl_opt.cOgUHash);cpo.onload = function() {history.replaceState(null, null, ogU);}}document.getElementsByTagName('head')[0].appendChild(cpo);}());</script><script crossorigin=\"anonymous\" data-cf-beacon='{\"rayId\":\"8641a119cd91322a\",\"b\":1,\"version\":\"2024.2.4\",\"token\":\"452c91d8ce31466ba226915af90c2349\"}' defer=\"\" integrity=\"sha512-euoFGowhlaLqXsPWQ48qSkBSCFs3DPRyiwVu3FjR96cMPx+Fr+gpWRhIafcHwqwCqWS42RZhIudOvEI+Ckf6MA==\" src=\"https://static.cloudflareinsights.com/beacon.min.js/v84a3a4012de94ce1a686ba8c167c359c1696973893317\"></script>\n",
      "</body></html>\n"
     ]
    }
   ],
   "source": [
    "soup = BeautifulSoup(src, 'lxml') \n",
    "print(soup)"
   ]
  },
  {
   "cell_type": "code",
   "execution_count": 17,
   "id": "1752596b",
   "metadata": {},
   "outputs": [
    {
     "data": {
      "text/plain": [
       "[]"
      ]
     },
     "execution_count": 17,
     "metadata": {},
     "output_type": "execute_result"
    }
   ],
   "source": [
    "# 뉴스 목록 찾기\n",
    "srclist = soup.select('.h-full w-full text-psbk s-Ivk2_3IFjKBn li a')\n",
    "srclist"
   ]
  },
  {
   "cell_type": "code",
   "execution_count": 13,
   "id": "ceb6c3b9",
   "metadata": {},
   "outputs": [],
   "source": []
  },
  {
   "cell_type": "code",
   "execution_count": null,
   "id": "08271cb4",
   "metadata": {},
   "outputs": [],
   "source": []
  },
  {
   "cell_type": "code",
   "execution_count": null,
   "id": "a5c4f200",
   "metadata": {},
   "outputs": [],
   "source": []
  },
  {
   "cell_type": "code",
   "execution_count": null,
   "id": "5af490b2",
   "metadata": {},
   "outputs": [],
   "source": []
  }
 ],
 "metadata": {
  "kernelspec": {
   "display_name": "Python 3 (ipykernel)",
   "language": "python",
   "name": "python3"
  },
  "language_info": {
   "codemirror_mode": {
    "name": "ipython",
    "version": 3
   },
   "file_extension": ".py",
   "mimetype": "text/x-python",
   "name": "python",
   "nbconvert_exporter": "python",
   "pygments_lexer": "ipython3",
   "version": "3.11.5"
  }
 },
 "nbformat": 4,
 "nbformat_minor": 5
}
