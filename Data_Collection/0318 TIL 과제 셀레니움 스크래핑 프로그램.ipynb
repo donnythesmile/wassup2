{
 "cells": [
  {
   "cell_type": "code",
   "execution_count": 11,
   "id": "c3fadb27",
   "metadata": {},
   "outputs": [],
   "source": [
    "# TIL과제 : 대한민국 여행사이트에서 페이지를 순환하는 스크래핑 프로그램 만들기 \n",
    "# (페이지 10번까지 해보세요)\n",
    "\n",
    "from selenium import webdriver\n",
    "from selenium.webdriver.common.by import By\n",
    "from selenium.webdriver.chrome.options import Options\n",
    "import math, time\n",
    "\n",
    "options = Options()\n",
    "options.add_argument('--window-size=974,1047')\n",
    "options.add_argument('--window-position=2873,0')\n",
    "options.add_experimental_option(\"detach\", True)\n",
    "\n",
    "\n",
    "search = input('검색어를 입력하세요.')\n",
    "cnt = int(input('크롤링 할 건수는 몇건입니까?: '))\n",
    "page_cnt = math.ceil(cnt / 10) # 크롤링 할 전체 페이지 수 (소숫점 올림)\n",
    "\n",
    "\n",
    "URL = 'https://korean.visitkorea.or.kr/search/search_list.do?keyword='+search\n",
    "\n",
    "driver = webdriver.Chrome(options=options)\n",
    "driver.get(URL)\n",
    "time.sleep(3)\n",
    "\n",
    "\n",
    "# 여행기사 더보기 클릭\n",
    "driver.find_element(By.CSS_SELECTOR, \"#s_recommend > .more_view > a\").click()\n",
    "\n",
    "\n",
    "tit_xpath = '//*[@id=\"search_result\"]/ul/li[*]/div[1]/div[1]/a'\n",
    "no = 0\n",
    "for x in range(1, page_cnt+1):\n",
    "    print(f'========= {x} 페이지 작업 =========')\n",
    "    mylist = driver.find_elements(By.XPATH, tit_xpath)\n",
    "    \n",
    "    for item in mylist:\n",
    "        no += 1\n",
    "        if no > cnt:\n",
    "            break\n",
    "        print(no, item.text)\n",
    "    \n",
    "    if no < cnt:\n",
    "        next_button = driver.find_element(By.CSS_SELECTOR, f\"a[id='{x+1}']\")\n",
    "        driver.execute_script(\"arguments[0].click();\", next_button)\n",
    "        time.sleep(2)\n",
    "print('========= 작업 완료 =========')\n",
    "# driver.close()"
   ]
  }
 ],
 "metadata": {
  "kernelspec": {
   "display_name": "Python 3 (ipykernel)",
   "language": "python",
   "name": "python3"
  },
  "language_info": {
   "codemirror_mode": {
    "name": "ipython",
    "version": 3
   },
   "file_extension": ".py",
   "mimetype": "text/x-python",
   "name": "python",
   "nbconvert_exporter": "python",
   "pygments_lexer": "ipython3",
   "version": "3.11.5"
  }
 },
 "nbformat": 4,
 "nbformat_minor": 5
}
