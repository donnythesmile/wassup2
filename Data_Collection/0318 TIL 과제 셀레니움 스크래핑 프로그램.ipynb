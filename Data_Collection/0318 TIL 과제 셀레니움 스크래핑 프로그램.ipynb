{
 "cells": [
  {
   "cell_type": "code",
   "execution_count": 11,
   "id": "c3fadb27",
   "metadata": {},
   "outputs": [],
   "source": [
    "# TIL과제 : 대한민국 여행사이트에서 페이지를 순환하는 스크래핑 프로그램 만들기 \n",
    "# (페이지 10번까지 해보세요)\n",
    "\n",
    "from selenium import webdriver\n",
    "from selenium.webdriver.common.by import By\n",
    "from selenium.webdriver.chrome.options import Options\n",
    "import math, time\n",
    "\n",
    "options = Options()\n",
    "options.add_argument('--window-size=974,1047')\n",
    "options.add_argument('--window-position=2873,0')\n",
    "options.add_experimental_option(\"detach\", True)\n",
    "\n",
    "\n",
    "search = input('검색어를 입력하세요.')\n",
    "cnt = int(input('크롤링 할 건수는 몇건입니까?: '))\n",
    "page_cnt = math.ceil(cnt / 10) # 크롤링 할 전체 페이지 수 (소숫점 올림)\n",
    "\n",
    "\n",
    "URL = 'https://korean.visitkorea.or.kr/search/search_list.do?keyword='+search\n",
    "\n",
    "driver = webdriver.Chrome(options=options)\n",
    "driver.get(URL)\n",
    "time.sleep(3)\n",
    "\n",
    "\n",
    "# 여행기사 더보기 클릭\n",
    "driver.find_element(By.CSS_SELECTOR, \"#s_recommend > .more_view > a\").click()\n",
    "\n",
    "\n",
    "tit_xpath = '//*[@id=\"search_result\"]/ul/li[*]/div[1]/div[1]/a'\n",
    "no = 0\n",
    "for x in range(1, page_cnt+1):\n",
    "    print(f'========= {x} 페이지 작업 =========')\n",
    "    mylist = driver.find_elements(By.XPATH, tit_xpath)\n",
    "    \n",
    "    for i in mylist:\n",
    "        no += 1 #no는 계속 더해진다\n",
    "        if no > cnt: #no가 cnt보다 크면 더하는걸 멈추라\n",
    "            break\n",
    "        print(no, i.text) #멈췄으면 no와 text를 출력해라\n",
    "   \n",
    "    if no <= cnt: #no가 cnt보다 작거나 같으면\n",
    "        a = f'/html/body/div[3]/div/div[1]/div[14]/a[{x+1}]'\n",
    "        driver.find_element(By.XPATH, a).click()\n",
    "#         next_button = driver.find_element(By.CSS_SELECTOR, f\"a[id='{x+1}']\")\n",
    "#         driver.execute_script(\"arguments[0].click();\", next_button)\n",
    "\n",
    "        time.sleep(2)\n",
    "print('========= 작업 완료 =========')\n",
    "# driver.close()"
   ]
  },
  {
   "cell_type": "code",
   "execution_count": 2,
   "id": "27f9da80",
   "metadata": {},
   "outputs": [
    {
     "name": "stdout",
     "output_type": "stream",
     "text": [
      "검색어를 입력하세요.부산\n"
     ]
    }
   ],
   "source": []
  },
  {
   "cell_type": "code",
   "execution_count": 3,
   "id": "a5718b1c",
   "metadata": {},
   "outputs": [],
   "source": [
    "URL = 'https://korean.visitkorea.or.kr/search/search_list.do?keyword='+search\n",
    "\n",
    "driver = webdriver.Chrome(options=options)\n",
    "driver.get(URL)\n",
    "time.sleep(3)"
   ]
  },
  {
   "cell_type": "code",
   "execution_count": 4,
   "id": "7037d65e",
   "metadata": {},
   "outputs": [],
   "source": [
    "# 여행기사 더보기 클릭\n",
    "# driver.find_element(By.CSS_SELECTOR, \".more_view > a\").click()\n",
    "driver.find_element(By.CSS_SELECTOR, \"#s_recommend > .more_view > a\").click()"
   ]
  },
  {
   "cell_type": "code",
   "execution_count": 6,
   "id": "f6970469",
   "metadata": {},
   "outputs": [],
   "source": [
    "# tit_xpath = '//*[@id=\"search_result\"]/ul/li/div/div/a' # 해당 요소가 하나씩일 때\n",
    "tit_xpath = '//*[@id=\"search_result\"]/ul/li[*]/div[1]/div[1]/a'\n",
    "result = driver.find_elements(By.XPATH, tit_xpath)"
   ]
  },
  {
   "cell_type": "code",
   "execution_count": 7,
   "id": "fb2117c1",
   "metadata": {},
   "outputs": [
    {
     "name": "stdout",
     "output_type": "stream",
     "text": [
      "1 부산 도심에서 가장 빨리 기장의 바다를 만나는 동해선\n",
      "2 붉게 물든 노을이 아름다운, 부산 일몰 명소\n",
      "3 매력적인 공간으로의 여행! #부산\n",
      "4 다시 만난 부산\n",
      "5 나 혼자 간다! 부산 혼행 꿀팁 대방출\n",
      "6 [문화가 있는 날] 추천 문화공간, 부산 이색 데이트 코스\n",
      "7 '바다도시' 부산에서 건진 맛\n",
      "8 석가탄신일에 가 볼 만한 부산 연등축제 사찰 3\n",
      "9 부산의 과거와 현재가 만나는 곳, 산복도로\n",
      "10 뜨끈한 온천과 시원한 맥주의 만남, 부산으로 떠나는 온천 힐링여행\n"
     ]
    }
   ],
   "source": [
    "for i, title in enumerate(result, 1):\n",
    "#     print(i, title.text)\n",
    "    print(i, title.text)"
   ]
  },
  {
   "cell_type": "code",
   "execution_count": 16,
   "id": "55d00848",
   "metadata": {},
   "outputs": [
    {
     "name": "stdout",
     "output_type": "stream",
     "text": [
      "크롤링 할 건수는 몇건입니까?: 12\n"
     ]
    },
    {
     "data": {
      "text/plain": [
       "12"
      ]
     },
     "execution_count": 16,
     "metadata": {},
     "output_type": "execute_result"
    }
   ],
   "source": [
    "cnt = int(input('크롤링 할 건수는 몇건입니까?: '))\n",
    "cnt"
   ]
  },
  {
   "cell_type": "code",
   "execution_count": 17,
   "id": "03fa9b93",
   "metadata": {},
   "outputs": [
    {
     "name": "stdout",
     "output_type": "stream",
     "text": [
      "2\n"
     ]
    }
   ],
   "source": [
    "page_cnt = math.ceil(cnt / 10) # 크롤링 할 전체 페이지 수 (소숫점 올림)\n",
    "print(page_cnt)"
   ]
  },
  {
   "cell_type": "code",
   "execution_count": 18,
   "id": "9990c226",
   "metadata": {},
   "outputs": [
    {
     "name": "stdout",
     "output_type": "stream",
     "text": [
      "========= 1 페이지 작업 =========\n",
      "1 부산 도심에서 가장 빨리 기장의 바다를 만나는 동해선\n",
      "2 붉게 물든 노을이 아름다운, 부산 일몰 명소\n",
      "3 매력적인 공간으로의 여행! #부산\n",
      "4 다시 만난 부산\n",
      "5 나 혼자 간다! 부산 혼행 꿀팁 대방출\n",
      "6 [문화가 있는 날] 추천 문화공간, 부산 이색 데이트 코스\n",
      "7 '바다도시' 부산에서 건진 맛\n",
      "8 석가탄신일에 가 볼 만한 부산 연등축제 사찰 3\n",
      "9 부산의 과거와 현재가 만나는 곳, 산복도로\n",
      "10 뜨끈한 온천과 시원한 맥주의 만남, 부산으로 떠나는 온천 힐링여행\n",
      "========= 2 페이지 작업 =========\n",
      "11 [더가게 함께가게] 영화보다 더 영화같은 부산의 장인 맛집 : S#3 부산행\n",
      "12 점보버스 타고 떠나는 부산 시티투어\n",
      "========= 작업 완료 =========\n"
     ]
    }
   ],
   "source": [
    "tit_xpath = '//*[@id=\"search_result\"]/ul/li[*]/div[1]/div[1]/a'\n",
    "no = 0\n",
    "for x in range(1, page_cnt+1):\n",
    "    print(f'========= {x} 페이지 작업 =========')\n",
    "    mylist = driver.find_elements(By.XPATH, tit_xpath)\n",
    "    \n",
    "    for item in mylist:\n",
    "        no += 1 #no는 계속 더해진다\n",
    "        if no > cnt: #no가 cnt보다 크면 더하는걸 멈추라\n",
    "            break\n",
    "        print(no, item.text) #멈췄으면 no와 text를 출력해라\n",
    "   \n",
    "    if no <= cnt: #no가 cnt보다 작거나 같으면\n",
    "        a = f'/html/body/div[3]/div/div[1]/div[14]/a[{x+1}]'\n",
    "        driver.find_element(By.XPATH, a).click()\n",
    "#         next_button = driver.find_element(By.CSS_SELECTOR, f\"a[id='{x+1}']\")\n",
    "#         driver.execute_script(\"arguments[0].click();\", next_button)\n",
    "\n",
    "        time.sleep(2)\n",
    "print('========= 작업 완료 =========')\n",
    "# driver.close()"
   ]
  },
  {
   "cell_type": "code",
   "execution_count": 19,
   "id": "33647202",
   "metadata": {},
   "outputs": [
    {
     "ename": "IndexError",
     "evalue": "list index out of range",
     "output_type": "error",
     "traceback": [
      "\u001b[1;31m---------------------------------------------------------------------------\u001b[0m",
      "\u001b[1;31mIndexError\u001b[0m                                Traceback (most recent call last)",
      "Cell \u001b[1;32mIn[19], line 2\u001b[0m\n\u001b[0;32m      1\u001b[0m contents \u001b[38;5;241m=\u001b[39m driver\u001b[38;5;241m.\u001b[39mfind_elements(By\u001b[38;5;241m.\u001b[39mCLASS_NAME, \u001b[38;5;124m'\u001b[39m\u001b[38;5;124mtxt_p\u001b[39m\u001b[38;5;124m'\u001b[39m)\n\u001b[1;32m----> 2\u001b[0m \u001b[38;5;28mprint\u001b[39m(contents[\u001b[38;5;241m0\u001b[39m]\u001b[38;5;241m.\u001b[39mtext)\n\u001b[0;32m      3\u001b[0m \u001b[38;5;28mprint\u001b[39m(contents)\n",
      "\u001b[1;31mIndexError\u001b[0m: list index out of range"
     ]
    }
   ],
   "source": [
    "contents = driver.find_elements(By.CLASS_NAME, 'txt_p')\n",
    "print(contents[0].text)\n",
    "print(contents)"
   ]
  },
  {
   "cell_type": "code",
   "execution_count": null,
   "id": "dff87008",
   "metadata": {},
   "outputs": [],
   "source": []
  }
 ],
 "metadata": {
  "kernelspec": {
   "display_name": "Python 3 (ipykernel)",
   "language": "python",
   "name": "python3"
  },
  "language_info": {
   "codemirror_mode": {
    "name": "ipython",
    "version": 3
   },
   "file_extension": ".py",
   "mimetype": "text/x-python",
   "name": "python",
   "nbconvert_exporter": "python",
   "pygments_lexer": "ipython3",
   "version": "3.11.5"
  }
 },
 "nbformat": 4,
 "nbformat_minor": 5
}
