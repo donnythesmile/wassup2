{
 "cells": [
  {
   "cell_type": "code",
   "execution_count": null,
   "id": "e4603618",
   "metadata": {},
   "outputs": [],
   "source": [
    "# lambda 사용\n",
    "titanic[\"adult/child\"] = titanic.apply(lambda r: \"adult\" if r.age >= 20 else \"child\", axis=1)\n",
    "# 리스트 컴프리헨션 사용\n",
    "titanic[\"adult/child_2\"] = ['adult' if x >=20 else 'child'  for x in titanic['age']]"
   ]
  },
  {
   "cell_type": "code",
   "execution_count": null,
   "id": "f2a61fd2",
   "metadata": {},
   "outputs": [],
   "source": [
    "# lambda 사용\n",
    "titanic[\"category1\"] = titanic.apply(lambda r: r.sex if r.age >= 20 else \"child\", axis=1)\n",
    "# 리스트 컴프리헨션 사용\n",
    "titanic['category1_2'] = [x if y >=20 else 'child' for x, y in zip(titanic['sex'], titanic['age'])]"
   ]
  },
  {
   "cell_type": "code",
   "execution_count": null,
   "id": "64dd8eff",
   "metadata": {},
   "outputs": [],
   "source": [
    "보너스 과제\n",
    "연습문제 마지막 lambda문 리스트 컴프리헨션으로 만들어보기\n",
    "\n",
    "마지막 연습문제 리스트컴프리헨션 변환 힌트\n",
    "[] 리스트 안에 if else문 2개, for x, y, z in zip(칼럼 세개)\n",
    "\n",
    "zfill\n",
    "fill <-\n",
    "isnull 은 isna와 같을까요?\n",
    "\n",
    "isnull == isna\n",
    "fillna != fillnull(존재하지않는메서드)\n",
    "\n",
    "null과 na는 혼용해서 쓰이기도 하지만\n",
    "null이나, na 하나만 쓰이는 함수도 있어요"
   ]
  },
  {
   "cell_type": "code",
   "execution_count": null,
   "id": "ed051f78",
   "metadata": {},
   "outputs": [],
   "source": []
  }
 ],
 "metadata": {
  "kernelspec": {
   "display_name": "Python 3 (ipykernel)",
   "language": "python",
   "name": "python3"
  },
  "language_info": {
   "codemirror_mode": {
    "name": "ipython",
    "version": 3
   },
   "file_extension": ".py",
   "mimetype": "text/x-python",
   "name": "python",
   "nbconvert_exporter": "python",
   "pygments_lexer": "ipython3",
   "version": "3.11.5"
  }
 },
 "nbformat": 4,
 "nbformat_minor": 5
}
