{
 "cells": [
  {
   "cell_type": "code",
   "execution_count": 14,
   "id": "4752ec6e",
   "metadata": {},
   "outputs": [
    {
     "name": "stdout",
     "output_type": "stream",
     "text": [
      "123\n",
      "-178\n",
      "0\n"
     ]
    }
   ],
   "source": [
    "#정수형\n",
    "a = 123\n",
    "print(a)\n",
    "a = -178\n",
    "print(a)\n",
    "a = 0\n",
    "print(a)"
   ]
  },
  {
   "cell_type": "code",
   "execution_count": 15,
   "id": "fa08dac2",
   "metadata": {},
   "outputs": [
    {
     "name": "stdout",
     "output_type": "stream",
     "text": [
      "1.2\n",
      "-3.45\n",
      "42400000000.0\n",
      "4.24e-10\n"
     ]
    }
   ],
   "source": [
    "#실수형\n",
    "a = 1.2\n",
    "print(a)\n",
    "a = -3.45\n",
    "print(a)\n",
    "a = 4.24E10\n",
    "print(a)\n",
    "a = 4.24e-10\n",
    "print(a)"
   ]
  },
  {
   "cell_type": "code",
   "execution_count": 11,
   "id": "e8f84535",
   "metadata": {},
   "outputs": [
    {
     "name": "stdout",
     "output_type": "stream",
     "text": [
      "127\n"
     ]
    }
   ],
   "source": [
    "#8진수\n",
    "a = 0o177\n",
    "print(a)"
   ]
  },
  {
   "cell_type": "code",
   "execution_count": 13,
   "id": "6e2be692",
   "metadata": {},
   "outputs": [
    {
     "name": "stdout",
     "output_type": "stream",
     "text": [
      "2303 2748\n"
     ]
    }
   ],
   "source": [
    "#16진수\n",
    "a = 0x8ff\n",
    "b = 0xABC\n",
    "print(a, b)"
   ]
  },
  {
   "cell_type": "code",
   "execution_count": 16,
   "id": "7561b918",
   "metadata": {},
   "outputs": [
    {
     "name": "stdout",
     "output_type": "stream",
     "text": [
      "7\n",
      "-1\n",
      "12\n",
      "0.75\n"
     ]
    }
   ],
   "source": [
    "#사칙연산\n",
    "a = 3\n",
    "b = 4\n",
    "print(a + b)\n",
    "print(a - b)\n",
    "print(a * b)\n",
    "print(a / b)"
   ]
  },
  {
   "cell_type": "code",
   "execution_count": 18,
   "id": "a0dece6b",
   "metadata": {},
   "outputs": [
    {
     "name": "stdout",
     "output_type": "stream",
     "text": [
      "81\n"
     ]
    }
   ],
   "source": [
    "#a의 b제곱은 a**b\n",
    "a=3\n",
    "b=4\n",
    "print(a ** b)"
   ]
  },
  {
   "cell_type": "code",
   "execution_count": 19,
   "id": "3c7f2330",
   "metadata": {},
   "outputs": [
    {
     "name": "stdout",
     "output_type": "stream",
     "text": [
      "3\n",
      "1\n"
     ]
    }
   ],
   "source": [
    "#나눗셈 후 나머지를 리턴하는 연산자 %\n",
    "a=3\n",
    "b=7\n",
    "\n",
    "print(a%b)\n",
    "print(b%a)"
   ]
  },
  {
   "cell_type": "code",
   "execution_count": 20,
   "id": "d4b8b919",
   "metadata": {},
   "outputs": [
    {
     "name": "stdout",
     "output_type": "stream",
     "text": [
      "0\n",
      "2\n"
     ]
    }
   ],
   "source": [
    "#나눗셈 후 몫을 리턴하는 연산자 //\n",
    "a=3\n",
    "b=7\n",
    "\n",
    "print(a//b)\n",
    "print(b//a)"
   ]
  },
  {
   "cell_type": "code",
   "execution_count": 28,
   "id": "4f324475",
   "metadata": {},
   "outputs": [
    {
     "name": "stdout",
     "output_type": "stream",
     "text": [
      "Hello world\n",
      "Hello donny\n",
      "hello\n"
     ]
    }
   ],
   "source": [
    "#큰따옴표로 양쪽 둘러싸기\n",
    "print(\"Hello world\")\n",
    "print('Hello donny')\n",
    "print('''hello''')\n",
    "#따옴표없이 hello world 치면 오류 -> 자료형이 없으니까!"
   ]
  },
  {
   "cell_type": "code",
   "execution_count": 38,
   "id": "309e0368",
   "metadata": {},
   "outputs": [
    {
     "name": "stdout",
     "output_type": "stream",
     "text": [
      "Python's favorite food is perl\n",
      "그가 말했다\"나는 바보야\"\n",
      "그가 말했다\"나는 바보야\" \n"
     ]
    }
   ],
   "source": [
    "#문자열 안에 작은따옴표나 큰따옴표를 포함시키고 싶을 때\n",
    "\n",
    "# 'Python's favorite food is perl' <- 홑따옴표로는 절대 못묶음 쌍따옴표로 묶어야함\n",
    "print(\"Python's favorite food is perl\")\n",
    "\n",
    "# \"그가 말했다\"나는 바보야\"\" <-쌍따옴표로도 절대 못묶음 \n",
    "# 작은따옴표 3개 or 1개로 묶어야함\n",
    "print('그가 말했다\"나는 바보야\"')\n",
    "print('''그가 말했다\"나는 바보야\" ''' )"
   ]
  },
  {
   "cell_type": "code",
   "execution_count": 39,
   "id": "2150d140",
   "metadata": {},
   "outputs": [
    {
     "name": "stdout",
     "output_type": "stream",
     "text": [
      "Life is too short\n",
      "You need python\n"
     ]
    }
   ],
   "source": [
    "#줄을 바꾸기 위한 이스케이프 코드 \\n 삽입하기\n",
    "\n",
    "print(\"Life is too short\\nYou need python\")"
   ]
  },
  {
   "cell_type": "code",
   "execution_count": 43,
   "id": "dc6e4b55",
   "metadata": {},
   "outputs": [
    {
     "name": "stdout",
     "output_type": "stream",
     "text": [
      "\n",
      "Life is too short\n",
      "You need python\n",
      "\n"
     ]
    }
   ],
   "source": [
    "# 연속된 작은따옴표 3개 또는 큰따옴표 3개 사용하면 자동 줄바꿈이 가능하다\n",
    "\n",
    "print(\"\"\"\n",
    "Life is too short\n",
    "You need python\n",
    "\"\"\")"
   ]
  }
 ],
 "metadata": {
  "kernelspec": {
   "display_name": "Python 3 (ipykernel)",
   "language": "python",
   "name": "python3"
  },
  "language_info": {
   "codemirror_mode": {
    "name": "ipython",
    "version": 3
   },
   "file_extension": ".py",
   "mimetype": "text/x-python",
   "name": "python",
   "nbconvert_exporter": "python",
   "pygments_lexer": "ipython3",
   "version": "3.11.5"
  }
 },
 "nbformat": 4,
 "nbformat_minor": 5
}
