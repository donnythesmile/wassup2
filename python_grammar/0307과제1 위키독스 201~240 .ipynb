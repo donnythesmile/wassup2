{
 "cells": [
  {
   "cell_type": "code",
   "execution_count": 3,
   "id": "0dcf7def",
   "metadata": {},
   "outputs": [
    {
     "name": "stdout",
     "output_type": "stream",
     "text": [
      "비트코인\n"
     ]
    }
   ],
   "source": [
    "#201\n",
    "def print_coin():\n",
    "    print(\"비트코인\")\n",
    "    \n",
    "print_coin()"
   ]
  },
  {
   "cell_type": "code",
   "execution_count": null,
   "id": "ed9fbedb",
   "metadata": {},
   "outputs": [],
   "source": [
    "#202\n",
    "def print_coin():\n",
    "    print(\"비트코인\")\n",
    "    \n",
    "print_coin()"
   ]
  },
  {
   "cell_type": "code",
   "execution_count": 4,
   "id": "d79a10bf",
   "metadata": {},
   "outputs": [
    {
     "name": "stdout",
     "output_type": "stream",
     "text": [
      "비트코인\n",
      "비트코인\n",
      "비트코인\n",
      "비트코인\n",
      "비트코인\n",
      "비트코인\n",
      "비트코인\n",
      "비트코인\n",
      "비트코인\n",
      "비트코인\n",
      "비트코인\n",
      "비트코인\n",
      "비트코인\n",
      "비트코인\n",
      "비트코인\n",
      "비트코인\n",
      "비트코인\n",
      "비트코인\n",
      "비트코인\n",
      "비트코인\n",
      "비트코인\n",
      "비트코인\n",
      "비트코인\n",
      "비트코인\n",
      "비트코인\n",
      "비트코인\n",
      "비트코인\n",
      "비트코인\n",
      "비트코인\n",
      "비트코인\n",
      "비트코인\n",
      "비트코인\n",
      "비트코인\n",
      "비트코인\n",
      "비트코인\n",
      "비트코인\n",
      "비트코인\n",
      "비트코인\n",
      "비트코인\n",
      "비트코인\n",
      "비트코인\n",
      "비트코인\n",
      "비트코인\n",
      "비트코인\n",
      "비트코인\n",
      "비트코인\n",
      "비트코인\n",
      "비트코인\n",
      "비트코인\n",
      "비트코인\n",
      "비트코인\n",
      "비트코인\n",
      "비트코인\n",
      "비트코인\n",
      "비트코인\n",
      "비트코인\n",
      "비트코인\n",
      "비트코인\n",
      "비트코인\n",
      "비트코인\n",
      "비트코인\n",
      "비트코인\n",
      "비트코인\n",
      "비트코인\n",
      "비트코인\n",
      "비트코인\n",
      "비트코인\n",
      "비트코인\n",
      "비트코인\n",
      "비트코인\n",
      "비트코인\n",
      "비트코인\n",
      "비트코인\n",
      "비트코인\n",
      "비트코인\n",
      "비트코인\n",
      "비트코인\n",
      "비트코인\n",
      "비트코인\n",
      "비트코인\n",
      "비트코인\n",
      "비트코인\n",
      "비트코인\n",
      "비트코인\n",
      "비트코인\n",
      "비트코인\n",
      "비트코인\n",
      "비트코인\n",
      "비트코인\n",
      "비트코인\n",
      "비트코인\n",
      "비트코인\n",
      "비트코인\n",
      "비트코인\n",
      "비트코인\n",
      "비트코인\n",
      "비트코인\n",
      "비트코인\n",
      "비트코인\n",
      "비트코인\n"
     ]
    }
   ],
   "source": [
    "#203\n",
    "def print_coin():\n",
    "    print(\"비트코인\")\n",
    "i=1\n",
    "while i<101:\n",
    "    i+=1\n",
    "    print_coin()"
   ]
  },
  {
   "cell_type": "code",
   "execution_count": 5,
   "id": "898e3ec5",
   "metadata": {},
   "outputs": [],
   "source": [
    "#204\n",
    "def print_coins():\n",
    "    for i in range(100):\n",
    "        print(\"비트코인\")"
   ]
  },
  {
   "cell_type": "code",
   "execution_count": null,
   "id": "1d9c930d",
   "metadata": {},
   "outputs": [],
   "source": [
    "#205\n",
    "#답 : 함수선언보다 함수사용이 더 위에 있기 때문이다. 함수를 먼저 정의하고 함수를 사용해야한다."
   ]
  },
  {
   "cell_type": "code",
   "execution_count": 7,
   "id": "3a2319a9",
   "metadata": {},
   "outputs": [
    {
     "data": {
      "text/plain": [
       "'\\n답:\\nA\\nB\\nC\\nA\\nB\\n'"
      ]
     },
     "execution_count": 7,
     "metadata": {},
     "output_type": "execute_result"
    }
   ],
   "source": [
    "#206\n",
    "\"\"\"\n",
    "답:\n",
    "A\n",
    "B\n",
    "C\n",
    "A\n",
    "B\n",
    "\"\"\""
   ]
  },
  {
   "cell_type": "code",
   "execution_count": null,
   "id": "9d803957",
   "metadata": {},
   "outputs": [],
   "source": [
    "#207\n",
    "\"\"\"\n",
    "A\n",
    "C\n",
    "B\n",
    "\"\"\""
   ]
  },
  {
   "cell_type": "code",
   "execution_count": null,
   "id": "24fc2a77",
   "metadata": {},
   "outputs": [],
   "source": [
    "#208\n",
    "'''\n",
    "A\n",
    "C\n",
    "B\n",
    "E\n",
    "D\n",
    "'''"
   ]
  },
  {
   "cell_type": "code",
   "execution_count": null,
   "id": "114362a2",
   "metadata": {},
   "outputs": [],
   "source": [
    "#209\n",
    "'''\n",
    "B\n",
    "A\n",
    "'''"
   ]
  },
  {
   "cell_type": "code",
   "execution_count": null,
   "id": "ec8a3e14",
   "metadata": {},
   "outputs": [],
   "source": [
    "#210\n",
    "'''\n",
    "B\n",
    "C\n",
    "B\n",
    "C\n",
    "B\n",
    "C\n",
    "A\n",
    "'''"
   ]
  },
  {
   "cell_type": "code",
   "execution_count": null,
   "id": "4c6071ee",
   "metadata": {},
   "outputs": [],
   "source": [
    "#211\n",
    "'''\n",
    "안녕\n",
    "Hi\n",
    "'''"
   ]
  },
  {
   "cell_type": "code",
   "execution_count": null,
   "id": "c8250e80",
   "metadata": {},
   "outputs": [],
   "source": [
    "#212\n",
    "'''\n",
    "7\n",
    "15\n",
    "'''"
   ]
  },
  {
   "cell_type": "code",
   "execution_count": 13,
   "id": "813d0b34",
   "metadata": {},
   "outputs": [
    {
     "ename": "TypeError",
     "evalue": "함수() missing 1 required positional argument: '문자열'",
     "output_type": "error",
     "traceback": [
      "\u001b[1;31m---------------------------------------------------------------------------\u001b[0m",
      "\u001b[1;31mTypeError\u001b[0m                                 Traceback (most recent call last)",
      "Cell \u001b[1;32mIn[13], line 4\u001b[0m\n\u001b[0;32m      2\u001b[0m \u001b[38;5;28;01mdef\u001b[39;00m \u001b[38;5;21m함수\u001b[39m(문자열) :\n\u001b[0;32m      3\u001b[0m     \u001b[38;5;28mprint\u001b[39m(문자열)\n\u001b[1;32m----> 4\u001b[0m 함수()\n",
      "\u001b[1;31mTypeError\u001b[0m: 함수() missing 1 required positional argument: '문자열'"
     ]
    }
   ],
   "source": [
    "#213\n",
    "def 함수(문자열) :\n",
    "    print(문자열)\n",
    "함수()\n",
    "#답 : 정의 된 함수는 괄호 사이에 문자열을 입력해야 출력할 수 있는데, 함수를 꺼내쓸때 괄호안을 공백으로 두었다."
   ]
  },
  {
   "cell_type": "code",
   "execution_count": null,
   "id": "71cd0259",
   "metadata": {},
   "outputs": [],
   "source": [
    "#214\n",
    "#답 : 정의 된 함수에서는 두개의 숫자값을 받아 상호작용하도록 설게되었으나, 함수를 꺼내쓸때 하나의 매개변수가 문자열타입을 가지고 있다."
   ]
  },
  {
   "cell_type": "code",
   "execution_count": 9,
   "id": "bdb1b3cd",
   "metadata": {},
   "outputs": [
    {
     "name": "stdout",
     "output_type": "stream",
     "text": [
      "하이:D\n"
     ]
    }
   ],
   "source": [
    "#215\n",
    "def print_with_smile(문자열):\n",
    "    print(문자열+\":D\")\n",
    "    \n",
    "print_with_smile(\"하이\")"
   ]
  },
  {
   "cell_type": "code",
   "execution_count": 10,
   "id": "a4c41d05",
   "metadata": {},
   "outputs": [
    {
     "name": "stdout",
     "output_type": "stream",
     "text": [
      "안녕하세요:D\n"
     ]
    }
   ],
   "source": [
    "#216\n",
    "print_with_smile(\"안녕하세요\")"
   ]
  },
  {
   "cell_type": "code",
   "execution_count": 11,
   "id": "493cb476",
   "metadata": {},
   "outputs": [
    {
     "name": "stdout",
     "output_type": "stream",
     "text": [
      "39.0\n"
     ]
    }
   ],
   "source": [
    "#217\n",
    "def print_upper_price(a):\n",
    "    print(a*1.3)\n",
    "print_upper_price(30)"
   ]
  },
  {
   "cell_type": "code",
   "execution_count": 14,
   "id": "364694c9",
   "metadata": {},
   "outputs": [
    {
     "name": "stdout",
     "output_type": "stream",
     "text": [
      "4\n"
     ]
    }
   ],
   "source": [
    "#218\n",
    "def print_sum(a,b):\n",
    "    print(a+b)\n",
    "print_sum(1,3)"
   ]
  },
  {
   "cell_type": "code",
   "execution_count": 16,
   "id": "d550e53d",
   "metadata": {},
   "outputs": [
    {
     "name": "stdout",
     "output_type": "stream",
     "text": [
      "4\n",
      "0\n",
      "4\n",
      "1.0\n"
     ]
    }
   ],
   "source": [
    "#219\n",
    "def print_arithmetic_operation(a,b):\n",
    "    print(a+b)\n",
    "    print(a-b)\n",
    "    print(a*b)\n",
    "    print(a/b)\n",
    "print_arithmetic_operation(2,2)"
   ]
  },
  {
   "cell_type": "code",
   "execution_count": 17,
   "id": "ce6115ac",
   "metadata": {},
   "outputs": [
    {
     "name": "stdout",
     "output_type": "stream",
     "text": [
      "3\n"
     ]
    }
   ],
   "source": [
    "#220\n",
    "def print_max(a,b,c):\n",
    "    if a>b :\n",
    "        if a>c :\n",
    "            print(a)\n",
    "        else :\n",
    "            print(c)\n",
    "    else :\n",
    "        if b>c :\n",
    "            print(b)\n",
    "        else :\n",
    "            print(c)\n",
    "print_max(1,2,3)\n",
    "        "
   ]
  },
  {
   "cell_type": "code",
   "execution_count": 23,
   "id": "13c4b349",
   "metadata": {},
   "outputs": [
    {
     "name": "stdout",
     "output_type": "stream",
     "text": [
      "요는나\n"
     ]
    }
   ],
   "source": [
    "#221\n",
    "def print_reverse(string):\n",
    "        print(string[::-1])\n",
    "print_reverse(\"나는요\")"
   ]
  },
  {
   "cell_type": "code",
   "execution_count": 25,
   "id": "b7cc6b09",
   "metadata": {},
   "outputs": [
    {
     "name": "stdout",
     "output_type": "stream",
     "text": [
      "2.5\n"
     ]
    }
   ],
   "source": [
    "#222 -\n",
    "def print_score(slist):\n",
    "    print(sum(slist)/len(slist))\n",
    "    \n",
    "print_score([1,2,3,4])"
   ]
  },
  {
   "cell_type": "code",
   "execution_count": 29,
   "id": "d57f61d7",
   "metadata": {},
   "outputs": [
    {
     "name": "stdout",
     "output_type": "stream",
     "text": [
      "2\n",
      "4\n"
     ]
    }
   ],
   "source": [
    "#223 -\n",
    "def pe(elist):\n",
    "    for i in elist:\n",
    "        if i%2==0:\n",
    "            print(i)\n",
    "pe([1,2,3,4])"
   ]
  },
  {
   "cell_type": "code",
   "execution_count": 3,
   "id": "0d13ba64",
   "metadata": {},
   "outputs": [
    {
     "name": "stdout",
     "output_type": "stream",
     "text": [
      "이름\n",
      "나이\n",
      "성별\n"
     ]
    }
   ],
   "source": [
    "#224\n",
    "def pk(kdic):\n",
    "    for i in kdic.keys():\n",
    "        print(i)\n",
    "    \n",
    "pk({\"이름\":\"김말똥\",\"나이\":30, \"성별\":0})"
   ]
  },
  {
   "cell_type": "code",
   "execution_count": 14,
   "id": "07ee8194",
   "metadata": {},
   "outputs": [
    {
     "name": "stdout",
     "output_type": "stream",
     "text": [
      "[100, 130, 100, 100]\n"
     ]
    }
   ],
   "source": [
    "#225 -\n",
    "my_dict = {\"10/26\" : [100, 130, 100, 100],\n",
    "           \"10/27\" : [10, 12, 10, 11]}\n",
    "\n",
    "def pvbk(my_dict,key):\n",
    "    print(my_dict[key])\n",
    "        \n",
    "pvbk(my_dict,\"10/26\")"
   ]
  },
  {
   "cell_type": "code",
   "execution_count": 16,
   "id": "7292e21c",
   "metadata": {},
   "outputs": [
    {
     "name": "stdout",
     "output_type": "stream",
     "text": [
      "아이엠어보\n",
      "이유알어걸\n",
      "\n"
     ]
    }
   ],
   "source": [
    "#226 -\n",
    "def print_5xn(line):\n",
    "    chunk_num = int(len(line) / 5)\n",
    "    for x in range(chunk_num + 1) :\n",
    "        print(line[x * 5: x * 5 + 5])\n",
    "print_5xn(\"아이엠어보이유알어걸\")\n"
   ]
  },
  {
   "cell_type": "code",
   "execution_count": 19,
   "id": "4366d0b5",
   "metadata": {},
   "outputs": [
    {
     "name": "stdout",
     "output_type": "stream",
     "text": [
      "아이엠\n",
      "어보이\n",
      "유알어\n",
      "걸\n"
     ]
    }
   ],
   "source": [
    "#227\n",
    "def print_mxn(line, num):\n",
    "    chunk_num = int(len(line) / num)\n",
    "    for x in range(chunk_num + 1) :\n",
    "        print(line[x * num: x * num + num])\n",
    "print_mxn(\"아이엠어보이유알어걸\", 3)\n"
   ]
  },
  {
   "cell_type": "code",
   "execution_count": 20,
   "id": "73a71493",
   "metadata": {},
   "outputs": [
    {
     "data": {
      "text/plain": [
       "1000000"
      ]
     },
     "execution_count": 20,
     "metadata": {},
     "output_type": "execute_result"
    }
   ],
   "source": [
    "#228\n",
    "def calc_monthly_salary(annual_pay) :\n",
    "    monthly_pay = int(annual_pay / 12)\n",
    "    return monthly_pay\n",
    "calc_monthly_salary(12000000)\n"
   ]
  },
  {
   "cell_type": "code",
   "execution_count": null,
   "id": "c955eed5",
   "metadata": {},
   "outputs": [],
   "source": [
    "#229\n",
    "'''\n",
    "왼쪽: 100\n",
    "오른쪽: 200\n",
    "'''"
   ]
  },
  {
   "cell_type": "code",
   "execution_count": null,
   "id": "d507f488",
   "metadata": {},
   "outputs": [],
   "source": [
    "#230\n",
    "'''\n",
    "왼쪽: 200\n",
    "오른쪽: 100\n",
    "'''"
   ]
  },
  {
   "cell_type": "code",
   "execution_count": null,
   "id": "b83742da",
   "metadata": {},
   "outputs": [],
   "source": [
    "#231\n",
    "#답 : 에러가 발생한다. 지역변수는 global환경에서 동작하지않는다."
   ]
  },
  {
   "cell_type": "code",
   "execution_count": 4,
   "id": "2ea6ff1f",
   "metadata": {},
   "outputs": [
    {
     "name": "stdout",
     "output_type": "stream",
     "text": [
      "www.naver.com\n"
     ]
    }
   ],
   "source": [
    "#232\n",
    "def mu(list1):\n",
    "    print(\"www.\"+list1+\".com\")\n",
    "    \n",
    "mu(\"naver\")"
   ]
  },
  {
   "cell_type": "code",
   "execution_count": 1,
   "id": "7f7f489b",
   "metadata": {},
   "outputs": [
    {
     "name": "stdout",
     "output_type": "stream",
     "text": [
      "['a', 'b', 'c', '1', '2', '3']\n"
     ]
    }
   ],
   "source": [
    "#233\n",
    "\n",
    "def ml(string):\n",
    "    list1 = []\n",
    "    for i in string :\n",
    "        list1.append(i)\n",
    "    print(list1)\n",
    "\n",
    "ml(\"abc123\")\n",
    "    "
   ]
  },
  {
   "cell_type": "code",
   "execution_count": 5,
   "id": "be7331b5",
   "metadata": {},
   "outputs": [
    {
     "name": "stdout",
     "output_type": "stream",
     "text": [
      "[2, 4, 6]\n"
     ]
    }
   ],
   "source": [
    "#234\n",
    "def pe(item):\n",
    "    list1 = []\n",
    "    for i in item :\n",
    "        if i%2==0:\n",
    "            list1.append(i)\n",
    "    print(list1)\n",
    "\n",
    "pe([1,2,3,4,5,6])"
   ]
  },
  {
   "cell_type": "code",
   "execution_count": 8,
   "id": "2f27dcbc",
   "metadata": {},
   "outputs": [
    {
     "name": "stdout",
     "output_type": "stream",
     "text": [
      "1234567 <class 'int'>\n"
     ]
    }
   ],
   "source": [
    "#235\n",
    "def ci(string):\n",
    "    return int(string.replace(',',''))\n",
    "\n",
    "x=ci(\"1,234,567\")\n",
    "print(x,type(x))    "
   ]
  },
  {
   "cell_type": "code",
   "execution_count": null,
   "id": "a3d1f10a",
   "metadata": {},
   "outputs": [],
   "source": [
    "#236\n",
    "#답 : 22"
   ]
  },
  {
   "cell_type": "code",
   "execution_count": null,
   "id": "01ac7947",
   "metadata": {},
   "outputs": [],
   "source": [
    "#237\n",
    "#답 : 22"
   ]
  },
  {
   "cell_type": "code",
   "execution_count": null,
   "id": "913c66d9",
   "metadata": {},
   "outputs": [],
   "source": [
    "#238\n",
    "#답 : 140"
   ]
  },
  {
   "cell_type": "code",
   "execution_count": null,
   "id": "baccd290",
   "metadata": {},
   "outputs": [],
   "source": [
    "#239\n",
    "#답 : 16"
   ]
  },
  {
   "cell_type": "code",
   "execution_count": null,
   "id": "3d713164",
   "metadata": {},
   "outputs": [],
   "source": [
    "#240\n",
    "#답 : 28"
   ]
  }
 ],
 "metadata": {
  "kernelspec": {
   "display_name": "Python 3 (ipykernel)",
   "language": "python",
   "name": "python3"
  },
  "language_info": {
   "codemirror_mode": {
    "name": "ipython",
    "version": 3
   },
   "file_extension": ".py",
   "mimetype": "text/x-python",
   "name": "python",
   "nbconvert_exporter": "python",
   "pygments_lexer": "ipython3",
   "version": "3.11.5"
  }
 },
 "nbformat": 4,
 "nbformat_minor": 5
}
