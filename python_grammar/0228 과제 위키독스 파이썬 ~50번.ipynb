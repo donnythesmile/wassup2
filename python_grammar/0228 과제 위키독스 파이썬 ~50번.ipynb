{
 "cells": [
  {
   "cell_type": "code",
   "execution_count": 2,
   "id": "9428fa37",
   "metadata": {},
   "outputs": [
    {
     "name": "stdout",
     "output_type": "stream",
     "text": [
      "Hello World\n"
     ]
    }
   ],
   "source": [
    "# 1\n",
    "print(\"Hello World\")"
   ]
  },
  {
   "cell_type": "code",
   "execution_count": 3,
   "id": "67cbd7df",
   "metadata": {},
   "outputs": [
    {
     "name": "stdout",
     "output_type": "stream",
     "text": [
      "Mary's cosmetics\n"
     ]
    }
   ],
   "source": [
    "# 2\n",
    "print(\"Mary's cosmetics\")"
   ]
  },
  {
   "cell_type": "code",
   "execution_count": 5,
   "id": "02ccd583",
   "metadata": {},
   "outputs": [
    {
     "name": "stdout",
     "output_type": "stream",
     "text": [
      "신씨가 소리질렀다.\"도둑이야\".\n"
     ]
    }
   ],
   "source": [
    "# 3\n",
    "print('신씨가 소리질렀다.\"도둑이야\".')"
   ]
  },
  {
   "cell_type": "code",
   "execution_count": 9,
   "id": "c7981146",
   "metadata": {},
   "outputs": [
    {
     "name": "stdout",
     "output_type": "stream",
     "text": [
      "C:\\Windows\n"
     ]
    }
   ],
   "source": [
    "# 4\n",
    "print(\"C:\\Windows\")"
   ]
  },
  {
   "cell_type": "code",
   "execution_count": 11,
   "id": "9d5d50ea",
   "metadata": {},
   "outputs": [
    {
     "name": "stdout",
     "output_type": "stream",
     "text": [
      "안녕하세요.\n",
      "만나서\t\t반갑습니다.\n"
     ]
    }
   ],
   "source": [
    "# 5\n",
    "print(\"안녕하세요.\\n만나서\\t\\t반갑습니다.\")\n",
    "\n",
    "#설명 : \\n은 줄바꿈 기능이고 \\t는 간격늘림(탭) 기능이다."
   ]
  },
  {
   "cell_type": "code",
   "execution_count": 17,
   "id": "d71934d4",
   "metadata": {},
   "outputs": [
    {
     "name": "stdout",
     "output_type": "stream",
     "text": [
      "오늘은 일요일\n"
     ]
    }
   ],
   "source": [
    "# 6\n",
    "print(\"오늘은\",\"일요일\")\n",
    "#예상 오늘은 일요일"
   ]
  },
  {
   "cell_type": "code",
   "execution_count": 13,
   "id": "a5662ea7",
   "metadata": {},
   "outputs": [
    {
     "name": "stdout",
     "output_type": "stream",
     "text": [
      "naver;kakao;sk;samsung\n",
      "naver;kakao;sk;samsung\n"
     ]
    }
   ],
   "source": [
    "# 7\n",
    "print(\"naver;kakao;sk;samsung\")\n",
    "print(\"naver\",\"kakao\",\"sk\",\"samsung\",sep=\";\")"
   ]
  },
  {
   "cell_type": "code",
   "execution_count": 14,
   "id": "878e9a61",
   "metadata": {},
   "outputs": [
    {
     "name": "stdout",
     "output_type": "stream",
     "text": [
      "naver/kakao/sk/samsung\n"
     ]
    }
   ],
   "source": [
    "# 8\n",
    "print(\"naver\",\"kakao\",\"sk\",\"samsung\",sep=\"/\")"
   ]
  },
  {
   "cell_type": "code",
   "execution_count": 18,
   "id": "1ca5d015",
   "metadata": {},
   "outputs": [
    {
     "name": "stdout",
     "output_type": "stream",
     "text": [
      "firstsecond\n"
     ]
    }
   ],
   "source": [
    "# 9 -\n",
    "print(\"first\",end='');print(\"second\")"
   ]
  },
  {
   "cell_type": "code",
   "execution_count": 19,
   "id": "5eeba6d6",
   "metadata": {},
   "outputs": [
    {
     "name": "stdout",
     "output_type": "stream",
     "text": [
      "1.6666666666666667\n"
     ]
    }
   ],
   "source": [
    "# 10\n",
    "print(5/3)"
   ]
  },
  {
   "cell_type": "code",
   "execution_count": 20,
   "id": "bb3dfdae",
   "metadata": {},
   "outputs": [
    {
     "name": "stdout",
     "output_type": "stream",
     "text": [
      "500000\n"
     ]
    }
   ],
   "source": [
    "# 11\n",
    "삼성전자 = 50000\n",
    "총평가금액 = 10 * 삼성전자\n",
    "print(총평가금액)"
   ]
  },
  {
   "cell_type": "code",
   "execution_count": null,
   "id": "08b3a5a6",
   "metadata": {},
   "outputs": [],
   "source": [
    "# 12\n",
    "시가총액=298000000000000\n",
    "현재가=50000\n",
    "PER=15.79"
   ]
  },
  {
   "cell_type": "code",
   "execution_count": 26,
   "id": "6a8355a6",
   "metadata": {},
   "outputs": [
    {
     "name": "stdout",
     "output_type": "stream",
     "text": [
      "hello! python\n"
     ]
    }
   ],
   "source": [
    "# 13\n",
    "s = \"hello\"\n",
    "t = \"python\"\n",
    "print(s+'!',t)"
   ]
  },
  {
   "cell_type": "code",
   "execution_count": 28,
   "id": "ef8302a5",
   "metadata": {},
   "outputs": [
    {
     "name": "stdout",
     "output_type": "stream",
     "text": [
      "8\n"
     ]
    }
   ],
   "source": [
    "# 14\n",
    "#예상 : 8\n",
    "print(2+2*3)"
   ]
  },
  {
   "cell_type": "code",
   "execution_count": 30,
   "id": "1e027884",
   "metadata": {},
   "outputs": [
    {
     "name": "stdout",
     "output_type": "stream",
     "text": [
      "<class 'int'>\n"
     ]
    }
   ],
   "source": [
    "# 15\n",
    "a = 132\n",
    "print(type(a))"
   ]
  },
  {
   "cell_type": "code",
   "execution_count": 32,
   "id": "55f1e93d",
   "metadata": {},
   "outputs": [
    {
     "name": "stdout",
     "output_type": "stream",
     "text": [
      "720\n"
     ]
    }
   ],
   "source": [
    "# 16\n",
    "num_str = \"720\"\n",
    "num_int=int(num_str)\n",
    "print(num_int)"
   ]
  },
  {
   "cell_type": "code",
   "execution_count": 36,
   "id": "7576b96f",
   "metadata": {},
   "outputs": [
    {
     "name": "stdout",
     "output_type": "stream",
     "text": [
      "<class 'str'>\n"
     ]
    }
   ],
   "source": [
    "# 17\n",
    "num = 100\n",
    "str_num =str(num)\n",
    "print(type(str_num))"
   ]
  },
  {
   "cell_type": "code",
   "execution_count": 38,
   "id": "0e255358",
   "metadata": {},
   "outputs": [
    {
     "name": "stdout",
     "output_type": "stream",
     "text": [
      "<class 'float'>\n"
     ]
    }
   ],
   "source": [
    "# 18\n",
    "num_str = \"15.79\"\n",
    "num_float = float(num_str)\n",
    "print(type(num_float))"
   ]
  },
  {
   "cell_type": "code",
   "execution_count": 39,
   "id": "8c2ff37d",
   "metadata": {},
   "outputs": [
    {
     "name": "stdout",
     "output_type": "stream",
     "text": [
      "2022 2023 2024\n"
     ]
    }
   ],
   "source": [
    "# 19\n",
    "year = \"2020\"\n",
    "year_int = int(year)\n",
    "print(year_int+2,year_int+3,year_int+4)"
   ]
  },
  {
   "cell_type": "code",
   "execution_count": 40,
   "id": "26da7212",
   "metadata": {},
   "outputs": [
    {
     "name": "stdout",
     "output_type": "stream",
     "text": [
      "1749024\n"
     ]
    }
   ],
   "source": [
    "# 20\n",
    "월에어컨요금 = 48584\n",
    "총금액 = 월에어컨요금 * 36\n",
    "print(총금액)"
   ]
  },
  {
   "cell_type": "code",
   "execution_count": 41,
   "id": "13c1e01a",
   "metadata": {},
   "outputs": [
    {
     "name": "stdout",
     "output_type": "stream",
     "text": [
      "p t\n"
     ]
    }
   ],
   "source": [
    "# 21\n",
    "letters = 'python'\n",
    "print(letters[0],letters[2])"
   ]
  },
  {
   "cell_type": "code",
   "execution_count": 42,
   "id": "a2cb192a",
   "metadata": {},
   "outputs": [
    {
     "name": "stdout",
     "output_type": "stream",
     "text": [
      " 2210\n"
     ]
    }
   ],
   "source": [
    "# 22\n",
    "license_plate = \"24가 2210\"\n",
    "print(license_plate[3:])"
   ]
  },
  {
   "cell_type": "code",
   "execution_count": 48,
   "id": "35fa0908",
   "metadata": {},
   "outputs": [
    {
     "name": "stdout",
     "output_type": "stream",
     "text": [
      "홀 홀 홀\n",
      "홀홀홀\n"
     ]
    }
   ],
   "source": [
    "# 23 -\n",
    "string = \"홀짝홀짝홀짝\"\n",
    "print(string[0],string[2],string[4])\n",
    "print(string[::2])\n",
    "#슬라이싱 시 `시작인덱스:끝인덱스:오프셋`을 지정 가능"
   ]
  },
  {
   "cell_type": "code",
   "execution_count": 49,
   "id": "efe1b8d7",
   "metadata": {},
   "outputs": [
    {
     "name": "stdout",
     "output_type": "stream",
     "text": [
      "NOHTYP\n"
     ]
    }
   ],
   "source": [
    "# 24\n",
    "string = \"PYTHON\"\n",
    "print(string[::-1])"
   ]
  },
  {
   "cell_type": "code",
   "execution_count": 54,
   "id": "8ef2267a",
   "metadata": {},
   "outputs": [
    {
     "name": "stdout",
     "output_type": "stream",
     "text": [
      "010 1111 2222\n"
     ]
    }
   ],
   "source": [
    "# 25 -\n",
    "phone_number = \"010-1111-2222\"\n",
    "pn = phone_number.replace(\"-\",\" \")\n",
    "print(pn)\n",
    "# replace 메서드를 사용하면 문자열을 일부를 치환할 수 있다 \n",
    "# 변수.replace(\"a\",\"b\") => 문자열안의 a를 b로 치환한다"
   ]
  },
  {
   "cell_type": "code",
   "execution_count": 56,
   "id": "f99be927",
   "metadata": {},
   "outputs": [
    {
     "name": "stdout",
     "output_type": "stream",
     "text": [
      "01011112222\n"
     ]
    }
   ],
   "source": [
    "# 26\n",
    "phone_number = \"010-1111-2222\"\n",
    "pn = phone_number.replace(\"-\",\"\")\n",
    "print(pn)"
   ]
  },
  {
   "cell_type": "code",
   "execution_count": 61,
   "id": "e83fe8c8",
   "metadata": {},
   "outputs": [
    {
     "name": "stdout",
     "output_type": "stream",
     "text": [
      "kr\n"
     ]
    }
   ],
   "source": [
    "# 27 -\n",
    "#b.split()에 ':' 넣어주면 :기준으로 나눠준다 안나눠주면 공백기준\n",
    "url = \"http://sharebook.kr\"\n",
    "url_split = url.split('.')\n",
    "print(url_split[1])"
   ]
  },
  {
   "cell_type": "code",
   "execution_count": 62,
   "id": "c76e30f2",
   "metadata": {},
   "outputs": [
    {
     "ename": "TypeError",
     "evalue": "'str' object does not support item assignment",
     "output_type": "error",
     "traceback": [
      "\u001b[1;31m---------------------------------------------------------------------------\u001b[0m",
      "\u001b[1;31mTypeError\u001b[0m                                 Traceback (most recent call last)",
      "Cell \u001b[1;32mIn[62], line 4\u001b[0m\n\u001b[0;32m      1\u001b[0m \u001b[38;5;66;03m# 28\u001b[39;00m\n\u001b[0;32m      2\u001b[0m \u001b[38;5;66;03m# 예상 : 수정한 내용이 적용되지않고 python 그대로 출력된다. 문자열은 immutable(불변), 원본변경이 불가능하다\u001b[39;00m\n\u001b[0;32m      3\u001b[0m lang \u001b[38;5;241m=\u001b[39m \u001b[38;5;124m'\u001b[39m\u001b[38;5;124mpython\u001b[39m\u001b[38;5;124m'\u001b[39m\n\u001b[1;32m----> 4\u001b[0m lang[\u001b[38;5;241m0\u001b[39m] \u001b[38;5;241m=\u001b[39m \u001b[38;5;124m'\u001b[39m\u001b[38;5;124mP\u001b[39m\u001b[38;5;124m'\u001b[39m\n\u001b[0;32m      5\u001b[0m \u001b[38;5;28mprint\u001b[39m(lang)\n",
      "\u001b[1;31mTypeError\u001b[0m: 'str' object does not support item assignment"
     ]
    }
   ],
   "source": [
    "# 28\n",
    "# 예상 : 수정한 내용이 적용되지않고 python 그대로 출력된다. 문자열은 immutable(불변), 원본변경이 불가능하다\n",
    "lang = 'python'\n",
    "lang[0] = 'P'\n",
    "print(lang)\n",
    "# 결과 : 오류를 출력한다"
   ]
  },
  {
   "cell_type": "code",
   "execution_count": 64,
   "id": "72c41c56",
   "metadata": {},
   "outputs": [
    {
     "name": "stdout",
     "output_type": "stream",
     "text": [
      "Abcdfe2A354A32A\n"
     ]
    }
   ],
   "source": [
    "# 29\n",
    "string = 'abcdfe2a354a32a'\n",
    "sr = string.replace(\"a\",\"A\")\n",
    "print(sr)"
   ]
  },
  {
   "cell_type": "code",
   "execution_count": 66,
   "id": "e7cc9d96",
   "metadata": {},
   "outputs": [
    {
     "name": "stdout",
     "output_type": "stream",
     "text": [
      "abcd\n"
     ]
    }
   ],
   "source": [
    "# 30\n",
    "#예상 : 그대로 유지된다 replace를 적용하고 싶으면 변수를 만들어줘야한다.\n",
    "string = 'abcd'\n",
    "string.replace('b', 'B')\n",
    "print(string)"
   ]
  },
  {
   "cell_type": "code",
   "execution_count": null,
   "id": "92adb0ee",
   "metadata": {},
   "outputs": [],
   "source": [
    "# 31\n",
    "# 예상 = 34 변수에 \"\"가 적용되면 str형이다. str형의 +는 연속해서 붙이는것이다\n",
    "a = \"3\"\n",
    "b = \"4\"\n",
    "print(a + b)"
   ]
  },
  {
   "cell_type": "code",
   "execution_count": null,
   "id": "528a9d6a",
   "metadata": {},
   "outputs": [],
   "source": [
    "# 32\n",
    "# 예상 : HiHiHi\n",
    "print(\"Hi\" * 3"
   ]
  },
  {
   "cell_type": "code",
   "execution_count": 67,
   "id": "8e76f4bd",
   "metadata": {},
   "outputs": [
    {
     "name": "stdout",
     "output_type": "stream",
     "text": [
      "--------------------------------------------------------------------------------\n"
     ]
    }
   ],
   "source": [
    "# 33\n",
    "print(\"-\"*80)"
   ]
  },
  {
   "cell_type": "code",
   "execution_count": 69,
   "id": "fa9457aa",
   "metadata": {},
   "outputs": [
    {
     "name": "stdout",
     "output_type": "stream",
     "text": [
      "python java python java python java python java \n"
     ]
    }
   ],
   "source": [
    "# 34 \n",
    "t1 = 'python'\n",
    "t2 = 'java'\n",
    "print((t1+\" \"+t2+\" \")*4)"
   ]
  },
  {
   "cell_type": "code",
   "execution_count": 75,
   "id": "8c34f89a",
   "metadata": {},
   "outputs": [
    {
     "name": "stdout",
     "output_type": "stream",
     "text": [
      "이름: 김민수 나이: 10\n",
      "이름: 이철희 나이: 13\n"
     ]
    }
   ],
   "source": [
    "# 35\n",
    "name1 = \"김민수\" \n",
    "age1 = 10\n",
    "name2 = \"이철희\"\n",
    "age2 = 13\n",
    "print(\"이름: %s 나이: %d\" % (name1,age1))\n",
    "print(\"이름: %s 나이: %d\" % (name2,age2))"
   ]
  },
  {
   "cell_type": "code",
   "execution_count": 76,
   "id": "4ae15627",
   "metadata": {},
   "outputs": [
    {
     "name": "stdout",
     "output_type": "stream",
     "text": [
      "이름: 김민수 나이: 10\n",
      "이름: 이철희 나이: 13\n"
     ]
    }
   ],
   "source": [
    "# 36\n",
    "name1 = \"김민수\" \n",
    "age1 = 10\n",
    "name2 = \"이철희\"\n",
    "age2 = 13\n",
    "print(\"이름: {} 나이: {}\".format(name1,age1))\n",
    "print(\"이름: {} 나이: {}\".format(name2,age2))"
   ]
  },
  {
   "cell_type": "code",
   "execution_count": 81,
   "id": "107520ba",
   "metadata": {},
   "outputs": [
    {
     "name": "stdout",
     "output_type": "stream",
     "text": [
      "이름: 김민수 나이: 10\n",
      "이름: 이철희 나이: 13\n"
     ]
    }
   ],
   "source": [
    "# 37 -\n",
    "name1 = \"김민수\" \n",
    "age1 = 10\n",
    "name2 = \"이철희\"\n",
    "age2 = 13\n",
    "print(f\"이름: {name1} 나이: {age1}\")\n",
    "print(f\"이름: {name2} 나이: {age2}\")"
   ]
  },
  {
   "cell_type": "code",
   "execution_count": 84,
   "id": "f1d46439",
   "metadata": {},
   "outputs": [
    {
     "name": "stdout",
     "output_type": "stream",
     "text": [
      "5969782550 <class 'int'>\n"
     ]
    }
   ],
   "source": [
    "# 38\n",
    "상장주식수 = \"5,969,782,550\"\n",
    "상r = 상장주식수.replace(\",\",\"\")\n",
    "인상r = int(상r)\n",
    "print(인상r,type(인상r))"
   ]
  },
  {
   "cell_type": "code",
   "execution_count": 85,
   "id": "fb802325",
   "metadata": {},
   "outputs": [
    {
     "name": "stdout",
     "output_type": "stream",
     "text": [
      "2020/03\n"
     ]
    }
   ],
   "source": [
    "# 39\n",
    "분기 = \"2020/03(E) (IFRS연결)\"\n",
    "print(분기[:7])"
   ]
  },
  {
   "cell_type": "code",
   "execution_count": 88,
   "id": "79ac69b4",
   "metadata": {},
   "outputs": [
    {
     "name": "stdout",
     "output_type": "stream",
     "text": [
      "삼성전자\n"
     ]
    }
   ],
   "source": [
    "# 40\n",
    "data = \"   삼성전자    \"\n",
    "ds = data.strip()\n",
    "print(ds)"
   ]
  },
  {
   "cell_type": "code",
   "execution_count": 89,
   "id": "a723e135",
   "metadata": {},
   "outputs": [
    {
     "name": "stdout",
     "output_type": "stream",
     "text": [
      "BTC_KRW\n"
     ]
    }
   ],
   "source": [
    "# 41\n",
    "ticker = \"btc_krw\"\n",
    "print(ticker.upper())"
   ]
  },
  {
   "cell_type": "code",
   "execution_count": 90,
   "id": "7cf6f192",
   "metadata": {},
   "outputs": [
    {
     "name": "stdout",
     "output_type": "stream",
     "text": [
      "btc_krw\n"
     ]
    }
   ],
   "source": [
    "# 42\n",
    "ticker = \"BTC_KRW\"\n",
    "print(ticker.lower())"
   ]
  },
  {
   "cell_type": "code",
   "execution_count": 91,
   "id": "73204d10",
   "metadata": {},
   "outputs": [
    {
     "name": "stdout",
     "output_type": "stream",
     "text": [
      "Hello\n"
     ]
    }
   ],
   "source": [
    "# 43\n",
    "a='hello'\n",
    "print(a.capitalize())"
   ]
  },
  {
   "cell_type": "code",
   "execution_count": 92,
   "id": "f622cfc8",
   "metadata": {},
   "outputs": [
    {
     "data": {
      "text/plain": [
       "True"
      ]
     },
     "execution_count": 92,
     "metadata": {},
     "output_type": "execute_result"
    }
   ],
   "source": [
    "# 44 -\n",
    "file_name = \"보고서.xlsx\"\n",
    "file_name.endswith(\"xlsx\")"
   ]
  },
  {
   "cell_type": "code",
   "execution_count": 94,
   "id": "f1205d9a",
   "metadata": {},
   "outputs": [
    {
     "data": {
      "text/plain": [
       "True"
      ]
     },
     "execution_count": 94,
     "metadata": {},
     "output_type": "execute_result"
    }
   ],
   "source": [
    "# 45\n",
    "file_name = \"보고서.xlsx\"\n",
    "file_name.endswith(\"xlsx\" or 'xls')"
   ]
  },
  {
   "cell_type": "code",
   "execution_count": 95,
   "id": "5d7c7488",
   "metadata": {},
   "outputs": [
    {
     "data": {
      "text/plain": [
       "True"
      ]
     },
     "execution_count": 95,
     "metadata": {},
     "output_type": "execute_result"
    }
   ],
   "source": [
    "# 46\n",
    "file_name = \"2020_보고서.xlsx\"\n",
    "file_name.startswith(\"2020\")"
   ]
  },
  {
   "cell_type": "code",
   "execution_count": 96,
   "id": "301b3613",
   "metadata": {},
   "outputs": [
    {
     "name": "stdout",
     "output_type": "stream",
     "text": [
      "['hello', 'world']\n"
     ]
    }
   ],
   "source": [
    "# 47\n",
    "a = \"hello world\"\n",
    "print(a.split())"
   ]
  },
  {
   "cell_type": "code",
   "execution_count": 98,
   "id": "c59f94d5",
   "metadata": {},
   "outputs": [
    {
     "name": "stdout",
     "output_type": "stream",
     "text": [
      "['btc', 'krw']\n"
     ]
    }
   ],
   "source": [
    "# 48\n",
    "ticker = \"btc_krw\"\n",
    "print(ticker.split(\"_\"))"
   ]
  },
  {
   "cell_type": "code",
   "execution_count": 99,
   "id": "b1ddacaa",
   "metadata": {},
   "outputs": [
    {
     "name": "stdout",
     "output_type": "stream",
     "text": [
      "['2020', '05', '01']\n"
     ]
    }
   ],
   "source": [
    "# 49\n",
    "date = \"2020-05-01\"\n",
    "print(date.split(\"-\"))"
   ]
  },
  {
   "cell_type": "code",
   "execution_count": 102,
   "id": "3eb2218a",
   "metadata": {},
   "outputs": [
    {
     "name": "stdout",
     "output_type": "stream",
     "text": [
      "039490\n"
     ]
    }
   ],
   "source": [
    "# 50\n",
    "data = \"039490     \"\n",
    "print(data.rstrip())"
   ]
  }
 ],
 "metadata": {
  "kernelspec": {
   "display_name": "Python 3 (ipykernel)",
   "language": "python",
   "name": "python3"
  },
  "language_info": {
   "codemirror_mode": {
    "name": "ipython",
    "version": 3
   },
   "file_extension": ".py",
   "mimetype": "text/x-python",
   "name": "python",
   "nbconvert_exporter": "python",
   "pygments_lexer": "ipython3",
   "version": "3.11.5"
  }
 },
 "nbformat": 4,
 "nbformat_minor": 5
}
