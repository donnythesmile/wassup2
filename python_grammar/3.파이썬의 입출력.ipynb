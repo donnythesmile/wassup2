{
 "cells": [
  {
   "cell_type": "markdown",
   "id": "6ca9b6da",
   "metadata": {},
   "source": [
    "## 함수와 입출력"
   ]
  },
  {
   "cell_type": "code",
   "execution_count": 5,
   "id": "b7c4bc14",
   "metadata": {},
   "outputs": [],
   "source": [
    "#파이썬 함수의 구조\n",
    "def add (a,b): # 매개변수 : 함수에서 정의하는 변수\n",
    "    return a+b"
   ]
  },
  {
   "cell_type": "code",
   "execution_count": 6,
   "id": "6cb33582",
   "metadata": {},
   "outputs": [
    {
     "data": {
      "text/plain": [
       "7"
      ]
     },
     "execution_count": 6,
     "metadata": {},
     "output_type": "execute_result"
    }
   ],
   "source": [
    "a=3\n",
    "b=4\n",
    "add(a,b)"
   ]
  },
  {
   "cell_type": "code",
   "execution_count": 7,
   "id": "a5b15520",
   "metadata": {},
   "outputs": [
    {
     "data": {
      "text/plain": [
       "7"
      ]
     },
     "execution_count": 7,
     "metadata": {},
     "output_type": "execute_result"
    }
   ],
   "source": [
    "#로컬변수(지역변수) : 지역변수는 이 안에서만 사용할 수 있다.\n",
    "c=3\n",
    "d=4\n",
    "add(c,d) # 인수"
   ]
  },
  {
   "cell_type": "code",
   "execution_count": 8,
   "id": "3538d5b8",
   "metadata": {},
   "outputs": [
    {
     "data": {
      "text/plain": [
       "7"
      ]
     },
     "execution_count": 8,
     "metadata": {},
     "output_type": "execute_result"
    }
   ],
   "source": [
    "e=add(c,d)\n",
    "e"
   ]
  },
  {
   "cell_type": "code",
   "execution_count": 15,
   "id": "858138ef",
   "metadata": {},
   "outputs": [
    {
     "data": {
      "text/plain": [
       "12"
      ]
     },
     "execution_count": 15,
     "metadata": {},
     "output_type": "execute_result"
    }
   ],
   "source": [
    "#매개변수와 인수\n",
    "add(5,7) #인수"
   ]
  },
  {
   "cell_type": "code",
   "execution_count": 14,
   "id": "eb6e5c77",
   "metadata": {},
   "outputs": [],
   "source": [
    "#입력값과 리턴값에 따른 함수의 형태\n",
    "\n",
    "#일반적인 함수\n",
    "def add(a,b):\n",
    "    result = a+b\n",
    "    \n",
    "    return result"
   ]
  },
  {
   "cell_type": "code",
   "execution_count": 12,
   "id": "03921665",
   "metadata": {},
   "outputs": [],
   "source": [
    "# 입력값이 없는 함수\n",
    "def say():\n",
    "    return 'Hi'"
   ]
  },
  {
   "cell_type": "code",
   "execution_count": 13,
   "id": "865cf6f4",
   "metadata": {},
   "outputs": [
    {
     "data": {
      "text/plain": [
       "'Hi'"
      ]
     },
     "execution_count": 13,
     "metadata": {},
     "output_type": "execute_result"
    }
   ],
   "source": [
    "say()"
   ]
  },
  {
   "cell_type": "code",
   "execution_count": 16,
   "id": "7de4a51c",
   "metadata": {},
   "outputs": [
    {
     "data": {
      "text/plain": [
       "'Hi'"
      ]
     },
     "execution_count": 16,
     "metadata": {},
     "output_type": "execute_result"
    }
   ],
   "source": [
    "a= say()\n",
    "a"
   ]
  },
  {
   "cell_type": "code",
   "execution_count": 17,
   "id": "26f2af24",
   "metadata": {},
   "outputs": [],
   "source": [
    "# 리턴값이 없는 함수, 로컬\n",
    "\n",
    "#글로벌 : 어디에서든,누구든지 이 변수를 사용할 수 있다.\n",
    "#로컬 : 파티션, 우리만의 새로운 약속, 여기에서만 사용할 수 있다. 서로 침범불가\n",
    "#파티션 : 실제로 실행하기 전까지는 정의만되어있는 상황\n",
    "\n",
    "def add(a,b):\n",
    "    print(\"%d, %d의 합은 %d입니다.\" % (a,b,a+b))"
   ]
  },
  {
   "cell_type": "code",
   "execution_count": 18,
   "id": "e04722e7",
   "metadata": {},
   "outputs": [
    {
     "name": "stdout",
     "output_type": "stream",
     "text": [
      "3, 4의 합은 7입니다.\n"
     ]
    }
   ],
   "source": [
    "add(3,4)"
   ]
  },
  {
   "cell_type": "code",
   "execution_count": 21,
   "id": "e93042d5",
   "metadata": {},
   "outputs": [
    {
     "name": "stdout",
     "output_type": "stream",
     "text": [
      "3, 4의 합은 7입니다.\n",
      "None\n"
     ]
    }
   ],
   "source": [
    "#리턴값이 없으면 함수를 변수로 받아와서 프린트해도 출력되지 않는다.\n",
    "a=add(3,4) \n",
    "print(a)"
   ]
  },
  {
   "cell_type": "code",
   "execution_count": 25,
   "id": "a4acf691",
   "metadata": {},
   "outputs": [],
   "source": [
    "#매개변수를 지정하여 호출하기\n",
    "def sub(a,b):\n",
    "    return a-b"
   ]
  },
  {
   "cell_type": "code",
   "execution_count": 26,
   "id": "53883cf8",
   "metadata": {},
   "outputs": [
    {
     "name": "stdout",
     "output_type": "stream",
     "text": [
      "4\n"
     ]
    }
   ],
   "source": [
    "result = sub(a=7,b=3) #a에 7,b에 3을 전달, 지정해서 넣은 경우 순서를 바꿔도 됨\n",
    "\n",
    "print(result)"
   ]
  },
  {
   "cell_type": "code",
   "execution_count": 29,
   "id": "172d8b4a",
   "metadata": {},
   "outputs": [
    {
     "name": "stdout",
     "output_type": "stream",
     "text": [
      "4\n"
     ]
    }
   ],
   "source": [
    "result1 = sub(b=3,a=7) #a에 7,b에 3을 전달, 지정해서 넣은 경우 순서를 바꿔도 됨\n",
    "\n",
    "print(result1)"
   ]
  },
  {
   "cell_type": "code",
   "execution_count": 27,
   "id": "55b7bc79",
   "metadata": {},
   "outputs": [
    {
     "data": {
      "text/plain": [
       "4"
      ]
     },
     "execution_count": 27,
     "metadata": {},
     "output_type": "execute_result"
    }
   ],
   "source": [
    "sub(7,3)"
   ]
  },
  {
   "cell_type": "code",
   "execution_count": 28,
   "id": "a9242674",
   "metadata": {},
   "outputs": [
    {
     "data": {
      "text/plain": [
       "4"
      ]
     },
     "execution_count": 28,
     "metadata": {},
     "output_type": "execute_result"
    }
   ],
   "source": [
    "a=7\n",
    "b=3\n",
    "sub(a,b)"
   ]
  },
  {
   "cell_type": "code",
   "execution_count": 30,
   "id": "800e2399",
   "metadata": {},
   "outputs": [],
   "source": [
    "#입력값이 몇 개가 될지 모를 때는 어떻게 해야 할까?\n",
    "print?"
   ]
  },
  {
   "cell_type": "code",
   "execution_count": 38,
   "id": "b702066d",
   "metadata": {},
   "outputs": [],
   "source": [
    "#여러 개의 입력값을 받는 함수 만들기\n",
    "#*(변수) : 몇개가 들어오든 다받아줄게\n",
    "def add_many(*args): \n",
    "    result = 0 \n",
    "    print(args)\n",
    "    for i in args: \n",
    "        result = result + i   # *args에 입력받은 모든 값을 더한다.\n",
    "    return result "
   ]
  },
  {
   "cell_type": "code",
   "execution_count": 39,
   "id": "684819f6",
   "metadata": {},
   "outputs": [
    {
     "name": "stdout",
     "output_type": "stream",
     "text": [
      "(1, 2, 3)\n",
      "6\n"
     ]
    }
   ],
   "source": [
    "result = add_many(1,2,3)\n",
    "print(result)"
   ]
  },
  {
   "cell_type": "code",
   "execution_count": 40,
   "id": "7cacf16b",
   "metadata": {},
   "outputs": [
    {
     "name": "stdout",
     "output_type": "stream",
     "text": [
      "(1, 2, 3, 4, 5, 6, 7, 8, 9, 10)\n",
      "55\n"
     ]
    }
   ],
   "source": [
    "result = add_many(1,2,3,4,5,6,7,8,9,10)\n",
    "print(result)"
   ]
  },
  {
   "cell_type": "code",
   "execution_count": 35,
   "id": "4e79fd3f",
   "metadata": {},
   "outputs": [],
   "source": [
    " def add_mul(choice, *args): \n",
    "        if choice == \"add\":   # 매개변수 choice에 \"add\"를 입력받았을 때\n",
    "                result = 0 \n",
    "                for i in args:\n",
    "                    result = result + i \n",
    "        elif choice == \"mul\":\n",
    "            result = 1 \n",
    "            for i in args: \n",
    "                result = result * i \n",
    "        return result"
   ]
  },
  {
   "cell_type": "code",
   "execution_count": 36,
   "id": "ece78d51",
   "metadata": {},
   "outputs": [
    {
     "name": "stdout",
     "output_type": "stream",
     "text": [
      "15\n"
     ]
    }
   ],
   "source": [
    "result = add_mul('add', 1,2,3,4,5)\n",
    "print(result)"
   ]
  },
  {
   "cell_type": "code",
   "execution_count": 37,
   "id": "408f3d75",
   "metadata": {},
   "outputs": [
    {
     "name": "stdout",
     "output_type": "stream",
     "text": [
      "120\n"
     ]
    }
   ],
   "source": [
    "result = add_mul('mul', 1,2,3,4,5)\n",
    "print(result)"
   ]
  },
  {
   "cell_type": "code",
   "execution_count": 41,
   "id": "d51556da",
   "metadata": {},
   "outputs": [],
   "source": [
    "#키워드 매개변수, kwargs\n",
    "def print_kwargs(**kwargs):\n",
    "    print(kwargs)"
   ]
  },
  {
   "cell_type": "code",
   "execution_count": 42,
   "id": "90d947a8",
   "metadata": {},
   "outputs": [
    {
     "name": "stdout",
     "output_type": "stream",
     "text": [
      "{'a': 1}\n"
     ]
    }
   ],
   "source": [
    "#딕셔너리형태, key와 values 값으로 저장됨\n",
    "print_kwargs(a=1)"
   ]
  },
  {
   "cell_type": "code",
   "execution_count": 43,
   "id": "54746aba",
   "metadata": {},
   "outputs": [
    {
     "name": "stdout",
     "output_type": "stream",
     "text": [
      "{'name': 'foo', 'age': 3}\n"
     ]
    }
   ],
   "source": [
    "print_kwargs(name='foo', age=3)"
   ]
  },
  {
   "cell_type": "code",
   "execution_count": 50,
   "id": "06bcf34f",
   "metadata": {},
   "outputs": [],
   "source": [
    "#함수의 리턴값은 언제나 하나이다\n",
    "def add_and_mul(a,b):\n",
    "    return a+b, a*b\n",
    "#왜 실행해도 에러가 안날까? -> 정의만한거지 아직 실행은 되지않았다."
   ]
  },
  {
   "cell_type": "code",
   "execution_count": 51,
   "id": "0ccb3fc6",
   "metadata": {},
   "outputs": [
    {
     "name": "stdout",
     "output_type": "stream",
     "text": [
      "(7, 12)\n"
     ]
    }
   ],
   "source": [
    "result = add_and_mul(3,4)\n",
    "print(result)"
   ]
  },
  {
   "cell_type": "code",
   "execution_count": 53,
   "id": "7edda192",
   "metadata": {},
   "outputs": [],
   "source": [
    "def add_and_mul(a,b): \n",
    "    return a+b\n",
    "    return a*b"
   ]
  },
  {
   "cell_type": "code",
   "execution_count": 54,
   "id": "5a82ec4f",
   "metadata": {},
   "outputs": [
    {
     "name": "stdout",
     "output_type": "stream",
     "text": [
      "5\n"
     ]
    }
   ],
   "source": [
    "result = add_and_mul(2, 3)\n",
    "print(result) #. 두 번째 return 문은 실행되지않는다.\n",
    "#함수는 return 문을 만나는 순간, 리턴값을 돌려 준 다음 함수를 빠져나가게 된다."
   ]
  },
  {
   "cell_type": "code",
   "execution_count": 55,
   "id": "b338263a",
   "metadata": {},
   "outputs": [],
   "source": [
    "#return의 또 다른 쓰임새\n",
    "\n",
    "def say_nick(nick):\n",
    "    if nick == \"바보\":\n",
    "        return\n",
    "    print(\"나의 별명은 %s 입니다.\" % nick)"
   ]
  },
  {
   "cell_type": "code",
   "execution_count": 56,
   "id": "71c19982",
   "metadata": {},
   "outputs": [
    {
     "name": "stdout",
     "output_type": "stream",
     "text": [
      "나의 별명은 야호 입니다.\n"
     ]
    }
   ],
   "source": [
    "say_nick('야호')"
   ]
  },
  {
   "cell_type": "code",
   "execution_count": 57,
   "id": "467c9cff",
   "metadata": {},
   "outputs": [],
   "source": [
    "say_nick('바보')\n",
    "#리턴값이 없는 함수에서 return으로 함수를 빠져나가는 방법"
   ]
  },
  {
   "cell_type": "code",
   "execution_count": 59,
   "id": "66016d07",
   "metadata": {},
   "outputs": [],
   "source": [
    "#매개변수에 초깃값 미리 설정하기\n",
    "\n",
    "def say_myself(name, age, man=True): #초깃값 지정은 반드시 맨 뒤에 있어야한다.\n",
    "    print(\"나의 이름은 %s 입니다.\" % name) \n",
    "    print(\"나이는 %d살입니다.\" % age) \n",
    "    if man: \n",
    "        print(\"남자입니다.\")\n",
    "    else: \n",
    "        print(\"여자입니다.\")"
   ]
  },
  {
   "cell_type": "code",
   "execution_count": 60,
   "id": "898abe69",
   "metadata": {},
   "outputs": [
    {
     "name": "stdout",
     "output_type": "stream",
     "text": [
      "나의 이름은 주성돈 입니다.\n",
      "나이는 26살입니다.\n",
      "남자입니다.\n"
     ]
    }
   ],
   "source": [
    "say_myself(\"주성돈\",26)"
   ]
  },
  {
   "cell_type": "code",
   "execution_count": 62,
   "id": "25b56143",
   "metadata": {},
   "outputs": [
    {
     "name": "stdout",
     "output_type": "stream",
     "text": [
      "나의 이름은 이은경 입니다.\n",
      "나이는 26살입니다.\n",
      "여자입니다.\n"
     ]
    }
   ],
   "source": [
    "say_myself(\"이은경\",26, False)"
   ]
  },
  {
   "cell_type": "code",
   "execution_count": 63,
   "id": "30f1ed92",
   "metadata": {},
   "outputs": [
    {
     "name": "stdout",
     "output_type": "stream",
     "text": [
      "1\n"
     ]
    }
   ],
   "source": [
    "#함수 안에서 선언한 변수의 효력 범위\n",
    "a = 1\n",
    "def vartest(a):\n",
    "    a = a +1\n",
    "\n",
    "vartest(a)\n",
    "print(a)"
   ]
  },
  {
   "cell_type": "code",
   "execution_count": 64,
   "id": "ecf85c02",
   "metadata": {},
   "outputs": [
    {
     "name": "stdout",
     "output_type": "stream",
     "text": [
      "None\n"
     ]
    }
   ],
   "source": [
    "print(vartest(a)) #print도 없고 return도 없어 안나온다"
   ]
  },
  {
   "cell_type": "code",
   "execution_count": 65,
   "id": "50143ae5",
   "metadata": {},
   "outputs": [
    {
     "name": "stdout",
     "output_type": "stream",
     "text": [
      "1\n"
     ]
    }
   ],
   "source": [
    "def vartest(a):\n",
    "    a = a +1\n",
    "\n",
    "vartest(3)\n",
    "print(a)"
   ]
  },
  {
   "cell_type": "code",
   "execution_count": 66,
   "id": "0a9c1fa7",
   "metadata": {},
   "outputs": [
    {
     "name": "stdout",
     "output_type": "stream",
     "text": [
      "2\n"
     ]
    }
   ],
   "source": [
    "#함수 안에서 함수 밖의 변수를 변경하는 방법\n",
    "\n",
    "#return 사용하기\n",
    "a = 1 \n",
    "def vartest(a): \n",
    "    a = a +1 \n",
    "    return a\n",
    "\n",
    "a = vartest(a) \n",
    "print(a)"
   ]
  },
  {
   "cell_type": "code",
   "execution_count": 67,
   "id": "1d55457d",
   "metadata": {},
   "outputs": [
    {
     "name": "stdout",
     "output_type": "stream",
     "text": [
      "2\n"
     ]
    }
   ],
   "source": [
    "#global 사용하기\n",
    "# global 명령어는 사용하지 않는 것이 좋다. \n",
    "# 함수는 독립적으로 존재하는 것이 좋기 때문이다. \n",
    "a = 1 \n",
    "def vartest(): \n",
    "    global a \n",
    "    a = a+1\n",
    "\n",
    "vartest() \n",
    "print(a)"
   ]
  },
  {
   "cell_type": "code",
   "execution_count": 68,
   "id": "a6913d70",
   "metadata": {},
   "outputs": [
    {
     "name": "stdout",
     "output_type": "stream",
     "text": [
      "7\n"
     ]
    }
   ],
   "source": [
    "#lambda 예약어\n",
    "# lambda : 함수를 생성할 때 사용하는 예약어로, def와 동일한 역할을 한다.\n",
    "add = lambda a, b: a+b\n",
    "result = add(3, 4)\n",
    "print(result)"
   ]
  },
  {
   "cell_type": "code",
   "execution_count": 69,
   "id": "16356853",
   "metadata": {},
   "outputs": [
    {
     "name": "stdout",
     "output_type": "stream",
     "text": [
      "7\n"
     ]
    }
   ],
   "source": [
    "def add(a, b):\n",
    "    return a+b\n",
    "result = add(3, 4)\n",
    "print(result)"
   ]
  },
  {
   "cell_type": "markdown",
   "id": "dc5000b9",
   "metadata": {},
   "source": [
    "## 사용자 입출력"
   ]
  },
  {
   "cell_type": "code",
   "execution_count": null,
   "id": "62cb4510",
   "metadata": {},
   "outputs": [],
   "source": [
    "# input 사용"
   ]
  },
  {
   "cell_type": "code",
   "execution_count": 70,
   "id": "9545caee",
   "metadata": {},
   "outputs": [
    {
     "name": "stdout",
     "output_type": "stream",
     "text": [
      "입력해dd\n",
      "dd\n"
     ]
    }
   ],
   "source": [
    "a = input(\"입력해\")\n",
    "print(a)"
   ]
  },
  {
   "cell_type": "code",
   "execution_count": 71,
   "id": "2f035c5e",
   "metadata": {},
   "outputs": [
    {
     "name": "stdout",
     "output_type": "stream",
     "text": [
      "숫자를 입력하세요: 1020310230\n"
     ]
    },
    {
     "data": {
      "text/plain": [
       "'1020310230'"
      ]
     },
     "execution_count": 71,
     "metadata": {},
     "output_type": "execute_result"
    }
   ],
   "source": [
    "number = input(\"숫자를 입력하세요: \")\n",
    "number"
   ]
  },
  {
   "cell_type": "code",
   "execution_count": 72,
   "id": "69cb0d7e",
   "metadata": {},
   "outputs": [
    {
     "data": {
      "text/plain": [
       "str"
      ]
     },
     "execution_count": 72,
     "metadata": {},
     "output_type": "execute_result"
    }
   ],
   "source": [
    "type(number) #input은 string타입으로 받으니까 반드시 형변환을 해줘야한다"
   ]
  },
  {
   "cell_type": "code",
   "execution_count": 73,
   "id": "eae988b1",
   "metadata": {},
   "outputs": [
    {
     "name": "stdout",
     "output_type": "stream",
     "text": [
      "lifeistoo short\n"
     ]
    }
   ],
   "source": [
    "#print 자세히 알기\n",
    "print(\"life\" \"is\" \"too short\") "
   ]
  },
  {
   "cell_type": "code",
   "execution_count": 74,
   "id": "e97272e4",
   "metadata": {},
   "outputs": [
    {
     "name": "stdout",
     "output_type": "stream",
     "text": [
      "lifeistoo short\n"
     ]
    }
   ],
   "source": [
    "print(\"life\"+\"is\"+\"too short\") #둘이 동일한 결과값"
   ]
  },
  {
   "cell_type": "code",
   "execution_count": 75,
   "id": "91a0ec1d",
   "metadata": {},
   "outputs": [
    {
     "name": "stdout",
     "output_type": "stream",
     "text": [
      "life is too short\n"
     ]
    }
   ],
   "source": [
    "#문자열 띄어쓰기는 쉼표로 한다\n",
    "print(\"life\", \"is\", \"too short\")"
   ]
  },
  {
   "cell_type": "code",
   "execution_count": 77,
   "id": "89e1fc36",
   "metadata": {},
   "outputs": [
    {
     "name": "stdout",
     "output_type": "stream",
     "text": [
      "0 1 2 3 4 5 6 7 8 9 "
     ]
    }
   ],
   "source": [
    "#한 줄에 결괏값 출력하기\n",
    "for i in range(10):\n",
    "    print(i, end=' ')"
   ]
  },
  {
   "cell_type": "markdown",
   "id": "e0f24598",
   "metadata": {},
   "source": [
    "## 파일 읽고 쓰기"
   ]
  },
  {
   "cell_type": "code",
   "execution_count": 78,
   "id": "918c3591",
   "metadata": {},
   "outputs": [],
   "source": [
    "#파일 생성하기\n",
    "open?"
   ]
  },
  {
   "cell_type": "code",
   "execution_count": null,
   "id": "d5dbd701",
   "metadata": {},
   "outputs": [],
   "source": [
    "#open 함수는 '파일 이름’과 ‘파일 열기 모드’를 입력값으로 받고 결괏값으로 파일 객체를 리턴한다."
   ]
  },
  {
   "cell_type": "code",
   "execution_count": 79,
   "id": "da8675f6",
   "metadata": {},
   "outputs": [],
   "source": [
    "f = open(\"새파일.txt\", 'w')\n",
    "f.close()"
   ]
  },
  {
   "cell_type": "code",
   "execution_count": 80,
   "id": "e98e1489",
   "metadata": {},
   "outputs": [
    {
     "data": {
      "text/plain": [
       "<_io.TextIOWrapper name='새파일.txt' mode='w' encoding='cp949'>"
      ]
     },
     "execution_count": 80,
     "metadata": {},
     "output_type": "execute_result"
    }
   ],
   "source": [
    "f #객체"
   ]
  },
  {
   "cell_type": "code",
   "execution_count": 81,
   "id": "ed23044a",
   "metadata": {},
   "outputs": [],
   "source": [
    "#파일을 쓰기 모드로 열어 내용 쓰기\n",
    "\n",
    "f = open(\"C:\\workspace\\python\\wassup2\\python_grammar/새파일.txt\", 'w')\n",
    "for i in range(1, 11):\n",
    "    data = \"%d번째 줄입니다.\\n\" % i\n",
    "    f.write(data)\n",
    "f.close()"
   ]
  },
  {
   "cell_type": "code",
   "execution_count": 83,
   "id": "b967e463",
   "metadata": {},
   "outputs": [
    {
     "name": "stdout",
     "output_type": "stream",
     "text": [
      "1번째 줄입니다.\n",
      "\n"
     ]
    }
   ],
   "source": [
    "# 파일을 읽는 여러가지 방법\n",
    "\n",
    "#readline 함수 이용하기\n",
    "f = open(\"C:\\workspace\\python\\wassup2\\python_grammar/새파일.txt\", 'r')\n",
    "line = f.readline()\n",
    "print(line)\n",
    "f.close()"
   ]
  },
  {
   "cell_type": "code",
   "execution_count": 85,
   "id": "0969da3b",
   "metadata": {
    "scrolled": true
   },
   "outputs": [
    {
     "name": "stdout",
     "output_type": "stream",
     "text": [
      "1번째 줄입니다.\n",
      "\n",
      "2번째 줄입니다.\n",
      "\n",
      "3번째 줄입니다.\n",
      "\n",
      "4번째 줄입니다.\n",
      "\n",
      "5번째 줄입니다.\n",
      "\n",
      "6번째 줄입니다.\n",
      "\n",
      "7번째 줄입니다.\n",
      "\n",
      "8번째 줄입니다.\n",
      "\n",
      "9번째 줄입니다.\n",
      "\n",
      "10번째 줄입니다.\n",
      "\n"
     ]
    }
   ],
   "source": [
    "f = open(\"C:\\workspace\\python\\wassup2\\python_grammar/새파일.txt\", 'r')\n",
    "while True:\n",
    "    line = f.readline() # 파이썬readline() 메서드는 주어진 파일에서 완전한 한 줄만 읽습니다.\n",
    "    if not line: break\n",
    "    print(line)\n",
    "f.close()"
   ]
  },
  {
   "cell_type": "code",
   "execution_count": 86,
   "id": "0ba036ec",
   "metadata": {},
   "outputs": [
    {
     "name": "stdout",
     "output_type": "stream",
     "text": [
      "1번째 줄입니다.\n",
      "\n",
      "2번째 줄입니다.\n",
      "\n",
      "3번째 줄입니다.\n",
      "\n",
      "4번째 줄입니다.\n",
      "\n",
      "5번째 줄입니다.\n",
      "\n",
      "6번째 줄입니다.\n",
      "\n",
      "7번째 줄입니다.\n",
      "\n",
      "8번째 줄입니다.\n",
      "\n",
      "9번째 줄입니다.\n",
      "\n",
      "10번째 줄입니다.\n",
      "\n"
     ]
    }
   ],
   "source": [
    "# readlines 함수 사용하기\n",
    "f = open(\"C:\\workspace\\python\\wassup2\\python_grammar/새파일.txt\", 'r')\n",
    "lines = f.readlines()\n",
    "for line in lines:\n",
    "    print(line)\n",
    "f.close()"
   ]
  },
  {
   "cell_type": "code",
   "execution_count": 87,
   "id": "c5ff407d",
   "metadata": {},
   "outputs": [
    {
     "name": "stdout",
     "output_type": "stream",
     "text": [
      "1번째 줄입니다.\n",
      "2번째 줄입니다.\n",
      "3번째 줄입니다.\n",
      "4번째 줄입니다.\n",
      "5번째 줄입니다.\n",
      "6번째 줄입니다.\n",
      "7번째 줄입니다.\n",
      "8번째 줄입니다.\n",
      "9번째 줄입니다.\n",
      "10번째 줄입니다.\n"
     ]
    }
   ],
   "source": [
    "#줄 바꿈(\\n) 문자 제거하기\n",
    "f = open(\"C:\\workspace\\python\\wassup2\\python_grammar/새파일.txt\", 'r')\n",
    "lines = f.readlines()\n",
    "for line in lines:\n",
    "    line = line.strip()  # 줄 끝의 줄 바꿈 문자를 제거한다. or strip말고 print(line,end='') 즉 end에 공백을 넣으면 줄바꿈을 하나 없앨수있다.\n",
    "    print(line)\n",
    "f.close()"
   ]
  },
  {
   "cell_type": "code",
   "execution_count": 88,
   "id": "564d9adc",
   "metadata": {},
   "outputs": [
    {
     "name": "stdout",
     "output_type": "stream",
     "text": [
      "1번째 줄입니다.\n",
      "2번째 줄입니다.\n",
      "3번째 줄입니다.\n",
      "4번째 줄입니다.\n",
      "5번째 줄입니다.\n",
      "6번째 줄입니다.\n",
      "7번째 줄입니다.\n",
      "8번째 줄입니다.\n",
      "9번째 줄입니다.\n",
      "10번째 줄입니다.\n",
      "\n"
     ]
    }
   ],
   "source": [
    "#read 함수 사용하기\n",
    "f = open(\"C:\\workspace\\python\\wassup2\\python_grammar/새파일.txt\", 'r')\n",
    "data = f.read()\n",
    "print(data) #전체가 하나의 스트링, 싹다 묶어버림\n",
    "f.close()"
   ]
  },
  {
   "cell_type": "code",
   "execution_count": 89,
   "id": "6507cda4",
   "metadata": {},
   "outputs": [],
   "source": [
    "# 파일에 새로운 내용 추가하기\n",
    "f = open(\"C:\\workspace\\python\\wassup2\\python_grammar/새파일.txt\",'a')\n",
    "for i in range(11, 20):\n",
    "    data = \"%d번째 줄입니다.\\n\" % i\n",
    "    f.write(data)\n",
    "f.close()"
   ]
  },
  {
   "cell_type": "code",
   "execution_count": 90,
   "id": "42bfcfc4",
   "metadata": {},
   "outputs": [],
   "source": [
    "# with 문과 함께 사용하기\n",
    "f = open(\"foo.txt\", 'w')\n",
    "f.write(\"Life is too short, you need python\")\n",
    "f.close() #매번 close해주기 귀찮다 -> with문 써봐!"
   ]
  },
  {
   "cell_type": "code",
   "execution_count": 91,
   "id": "8160e4ef",
   "metadata": {},
   "outputs": [],
   "source": [
    "with open(\"foo.txt\", \"w\") as f:\n",
    "    f.write(\"Life is too short, you need python\")"
   ]
  },
  {
   "cell_type": "code",
   "execution_count": null,
   "id": "bf6c54ff",
   "metadata": {},
   "outputs": [],
   "source": []
  },
  {
   "cell_type": "code",
   "execution_count": null,
   "id": "b4d31699",
   "metadata": {},
   "outputs": [],
   "source": []
  },
  {
   "cell_type": "code",
   "execution_count": null,
   "id": "922a0998",
   "metadata": {},
   "outputs": [],
   "source": []
  },
  {
   "cell_type": "code",
   "execution_count": null,
   "id": "89df14e7",
   "metadata": {},
   "outputs": [],
   "source": []
  },
  {
   "cell_type": "code",
   "execution_count": null,
   "id": "baa19da2",
   "metadata": {},
   "outputs": [],
   "source": []
  },
  {
   "cell_type": "code",
   "execution_count": null,
   "id": "0e552bd4",
   "metadata": {},
   "outputs": [],
   "source": []
  },
  {
   "cell_type": "code",
   "execution_count": null,
   "id": "58ad302f",
   "metadata": {},
   "outputs": [],
   "source": []
  },
  {
   "cell_type": "code",
   "execution_count": null,
   "id": "fe3cb29c",
   "metadata": {},
   "outputs": [],
   "source": []
  },
  {
   "cell_type": "code",
   "execution_count": null,
   "id": "6e6cfd92",
   "metadata": {},
   "outputs": [],
   "source": []
  },
  {
   "cell_type": "code",
   "execution_count": null,
   "id": "c5bcfef2",
   "metadata": {},
   "outputs": [],
   "source": []
  },
  {
   "cell_type": "code",
   "execution_count": null,
   "id": "dfb4150e",
   "metadata": {},
   "outputs": [],
   "source": []
  },
  {
   "cell_type": "code",
   "execution_count": null,
   "id": "6aa3e119",
   "metadata": {},
   "outputs": [],
   "source": []
  },
  {
   "cell_type": "code",
   "execution_count": null,
   "id": "28c9e5c8",
   "metadata": {},
   "outputs": [],
   "source": []
  },
  {
   "cell_type": "code",
   "execution_count": null,
   "id": "93f75888",
   "metadata": {},
   "outputs": [],
   "source": []
  },
  {
   "cell_type": "code",
   "execution_count": null,
   "id": "374d15b2",
   "metadata": {},
   "outputs": [],
   "source": []
  },
  {
   "cell_type": "code",
   "execution_count": null,
   "id": "0cd08536",
   "metadata": {},
   "outputs": [],
   "source": []
  },
  {
   "cell_type": "code",
   "execution_count": null,
   "id": "fcbeff34",
   "metadata": {},
   "outputs": [],
   "source": []
  },
  {
   "cell_type": "code",
   "execution_count": null,
   "id": "7cba4cb9",
   "metadata": {},
   "outputs": [],
   "source": []
  },
  {
   "cell_type": "code",
   "execution_count": null,
   "id": "497cdfd2",
   "metadata": {},
   "outputs": [],
   "source": []
  },
  {
   "cell_type": "code",
   "execution_count": null,
   "id": "f9bb7a5b",
   "metadata": {},
   "outputs": [],
   "source": []
  },
  {
   "cell_type": "code",
   "execution_count": null,
   "id": "6b15253b",
   "metadata": {},
   "outputs": [],
   "source": []
  },
  {
   "cell_type": "code",
   "execution_count": null,
   "id": "b026baa9",
   "metadata": {},
   "outputs": [],
   "source": []
  },
  {
   "cell_type": "code",
   "execution_count": null,
   "id": "44b1b733",
   "metadata": {},
   "outputs": [],
   "source": []
  },
  {
   "cell_type": "code",
   "execution_count": null,
   "id": "61495eac",
   "metadata": {},
   "outputs": [],
   "source": []
  }
 ],
 "metadata": {
  "kernelspec": {
   "display_name": "Python 3 (ipykernel)",
   "language": "python",
   "name": "python3"
  },
  "language_info": {
   "codemirror_mode": {
    "name": "ipython",
    "version": 3
   },
   "file_extension": ".py",
   "mimetype": "text/x-python",
   "name": "python",
   "nbconvert_exporter": "python",
   "pygments_lexer": "ipython3",
   "version": "3.11.5"
  }
 },
 "nbformat": 4,
 "nbformat_minor": 5
}
