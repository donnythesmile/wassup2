{
 "cells": [
  {
   "cell_type": "code",
   "execution_count": null,
   "id": "4d48e0d1",
   "metadata": {},
   "outputs": [],
   "source": [
    "#101\n",
    "#답 : boolean, 'bool' 타입이다."
   ]
  },
  {
   "cell_type": "code",
   "execution_count": 2,
   "id": "202761c0",
   "metadata": {},
   "outputs": [],
   "source": [
    "#102\n",
    "#답 : false"
   ]
  },
  {
   "cell_type": "code",
   "execution_count": null,
   "id": "2751c3fc",
   "metadata": {},
   "outputs": [],
   "source": [
    "#103\n",
    "#답 : True"
   ]
  },
  {
   "cell_type": "code",
   "execution_count": null,
   "id": "ae7b759f",
   "metadata": {},
   "outputs": [],
   "source": [
    "#104\n",
    "#답 : True"
   ]
  },
  {
   "cell_type": "code",
   "execution_count": null,
   "id": "31bc281c",
   "metadata": {},
   "outputs": [],
   "source": [
    "#105\n",
    "#답 : True"
   ]
  },
  {
   "cell_type": "code",
   "execution_count": null,
   "id": "f66d0996",
   "metadata": {},
   "outputs": [],
   "source": [
    "#106\n",
    "#답 : 등호가 부등호의 뒤에 위치하여야한다."
   ]
  },
  {
   "cell_type": "code",
   "execution_count": null,
   "id": "c04ab000",
   "metadata": {},
   "outputs": [],
   "source": [
    "#107\n",
    "#답 : if 바로뒤의 조건이 false라 동작하지 않는다."
   ]
  },
  {
   "cell_type": "code",
   "execution_count": null,
   "id": "bab43e17",
   "metadata": {},
   "outputs": [],
   "source": [
    "#108\n",
    "#답 : Hi, there"
   ]
  },
  {
   "cell_type": "code",
   "execution_count": null,
   "id": "a9c7a964",
   "metadata": {},
   "outputs": [],
   "source": [
    "#109\n",
    "#답 : \n",
    "1\n",
    "2\n",
    "4"
   ]
  },
  {
   "cell_type": "code",
   "execution_count": null,
   "id": "85b86551",
   "metadata": {},
   "outputs": [],
   "source": [
    "#110\n",
    "#답 : \n",
    "3\n",
    "5"
   ]
  },
  {
   "cell_type": "code",
   "execution_count": 3,
   "id": "239cc5a5",
   "metadata": {},
   "outputs": [
    {
     "name": "stdout",
     "output_type": "stream",
     "text": [
      "두번 출력할 문자열을 입력하세요하이\n",
      "하이하이\n"
     ]
    }
   ],
   "source": [
    "#111\n",
    "x=input(\"두번 출력할 문자열을 입력하세요\")\n",
    "print(x*2)"
   ]
  },
  {
   "cell_type": "code",
   "execution_count": 5,
   "id": "0900adc1",
   "metadata": {},
   "outputs": [
    {
     "name": "stdout",
     "output_type": "stream",
     "text": [
      "숫자를 입력하세요10\n",
      "20\n"
     ]
    }
   ],
   "source": [
    "#112\n",
    "x=input(\"숫자를 입력하세요\")\n",
    "print(int(x)+10)"
   ]
  },
  {
   "cell_type": "code",
   "execution_count": 8,
   "id": "c7df0135",
   "metadata": {},
   "outputs": [
    {
     "name": "stdout",
     "output_type": "stream",
     "text": [
      "숫자를 입력하세요3\n",
      "홀수입니다\n"
     ]
    }
   ],
   "source": [
    "#113\n",
    "x=input(\"숫자를 입력하세요\")\n",
    "if int(x)%2 == 0 :\n",
    "    print(\"짝수입니다\")\n",
    "else : \n",
    "    print(\"홀수입니다\")"
   ]
  },
  {
   "cell_type": "code",
   "execution_count": 11,
   "id": "81b53206",
   "metadata": {},
   "outputs": [
    {
     "name": "stdout",
     "output_type": "stream",
     "text": [
      "숫자를 입력하세요300\n",
      "255\n"
     ]
    }
   ],
   "source": [
    "#114\n",
    "x=input(\"숫자를 입력하세요\")\n",
    "if int(x)+20>255 :\n",
    "    print(255)\n",
    "else :\n",
    "    print(int(x)+20)"
   ]
  },
  {
   "cell_type": "code",
   "execution_count": 14,
   "id": "ca174c48",
   "metadata": {},
   "outputs": [
    {
     "name": "stdout",
     "output_type": "stream",
     "text": [
      "숫자를 입력하세요40\n",
      "20\n"
     ]
    }
   ],
   "source": [
    "#115\n",
    "x=input(\"숫자를 입력하세요\")\n",
    "if int(x)-20>255 :\n",
    "    print(255)\n",
    "elif int(x)-20<0 :\n",
    "    print(0)\n",
    "else :\n",
    "    print(int(x)-20)"
   ]
  },
  {
   "cell_type": "code",
   "execution_count": 17,
   "id": "bd30fd46",
   "metadata": {},
   "outputs": [
    {
     "name": "stdout",
     "output_type": "stream",
     "text": [
      "지금은 몇시?2\n",
      "지금은 몇분?0\n",
      "정각입니다\n"
     ]
    }
   ],
   "source": [
    "#116\n",
    "x=input(\"지금은 몇시?\")\n",
    "y=input(\"지금은 몇분?\")\n",
    "\n",
    "if int(y) != 0 :\n",
    "    print(\"정각이 아닙니다.\")\n",
    "else :\n",
    "    print(\"정각입니다\")\n"
   ]
  },
  {
   "cell_type": "code",
   "execution_count": 26,
   "id": "8fe49eb6",
   "metadata": {},
   "outputs": [
    {
     "name": "stdout",
     "output_type": "stream",
     "text": [
      "좋아하는 과일은?포도\n",
      "정답입니다.\n"
     ]
    }
   ],
   "source": [
    "#117\n",
    "fruit = [\"사과\", \"포도\", \"홍시\"]\n",
    "x=input(\"좋아하는 과일은?\")\n",
    "if x in fruit :\n",
    "    print(\"정답입니다.\")\n",
    "else :\n",
    "    print(\"오답입니다.\")\n"
   ]
  },
  {
   "cell_type": "code",
   "execution_count": 28,
   "id": "f8736c76",
   "metadata": {},
   "outputs": [
    {
     "name": "stdout",
     "output_type": "stream",
     "text": [
      "어디투자?google\n",
      "투자 경고 종목이 아닙니다\n"
     ]
    }
   ],
   "source": [
    "#118\n",
    "wlist = [\"Microsoft\", \"Google\", \"Naver\", \"Kakao\", \"SAMSUNG\", \"LG\"]\n",
    "x=input(\"어디투자?\")\n",
    "if x in wlist :\n",
    "    print(\"투자 경고 종목입니다\")\n",
    "else :\n",
    "    print(\"투자 경고 종목이 아닙니다\")\n"
   ]
  },
  {
   "cell_type": "code",
   "execution_count": 30,
   "id": "04f8c966",
   "metadata": {},
   "outputs": [
    {
     "name": "stdout",
     "output_type": "stream",
     "text": [
      "제가좋아하는계절은: 수박\n",
      "오답입니다\n"
     ]
    }
   ],
   "source": [
    "#119\n",
    "fruit = {\"봄\" : \"딸기\", \"여름\" : \"토마토\", \"가을\" : \"사과\"}\n",
    "x=input(\"제가좋아하는계절은: \")\n",
    "if x in fruit :\n",
    "    print(\"정답입니다\")\n",
    "else :\n",
    "    print(\"오답입니다\")"
   ]
  },
  {
   "cell_type": "code",
   "execution_count": 33,
   "id": "f13bd547",
   "metadata": {},
   "outputs": [
    {
     "name": "stdout",
     "output_type": "stream",
     "text": [
      "좋아하는과일은?: 배\n",
      "오답입니다\n"
     ]
    }
   ],
   "source": [
    "#120\n",
    "fruit = {\"봄\" : \"딸기\", \"여름\" : \"토마토\", \"가을\" : \"사과\"}\n",
    "x=input(\"좋아하는과일은?: \")\n",
    "if x in fruit.values() :\n",
    "    print(\"정답입니다\")\n",
    "else :\n",
    "    print(\"오답입니다\")"
   ]
  },
  {
   "cell_type": "code",
   "execution_count": 35,
   "id": "9b21664c",
   "metadata": {},
   "outputs": [
    {
     "name": "stdout",
     "output_type": "stream",
     "text": [
      "영문자 1개 입력X\n",
      "x\n"
     ]
    }
   ],
   "source": [
    "#121\n",
    "x=input(\"영문자 1개 입력\")\n",
    "if x.islower() :\n",
    "    print(x.upper())\n",
    "else :\n",
    "    print(x.lower())"
   ]
  },
  {
   "cell_type": "code",
   "execution_count": 43,
   "id": "5ec06fff",
   "metadata": {},
   "outputs": [
    {
     "name": "stdout",
     "output_type": "stream",
     "text": [
      "점수는?20\n",
      "F\n"
     ]
    }
   ],
   "source": [
    "#122\n",
    "x=input(\"점수는?\")\n",
    "if int(x)>=81 :\n",
    "    print(\"A\")\n",
    "elif 80>=int(x)>=61 :\n",
    "    print(\"B\")\n",
    "elif 60>=int(x)>=41 :\n",
    "    print(\"C\")\n",
    "elif 40>=int(x)>=21 :\n",
    "    print(\"E\")\n",
    "else :\n",
    "    print(\"F\")"
   ]
  },
  {
   "cell_type": "code",
   "execution_count": 50,
   "id": "01fd0e2d",
   "metadata": {},
   "outputs": [
    {
     "name": "stdout",
     "output_type": "stream",
     "text": [
      "입력: 200 달러\n",
      "233400.0 원\n"
     ]
    }
   ],
   "source": [
    "#123\n",
    "ec={\"달러\": 1167,\n",
    "    \"엔\": 1.096,\n",
    "    \"유로\": 1268,\n",
    "    \"위안\": 171}\n",
    "x=input(\"입력: \")\n",
    "num, currency=x.split()\n",
    "print(float(num) * ec[currency],\"원\")"
   ]
  },
  {
   "cell_type": "code",
   "execution_count": 1,
   "id": "097731ce",
   "metadata": {},
   "outputs": [
    {
     "name": "stdout",
     "output_type": "stream",
     "text": [
      "1번숫자: 20\n",
      "2번숫자: 40\n",
      "3번숫자: 60\n",
      "60\n"
     ]
    }
   ],
   "source": [
    "#124\n",
    "n1 = input(\"1번숫자: \")\n",
    "n2 = input(\"2번숫자: \")\n",
    "n3 = input(\"3번숫자: \")\n",
    "n1 = int(n1)\n",
    "n2 = int(n2)\n",
    "n3 = int(n3)\n",
    "\n",
    "if n1 >= n2 and n1 >= n3:\n",
    "    print(n1)\n",
    "elif n2 >= n1 and n2 >= n3:\n",
    "    print(n2)\n",
    "else:\n",
    "    print(n3)"
   ]
  },
  {
   "cell_type": "code",
   "execution_count": 4,
   "id": "6d0f7b49",
   "metadata": {},
   "outputs": [
    {
     "name": "stdout",
     "output_type": "stream",
     "text": [
      "번호 입력: 011-7070-7070\n",
      "당신은 SKT 사용자입니다.\n"
     ]
    }
   ],
   "source": [
    "#125\n",
    "number = input(\"-포함 번호 입력: \")\n",
    "num = number.split(\"-\")[0]\n",
    "if num == \"011\":\n",
    "    com = \"SKT\"\n",
    "elif num == \"016\":\n",
    "    com = \"KT\"\n",
    "elif num == \"019\":\n",
    "    com = \"LGU\"\n",
    "else:\n",
    "    com = \"알수없음\"\n",
    "print(f\"당신은 {com} 사용자입니다.\")"
   ]
  },
  {
   "cell_type": "code",
   "execution_count": 5,
   "id": "6c18808f",
   "metadata": {},
   "outputs": [
    {
     "name": "stdout",
     "output_type": "stream",
     "text": [
      "우편번호: 01014\n",
      "강북구\n"
     ]
    }
   ],
   "source": [
    "#126\n",
    "우편번호 = input(\"우편번호: \")\n",
    "우편번호 = 우편번호[:3]\n",
    "if 우편번호 in [\"010\", \"011\", \"012\"]:\n",
    "    print(\"강북구\")\n",
    "elif 우편번호 in [\"014\", \"015\", \"016\"]:\n",
    "    print(\"도봉구\")\n",
    "else:\n",
    "    print(\"노원구\")"
   ]
  },
  {
   "cell_type": "code",
   "execution_count": 1,
   "id": "856d8c9b",
   "metadata": {},
   "outputs": [
    {
     "name": "stdout",
     "output_type": "stream",
     "text": [
      "주민등록번호: '-'까지 입력 990828-1162710\n",
      "남자\n"
     ]
    }
   ],
   "source": [
    "#127\n",
    "주민번호 = input(\"주민등록번호: '-'까지 입력 \")\n",
    "주민번호 = 주민번호.split(\"-\")[1]\n",
    "if 주민번호[0] == \"1\" or 주민번호[0] == \"3\":\n",
    "    print(\"남자\")\n",
    "else:\n",
    "    print(\"여자\")"
   ]
  },
  {
   "cell_type": "code",
   "execution_count": 2,
   "id": "b5b492c3",
   "metadata": {},
   "outputs": [
    {
     "name": "stdout",
     "output_type": "stream",
     "text": [
      "주민등록번호: '-'까지 입력 990828-1162710\n",
      "서울이 아닙니다.\n"
     ]
    }
   ],
   "source": [
    "#128\n",
    "주민번호 = input(\"주민등록번호: '-'까지 입력 \")\n",
    "뒷자리 = 주민번호.split(\"-\")[1]\n",
    "if 0 <= int(뒷자리[1:3]) <= 8:\n",
    "    print(\"서울입니다.\")\n",
    "else:\n",
    "    print(\"서울이 아닙니다.\")"
   ]
  },
  {
   "cell_type": "code",
   "execution_count": 5,
   "id": "24718854",
   "metadata": {},
   "outputs": [
    {
     "name": "stdout",
     "output_type": "stream",
     "text": [
      "주번990828-1234125\n",
      "낫유효 주번\n"
     ]
    }
   ],
   "source": [
    "#129 -\n",
    "x = input(\"주번\")\n",
    "r1 = int(x[0])*2+int(x[1])*3+int(x[2])*4+int(x[3])*5+int(x[4])*6+int(x[5])*7+int(x[7])*8+int(x[8])*9+int(x[9])*2+int(x[10])*3+int(x[11])*4+int(x[12])*5\n",
    "r2 = 11-(r1%11)\n",
    "r3= str(r2)\n",
    "if x[-1] == r3[-1]:\n",
    "    print(\"유호 주번\")\n",
    "else:\n",
    "    print(\"낫유효 주번\")"
   ]
  },
  {
   "cell_type": "code",
   "execution_count": 6,
   "id": "19f08915",
   "metadata": {},
   "outputs": [
    {
     "name": "stdout",
     "output_type": "stream",
     "text": [
      "상승장\n"
     ]
    }
   ],
   "source": [
    "#130 -\n",
    "import requests\n",
    "btc = requests.get(\"https://api.bithumb.com/public/ticker/\").json()['data']\n",
    "\n",
    "변동폭 = float(btc['max_price']) - float(btc['min_price'])\n",
    "시가 = float(btc['opening_price'])\n",
    "최고가 = float(btc['max_price'])\n",
    "\n",
    "if (시가+변동폭) > 최고가:\n",
    "    print(\"상승장\")\n",
    "else:\n",
    "    print(\"하락장\")"
   ]
  },
  {
   "cell_type": "code",
   "execution_count": null,
   "id": "739ad287",
   "metadata": {},
   "outputs": [],
   "source": [
    "#131\n",
    "#답 : 줄바꿈되고 문자열이 나열된다"
   ]
  },
  {
   "cell_type": "code",
   "execution_count": 8,
   "id": "ef89c5ec",
   "metadata": {},
   "outputs": [],
   "source": [
    "#132\n",
    "#답 :\n",
    "#####\n",
    "#####\n",
    "#####"
   ]
  },
  {
   "cell_type": "code",
   "execution_count": null,
   "id": "f9740087",
   "metadata": {},
   "outputs": [],
   "source": [
    "#133\n",
    "print(\"A\")\n",
    "print(\"B\")\n",
    "print(\"C\")"
   ]
  },
  {
   "cell_type": "code",
   "execution_count": null,
   "id": "fe9802ac",
   "metadata": {},
   "outputs": [],
   "source": [
    "#134\n",
    "print(\"출력:\", \"A\")\n",
    "print(\"출력:\", \"B\")\n",
    "print(\"출력:\", \"C\")"
   ]
  },
  {
   "cell_type": "code",
   "execution_count": null,
   "id": "21e6b0c6",
   "metadata": {},
   "outputs": [],
   "source": [
    "#135\n",
    "변수 = \"A\"\n",
    "b = 변수.lower()\n",
    "print(\"변환:\", b)\n",
    "변수 = \"B\"\n",
    "b = 변수.lower()\n",
    "print(\"변환:\", b)\n",
    "변수 = \"C\"\n",
    "b = 변수.lower()\n",
    "print(\"변환:\", b)"
   ]
  },
  {
   "cell_type": "code",
   "execution_count": 9,
   "id": "c98f1015",
   "metadata": {},
   "outputs": [
    {
     "name": "stdout",
     "output_type": "stream",
     "text": [
      "10\n",
      "20\n",
      "30\n"
     ]
    }
   ],
   "source": [
    "#136\n",
    "x=[10,20,30]\n",
    "for i in x :\n",
    "    print(i)"
   ]
  },
  {
   "cell_type": "code",
   "execution_count": null,
   "id": "f2e0b846",
   "metadata": {},
   "outputs": [],
   "source": [
    "#137\n",
    "x=[10,20,30]\n",
    "for i in x :\n",
    "    print(i)"
   ]
  },
  {
   "cell_type": "code",
   "execution_count": 11,
   "id": "d12f2d25",
   "metadata": {},
   "outputs": [
    {
     "name": "stdout",
     "output_type": "stream",
     "text": [
      "10\n",
      "------\n",
      "20\n",
      "------\n",
      "30\n",
      "------\n"
     ]
    }
   ],
   "source": [
    "#138\n",
    "x=[10,20,30]\n",
    "for i in x :\n",
    "    print(i)\n",
    "    print(\"------\")"
   ]
  },
  {
   "cell_type": "code",
   "execution_count": 12,
   "id": "03d3eb37",
   "metadata": {},
   "outputs": [
    {
     "name": "stdout",
     "output_type": "stream",
     "text": [
      "++++\n",
      "10\n",
      "20\n",
      "30\n"
     ]
    }
   ],
   "source": [
    "#139\n",
    "print(\"++++\")\n",
    "for i in [10, 20, 30]:\n",
    "  print(i)"
   ]
  },
  {
   "cell_type": "code",
   "execution_count": 14,
   "id": "955794bb",
   "metadata": {},
   "outputs": [
    {
     "ename": "TypeError",
     "evalue": "'int' object is not iterable",
     "output_type": "error",
     "traceback": [
      "\u001b[1;31m---------------------------------------------------------------------------\u001b[0m",
      "\u001b[1;31mTypeError\u001b[0m                                 Traceback (most recent call last)",
      "Cell \u001b[1;32mIn[14], line 3\u001b[0m\n\u001b[0;32m      1\u001b[0m \u001b[38;5;66;03m#140\u001b[39;00m\n\u001b[0;32m      2\u001b[0m k\u001b[38;5;241m=\u001b[39m\u001b[38;5;241m4\u001b[39m\n\u001b[1;32m----> 3\u001b[0m \u001b[38;5;28;01mfor\u001b[39;00m i \u001b[38;5;129;01min\u001b[39;00m \u001b[38;5;28mint\u001b[39m(k):\n\u001b[0;32m      4\u001b[0m   \u001b[38;5;28mprint\u001b[39m(\u001b[38;5;124m\"\u001b[39m\u001b[38;5;124m-------\u001b[39m\u001b[38;5;124m\"\u001b[39m)\n",
      "\u001b[1;31mTypeError\u001b[0m: 'int' object is not iterable"
     ]
    }
   ],
   "source": [
    "#140\n",
    "k=4\n",
    "for i in int(k):\n",
    "  print(\"-------\")"
   ]
  },
  {
   "cell_type": "code",
   "execution_count": 17,
   "id": "6de520fb",
   "metadata": {},
   "outputs": [
    {
     "name": "stdout",
     "output_type": "stream",
     "text": [
      "110\n",
      "210\n",
      "310\n"
     ]
    }
   ],
   "source": [
    "#141\n",
    "x=[100,200,300]\n",
    "for i in x :\n",
    "    print(i+10)"
   ]
  },
  {
   "cell_type": "code",
   "execution_count": 18,
   "id": "e437b4d9",
   "metadata": {},
   "outputs": [
    {
     "name": "stdout",
     "output_type": "stream",
     "text": [
      "오늘의 메뉴 : 김밥\n",
      "오늘의 메뉴 : 라면\n",
      "오늘의 메뉴 : 튀김\n"
     ]
    }
   ],
   "source": [
    "#142\n",
    "x=['김밥','라면','튀김']\n",
    "for i in x :\n",
    "    print(\"오늘의 메뉴 : \" + i)"
   ]
  },
  {
   "cell_type": "code",
   "execution_count": 21,
   "id": "f2ae1843",
   "metadata": {},
   "outputs": [
    {
     "name": "stdout",
     "output_type": "stream",
     "text": [
      "6\n",
      "4\n",
      "4\n"
     ]
    }
   ],
   "source": [
    "#143\n",
    "x = [\"SK하이닉스\", \"삼성전자\", \"LG전자\"]\n",
    "for i in x:\n",
    "    print(len(i))"
   ]
  },
  {
   "cell_type": "code",
   "execution_count": 22,
   "id": "044720bf",
   "metadata": {},
   "outputs": [
    {
     "name": "stdout",
     "output_type": "stream",
     "text": [
      "dog 3\n",
      "cat 3\n",
      "parrot 6\n"
     ]
    }
   ],
   "source": [
    "#144\n",
    "x = ['dog', 'cat', 'parrot']\n",
    "for i in x:\n",
    "    print(i,len(i))"
   ]
  },
  {
   "cell_type": "code",
   "execution_count": 23,
   "id": "464f421a",
   "metadata": {},
   "outputs": [
    {
     "name": "stdout",
     "output_type": "stream",
     "text": [
      "d\n",
      "c\n",
      "p\n"
     ]
    }
   ],
   "source": [
    "#145\n",
    "x = ['dog', 'cat', 'parrot']\n",
    "for i in x:\n",
    "    print(i[0])"
   ]
  },
  {
   "cell_type": "code",
   "execution_count": 24,
   "id": "4b5b7770",
   "metadata": {},
   "outputs": [
    {
     "name": "stdout",
     "output_type": "stream",
     "text": [
      "3 x 1\n",
      "3 x 2\n",
      "3 x 3\n"
     ]
    }
   ],
   "source": [
    "#146\n",
    "x = [1, 2, 3]\n",
    "for i in x:\n",
    "  print(\"3 x\", i)"
   ]
  },
  {
   "cell_type": "code",
   "execution_count": 25,
   "id": "0013bf1e",
   "metadata": {},
   "outputs": [
    {
     "name": "stdout",
     "output_type": "stream",
     "text": [
      "3 x 1 = 3\n",
      "3 x 2 = 6\n",
      "3 x 3 = 9\n"
     ]
    }
   ],
   "source": [
    "#147\n",
    "x = [1, 2, 3]\n",
    "for i in x:\n",
    "  print(\"3 x\", i, \"=\", 3*i)"
   ]
  },
  {
   "cell_type": "code",
   "execution_count": 26,
   "id": "f15eef98",
   "metadata": {},
   "outputs": [
    {
     "name": "stdout",
     "output_type": "stream",
     "text": [
      "나\n",
      "다\n",
      "라\n"
     ]
    }
   ],
   "source": [
    "#148\n",
    "x = [\"가\", \"나\", \"다\", \"라\"]\n",
    "for i in x[1:]:\n",
    "  print(i)"
   ]
  },
  {
   "cell_type": "code",
   "execution_count": 30,
   "id": "a8e2ec7f",
   "metadata": {},
   "outputs": [
    {
     "name": "stdout",
     "output_type": "stream",
     "text": [
      "가\n",
      "다\n"
     ]
    }
   ],
   "source": [
    "#149\n",
    "x = [\"가\", \"나\", \"다\", \"라\"]\n",
    "for i in x[::2]:\n",
    "  print(i)"
   ]
  },
  {
   "cell_type": "code",
   "execution_count": 29,
   "id": "4d563f5d",
   "metadata": {},
   "outputs": [
    {
     "name": "stdout",
     "output_type": "stream",
     "text": [
      "라\n",
      "다\n",
      "나\n",
      "가\n"
     ]
    }
   ],
   "source": [
    "x = [\"가\", \"나\", \"다\", \"라\"]\n",
    "for i in x[::-1]:\n",
    "  print(i)"
   ]
  }
 ],
 "metadata": {
  "kernelspec": {
   "display_name": "Python 3 (ipykernel)",
   "language": "python",
   "name": "python3"
  },
  "language_info": {
   "codemirror_mode": {
    "name": "ipython",
    "version": 3
   },
   "file_extension": ".py",
   "mimetype": "text/x-python",
   "name": "python",
   "nbconvert_exporter": "python",
   "pygments_lexer": "ipython3",
   "version": "3.11.5"
  }
 },
 "nbformat": 4,
 "nbformat_minor": 5
}
