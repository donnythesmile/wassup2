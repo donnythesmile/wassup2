{
 "cells": [
  {
   "cell_type": "code",
   "execution_count": 2,
   "id": "8d90fb4a",
   "metadata": {},
   "outputs": [],
   "source": [
    "#251\n",
    "```\n",
    "답 : 클래스는 파이썬에서 존재하는 하나의 타입이다. \n",
    "클래스는 빵틀, 객체는 빵틀로 찍어낸 빵으로 비교할 수 있다. \n",
    "클래스에서 만들어진 객체를 인스턴스라고하는데 인스턴스에는 객체마다 고유한 성격을 가진다는 특징이 있다.\n",
    "동일한 클래스로 만든 객체들은 서로 전혀 영향을 주지 않는다.\n",
    "``` "
   ]
  },
  {
   "cell_type": "code",
   "execution_count": 4,
   "id": "6e8a363a",
   "metadata": {},
   "outputs": [],
   "source": [
    "#252\n",
    "class Human : #클래스의 첫글자는 무조건 대문자를 사용하여 구분해준다\n",
    "    pass\n"
   ]
  },
  {
   "cell_type": "code",
   "execution_count": 5,
   "id": "96b0ef7c",
   "metadata": {},
   "outputs": [],
   "source": [
    "#253\n",
    "class Human:\n",
    "    pass\n",
    "\n",
    "areum = Human()"
   ]
  },
  {
   "cell_type": "code",
   "execution_count": 9,
   "id": "8c544f32",
   "metadata": {},
   "outputs": [
    {
     "name": "stdout",
     "output_type": "stream",
     "text": [
      "응애응애\n"
     ]
    }
   ],
   "source": [
    "#254\n",
    "class Human:\n",
    "    def __init__(self):\n",
    "        print(\"응애응애\")\n",
    "\n",
    "areum = Human()"
   ]
  },
  {
   "cell_type": "code",
   "execution_count": 13,
   "id": "5ef26a0e",
   "metadata": {},
   "outputs": [
    {
     "name": "stdout",
     "output_type": "stream",
     "text": [
      "아름 25 여자\n"
     ]
    }
   ],
   "source": [
    "#255\n",
    "class Human:\n",
    "    def __init__(self,name,age,sex):\n",
    "        self.name = name\n",
    "        self.age = age\n",
    "        self.sex = sex\n",
    "\n",
    "\n"
   ]
  },
  {
   "cell_type": "code",
   "execution_count": 15,
   "id": "e1374df9",
   "metadata": {},
   "outputs": [
    {
     "name": "stdout",
     "output_type": "stream",
     "text": [
      "아름 25 여자\n"
     ]
    }
   ],
   "source": [
    "#256\n",
    "print(areum.name,areum.age,areum.sex)"
   ]
  },
  {
   "cell_type": "code",
   "execution_count": 22,
   "id": "054cd57f",
   "metadata": {},
   "outputs": [
    {
     "name": "stdout",
     "output_type": "stream",
     "text": [
      "이름: 조아름 나이: 25 성별: 여자\n"
     ]
    }
   ],
   "source": [
    "#257\n",
    "class Human:\n",
    "    def __init__(self,name,age,sex):\n",
    "        self.name = name\n",
    "        self.age = age\n",
    "        self.sex = sex\n",
    "        \n",
    "    def who(self):\n",
    "        print(\"이름:\",self.name,\"나이:\",self.age,\"성별:\",self.sex)\n",
    "\n",
    "areum = Human(\"조아름\",25,\"여자\")\n",
    "\n",
    "areum.who()"
   ]
  },
  {
   "cell_type": "code",
   "execution_count": 38,
   "id": "f8c6a3bd",
   "metadata": {},
   "outputs": [
    {
     "name": "stdout",
     "output_type": "stream",
     "text": [
      "이름: 모름 나이: 0 성별: 모름\n",
      "이름: 아름 나이: 25 성별: 여자\n"
     ]
    }
   ],
   "source": [
    "#258\n",
    "class Human:\n",
    "    def __init__(self,name,age,sex):\n",
    "        self.name = name\n",
    "        self.age = age\n",
    "        self.sex = sex\n",
    "        \n",
    "    def who(self):\n",
    "        print(\"이름:\",self.name,\"나이:\",self.age,\"성별:\",self.sex)\n",
    "    \n",
    "    def setinfo(self,name,age,sex):\n",
    "        self.name = name\n",
    "        self.age = age\n",
    "        self.sex = sex\n",
    "    \n",
    "    \n",
    "\n",
    "areum = Human(\"모름\", 0, \"모름\")\n",
    "areum.who()\n",
    "\n",
    "\n",
    "areum.setinfo(\"아름\", 25, \"여자\")\n",
    "areum.who()"
   ]
  },
  {
   "cell_type": "code",
   "execution_count": 39,
   "id": "4c33525f",
   "metadata": {},
   "outputs": [
    {
     "name": "stdout",
     "output_type": "stream",
     "text": [
      "나의 죽음을 알리지마라\n"
     ]
    }
   ],
   "source": [
    "#259\n",
    "#소멸자는 객체가 소멸될 때 자동으로 실행되는 클래스의 멤버 함수다.\n",
    "\n",
    "class Human:\n",
    "    def __init__(self,name,age,sex):\n",
    "        self.name = name\n",
    "        self.age = age\n",
    "        self.sex = sex\n",
    "        \n",
    "    def who(self):\n",
    "        print(\"이름:\",self.name,\"나이:\",self.age,\"성별:\",self.sex)\n",
    "    \n",
    "    def setinfo(self,name,age,sex):\n",
    "        self.name = name\n",
    "        self.age = age\n",
    "        self.sex = sex\n",
    "    \n",
    "    def __del__(self):\n",
    "        print(\"나의 죽음을 알리지마라\")\n",
    "\n",
    "areum = Human(\"아름\", 25, \"여자\")\n",
    "del(areum)"
   ]
  },
  {
   "cell_type": "code",
   "execution_count": 47,
   "id": "ba168535",
   "metadata": {},
   "outputs": [
    {
     "name": "stdout",
     "output_type": "stream",
     "text": [
      "Oh my god\n"
     ]
    }
   ],
   "source": [
    "#260\n",
    "#답 : 메서드를 정의할때 print() 안에 self를 안써줘서\n",
    "class OMG :\n",
    "    def print(self) :\n",
    "        print(\"Oh my god\")\n",
    "\n",
    "\n",
    "mystock = OMG()\n",
    "mystock.print()      # OMG.print(mystock)"
   ]
  },
  {
   "cell_type": "code",
   "execution_count": null,
   "id": "f7e3a9e3",
   "metadata": {},
   "outputs": [],
   "source": [
    "#261\n",
    "class Stock :\n",
    "    pass"
   ]
  },
  {
   "cell_type": "code",
   "execution_count": 48,
   "id": "f2d6b691",
   "metadata": {},
   "outputs": [
    {
     "name": "stdout",
     "output_type": "stream",
     "text": [
      "삼성전자 005930\n"
     ]
    }
   ],
   "source": [
    "#262\n",
    "class Stock :\n",
    "    def __init__(self,name,code):\n",
    "        self.name = name\n",
    "        self.code = code\n",
    "삼성 = Stock(\"삼성전자\",\"005930\")\n",
    "print(삼성.name,삼성.code)"
   ]
  },
  {
   "cell_type": "code",
   "execution_count": 53,
   "id": "2d1b4465",
   "metadata": {},
   "outputs": [
    {
     "name": "stdout",
     "output_type": "stream",
     "text": [
      "None\n",
      "삼성전자\n"
     ]
    }
   ],
   "source": [
    "#263\n",
    "class Stock :\n",
    "    def __init__(self,name,code):\n",
    "        self.name = name\n",
    "        self.code = code\n",
    "    \n",
    "    def set_name(self,name):\n",
    "        self.name = name\n",
    "\n",
    "a=Stock(None,None)\n",
    "print(a.name)\n",
    "a.set_name(\"삼성전자\")\n",
    "print(a.name)"
   ]
  },
  {
   "cell_type": "code",
   "execution_count": 54,
   "id": "f23d1d4c",
   "metadata": {},
   "outputs": [
    {
     "name": "stdout",
     "output_type": "stream",
     "text": [
      "None\n",
      "005930\n"
     ]
    }
   ],
   "source": [
    "#264\n",
    "class Stock :\n",
    "    def __init__(self,name,code):\n",
    "        self.name = name\n",
    "        self.code = code\n",
    "    \n",
    "    def set_name(self,name):\n",
    "        self.name = name\n",
    "    \n",
    "    def set_code(self,code):\n",
    "        self.code = code\n",
    "\n",
    "a=Stock(None,None)\n",
    "print(a.code)\n",
    "a.set_code(\"005930\")\n",
    "print(a.code)"
   ]
  },
  {
   "cell_type": "code",
   "execution_count": 59,
   "id": "3da9eaa4",
   "metadata": {},
   "outputs": [
    {
     "name": "stdout",
     "output_type": "stream",
     "text": [
      "005930 삼성전자\n",
      "삼성전자 005930\n"
     ]
    }
   ],
   "source": [
    "#265 -\n",
    "class Stock :\n",
    "    def __init__(self,name,code):\n",
    "        self.name = name\n",
    "        self.code = code\n",
    "    \n",
    "    def set_name(self,name):\n",
    "        self.name = name\n",
    "    \n",
    "    def set_code(self,code):\n",
    "        self.code = code\n",
    "    \n",
    "    def get_name(self):\n",
    "        return self.name\n",
    "    \n",
    "    def get_code(self):\n",
    "        return self.code\n",
    "\n",
    "삼성 = Stock(\"삼성전자\", \"005930\")\n",
    "\n",
    "print(삼성.code,삼성.name)\n",
    "print(삼성.get_name(),삼성.get_code())"
   ]
  },
  {
   "cell_type": "code",
   "execution_count": 61,
   "id": "31f504f1",
   "metadata": {},
   "outputs": [],
   "source": [
    "#266\n",
    "class Stock :\n",
    "    def __init__(self,name,code,per,pbr,bs):\n",
    "        self.name = name\n",
    "        self.code = code\n",
    "        self.per = per\n",
    "        self.pbr = pbr\n",
    "        self.bs = bs\n",
    "    \n",
    "    def set_name(self,name):\n",
    "        self.name = name\n",
    "    \n",
    "    def set_code(self,code):\n",
    "        self.code = code\n",
    "    \n",
    "    def get_name(self):\n",
    "        return self.name\n",
    "    \n",
    "    def get_code(self):\n",
    "        return self.code"
   ]
  },
  {
   "cell_type": "code",
   "execution_count": 64,
   "id": "53fadd28",
   "metadata": {},
   "outputs": [
    {
     "name": "stdout",
     "output_type": "stream",
     "text": [
      "15.79 1.33 2.83\n"
     ]
    }
   ],
   "source": [
    "#267\n",
    "객체1 = Stock(\"삼성전자\",\"005930\",15.79,1.33,2.83)\n",
    "print(객체1.per,객체1.pbr,객체1.bs)"
   ]
  },
  {
   "cell_type": "code",
   "execution_count": 65,
   "id": "30a4e76f",
   "metadata": {},
   "outputs": [],
   "source": [
    "#268\n",
    "class Stock :\n",
    "    def __init__(self,name,code,per,pbr,bs):\n",
    "        self.name = name\n",
    "        self.code = code\n",
    "        self.per = per\n",
    "        self.pbr = pbr\n",
    "        self.bs = bs\n",
    "    \n",
    "    def set_name(self,name):\n",
    "        self.name = name\n",
    "    \n",
    "    def set_code(self,code):\n",
    "        self.code = code\n",
    "    \n",
    "    def get_name(self):\n",
    "        return self.name\n",
    "    \n",
    "    def get_code(self):\n",
    "        return self.code\n",
    "    \n",
    "    def set_per(self, per):\n",
    "        self.per = per\n",
    "\n",
    "    def set_pbr(self, pbr):\n",
    "        self.pbr = pbr\n",
    "\n",
    "    def set_bs(self, bs):\n",
    "        self.bs = bs"
   ]
  },
  {
   "cell_type": "code",
   "execution_count": 67,
   "id": "35f87ce9",
   "metadata": {},
   "outputs": [
    {
     "name": "stdout",
     "output_type": "stream",
     "text": [
      "12.75\n"
     ]
    }
   ],
   "source": [
    "#269\n",
    "객체1 = Stock(\"삼성전자\", \"005930\", 15.79, 1.33, 2.83)\n",
    "객체1.set_per(12.75)\n",
    "print(객체1.per)"
   ]
  },
  {
   "cell_type": "code",
   "execution_count": 70,
   "id": "3905e7b0",
   "metadata": {},
   "outputs": [
    {
     "name": "stdout",
     "output_type": "stream",
     "text": [
      "005930 1.33\n",
      "005380 0.35\n",
      "066570 0.69\n"
     ]
    }
   ],
   "source": [
    "#270\n",
    "list1 = []\n",
    "\n",
    "삼성 = Stock(\"삼성전자\", \"005930\", 15.79, 1.33, 2.83)\n",
    "현대차 = Stock(\"현대차\", \"005380\", 8.70, 0.35, 4.27)\n",
    "LG전자 = Stock(\"LG전자\", \"066570\", 317.34, 0.69, 1.37)\n",
    "\n",
    "list1.append(삼성)\n",
    "list1.append(현대차)\n",
    "list1.append(LG전자)\n",
    "\n",
    "for i in list1:\n",
    "    print(i.code,i.pbr)"
   ]
  },
  {
   "cell_type": "code",
   "execution_count": 76,
   "id": "5b9b0fe4",
   "metadata": {},
   "outputs": [
    {
     "name": "stdout",
     "output_type": "stream",
     "text": [
      "donny\n",
      "3000\n",
      "은행이름: SC은행\n",
      "계좌번호: 256-07-115444\n",
      "None\n"
     ]
    }
   ],
   "source": [
    "#271\n",
    "import random\n",
    "\n",
    "class Account :\n",
    "    \n",
    "    def __init__(self,name,fm):\n",
    "        self.name = name\n",
    "        self.fm = fm\n",
    "        self.bank = \"SC은행\"\n",
    "        n1=random.randint(0,999)\n",
    "        n2=random.randint(0,99)\n",
    "        n3=random.randint(0,999999)\n",
    "        \n",
    "        n1= str(n1).zfill(3) #zfill = 0을 채워줌\n",
    "        n2= str(n2).zfill(2)\n",
    "        n3= str(n3).zfill(6)\n",
    "        self.an = n1+'-'+n2+'-'+n3\n",
    "    \n",
    "    def output(self):\n",
    "        print(\"은행이름:\",self.bank)\n",
    "        print(\"계좌번호:\",self.an)\n",
    "        \n",
    "donny = Account(\"donny\",3000)\n",
    "\n",
    "print(donny.name)\n",
    "print(donny.fm)\n",
    "donny.output() #output\n"
   ]
  },
  {
   "cell_type": "code",
   "execution_count": 83,
   "id": "8c73972b",
   "metadata": {},
   "outputs": [
    {
     "name": "stdout",
     "output_type": "stream",
     "text": [
      "1\n",
      "2\n"
     ]
    }
   ],
   "source": [
    "#272\n",
    "import random\n",
    "\n",
    "class Account :\n",
    "    ac=0\n",
    "    \n",
    "    def __init__(self,name,fm):\n",
    "        self.name = name\n",
    "        self.fm = fm\n",
    "        self.bank = \"SC은행\"\n",
    "        n1=random.randint(0,999)\n",
    "        n2=random.randint(0,99)\n",
    "        n3=random.randint(0,999999)\n",
    "        \n",
    "        n1= str(n1).zfill(3) #zfill = 0을 채워줌\n",
    "        n2= str(n2).zfill(2)\n",
    "        n3= str(n3).zfill(6)\n",
    "        self.an = n1+'-'+n2+'-'+n3\n",
    "        \n",
    "        Account.ac += 1\n",
    "    \n",
    "    def output(self):\n",
    "        print(\"은행이름:\",self.bank)\n",
    "        print(\"계좌번호:\",self.an)\n",
    "        \n",
    "donny = Account(\"donny\",3000)\n",
    "print(Account.ac)\n",
    "hyunsong = Account(\"hyunsong\",10)\n",
    "print(Account.ac)"
   ]
  },
  {
   "cell_type": "code",
   "execution_count": 82,
   "id": "3b5e92ca",
   "metadata": {},
   "outputs": [
    {
     "name": "stdout",
     "output_type": "stream",
     "text": [
      "1\n",
      "2\n"
     ]
    }
   ],
   "source": [
    "#273\n",
    "import random\n",
    "\n",
    "class Account :\n",
    "    ac=0\n",
    "    \n",
    "    def __init__(self,name,fm):\n",
    "        self.name = name\n",
    "        self.fm = fm\n",
    "        self.bank = \"SC은행\"\n",
    "        n1=random.randint(0,999)\n",
    "        n2=random.randint(0,99)\n",
    "        n3=random.randint(0,999999)\n",
    "        \n",
    "        n1= str(n1).zfill(3) #zfill = 0을 채워줌\n",
    "        n2= str(n2).zfill(2)\n",
    "        n3= str(n3).zfill(6)\n",
    "        self.an = n1+'-'+n2+'-'+n3\n",
    "        \n",
    "        Account.ac += 1\n",
    "    \n",
    "    def output(self):\n",
    "        print(\"은행이름:\",self.bank)\n",
    "        print(\"계좌번호:\",self.an)\n",
    "    \n",
    "    def acnum(result):\n",
    "        print(result.ac)\n",
    "        \n",
    "donny = Account(\"donny\",3000)\n",
    "donny.acnum()\n",
    "hyunsong = Account(\"hyunsong\",10)\n",
    "hyunsong.acnum()"
   ]
  },
  {
   "cell_type": "code",
   "execution_count": 90,
   "id": "9fecb60f",
   "metadata": {},
   "outputs": [],
   "source": [
    "#274\n",
    "import random\n",
    "\n",
    "class Account :\n",
    "    ac=0\n",
    "    \n",
    "    def __init__(self,name,fm):\n",
    "        self.name = name\n",
    "        self.fm = fm\n",
    "        self.bank = \"SC은행\"\n",
    "        n1=random.randint(0,999)\n",
    "        n2=random.randint(0,99)\n",
    "        n3=random.randint(0,999999)\n",
    "        \n",
    "        n1= str(n1).zfill(3) #zfill = 0을 채워줌\n",
    "        n2= str(n2).zfill(2)\n",
    "        n3= str(n3).zfill(6)\n",
    "        self.an = n1+'-'+n2+'-'+n3\n",
    "        \n",
    "        Account.ac += 1\n",
    "    \n",
    "    def output(self):\n",
    "        print(\"은행이름:\",self.bank)\n",
    "        print(\"계좌번호:\",self.an)\n",
    "    \n",
    "    def acnum(result):\n",
    "        print(result.ac)\n",
    "    \n",
    "    def dep(self,amount):\n",
    "        if amount>=1:\n",
    "            self.fm += amount"
   ]
  },
  {
   "cell_type": "code",
   "execution_count": 89,
   "id": "ebe3d565",
   "metadata": {},
   "outputs": [
    {
     "name": "stdout",
     "output_type": "stream",
     "text": [
      "3000\n"
     ]
    }
   ],
   "source": [
    "#275\n",
    "import random\n",
    "\n",
    "class Account :\n",
    "    ac=0\n",
    "    \n",
    "    def __init__(self,name,fm):\n",
    "        self.name = name\n",
    "        self.fm = fm\n",
    "        self.bank = \"SC은행\"\n",
    "        n1=random.randint(0,999)\n",
    "        n2=random.randint(0,99)\n",
    "        n3=random.randint(0,999999)\n",
    "        \n",
    "        n1= str(n1).zfill(3) #zfill = 0을 채워줌\n",
    "        n2= str(n2).zfill(2)\n",
    "        n3= str(n3).zfill(6)\n",
    "        self.an = n1+'-'+n2+'-'+n3\n",
    "        \n",
    "        Account.ac += 1\n",
    "    \n",
    "    def output(self):\n",
    "        print(\"은행이름:\",self.bank)\n",
    "        print(\"계좌번호:\",self.an)\n",
    "    \n",
    "    def acnum(result):\n",
    "        print(result.ac)\n",
    "    \n",
    "    def dep(self,amount):\n",
    "        if amount>=1:\n",
    "            self.fm += amount\n",
    "    \n",
    "    def wid(self,amount):\n",
    "        if amount<self.fm:\n",
    "            self.fm -= amount\n",
    "\n",
    "k = Account(\"kim\", 100)\n",
    "k.dep(3000)\n",
    "k.wid(100)\n",
    "print(k.fm)\n"
   ]
  },
  {
   "cell_type": "code",
   "execution_count": 92,
   "id": "251a7e24",
   "metadata": {},
   "outputs": [
    {
     "name": "stdout",
     "output_type": "stream",
     "text": [
      "은행이름:  SC은행\n",
      "예금주:  파이썬\n",
      "계좌번호:  915-74-920642\n",
      "잔고:  10,000\n"
     ]
    }
   ],
   "source": [
    "#276\n",
    "import random\n",
    "\n",
    "class Account :\n",
    "    ac=0\n",
    "    \n",
    "    def __init__(self,name,fm):\n",
    "        self.name = name\n",
    "        self.fm = fm\n",
    "        self.bank = \"SC은행\"\n",
    "        n1=random.randint(0,999)\n",
    "        n2=random.randint(0,99)\n",
    "        n3=random.randint(0,999999)\n",
    "        \n",
    "        n1= str(n1).zfill(3) #zfill = 0을 채워줌\n",
    "        n2= str(n2).zfill(2)\n",
    "        n3= str(n3).zfill(6)\n",
    "        self.an = n1+'-'+n2+'-'+n3\n",
    "        \n",
    "        Account.ac += 1\n",
    "    \n",
    "    def output(self):\n",
    "        print(\"은행이름:\",self.bank)\n",
    "        print(\"계좌번호:\",self.an)\n",
    "    \n",
    "    def acnum(result):\n",
    "        print(result.ac)\n",
    "    \n",
    "    def dep(self,amount):\n",
    "        if amount>=1:\n",
    "            self.fm += amount\n",
    "    \n",
    "    def wid(self,amount):\n",
    "        if amount<self.fm:\n",
    "            self.fm -= amount\n",
    "            \n",
    "    def display_info(self):\n",
    "        print(\"은행이름: \", self.bank)\n",
    "        print(\"예금주: \", self.name)\n",
    "        print(\"계좌번호: \", self.an)\n",
    "        print(\"잔고: \", f\"{self.fm:,}\")\n",
    "\n",
    "p = Account(\"파이썬\", 10000)\n",
    "p.display_info()\n"
   ]
  },
  {
   "cell_type": "code",
   "execution_count": null,
   "id": "a63926de",
   "metadata": {},
   "outputs": [],
   "source": [
    "#277\n",
    "import random\n",
    "\n",
    "class Account :\n",
    "    ac=0\n",
    "    \n",
    "    def __init__(self,name,fm):\n",
    "        self.name = name\n",
    "        self.fm = fm\n",
    "        self.bank = \"SC은행\"\n",
    "        n1=random.randint(0,999)\n",
    "        n2=random.randint(0,99)\n",
    "        n3=random.randint(0,999999)\n",
    "        \n",
    "        n1= str(n1).zfill(3) #zfill = 0을 채워줌\n",
    "        n2= str(n2).zfill(2)\n",
    "        n3= str(n3).zfill(6)\n",
    "        self.an = n1+'-'+n2+'-'+n3\n",
    "        \n",
    "        Account.ac += 1\n",
    "    \n",
    "    def output(self):\n",
    "        print(\"은행이름:\",self.bank)\n",
    "        print(\"계좌번호:\",self.an)\n",
    "    \n",
    "    def acnum(result):\n",
    "        print(result.ac)\n",
    "    \n",
    "    def dep(self,amount):\n",
    "        if amount>=1:\n",
    "            self.fm += amount\n",
    "            \n",
    "            self.dep +=1\n",
    "            if self.dep%5==0: #입금 5번하면 1%이자\n",
    "                self.fm=(self.fm*1.01) \n",
    "    \n",
    "    def wid(self,amount):\n",
    "        if amount<self.fm:\n",
    "            self.fm -= amount\n",
    "            \n",
    "    def display_info(self):\n",
    "        print(\"은행이름: \", self.bank)\n",
    "        print(\"예금주: \", self.name)\n",
    "        print(\"계좌번호: \", self.an)\n",
    "        print(\"잔고: \", f\"{self.fm:,}\")"
   ]
  },
  {
   "cell_type": "code",
   "execution_count": 93,
   "id": "4cb3c6bb",
   "metadata": {},
   "outputs": [
    {
     "name": "stdout",
     "output_type": "stream",
     "text": [
      "[<__main__.Account object at 0x00000169D6A65D90>, <__main__.Account object at 0x00000169D698ECD0>, <__main__.Account object at 0x00000169D68714D0>]\n"
     ]
    }
   ],
   "source": [
    "#278\n",
    "import random\n",
    "\n",
    "class Account :\n",
    "    ac=0\n",
    "    \n",
    "    def __init__(self,name,fm):\n",
    "        self.name = name\n",
    "        self.fm = fm\n",
    "        self.bank = \"SC은행\"\n",
    "        n1=random.randint(0,999)\n",
    "        n2=random.randint(0,99)\n",
    "        n3=random.randint(0,999999)\n",
    "        \n",
    "        n1= str(n1).zfill(3) #zfill = 0을 채워줌\n",
    "        n2= str(n2).zfill(2)\n",
    "        n3= str(n3).zfill(6)\n",
    "        self.an = n1+'-'+n2+'-'+n3\n",
    "        \n",
    "        Account.ac += 1\n",
    "    \n",
    "    def output(self):\n",
    "        print(\"은행이름:\",self.bank)\n",
    "        print(\"계좌번호:\",self.an)\n",
    "    \n",
    "    def acnum(result):\n",
    "        print(result.ac)\n",
    "    \n",
    "    def dep(self,amount):\n",
    "        if amount>=1:\n",
    "            self.fm += amount\n",
    "            \n",
    "            self.dep +=1\n",
    "            if self.dep%5==0: #입금 5번하면 1%이자\n",
    "                self.fm=(self.fm*1.01) \n",
    "    \n",
    "    def wid(self,amount):\n",
    "        if amount<self.fm:\n",
    "            self.fm -= amount\n",
    "            \n",
    "    def display_info(self):\n",
    "        print(\"은행이름: \", self.bank)\n",
    "        print(\"예금주: \", self.name)\n",
    "        print(\"계좌번호: \", self.an)\n",
    "        print(\"잔고: \", f\"{self.fm:,}\")\n",
    "\n",
    "data = []\n",
    "k = Account(\"KIM\", 10000000)\n",
    "l = Account(\"LEE\", 10000)\n",
    "p = Account(\"PARK\", 10000)\n",
    "\n",
    "data.append(k)\n",
    "data.append(l)\n",
    "data.append(p)\n",
    "\n",
    "print(data)\n"
   ]
  },
  {
   "cell_type": "code",
   "execution_count": 94,
   "id": "d62083e5",
   "metadata": {},
   "outputs": [
    {
     "name": "stdout",
     "output_type": "stream",
     "text": [
      "은행이름:  SC은행\n",
      "예금주:  KIM\n",
      "계좌번호:  650-29-217191\n",
      "잔고:  10,000,000\n"
     ]
    }
   ],
   "source": [
    "#279\n",
    "import random\n",
    "\n",
    "class Account :\n",
    "    ac=0\n",
    "    \n",
    "    def __init__(self,name,fm):\n",
    "        self.name = name\n",
    "        self.fm = fm\n",
    "        self.bank = \"SC은행\"\n",
    "        n1=random.randint(0,999)\n",
    "        n2=random.randint(0,99)\n",
    "        n3=random.randint(0,999999)\n",
    "        \n",
    "        n1= str(n1).zfill(3) #zfill = 0을 채워줌\n",
    "        n2= str(n2).zfill(2)\n",
    "        n3= str(n3).zfill(6)\n",
    "        self.an = n1+'-'+n2+'-'+n3\n",
    "        \n",
    "        Account.ac += 1\n",
    "    \n",
    "    def output(self):\n",
    "        print(\"은행이름:\",self.bank)\n",
    "        print(\"계좌번호:\",self.an)\n",
    "    \n",
    "    def acnum(result):\n",
    "        print(result.ac)\n",
    "    \n",
    "    def dep(self,amount):\n",
    "        if amount>=1:\n",
    "            self.fm += amount\n",
    "            \n",
    "            self.dep +=1\n",
    "            if self.dep%5==0: #입금 5번하면 1%이자\n",
    "                self.fm=(self.fm*1.01) \n",
    "    \n",
    "    def wid(self,amount):\n",
    "        if amount<self.fm:\n",
    "            self.fm -= amount\n",
    "            \n",
    "    def display_info(self):\n",
    "        print(\"은행이름: \", self.bank)\n",
    "        print(\"예금주: \", self.name)\n",
    "        print(\"계좌번호: \", self.an)\n",
    "        print(\"잔고: \", f\"{self.fm:,}\")\n",
    "\n",
    "data = []\n",
    "k = Account(\"KIM\", 10000000)\n",
    "l = Account(\"LEE\", 10000)\n",
    "p = Account(\"PARK\", 10000)\n",
    "\n",
    "data.append(k)\n",
    "data.append(l)\n",
    "data.append(p)\n",
    "\n",
    "for c in data:\n",
    "    if c.fm >= 1000000:\n",
    "        c.display_info()"
   ]
  },
  {
   "cell_type": "code",
   "execution_count": 104,
   "id": "d4962844",
   "metadata": {},
   "outputs": [
    {
     "ename": "AttributeError",
     "evalue": "'Account' object has no attribute 'deposit_log'",
     "output_type": "error",
     "traceback": [
      "\u001b[1;31m---------------------------------------------------------------------------\u001b[0m",
      "\u001b[1;31mAttributeError\u001b[0m                            Traceback (most recent call last)",
      "Cell \u001b[1;32mIn[104], line 58\u001b[0m\n\u001b[0;32m     54\u001b[0m             \u001b[38;5;28mprint\u001b[39m(amount)\n\u001b[0;32m     57\u001b[0m k \u001b[38;5;241m=\u001b[39m Account(\u001b[38;5;124m\"\u001b[39m\u001b[38;5;124mKim\u001b[39m\u001b[38;5;124m\"\u001b[39m, \u001b[38;5;241m1000\u001b[39m)\n\u001b[1;32m---> 58\u001b[0m k\u001b[38;5;241m.\u001b[39mdep(\u001b[38;5;241m100\u001b[39m)\n",
      "Cell \u001b[1;32mIn[104], line 31\u001b[0m, in \u001b[0;36mAccount.dep\u001b[1;34m(self, amount)\u001b[0m\n\u001b[0;32m     29\u001b[0m \u001b[38;5;28;01mdef\u001b[39;00m \u001b[38;5;21mdep\u001b[39m(\u001b[38;5;28mself\u001b[39m,amount):\n\u001b[0;32m     30\u001b[0m     \u001b[38;5;28;01mif\u001b[39;00m amount\u001b[38;5;241m>\u001b[39m\u001b[38;5;241m=\u001b[39m\u001b[38;5;241m1\u001b[39m:\n\u001b[1;32m---> 31\u001b[0m         \u001b[38;5;28mself\u001b[39m\u001b[38;5;241m.\u001b[39mdeposit_log\u001b[38;5;241m.\u001b[39mappend(amount)\n\u001b[0;32m     32\u001b[0m         \u001b[38;5;28mself\u001b[39m\u001b[38;5;241m.\u001b[39mfm \u001b[38;5;241m+\u001b[39m\u001b[38;5;241m=\u001b[39m amount\n\u001b[0;32m     34\u001b[0m         \u001b[38;5;28mself\u001b[39m\u001b[38;5;241m.\u001b[39mdepc \u001b[38;5;241m+\u001b[39m\u001b[38;5;241m=\u001b[39m\u001b[38;5;241m1\u001b[39m\n",
      "\u001b[1;31mAttributeError\u001b[0m: 'Account' object has no attribute 'deposit_log'"
     ]
    }
   ],
   "source": [
    "#280\n",
    "import random\n",
    "\n",
    "class Account :\n",
    "    ac=0\n",
    "    \n",
    "    def __init__(self,name,fm):\n",
    "        self.name = name\n",
    "        self.fm = fm\n",
    "        self.bank = \"SC은행\"\n",
    "        n1=random.randint(0,999)\n",
    "        n2=random.randint(0,99)\n",
    "        n3=random.randint(0,999999)\n",
    "        \n",
    "        n1= str(n1).zfill(3) #zfill = 0을 채워줌\n",
    "        n2= str(n2).zfill(2)\n",
    "        n3= str(n3).zfill(6)\n",
    "        self.an = n1+'-'+n2+'-'+n3\n",
    "        \n",
    "        Account.ac += 1\n",
    "    \n",
    "    def output(self):\n",
    "        print(\"은행이름:\",self.bank)\n",
    "        print(\"계좌번호:\",self.an)\n",
    "    \n",
    "    def acnum(result):\n",
    "        print(result.ac)\n",
    "    \n",
    "    def dep(self,amount):\n",
    "        if amount>=1:\n",
    "            self.deposit_log.append(amount)\n",
    "            self.fm += amount\n",
    "            \n",
    "            self.depc +=1\n",
    "            if self.depc%5==0: #입금 5번하면 1%이자\n",
    "                self.fm=(self.fm*1.01) \n",
    "    \n",
    "    def wid(self,amount):\n",
    "        if amount<self.fm:\n",
    "            self.fm -= amount\n",
    "            \n",
    "    def display_info(self):\n",
    "        print(\"은행이름: \", self.bank)\n",
    "        print(\"예금주: \", self.name)\n",
    "        print(\"계좌번호: \", self.an)\n",
    "        print(\"잔고: \", f\"{self.fm:,}\")\n",
    "\n",
    "    def withdraw_history(self):\n",
    "        for amount in self.withdraw_log:\n",
    "            print(amount)\n",
    "\n",
    "    def deposit_history(self):\n",
    "        for amount in self.deposit_log:\n",
    "            print(amount)\n",
    "\n",
    "\n",
    "k = Account(\"Kim\", 1000)\n",
    "k.dep(100)\n"
   ]
  },
  {
   "cell_type": "code",
   "execution_count": 105,
   "id": "6a688d90",
   "metadata": {},
   "outputs": [
    {
     "name": "stdout",
     "output_type": "stream",
     "text": [
      "2\n",
      "1000\n"
     ]
    }
   ],
   "source": [
    "#281\n",
    "class 차:\n",
    "    def __init__(self, 바퀴, 가격):\n",
    "        self.바퀴 = 바퀴\n",
    "        self.가격 = 가격\n",
    "\n",
    "\n",
    "car = 차(2, 1000)\n",
    "print(car.바퀴)\n",
    "print(car.가격)\n"
   ]
  },
  {
   "cell_type": "code",
   "execution_count": 106,
   "id": "fefcd76d",
   "metadata": {},
   "outputs": [],
   "source": [
    "#282\n",
    "class 차:\n",
    "    def __init__(self, 바퀴, 가격):\n",
    "        self.바퀴 = 바퀴\n",
    "        self.가격 = 가격\n",
    "\n",
    "\n",
    "class 자전차(차):\n",
    "    pass\n"
   ]
  },
  {
   "cell_type": "code",
   "execution_count": 107,
   "id": "f75b3e23",
   "metadata": {},
   "outputs": [
    {
     "name": "stdout",
     "output_type": "stream",
     "text": [
      "100\n"
     ]
    }
   ],
   "source": [
    "#283\n",
    "class 차:\n",
    "    def __init__(self, 바퀴, 가격):\n",
    "        self.바퀴 = 바퀴\n",
    "        self.가격 = 가격\n",
    "\n",
    "\n",
    "class 자전차(차):\n",
    "    def __init__(self, 바퀴, 가격):\n",
    "        self.바퀴 = 바퀴\n",
    "        self.가격 = 가격\n",
    "\n",
    "\n",
    "bicycle = 자전차(2, 100)\n",
    "print(bicycle.가격)\n"
   ]
  },
  {
   "cell_type": "code",
   "execution_count": 108,
   "id": "c520e875",
   "metadata": {},
   "outputs": [
    {
     "name": "stdout",
     "output_type": "stream",
     "text": [
      "시마노\n",
      "2\n"
     ]
    }
   ],
   "source": [
    "#284\n",
    "class 차:\n",
    "    def __init__(self, 바퀴, 가격):\n",
    "        self.바퀴 = 바퀴\n",
    "        self.가격 = 가격\n",
    "\n",
    "\n",
    "class 자전차(차):\n",
    "    def __init__(self, 바퀴, 가격, 구동계):\n",
    "        super().__init__(바퀴, 가격)\n",
    "        #차.__init__(self, 바퀴, 가격)\n",
    "        self.구동계 = 구동계\n",
    "\n",
    "\n",
    "bicycle = 자전차(2, 100, \"시마노\")\n",
    "print(bicycle.구동계)\n",
    "print(bicycle.바퀴)"
   ]
  },
  {
   "cell_type": "code",
   "execution_count": 110,
   "id": "d41b3c19",
   "metadata": {},
   "outputs": [
    {
     "name": "stdout",
     "output_type": "stream",
     "text": [
      "바퀴수  4\n",
      "가격  1000\n"
     ]
    }
   ],
   "source": [
    "#285\n",
    "class 차:\n",
    "    def __init__(self, 바퀴, 가격):\n",
    "        self.바퀴 = 바퀴\n",
    "        self.가격 = 가격\n",
    "\n",
    "\n",
    "class 자동차(차):\n",
    "    def __init__(self, 바퀴, 가격):\n",
    "        super().__init__(바퀴, 가격)\n",
    "\n",
    "    def 정보(self):\n",
    "        print(\"바퀴수 \", self.바퀴)\n",
    "        print(\"가격 \", self.가격)\n",
    "\n",
    "\n",
    "car = 자동차(4, 1000)\n",
    "car.정보()\n"
   ]
  },
  {
   "cell_type": "code",
   "execution_count": 111,
   "id": "2d471fd4",
   "metadata": {},
   "outputs": [
    {
     "name": "stdout",
     "output_type": "stream",
     "text": [
      "바퀴수  2\n",
      "가격  100\n"
     ]
    }
   ],
   "source": [
    "#286\n",
    "class 차:\n",
    "    def __init__(self, 바퀴, 가격):\n",
    "        self.바퀴 = 바퀴\n",
    "        self.가격 = 가격\n",
    "\n",
    "    def 정보(self):\n",
    "        print(\"바퀴수 \", self.바퀴)\n",
    "        print(\"가격 \", self.가격)\n",
    "\n",
    "class 자동차(차):\n",
    "    def __init__(self, 바퀴, 가격):\n",
    "        super().__init__(바퀴, 가격)\n",
    "\n",
    "class 자전차(차):\n",
    "    def __init__(self, 바퀴, 가격, 구동계):\n",
    "        super().__init__(바퀴, 가격)\n",
    "        self.구동계 = 구동계\n",
    "\n",
    "bicycle = 자전차(2, 100, \"시마노\")\n",
    "bicycle.정보()\n"
   ]
  },
  {
   "cell_type": "code",
   "execution_count": 112,
   "id": "4c76b666",
   "metadata": {},
   "outputs": [
    {
     "name": "stdout",
     "output_type": "stream",
     "text": [
      "바퀴수  2\n",
      "가격  100\n",
      "구동계  시마노\n"
     ]
    }
   ],
   "source": [
    "#287\n",
    "class 차:\n",
    "    def __init__(self, 바퀴, 가격):\n",
    "        self.바퀴 = 바퀴\n",
    "        self.가격 = 가격\n",
    "\n",
    "    def 정보(self):\n",
    "        print(\"바퀴수 \", self.바퀴)\n",
    "        print(\"가격 \", self.가격)\n",
    "\n",
    "class 자동차(차):\n",
    "    def __init__(self, 바퀴, 가격):\n",
    "        super().__init__(바퀴, 가격)\n",
    "\n",
    "class 자전차(차):\n",
    "    def __init__(self, 바퀴, 가격, 구동계):\n",
    "        super().__init__(바퀴, 가격)\n",
    "        self.구동계 = 구동계\n",
    "\n",
    "    def 정보(self):\n",
    "        super().정보()\n",
    "        print(\"구동계 \", self.구동계)\n",
    "\n",
    "bicycle = 자전차(2, 100, \"시마노\")\n",
    "bicycle.정보()\n"
   ]
  },
  {
   "cell_type": "code",
   "execution_count": 113,
   "id": "694b4a1d",
   "metadata": {},
   "outputs": [
    {
     "name": "stdout",
     "output_type": "stream",
     "text": [
      "자식호출\n"
     ]
    }
   ],
   "source": [
    "#288\n",
    "class 부모:\n",
    "    def 호출(self):\n",
    "        print(\"부모호출\")\n",
    "\n",
    "class 자식(부모):\n",
    "    def 호출(self):\n",
    "        print(\"자식호출\")\n",
    "\n",
    "\n",
    "나 = 자식()\n",
    "나.호출()\n"
   ]
  },
  {
   "cell_type": "code",
   "execution_count": 114,
   "id": "35221350",
   "metadata": {},
   "outputs": [
    {
     "name": "stdout",
     "output_type": "stream",
     "text": [
      "자식생성\n"
     ]
    }
   ],
   "source": [
    "#289\n",
    "class 부모:\n",
    "    def __init__(self):\n",
    "        print(\"부모생성\")\n",
    "\n",
    "class 자식(부모):\n",
    "    def __init__(self):\n",
    "        print(\"자식생성\")\n",
    "\n",
    "나 = 자식()\n"
   ]
  },
  {
   "cell_type": "code",
   "execution_count": 115,
   "id": "6ea232b3",
   "metadata": {},
   "outputs": [
    {
     "name": "stdout",
     "output_type": "stream",
     "text": [
      "자식생성\n",
      "부모생성\n"
     ]
    }
   ],
   "source": [
    "#290\n",
    "class 부모:\n",
    "    def __init__(self):\n",
    "        print(\"부모생성\")\n",
    "\n",
    "class 자식(부모):\n",
    "    def __init__(self):\n",
    "        print(\"자식생성\")\n",
    "        super().__init__()\n",
    "\n",
    "나 = 자식()"
   ]
  },
  {
   "cell_type": "code",
   "execution_count": null,
   "id": "f3068534",
   "metadata": {},
   "outputs": [],
   "source": []
  },
  {
   "cell_type": "code",
   "execution_count": null,
   "id": "ba743b25",
   "metadata": {},
   "outputs": [],
   "source": []
  },
  {
   "cell_type": "code",
   "execution_count": null,
   "id": "a3177446",
   "metadata": {},
   "outputs": [],
   "source": []
  },
  {
   "cell_type": "code",
   "execution_count": null,
   "id": "092d94cb",
   "metadata": {},
   "outputs": [],
   "source": []
  },
  {
   "cell_type": "code",
   "execution_count": null,
   "id": "935f20b8",
   "metadata": {},
   "outputs": [],
   "source": []
  },
  {
   "cell_type": "code",
   "execution_count": null,
   "id": "dcc0c222",
   "metadata": {},
   "outputs": [],
   "source": []
  },
  {
   "cell_type": "code",
   "execution_count": null,
   "id": "bec0eecd",
   "metadata": {},
   "outputs": [],
   "source": []
  },
  {
   "cell_type": "code",
   "execution_count": null,
   "id": "61b5842e",
   "metadata": {},
   "outputs": [],
   "source": []
  },
  {
   "cell_type": "code",
   "execution_count": null,
   "id": "cf63ff1f",
   "metadata": {},
   "outputs": [],
   "source": []
  },
  {
   "cell_type": "code",
   "execution_count": null,
   "id": "737158be",
   "metadata": {},
   "outputs": [],
   "source": []
  }
 ],
 "metadata": {
  "kernelspec": {
   "display_name": "Python 3 (ipykernel)",
   "language": "python",
   "name": "python3"
  },
  "language_info": {
   "codemirror_mode": {
    "name": "ipython",
    "version": 3
   },
   "file_extension": ".py",
   "mimetype": "text/x-python",
   "name": "python",
   "nbconvert_exporter": "python",
   "pygments_lexer": "ipython3",
   "version": "3.11.5"
  }
 },
 "nbformat": 4,
 "nbformat_minor": 5
}
