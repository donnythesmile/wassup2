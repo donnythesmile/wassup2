{
 "cells": [
  {
   "cell_type": "markdown",
   "metadata": {
    "id": "iPHb2AJaAX8g"
   },
   "source": [
    "# Model Validation"
   ]
  },
  {
   "cell_type": "code",
   "execution_count": 1,
   "metadata": {
    "ExecuteTime": {
     "end_time": "2023-12-06T02:15:05.811055Z",
     "start_time": "2023-12-06T02:15:05.807659Z"
    },
    "id": "RbPgODpVzdHI",
    "tags": []
   },
   "outputs": [],
   "source": [
    "import warnings\n",
    "warnings.filterwarnings('ignore')"
   ]
  },
  {
   "cell_type": "markdown",
   "metadata": {
    "id": "tArwfR_UAe0l"
   },
   "source": [
    "## Model Capacity"
   ]
  },
  {
   "cell_type": "markdown",
   "metadata": {
    "id": "65ESnpuwAsPB"
   },
   "source": [
    "* import Packages"
   ]
  },
  {
   "cell_type": "code",
   "execution_count": 2,
   "metadata": {
    "ExecuteTime": {
     "end_time": "2023-12-06T02:15:10.650489Z",
     "start_time": "2023-12-06T02:15:07.723332Z"
    },
    "id": "jXiBZJaO2lJO",
    "tags": []
   },
   "outputs": [],
   "source": [
    "import pandas as pd\n",
    "import matplotlib.pyplot as plt\n",
    "import seaborn as sns "
   ]
  },
  {
   "cell_type": "markdown",
   "metadata": {
    "id": "e4wcJB9oCz0V"
   },
   "source": [
    "* pandas DataFrame\n",
    " - 'Electric.csv' From github"
   ]
  },
  {
   "cell_type": "code",
   "execution_count": 3,
   "metadata": {
    "ExecuteTime": {
     "end_time": "2023-12-06T02:15:11.195041Z",
     "start_time": "2023-12-06T02:15:10.658890Z"
    },
    "colab": {
     "base_uri": "https://localhost:8080/"
    },
    "executionInfo": {
     "elapsed": 113,
     "status": "ok",
     "timestamp": 1664034011212,
     "user": {
      "displayName": "이정구",
      "userId": "17400242557229223804"
     },
     "user_tz": -540
    },
    "id": "Ekqpr3cN4rsm",
    "outputId": "fb01cc8e-8c4e-471f-858d-9736c2fc52b1",
    "tags": []
   },
   "outputs": [
    {
     "name": "stdout",
     "output_type": "stream",
     "text": [
      "<class 'pandas.core.frame.DataFrame'>\n",
      "RangeIndex: 768 entries, 0 to 767\n",
      "Data columns (total 9 columns):\n",
      " #   Column                     Non-Null Count  Dtype  \n",
      "---  ------                     --------------  -----  \n",
      " 0   compactness                768 non-null    float64\n",
      " 1   surface_area               768 non-null    float64\n",
      " 2   wall_area                  768 non-null    float64\n",
      " 3   roof_area                  768 non-null    float64\n",
      " 4   height                     768 non-null    float64\n",
      " 5   orientation                768 non-null    int64  \n",
      " 6   glazing_area               768 non-null    float64\n",
      " 7   glazing_area_distribution  768 non-null    int64  \n",
      " 8   electricity                768 non-null    float64\n",
      "dtypes: float64(7), int64(2)\n",
      "memory usage: 54.1 KB\n"
     ]
    }
   ],
   "source": [
    "url = 'https://raw.githubusercontent.com/rusita-ai/pyData/master/Electric.csv'\n",
    "\n",
    "Elec = pd.read_csv(url)\n",
    "\n",
    "Elec.info()"
   ]
  },
  {
   "cell_type": "code",
   "execution_count": 4,
   "metadata": {
    "ExecuteTime": {
     "end_time": "2023-12-03T12:55:43.571411Z",
     "start_time": "2023-12-03T12:55:43.553440Z"
    },
    "colab": {
     "base_uri": "https://localhost:8080/",
     "height": 206
    },
    "executionInfo": {
     "elapsed": 25,
     "status": "ok",
     "timestamp": 1664034011215,
     "user": {
      "displayName": "이정구",
      "userId": "17400242557229223804"
     },
     "user_tz": -540
    },
    "id": "zHO3uyI6c7ci",
    "outputId": "d8aa966d-579f-4e36-8894-b7836383537a",
    "tags": []
   },
   "outputs": [
    {
     "data": {
      "text/html": [
       "<div>\n",
       "<style scoped>\n",
       "    .dataframe tbody tr th:only-of-type {\n",
       "        vertical-align: middle;\n",
       "    }\n",
       "\n",
       "    .dataframe tbody tr th {\n",
       "        vertical-align: top;\n",
       "    }\n",
       "\n",
       "    .dataframe thead th {\n",
       "        text-align: right;\n",
       "    }\n",
       "</style>\n",
       "<table border=\"1\" class=\"dataframe\">\n",
       "  <thead>\n",
       "    <tr style=\"text-align: right;\">\n",
       "      <th></th>\n",
       "      <th>compactness</th>\n",
       "      <th>surface_area</th>\n",
       "      <th>wall_area</th>\n",
       "      <th>roof_area</th>\n",
       "      <th>height</th>\n",
       "      <th>orientation</th>\n",
       "      <th>glazing_area</th>\n",
       "      <th>glazing_area_distribution</th>\n",
       "      <th>electricity</th>\n",
       "    </tr>\n",
       "  </thead>\n",
       "  <tbody>\n",
       "    <tr>\n",
       "      <th>0</th>\n",
       "      <td>0.98</td>\n",
       "      <td>514.5</td>\n",
       "      <td>294.0</td>\n",
       "      <td>110.25</td>\n",
       "      <td>7.0</td>\n",
       "      <td>2</td>\n",
       "      <td>0.0</td>\n",
       "      <td>0</td>\n",
       "      <td>155.5</td>\n",
       "    </tr>\n",
       "    <tr>\n",
       "      <th>1</th>\n",
       "      <td>0.98</td>\n",
       "      <td>514.5</td>\n",
       "      <td>294.0</td>\n",
       "      <td>110.25</td>\n",
       "      <td>7.0</td>\n",
       "      <td>3</td>\n",
       "      <td>0.0</td>\n",
       "      <td>0</td>\n",
       "      <td>155.5</td>\n",
       "    </tr>\n",
       "    <tr>\n",
       "      <th>2</th>\n",
       "      <td>0.98</td>\n",
       "      <td>514.5</td>\n",
       "      <td>294.0</td>\n",
       "      <td>110.25</td>\n",
       "      <td>7.0</td>\n",
       "      <td>4</td>\n",
       "      <td>0.0</td>\n",
       "      <td>0</td>\n",
       "      <td>155.5</td>\n",
       "    </tr>\n",
       "    <tr>\n",
       "      <th>3</th>\n",
       "      <td>0.98</td>\n",
       "      <td>514.5</td>\n",
       "      <td>294.0</td>\n",
       "      <td>110.25</td>\n",
       "      <td>7.0</td>\n",
       "      <td>5</td>\n",
       "      <td>0.0</td>\n",
       "      <td>0</td>\n",
       "      <td>155.5</td>\n",
       "    </tr>\n",
       "    <tr>\n",
       "      <th>4</th>\n",
       "      <td>0.90</td>\n",
       "      <td>563.5</td>\n",
       "      <td>318.5</td>\n",
       "      <td>122.50</td>\n",
       "      <td>7.0</td>\n",
       "      <td>2</td>\n",
       "      <td>0.0</td>\n",
       "      <td>0</td>\n",
       "      <td>208.4</td>\n",
       "    </tr>\n",
       "  </tbody>\n",
       "</table>\n",
       "</div>"
      ],
      "text/plain": [
       "   compactness  surface_area  wall_area  roof_area  height  orientation  \\\n",
       "0         0.98         514.5      294.0     110.25     7.0            2   \n",
       "1         0.98         514.5      294.0     110.25     7.0            3   \n",
       "2         0.98         514.5      294.0     110.25     7.0            4   \n",
       "3         0.98         514.5      294.0     110.25     7.0            5   \n",
       "4         0.90         563.5      318.5     122.50     7.0            2   \n",
       "\n",
       "   glazing_area  glazing_area_distribution  electricity  \n",
       "0           0.0                          0        155.5  \n",
       "1           0.0                          0        155.5  \n",
       "2           0.0                          0        155.5  \n",
       "3           0.0                          0        155.5  \n",
       "4           0.0                          0        208.4  "
      ]
     },
     "execution_count": 4,
     "metadata": {},
     "output_type": "execute_result"
    }
   ],
   "source": [
    "# y=electricity, x=surface_area\n",
    "Elec.head() "
   ]
  },
  {
   "cell_type": "markdown",
   "metadata": {
    "id": "F3fzQDmyC375"
   },
   "source": [
    "### 산점도(surface_area vs. electricity)"
   ]
  },
  {
   "cell_type": "code",
   "execution_count": 5,
   "metadata": {
    "ExecuteTime": {
     "end_time": "2023-12-03T12:55:49.259303Z",
     "start_time": "2023-12-03T12:55:49.073645Z"
    },
    "colab": {
     "base_uri": "https://localhost:8080/",
     "height": 280
    },
    "executionInfo": {
     "elapsed": 24,
     "status": "ok",
     "timestamp": 1664034011216,
     "user": {
      "displayName": "이정구",
      "userId": "17400242557229223804"
     },
     "user_tz": -540
    },
    "id": "j6szR1Hn8J-G",
    "outputId": "42f03c21-6519-4573-ac03-7f273168ac85",
    "tags": []
   },
   "outputs": [
    {
     "data": {
      "image/png": "[encoded data removed]",
      "text/plain": [
       "<Figure size 640x480 with 1 Axes>"
      ]
     },
     "metadata": {},
     "output_type": "display_data"
    }
   ],
   "source": [
    "sns.scatterplot(x = Elec['surface_area'], y = Elec['electricity'])\n",
    "plt.show()"
   ]
  },
  {
   "cell_type": "markdown",
   "metadata": {
    "id": "kJ8RYj2NA5no"
   },
   "source": [
    "### 1차 모델 시각화"
   ]
  },
  {
   "cell_type": "code",
   "execution_count": 6,
   "metadata": {
    "ExecuteTime": {
     "end_time": "2023-12-03T12:57:31.590670Z",
     "start_time": "2023-12-03T12:57:31.297038Z"
    },
    "colab": {
     "base_uri": "https://localhost:8080/",
     "height": 280
    },
    "executionInfo": {
     "elapsed": 24,
     "status": "ok",
     "timestamp": 1664034011218,
     "user": {
      "displayName": "이정구",
      "userId": "17400242557229223804"
     },
     "user_tz": -540
    },
    "id": "igoaeS4T98-H",
    "outputId": "4d7680f9-9fe5-4d90-faef-7508db4d4b6d",
    "tags": []
   },
   "outputs": [
    {
     "data": {
      "image/png": "[encoded data removed]",
      "text/plain": [
       "<Figure size 640x480 with 1 Axes>"
      ]
     },
     "metadata": {},
     "output_type": "display_data"
    }
   ],
   "source": [
    "#reg플롯은 선형과 스캐터를 같이 그려주는 플롯, 꿀임!\n",
    "sns.regplot(x = 'surface_area', y = 'electricity', data = Elec,\n",
    "            line_kws = {'color':'red'},\n",
    "            scatter_kws = {'edgecolor' : 'white'})\n",
    "plt.xlim(505, 820)\n",
    "plt.show()"
   ]
  },
  {
   "cell_type": "markdown",
   "metadata": {
    "id": "WpYGH998A-iy"
   },
   "source": [
    "### 2차 모델 시각화"
   ]
  },
  {
   "cell_type": "code",
   "execution_count": 7,
   "metadata": {
    "ExecuteTime": {
     "end_time": "2023-12-03T12:58:51.241655Z",
     "start_time": "2023-12-03T12:58:50.906214Z"
    },
    "colab": {
     "base_uri": "https://localhost:8080/",
     "height": 280
    },
    "executionInfo": {
     "elapsed": 3419,
     "status": "ok",
     "timestamp": 1664034014615,
     "user": {
      "displayName": "이정구",
      "userId": "17400242557229223804"
     },
     "user_tz": -540
    },
    "id": "td0YCK1E-LCB",
    "outputId": "5a9eb36b-e39d-408a-a198-c5915bbc0184",
    "tags": []
   },
   "outputs": [
    {
     "data": {
      "image/png": "[encoded data removed]",
      "text/plain": [
       "<Figure size 640x480 with 1 Axes>"
      ]
     },
     "metadata": {},
     "output_type": "display_data"
    }
   ],
   "source": [
    "sns.regplot(x = 'surface_area', y = 'electricity', data = Elec,\n",
    "            line_kws = {'color':'blue'},\n",
    "            scatter_kws = {'edgecolor' : 'white'},\n",
    "            order = 2) # order 다항식 회귀식을 위한 항의 개수\n",
    "plt.xlim(505, 820)\n",
    "plt.show()"
   ]
  },
  {
   "cell_type": "markdown",
   "metadata": {
    "id": "zOVNpTPZBBO4"
   },
   "source": [
    "### 5차 모델 시각화"
   ]
  },
  {
   "cell_type": "code",
   "execution_count": 8,
   "metadata": {
    "colab": {
     "base_uri": "https://localhost:8080/",
     "height": 280
    },
    "executionInfo": {
     "elapsed": 84,
     "status": "ok",
     "timestamp": 1664034014617,
     "user": {
      "displayName": "이정구",
      "userId": "17400242557229223804"
     },
     "user_tz": -540
    },
    "id": "XdeA8qvF-cI5",
    "outputId": "320e204e-e2de-4f5c-b756-d277f861b739",
    "tags": []
   },
   "outputs": [
    {
     "data": {
      "image/png": "[encoded data removed]",
      "text/plain": [
       "<Figure size 640x480 with 1 Axes>"
      ]
     },
     "metadata": {},
     "output_type": "display_data"
    }
   ],
   "source": [
    "sns.regplot(x = 'surface_area', y = 'electricity', data = Elec,\n",
    "            line_kws = {'color':'green'},\n",
    "            scatter_kws = {'edgecolor' : 'white'},\n",
    "            order = 5)\n",
    "plt.xlim(505, 820)\n",
    "plt.show()"
   ]
  },
  {
   "cell_type": "markdown",
   "metadata": {
    "id": "mFS4hYVpBEdg"
   },
   "source": [
    "### 9차 모델 시각화"
   ]
  },
  {
   "cell_type": "code",
   "execution_count": 9,
   "metadata": {
    "colab": {
     "base_uri": "https://localhost:8080/",
     "height": 284
    },
    "executionInfo": {
     "elapsed": 79,
     "status": "ok",
     "timestamp": 1664034014618,
     "user": {
      "displayName": "이정구",
      "userId": "17400242557229223804"
     },
     "user_tz": -540
    },
    "id": "8CgCMOSo-mDZ",
    "outputId": "caaa146b-a019-4e8d-ba24-9be120225fd4",
    "tags": []
   },
   "outputs": [
    {
     "data": {
      "image/png": "[encoded data removed]",
      "text/plain": [
       "<Figure size 640x480 with 1 Axes>"
      ]
     },
     "metadata": {},
     "output_type": "display_data"
    }
   ],
   "source": [
    "sns.regplot(x = 'surface_area', y = 'electricity', data = Elec,\n",
    "            line_kws = {'color':'orange'},\n",
    "            scatter_kws = {'edgecolor':'white'},\n",
    "            order = 9)\n",
    "plt.xlim(505, 820)\n",
    "plt.ylim(50, 450)\n",
    "plt.show()"
   ]
  },
  {
   "cell_type": "markdown",
   "metadata": {
    "id": "xFt9_UwbBHBH"
   },
   "source": [
    "### 4개 모델 비교 시각화"
   ]
  },
  {
   "cell_type": "code",
   "execution_count": 10,
   "metadata": {
    "ExecuteTime": {
     "end_time": "2023-12-03T13:00:33.913726Z",
     "start_time": "2023-12-03T13:00:32.913469Z"
    },
    "colab": {
     "base_uri": "https://localhost:8080/",
     "height": 293
    },
    "executionInfo": {
     "elapsed": 76,
     "status": "ok",
     "timestamp": 1664034014620,
     "user": {
      "displayName": "이정구",
      "userId": "17400242557229223804"
     },
     "user_tz": -540
    },
    "id": "MfxsY0_Z_LUA",
    "outputId": "a637a4e6-a4a3-40b4-8142-b9736349f8d3",
    "tags": []
   },
   "outputs": [
    {
     "data": {
      "image/png": "[encoded data removed]",
      "text/plain": [
       "<Figure size 640x480 with 1 Axes>"
      ]
     },
     "metadata": {},
     "output_type": "display_data"
    }
   ],
   "source": [
    "sns.regplot(x = 'surface_area', y = 'electricity', \n",
    "            data = Elec, \n",
    "            line_kws = {'color':'red'})\n",
    "sns.regplot(x = 'surface_area', y = 'electricity', \n",
    "            data = Elec, \n",
    "            line_kws = {'color':'blue'}, order = 2)\n",
    "sns.regplot(x = 'surface_area', y = 'electricity', \n",
    "            data = Elec, \n",
    "            line_kws = {'color':'green'}, order = 5)\n",
    "sns.regplot(x = 'surface_area', y = 'electricity', \n",
    "            data = Elec, \n",
    "            line_kws = {'color':'orange'}, order = 9,\n",
    "            scatter_kws = {'color':'gray', 'edgecolor':'white'})\n",
    "plt.xlim(505, 820)\n",
    "plt.ylim(50, 450)\n",
    "plt.xticks(rotation = 35)\n",
    "plt.yticks(rotation = 90)\n",
    "plt.show()"
   ]
  },
  {
   "cell_type": "markdown",
   "metadata": {
    "id": "SH8IY3VrrcDE"
   },
   "source": [
    "## Training Error\n",
    "* import Packages"
   ]
  },
  {
   "cell_type": "code",
   "execution_count": 11,
   "metadata": {
    "ExecuteTime": {
     "end_time": "2023-12-06T02:15:25.351276Z",
     "start_time": "2023-12-06T02:15:25.347870Z"
    },
    "id": "w9DTQpeora6S",
    "tags": []
   },
   "outputs": [],
   "source": [
    "import pandas as pd\n",
    "import numpy as np\n",
    "import matplotlib.pyplot as plt\n",
    "import seaborn as sns "
   ]
  },
  {
   "cell_type": "markdown",
   "metadata": {
    "id": "DsDifuY5y6Qy"
   },
   "source": [
    "* pandas DataFrame\n",
    " - 'Electric.csv' From github"
   ]
  },
  {
   "cell_type": "code",
   "execution_count": 36,
   "metadata": {
    "ExecuteTime": {
     "end_time": "2023-12-06T02:15:33.749729Z",
     "start_time": "2023-12-06T02:15:33.587303Z"
    },
    "colab": {
     "base_uri": "https://localhost:8080/"
    },
    "executionInfo": {
     "elapsed": 2131,
     "status": "ok",
     "timestamp": 1664034016682,
     "user": {
      "displayName": "이정구",
      "userId": "17400242557229223804"
     },
     "user_tz": -540
    },
    "id": "vsFPHgaRsD0t",
    "outputId": "53a4a0ae-27af-46f7-895b-c9ee45122d85",
    "tags": []
   },
   "outputs": [
    {
     "name": "stdout",
     "output_type": "stream",
     "text": [
      "<class 'pandas.core.frame.DataFrame'>\n",
      "RangeIndex: 768 entries, 0 to 767\n",
      "Data columns (total 9 columns):\n",
      " #   Column                     Non-Null Count  Dtype  \n",
      "---  ------                     --------------  -----  \n",
      " 0   compactness                768 non-null    float64\n",
      " 1   surface_area               768 non-null    float64\n",
      " 2   wall_area                  768 non-null    float64\n",
      " 3   roof_area                  768 non-null    float64\n",
      " 4   height                     768 non-null    float64\n",
      " 5   orientation                768 non-null    int64  \n",
      " 6   glazing_area               768 non-null    float64\n",
      " 7   glazing_area_distribution  768 non-null    int64  \n",
      " 8   electricity                768 non-null    float64\n",
      "dtypes: float64(7), int64(2)\n",
      "memory usage: 54.1 KB\n"
     ]
    }
   ],
   "source": [
    "url = 'https://raw.githubusercontent.com/rusita-ai/pyData/master/Electric.csv'\n",
    "\n",
    "Elec = pd.read_csv(url)\n",
    "\n",
    "Elec.info()"
   ]
  },
  {
   "cell_type": "markdown",
   "metadata": {
    "id": "1rbLYlVEthUP"
   },
   "source": [
    "### 1차 모델 Training Error"
   ]
  },
  {
   "cell_type": "markdown",
   "metadata": {
    "id": "stzSlx-LUW1F"
   },
   "source": [
    "* X_train and y_train"
   ]
  },
  {
   "cell_type": "code",
   "execution_count": 37,
   "metadata": {
    "ExecuteTime": {
     "end_time": "2023-12-06T02:15:34.268842Z",
     "start_time": "2023-12-06T02:15:34.259880Z"
    },
    "colab": {
     "base_uri": "https://localhost:8080/"
    },
    "executionInfo": {
     "elapsed": 153,
     "status": "ok",
     "timestamp": 1664034016684,
     "user": {
      "displayName": "이정구",
      "userId": "17400242557229223804"
     },
     "user_tz": -540
    },
    "id": "HPAoRjxAUcAH",
    "outputId": "01902319-af91-4981-d351-cfa2f424d1d1",
    "tags": []
   },
   "outputs": [
    {
     "data": {
      "text/plain": [
       "((768, 1), (768,))"
      ]
     },
     "execution_count": 37,
     "metadata": {},
     "output_type": "execute_result"
    }
   ],
   "source": [
    "X_train = Elec[['surface_area']]\n",
    "y_train = Elec['electricity']\n",
    "\n",
    "X_train.shape, y_train.shape"
   ]
  },
  {
   "cell_type": "markdown",
   "metadata": {
    "id": "sUwtIJTp7pEi"
   },
   "source": [
    "* 모델 생성"
   ]
  },
  {
   "cell_type": "code",
   "execution_count": 38,
   "metadata": {
    "ExecuteTime": {
     "end_time": "2023-12-06T02:15:35.554195Z",
     "start_time": "2023-12-06T02:15:34.715404Z"
    },
    "colab": {
     "base_uri": "https://localhost:8080/"
    },
    "executionInfo": {
     "elapsed": 148,
     "status": "ok",
     "timestamp": 1664034016686,
     "user": {
      "displayName": "이정구",
      "userId": "17400242557229223804"
     },
     "user_tz": -540
    },
    "id": "zE629GWvRyoO",
    "outputId": "3102efcd-86c3-44d1-b76f-169b3dd71b0e",
    "tags": []
   },
   "outputs": [
    {
     "data": {
      "text/html": [
       "<style>#sk-container-id-5 {color: black;}#sk-container-id-5 pre{padding: 0;}#sk-container-id-5 div.sk-toggleable {background-color: white;}#sk-container-id-5 label.sk-toggleable__label {cursor: pointer;display: block;width: 100%;margin-bottom: 0;padding: 0.3em;box-sizing: border-box;text-align: center;}#sk-container-id-5 label.sk-toggleable__label-arrow:before {content: \"▸\";float: left;margin-right: 0.25em;color: #696969;}#sk-container-id-5 label.sk-toggleable__label-arrow:hover:before {color: black;}#sk-container-id-5 div.sk-estimator:hover label.sk-toggleable__label-arrow:before {color: black;}#sk-container-id-5 div.sk-toggleable__content {max-height: 0;max-width: 0;overflow: hidden;text-align: left;background-color: #f0f8ff;}#sk-container-id-5 div.sk-toggleable__content pre {margin: 0.2em;color: black;border-radius: 0.25em;background-color: #f0f8ff;}#sk-container-id-5 input.sk-toggleable__control:checked~div.sk-toggleable__content {max-height: 200px;max-width: 100%;overflow: auto;}#sk-container-id-5 input.sk-toggleable__control:checked~label.sk-toggleable__label-arrow:before {content: \"▾\";}#sk-container-id-5 div.sk-estimator input.sk-toggleable__control:checked~label.sk-toggleable__label {background-color: #d4ebff;}#sk-container-id-5 div.sk-label input.sk-toggleable__control:checked~label.sk-toggleable__label {background-color: #d4ebff;}#sk-container-id-5 input.sk-hidden--visually {border: 0;clip: rect(1px 1px 1px 1px);clip: rect(1px, 1px, 1px, 1px);height: 1px;margin: -1px;overflow: hidden;padding: 0;position: absolute;width: 1px;}#sk-container-id-5 div.sk-estimator {font-family: monospace;background-color: #f0f8ff;border: 1px dotted black;border-radius: 0.25em;box-sizing: border-box;margin-bottom: 0.5em;}#sk-container-id-5 div.sk-estimator:hover {background-color: #d4ebff;}#sk-container-id-5 div.sk-parallel-item::after {content: \"\";width: 100%;border-bottom: 1px solid gray;flex-grow: 1;}#sk-container-id-5 div.sk-label:hover label.sk-toggleable__label {background-color: #d4ebff;}#sk-container-id-5 div.sk-serial::before {content: \"\";position: absolute;border-left: 1px solid gray;box-sizing: border-box;top: 0;bottom: 0;left: 50%;z-index: 0;}#sk-container-id-5 div.sk-serial {display: flex;flex-direction: column;align-items: center;background-color: white;padding-right: 0.2em;padding-left: 0.2em;position: relative;}#sk-container-id-5 div.sk-item {position: relative;z-index: 1;}#sk-container-id-5 div.sk-parallel {display: flex;align-items: stretch;justify-content: center;background-color: white;position: relative;}#sk-container-id-5 div.sk-item::before, #sk-container-id-5 div.sk-parallel-item::before {content: \"\";position: absolute;border-left: 1px solid gray;box-sizing: border-box;top: 0;bottom: 0;left: 50%;z-index: -1;}#sk-container-id-5 div.sk-parallel-item {display: flex;flex-direction: column;z-index: 1;position: relative;background-color: white;}#sk-container-id-5 div.sk-parallel-item:first-child::after {align-self: flex-end;width: 50%;}#sk-container-id-5 div.sk-parallel-item:last-child::after {align-self: flex-start;width: 50%;}#sk-container-id-5 div.sk-parallel-item:only-child::after {width: 0;}#sk-container-id-5 div.sk-dashed-wrapped {border: 1px dashed gray;margin: 0 0.4em 0.5em 0.4em;box-sizing: border-box;padding-bottom: 0.4em;background-color: white;}#sk-container-id-5 div.sk-label label {font-family: monospace;font-weight: bold;display: inline-block;line-height: 1.2em;}#sk-container-id-5 div.sk-label-container {text-align: center;}#sk-container-id-5 div.sk-container {/* jupyter's `normalize.less` sets `[hidden] { display: none; }` but bootstrap.min.css set `[hidden] { display: none !important; }` so we also need the `!important` here to be able to override the default hidden behavior on the sphinx rendered scikit-learn.org. See: https://github.com/scikit-learn/scikit-learn/issues/21755 */display: inline-block !important;position: relative;}#sk-container-id-5 div.sk-text-repr-fallback {display: none;}</style><div id=\"sk-container-id-5\" class=\"sk-top-container\"><div class=\"sk-text-repr-fallback\"><pre>LinearRegression()</pre><b>In a Jupyter environment, please rerun this cell to show the HTML representation or trust the notebook. <br />On GitHub, the HTML representation is unable to render, please try loading this page with nbviewer.org.</b></div><div class=\"sk-container\" hidden><div class=\"sk-item\"><div class=\"sk-estimator sk-toggleable\"><input class=\"sk-toggleable__control sk-hidden--visually\" id=\"sk-estimator-id-5\" type=\"checkbox\" checked><label for=\"sk-estimator-id-5\" class=\"sk-toggleable__label sk-toggleable__label-arrow\">LinearRegression</label><div class=\"sk-toggleable__content\"><pre>LinearRegression()</pre></div></div></div></div></div>"
      ],
      "text/plain": [
       "LinearRegression()"
      ]
     },
     "execution_count": 38,
     "metadata": {},
     "output_type": "execute_result"
    }
   ],
   "source": [
    "from sklearn.linear_model import LinearRegression\n",
    "\n",
    "Model_1 = LinearRegression()\n",
    "Model_1.fit(X_train, y_train)"
   ]
  },
  {
   "cell_type": "markdown",
   "metadata": {
    "id": "ZJRQ9Fge4fjJ"
   },
   "source": [
    "* 모델 정보(학습결과) 확인"
   ]
  },
  {
   "cell_type": "code",
   "execution_count": 44,
   "metadata": {
    "ExecuteTime": {
     "end_time": "2023-12-06T02:15:35.683363Z",
     "start_time": "2023-12-06T02:15:35.683363Z"
    },
    "colab": {
     "base_uri": "https://localhost:8080/"
    },
    "executionInfo": {
     "elapsed": 142,
     "status": "ok",
     "timestamp": 1664034016687,
     "user": {
      "displayName": "이정구",
      "userId": "17400242557229223804"
     },
     "user_tz": -540
    },
    "id": "714-3Ez4s4GJ",
    "outputId": "42fe35b3-d974-4862-ab65-9cd34e0a151d",
    "tags": []
   },
   "outputs": [
    {
     "name": "stdout",
     "output_type": "stream",
     "text": [
      "[-0.7538715748537174]\n",
      "729.4538243006991\n"
     ]
    }
   ],
   "source": [
    "print(Model_1.coef_) # w\n",
    "print(Model_1.intercept_) # b"
   ]
  },
  {
   "cell_type": "markdown",
   "metadata": {
    "id": "jeDCvn9J42QQ"
   },
   "source": [
    "* y_hat(예측값) 생성"
   ]
  },
  {
   "cell_type": "code",
   "execution_count": 43,
   "metadata": {
    "ExecuteTime": {
     "end_time": "2023-12-06T02:15:36.280869Z",
     "start_time": "2023-12-06T02:15:36.275242Z"
    },
    "colab": {
     "base_uri": "https://localhost:8080/"
    },
    "executionInfo": {
     "elapsed": 136,
     "status": "ok",
     "timestamp": 1664034016688,
     "user": {
      "displayName": "이정구",
      "userId": "17400242557229223804"
     },
     "user_tz": -540
    },
    "id": "Gr3hfkp1tsi6",
    "outputId": "5e73cc69-b1f2-4c19-f4f9-49ef582fae61",
    "tags": []
   },
   "outputs": [
    {
     "data": {
      "text/plain": [
       "768"
      ]
     },
     "execution_count": 43,
     "metadata": {},
     "output_type": "execute_result"
    }
   ],
   "source": [
    "#모델 생성과 평가에 같은 데이터를 사용하면 부작용이 발생한다.\n",
    "#수능과 모의고사에 같은 문제를 사용하면 평가가 되지않는다.\n",
    "#학습에 사용된 데이터를 평가에 사용되는 경우 -> 데이터 누수(리퀴즈)\n",
    "y_hat_1 = Model_1.predict(X_train)\n",
    "\n",
    "len(y_hat_1)"
   ]
  },
  {
   "cell_type": "markdown",
   "metadata": {
    "id": "obRVc_Zm5Iyk"
   },
   "source": [
    "* MSE(Mean Squared Error) 계산"
   ]
  },
  {
   "cell_type": "code",
   "execution_count": 45,
   "metadata": {
    "ExecuteTime": {
     "end_time": "2023-12-06T02:15:37.063967Z",
     "start_time": "2023-12-06T02:15:37.059426Z"
    },
    "colab": {
     "base_uri": "https://localhost:8080/"
    },
    "executionInfo": {
     "elapsed": 132,
     "status": "ok",
     "timestamp": 1664034016689,
     "user": {
      "displayName": "이정구",
      "userId": "17400242557229223804"
     },
     "user_tz": -540
    },
    "id": "9Kroqv2Pt7CD",
    "outputId": "bc12d550-aea7-4211-e3ca-d87633bd939a",
    "tags": []
   },
   "outputs": [
    {
     "data": {
      "text/plain": [
       "5763.983779426344"
      ]
     },
     "execution_count": 45,
     "metadata": {},
     "output_type": "execute_result"
    }
   ],
   "source": [
    "TR_Err_1 = np.mean((y_train - y_hat_1) ** 2)\n",
    "TR_Err_1"
   ]
  },
  {
   "cell_type": "markdown",
   "metadata": {
    "id": "2zejd1I2u7rM"
   },
   "source": [
    "### 5차 모델 Training Error\n",
    "\n",
    "* X 다항차수 변환\n",
    " - (768, 1) to (768, 5)"
   ]
  },
  {
   "cell_type": "code",
   "execution_count": 46,
   "metadata": {
    "ExecuteTime": {
     "end_time": "2023-12-06T02:15:38.104796Z",
     "start_time": "2023-12-06T02:15:38.098532Z"
    },
    "id": "lrrVT13WuCcz",
    "tags": []
   },
   "outputs": [],
   "source": [
    "#다항식은 별도의 모듈이 필요하다 sklearn.preprocessing\n",
    "from sklearn.preprocessing import PolynomialFeatures\n",
    "\n",
    "poly = PolynomialFeatures(degree = 5, include_bias = False)\n",
    "PX_5 = poly.fit_transform(X_train) #이 데이터를 고차식의 데이터로 변환을 시켜줘야한다"
   ]
  },
  {
   "cell_type": "code",
   "execution_count": 47,
   "metadata": {
    "ExecuteTime": {
     "end_time": "2023-12-06T02:21:57.970541Z",
     "start_time": "2023-12-06T02:21:57.963707Z"
    },
    "tags": []
   },
   "outputs": [
    {
     "data": {
      "text/html": [
       "<div>\n",
       "<style scoped>\n",
       "    .dataframe tbody tr th:only-of-type {\n",
       "        vertical-align: middle;\n",
       "    }\n",
       "\n",
       "    .dataframe tbody tr th {\n",
       "        vertical-align: top;\n",
       "    }\n",
       "\n",
       "    .dataframe thead th {\n",
       "        text-align: right;\n",
       "    }\n",
       "</style>\n",
       "<table border=\"1\" class=\"dataframe\">\n",
       "  <thead>\n",
       "    <tr style=\"text-align: right;\">\n",
       "      <th></th>\n",
       "      <th>surface_area</th>\n",
       "    </tr>\n",
       "  </thead>\n",
       "  <tbody>\n",
       "    <tr>\n",
       "      <th>0</th>\n",
       "      <td>514.5</td>\n",
       "    </tr>\n",
       "    <tr>\n",
       "      <th>1</th>\n",
       "      <td>514.5</td>\n",
       "    </tr>\n",
       "    <tr>\n",
       "      <th>2</th>\n",
       "      <td>514.5</td>\n",
       "    </tr>\n",
       "  </tbody>\n",
       "</table>\n",
       "</div>"
      ],
      "text/plain": [
       "   surface_area\n",
       "0         514.5\n",
       "1         514.5\n",
       "2         514.5"
      ]
     },
     "execution_count": 47,
     "metadata": {},
     "output_type": "execute_result"
    }
   ],
   "source": [
    "X_train[:3] #데이터 변환"
   ]
  },
  {
   "cell_type": "code",
   "execution_count": 19,
   "metadata": {
    "ExecuteTime": {
     "end_time": "2023-12-06T02:22:00.919344Z",
     "start_time": "2023-12-06T02:22:00.914885Z"
    },
    "colab": {
     "base_uri": "https://localhost:8080/"
    },
    "executionInfo": {
     "elapsed": 126,
     "status": "ok",
     "timestamp": 1664034016692,
     "user": {
      "displayName": "이정구",
      "userId": "17400242557229223804"
     },
     "user_tz": -540
    },
    "id": "dLXUAU8K4RtG",
    "outputId": "ae3b1a03-3c32-41f7-eae6-7953f1b982df",
    "tags": []
   },
   "outputs": [
    {
     "data": {
      "text/plain": [
       "array([[5.14500000e+02, 2.64710250e+05, 1.36193424e+08, 7.00715165e+10,\n",
       "        3.60517952e+13],\n",
       "       [5.14500000e+02, 2.64710250e+05, 1.36193424e+08, 7.00715165e+10,\n",
       "        3.60517952e+13],\n",
       "       [5.14500000e+02, 2.64710250e+05, 1.36193424e+08, 7.00715165e+10,\n",
       "        3.60517952e+13]])"
      ]
     },
     "execution_count": 19,
     "metadata": {},
     "output_type": "execute_result"
    }
   ],
   "source": [
    "PX_5[:3]"
   ]
  },
  {
   "cell_type": "code",
   "execution_count": 48,
   "metadata": {
    "ExecuteTime": {
     "end_time": "2023-12-06T02:15:38.920656Z",
     "start_time": "2023-12-06T02:15:38.916545Z"
    },
    "colab": {
     "base_uri": "https://localhost:8080/"
    },
    "executionInfo": {
     "elapsed": 123,
     "status": "ok",
     "timestamp": 1664034016694,
     "user": {
      "displayName": "이정구",
      "userId": "17400242557229223804"
     },
     "user_tz": -540
    },
    "id": "iaOPRtuf5C3_",
    "outputId": "a39fb0c5-19da-486b-a4d9-02a1661b2d9c",
    "tags": []
   },
   "outputs": [
    {
     "data": {
      "text/plain": [
       "((768, 1), (768, 5))"
      ]
     },
     "execution_count": 48,
     "metadata": {},
     "output_type": "execute_result"
    }
   ],
   "source": [
    "X_train.shape, PX_5.shape #변환해서 5열로 늘어난것 확인"
   ]
  },
  {
   "cell_type": "markdown",
   "metadata": {
    "id": "SI7q5SSi7_0m"
   },
   "source": [
    "* 5차 모델 생성"
   ]
  },
  {
   "cell_type": "code",
   "execution_count": 49,
   "metadata": {
    "ExecuteTime": {
     "end_time": "2023-12-06T02:15:39.846547Z",
     "start_time": "2023-12-06T02:15:39.826825Z"
    },
    "colab": {
     "base_uri": "https://localhost:8080/"
    },
    "executionInfo": {
     "elapsed": 133,
     "status": "ok",
     "timestamp": 1664034016708,
     "user": {
      "displayName": "이정구",
      "userId": "17400242557229223804"
     },
     "user_tz": -540
    },
    "id": "DIf0vGGoWr-E",
    "outputId": "16d784f5-0441-493f-90cc-4be13de54e68",
    "tags": []
   },
   "outputs": [
    {
     "data": {
      "text/html": [
       "<style>#sk-container-id-6 {color: black;}#sk-container-id-6 pre{padding: 0;}#sk-container-id-6 div.sk-toggleable {background-color: white;}#sk-container-id-6 label.sk-toggleable__label {cursor: pointer;display: block;width: 100%;margin-bottom: 0;padding: 0.3em;box-sizing: border-box;text-align: center;}#sk-container-id-6 label.sk-toggleable__label-arrow:before {content: \"▸\";float: left;margin-right: 0.25em;color: #696969;}#sk-container-id-6 label.sk-toggleable__label-arrow:hover:before {color: black;}#sk-container-id-6 div.sk-estimator:hover label.sk-toggleable__label-arrow:before {color: black;}#sk-container-id-6 div.sk-toggleable__content {max-height: 0;max-width: 0;overflow: hidden;text-align: left;background-color: #f0f8ff;}#sk-container-id-6 div.sk-toggleable__content pre {margin: 0.2em;color: black;border-radius: 0.25em;background-color: #f0f8ff;}#sk-container-id-6 input.sk-toggleable__control:checked~div.sk-toggleable__content {max-height: 200px;max-width: 100%;overflow: auto;}#sk-container-id-6 input.sk-toggleable__control:checked~label.sk-toggleable__label-arrow:before {content: \"▾\";}#sk-container-id-6 div.sk-estimator input.sk-toggleable__control:checked~label.sk-toggleable__label {background-color: #d4ebff;}#sk-container-id-6 div.sk-label input.sk-toggleable__control:checked~label.sk-toggleable__label {background-color: #d4ebff;}#sk-container-id-6 input.sk-hidden--visually {border: 0;clip: rect(1px 1px 1px 1px);clip: rect(1px, 1px, 1px, 1px);height: 1px;margin: -1px;overflow: hidden;padding: 0;position: absolute;width: 1px;}#sk-container-id-6 div.sk-estimator {font-family: monospace;background-color: #f0f8ff;border: 1px dotted black;border-radius: 0.25em;box-sizing: border-box;margin-bottom: 0.5em;}#sk-container-id-6 div.sk-estimator:hover {background-color: #d4ebff;}#sk-container-id-6 div.sk-parallel-item::after {content: \"\";width: 100%;border-bottom: 1px solid gray;flex-grow: 1;}#sk-container-id-6 div.sk-label:hover label.sk-toggleable__label {background-color: #d4ebff;}#sk-container-id-6 div.sk-serial::before {content: \"\";position: absolute;border-left: 1px solid gray;box-sizing: border-box;top: 0;bottom: 0;left: 50%;z-index: 0;}#sk-container-id-6 div.sk-serial {display: flex;flex-direction: column;align-items: center;background-color: white;padding-right: 0.2em;padding-left: 0.2em;position: relative;}#sk-container-id-6 div.sk-item {position: relative;z-index: 1;}#sk-container-id-6 div.sk-parallel {display: flex;align-items: stretch;justify-content: center;background-color: white;position: relative;}#sk-container-id-6 div.sk-item::before, #sk-container-id-6 div.sk-parallel-item::before {content: \"\";position: absolute;border-left: 1px solid gray;box-sizing: border-box;top: 0;bottom: 0;left: 50%;z-index: -1;}#sk-container-id-6 div.sk-parallel-item {display: flex;flex-direction: column;z-index: 1;position: relative;background-color: white;}#sk-container-id-6 div.sk-parallel-item:first-child::after {align-self: flex-end;width: 50%;}#sk-container-id-6 div.sk-parallel-item:last-child::after {align-self: flex-start;width: 50%;}#sk-container-id-6 div.sk-parallel-item:only-child::after {width: 0;}#sk-container-id-6 div.sk-dashed-wrapped {border: 1px dashed gray;margin: 0 0.4em 0.5em 0.4em;box-sizing: border-box;padding-bottom: 0.4em;background-color: white;}#sk-container-id-6 div.sk-label label {font-family: monospace;font-weight: bold;display: inline-block;line-height: 1.2em;}#sk-container-id-6 div.sk-label-container {text-align: center;}#sk-container-id-6 div.sk-container {/* jupyter's `normalize.less` sets `[hidden] { display: none; }` but bootstrap.min.css set `[hidden] { display: none !important; }` so we also need the `!important` here to be able to override the default hidden behavior on the sphinx rendered scikit-learn.org. See: https://github.com/scikit-learn/scikit-learn/issues/21755 */display: inline-block !important;position: relative;}#sk-container-id-6 div.sk-text-repr-fallback {display: none;}</style><div id=\"sk-container-id-6\" class=\"sk-top-container\"><div class=\"sk-text-repr-fallback\"><pre>LinearRegression()</pre><b>In a Jupyter environment, please rerun this cell to show the HTML representation or trust the notebook. <br />On GitHub, the HTML representation is unable to render, please try loading this page with nbviewer.org.</b></div><div class=\"sk-container\" hidden><div class=\"sk-item\"><div class=\"sk-estimator sk-toggleable\"><input class=\"sk-toggleable__control sk-hidden--visually\" id=\"sk-estimator-id-6\" type=\"checkbox\" checked><label for=\"sk-estimator-id-6\" class=\"sk-toggleable__label sk-toggleable__label-arrow\">LinearRegression</label><div class=\"sk-toggleable__content\"><pre>LinearRegression()</pre></div></div></div></div></div>"
      ],
      "text/plain": [
       "LinearRegression()"
      ]
     },
     "execution_count": 49,
     "metadata": {},
     "output_type": "execute_result"
    }
   ],
   "source": [
    "from sklearn.linear_model import LinearRegression\n",
    "\n",
    "Model_5 = LinearRegression()\n",
    "Model_5.fit(PX_5, y_train) #변환된 데이터 삽입"
   ]
  },
  {
   "cell_type": "markdown",
   "metadata": {
    "id": "kJQMaIAW8DRW"
   },
   "source": [
    "* 모델 정보(학습결과) 확인"
   ]
  },
  {
   "cell_type": "code",
   "execution_count": null,
   "metadata": {
    "ExecuteTime": {
     "end_time": "2023-12-06T02:15:44.160310Z",
     "start_time": "2023-12-06T02:15:44.154162Z"
    }
   },
   "outputs": [
    {
     "data": {
      "text/plain": [
       "\u001b[1;31mSignature:\u001b[0m\n",
       "\u001b[0mnp\u001b[0m\u001b[1;33m.\u001b[0m\u001b[0mset_printoptions\u001b[0m\u001b[1;33m(\u001b[0m\u001b[1;33m\n",
       "\u001b[0m    \u001b[0mprecision\u001b[0m\u001b[1;33m=\u001b[0m\u001b[1;32mNone\u001b[0m\u001b[1;33m,\u001b[0m\u001b[1;33m\n",
       "\u001b[0m    \u001b[0mthreshold\u001b[0m\u001b[1;33m=\u001b[0m\u001b[1;32mNone\u001b[0m\u001b[1;33m,\u001b[0m\u001b[1;33m\n",
       "\u001b[0m    \u001b[0medgeitems\u001b[0m\u001b[1;33m=\u001b[0m\u001b[1;32mNone\u001b[0m\u001b[1;33m,\u001b[0m\u001b[1;33m\n",
       "\u001b[0m    \u001b[0mlinewidth\u001b[0m\u001b[1;33m=\u001b[0m\u001b[1;32mNone\u001b[0m\u001b[1;33m,\u001b[0m\u001b[1;33m\n",
       "\u001b[0m    \u001b[0msuppress\u001b[0m\u001b[1;33m=\u001b[0m\u001b[1;32mNone\u001b[0m\u001b[1;33m,\u001b[0m\u001b[1;33m\n",
       "\u001b[0m    \u001b[0mnanstr\u001b[0m\u001b[1;33m=\u001b[0m\u001b[1;32mNone\u001b[0m\u001b[1;33m,\u001b[0m\u001b[1;33m\n",
       "\u001b[0m    \u001b[0minfstr\u001b[0m\u001b[1;33m=\u001b[0m\u001b[1;32mNone\u001b[0m\u001b[1;33m,\u001b[0m\u001b[1;33m\n",
       "\u001b[0m    \u001b[0mformatter\u001b[0m\u001b[1;33m=\u001b[0m\u001b[1;32mNone\u001b[0m\u001b[1;33m,\u001b[0m\u001b[1;33m\n",
       "\u001b[0m    \u001b[0msign\u001b[0m\u001b[1;33m=\u001b[0m\u001b[1;32mNone\u001b[0m\u001b[1;33m,\u001b[0m\u001b[1;33m\n",
       "\u001b[0m    \u001b[0mfloatmode\u001b[0m\u001b[1;33m=\u001b[0m\u001b[1;32mNone\u001b[0m\u001b[1;33m,\u001b[0m\u001b[1;33m\n",
       "\u001b[0m    \u001b[1;33m*\u001b[0m\u001b[1;33m,\u001b[0m\u001b[1;33m\n",
       "\u001b[0m    \u001b[0mlegacy\u001b[0m\u001b[1;33m=\u001b[0m\u001b[1;32mNone\u001b[0m\u001b[1;33m,\u001b[0m\u001b[1;33m\n",
       "\u001b[0m\u001b[1;33m)\u001b[0m\u001b[1;33m\u001b[0m\u001b[1;33m\u001b[0m\u001b[0m\n",
       "\u001b[1;31mDocstring:\u001b[0m\n",
       "Set printing options.\n",
       "\n",
       "These options determine the way floating point numbers, arrays and\n",
       "other NumPy objects are displayed.\n",
       "\n",
       "Parameters\n",
       "----------\n",
       "precision : int or None, optional\n",
       "    Number of digits of precision for floating point output (default 8).\n",
       "    May be None if `floatmode` is not `fixed`, to print as many digits as\n",
       "    necessary to uniquely specify the value.\n",
       "threshold : int, optional\n",
       "    Total number of array elements which trigger summarization\n",
       "    rather than full repr (default 1000).\n",
       "    To always use the full repr without summarization, pass `sys.maxsize`.\n",
       "edgeitems : int, optional\n",
       "    Number of array items in summary at beginning and end of\n",
       "    each dimension (default 3).\n",
       "linewidth : int, optional\n",
       "    The number of characters per line for the purpose of inserting\n",
       "    line breaks (default 75).\n",
       "suppress : bool, optional\n",
       "    If True, always print floating point numbers using fixed point\n",
       "    notation, in which case numbers equal to zero in the current precision\n",
       "    will print as zero.  If False, then scientific notation is used when\n",
       "    absolute value of the smallest number is < 1e-4 or the ratio of the\n",
       "    maximum absolute value to the minimum is > 1e3. The default is False.\n",
       "nanstr : str, optional\n",
       "    String representation of floating point not-a-number (default nan).\n",
       "infstr : str, optional\n",
       "    String representation of floating point infinity (default inf).\n",
       "sign : string, either '-', '+', or ' ', optional\n",
       "    Controls printing of the sign of floating-point types. If '+', always\n",
       "    print the sign of positive values. If ' ', always prints a space\n",
       "    (whitespace character) in the sign position of positive values.  If\n",
       "    '-', omit the sign character of positive values. (default '-')\n",
       "formatter : dict of callables, optional\n",
       "    If not None, the keys should indicate the type(s) that the respective\n",
       "    formatting function applies to.  Callables should return a string.\n",
       "    Types that are not specified (by their corresponding keys) are handled\n",
       "    by the default formatters.  Individual types for which a formatter\n",
       "    can be set are:\n",
       "\n",
       "    - 'bool'\n",
       "    - 'int'\n",
       "    - 'timedelta' : a `numpy.timedelta64`\n",
       "    - 'datetime' : a `numpy.datetime64`\n",
       "    - 'float'\n",
       "    - 'longfloat' : 128-bit floats\n",
       "    - 'complexfloat'\n",
       "    - 'longcomplexfloat' : composed of two 128-bit floats\n",
       "    - 'numpystr' : types `numpy.string_` and `numpy.unicode_`\n",
       "    - 'object' : `np.object_` arrays\n",
       "\n",
       "    Other keys that can be used to set a group of types at once are:\n",
       "\n",
       "    - 'all' : sets all types\n",
       "    - 'int_kind' : sets 'int'\n",
       "    - 'float_kind' : sets 'float' and 'longfloat'\n",
       "    - 'complex_kind' : sets 'complexfloat' and 'longcomplexfloat'\n",
       "    - 'str_kind' : sets 'numpystr'\n",
       "floatmode : str, optional\n",
       "    Controls the interpretation of the `precision` option for\n",
       "    floating-point types. Can take the following values\n",
       "    (default maxprec_equal):\n",
       "\n",
       "    * 'fixed': Always print exactly `precision` fractional digits,\n",
       "            even if this would print more or fewer digits than\n",
       "            necessary to specify the value uniquely.\n",
       "    * 'unique': Print the minimum number of fractional digits necessary\n",
       "            to represent each value uniquely. Different elements may\n",
       "            have a different number of digits. The value of the\n",
       "            `precision` option is ignored.\n",
       "    * 'maxprec': Print at most `precision` fractional digits, but if\n",
       "            an element can be uniquely represented with fewer digits\n",
       "            only print it with that many.\n",
       "    * 'maxprec_equal': Print at most `precision` fractional digits,\n",
       "            but if every element in the array can be uniquely\n",
       "            represented with an equal number of fewer digits, use that\n",
       "            many digits for all elements.\n",
       "legacy : string or `False`, optional\n",
       "    If set to the string `'1.13'` enables 1.13 legacy printing mode. This\n",
       "    approximates numpy 1.13 print output by including a space in the sign\n",
       "    position of floats and different behavior for 0d arrays. This also\n",
       "    enables 1.21 legacy printing mode (described below).\n",
       "\n",
       "    If set to the string `'1.21'` enables 1.21 legacy printing mode. This\n",
       "    approximates numpy 1.21 print output of complex structured dtypes\n",
       "    by not inserting spaces after commas that separate fields and after\n",
       "    colons.\n",
       "\n",
       "    If set to `False`, disables legacy mode.\n",
       "\n",
       "    Unrecognized strings will be ignored with a warning for forward\n",
       "    compatibility.\n",
       "\n",
       "    .. versionadded:: 1.14.0\n",
       "    .. versionchanged:: 1.22.0\n",
       "\n",
       "See Also\n",
       "--------\n",
       "get_printoptions, printoptions, set_string_function, array2string\n",
       "\n",
       "Notes\n",
       "-----\n",
       "`formatter` is always reset with a call to `set_printoptions`.\n",
       "\n",
       "Use `printoptions` as a context manager to set the values temporarily.\n",
       "\n",
       "Examples\n",
       "--------\n",
       "Floating point precision can be set:\n",
       "\n",
       ">>> np.set_printoptions(precision=4)\n",
       ">>> np.array([1.123456789])\n",
       "[1.1235]\n",
       "\n",
       "Long arrays can be summarised:\n",
       "\n",
       ">>> np.set_printoptions(threshold=5)\n",
       ">>> np.arange(10)\n",
       "array([0, 1, 2, ..., 7, 8, 9])\n",
       "\n",
       "Small results can be suppressed:\n",
       "\n",
       ">>> eps = np.finfo(float).eps\n",
       ">>> x = np.arange(4.)\n",
       ">>> x**2 - (x + eps)**2\n",
       "array([-4.9304e-32, -4.4409e-16,  0.0000e+00,  0.0000e+00])\n",
       ">>> np.set_printoptions(suppress=True)\n",
       ">>> x**2 - (x + eps)**2\n",
       "array([-0., -0.,  0.,  0.])\n",
       "\n",
       "A custom formatter can be used to display array elements as desired:\n",
       "\n",
       ">>> np.set_printoptions(formatter={'all':lambda x: 'int: '+str(-x)})\n",
       ">>> x = np.arange(3)\n",
       ">>> x\n",
       "array([int: 0, int: -1, int: -2])\n",
       ">>> np.set_printoptions()  # formatter gets reset\n",
       ">>> x\n",
       "array([0, 1, 2])\n",
       "\n",
       "To put back the default options, you can use:\n",
       "\n",
       ">>> np.set_printoptions(edgeitems=3, infstr='inf',\n",
       "... linewidth=75, nanstr='nan', precision=8,\n",
       "... suppress=False, threshold=1000, formatter=None)\n",
       "\n",
       "Also to temporarily override options, use `printoptions` as a context manager:\n",
       "\n",
       ">>> with np.printoptions(precision=2, suppress=True, threshold=5):\n",
       "...     np.linspace(0, 10, 10)\n",
       "array([ 0.  ,  1.11,  2.22, ...,  7.78,  8.89, 10.  ])\n",
       "\u001b[1;31mFile:\u001b[0m      c:\\users\\maeng\\anaconda3\\lib\\site-packages\\numpy\\core\\arrayprint.py\n",
       "\u001b[1;31mType:\u001b[0m      function\n"
      ]
     },
     "metadata": {},
     "output_type": "display_data"
    }
   ],
   "source": [
    "np.set_printoptions?"
   ]
  },
  {
   "cell_type": "code",
   "execution_count": 50,
   "metadata": {
    "ExecuteTime": {
     "end_time": "2023-12-06T02:15:48.535232Z",
     "start_time": "2023-12-06T02:15:48.531106Z"
    },
    "colab": {
     "base_uri": "https://localhost:8080/"
    },
    "executionInfo": {
     "elapsed": 131,
     "status": "ok",
     "timestamp": 1664034016709,
     "user": {
      "displayName": "이정구",
      "userId": "17400242557229223804"
     },
     "user_tz": -540
    },
    "id": "qM_8YWy2vsRX",
    "outputId": "d7af719a-3f1c-4fae-b284-89f7e72a26c2",
    "tags": []
   },
   "outputs": [
    {
     "name": "stdout",
     "output_type": "stream",
     "text": [
      "[-0.0003155139453867635        -0.10292954613194301\n",
      "  0.0003787613155609036        -0.0000005032062965794113\n",
      "  0.00000000022980589853816596]\n",
      "2906.2084288541437\n"
     ]
    }
   ],
   "source": [
    "# precision 부동소수점 출력의 정밀도 자릿수(기본값 8)\n",
    "# suppress False인 경우 과학적 표기법 사용(True인 경우 항상 고정소수점으로 부동소수점숫자 출력)\n",
    "np.set_printoptions(suppress = True, precision = 40)\n",
    "\n",
    "print(Model_5.coef_) #5차식이기 때문에 w=기울기 5개 생김\n",
    "print(Model_5.intercept_)"
   ]
  },
  {
   "cell_type": "markdown",
   "metadata": {
    "id": "aHBLWqGM8HST"
   },
   "source": [
    "* y_hat(예측값) 생성"
   ]
  },
  {
   "cell_type": "code",
   "execution_count": 51,
   "metadata": {
    "ExecuteTime": {
     "end_time": "2023-12-06T02:15:49.101740Z",
     "start_time": "2023-12-06T02:15:49.090928Z"
    },
    "colab": {
     "base_uri": "https://localhost:8080/"
    },
    "executionInfo": {
     "elapsed": 132,
     "status": "ok",
     "timestamp": 1664034016713,
     "user": {
      "displayName": "이정구",
      "userId": "17400242557229223804"
     },
     "user_tz": -540
    },
    "id": "10mBfjE-vwd3",
    "outputId": "ea7f268b-b48a-41eb-9d7b-eaef18500343",
    "tags": []
   },
   "outputs": [
    {
     "data": {
      "text/plain": [
       "(768,)"
      ]
     },
     "execution_count": 51,
     "metadata": {},
     "output_type": "execute_result"
    }
   ],
   "source": [
    "PX_5_pred = poly.fit_transform(X_train)\n",
    "\n",
    "y_hat_5 = Model_5.predict(PX_5_pred)\n",
    "\n",
    "y_hat_5.shape"
   ]
  },
  {
   "cell_type": "markdown",
   "metadata": {
    "id": "70FA9J6I8J6N"
   },
   "source": [
    "* MSE(Mean Squared Error) 계산"
   ]
  },
  {
   "cell_type": "code",
   "execution_count": 52,
   "metadata": {
    "ExecuteTime": {
     "end_time": "2023-12-06T02:15:49.816484Z",
     "start_time": "2023-12-06T02:15:49.810955Z"
    },
    "colab": {
     "base_uri": "https://localhost:8080/"
    },
    "executionInfo": {
     "elapsed": 130,
     "status": "ok",
     "timestamp": 1664034016715,
     "user": {
      "displayName": "이정구",
      "userId": "17400242557229223804"
     },
     "user_tz": -540
    },
    "id": "nsMm0k9EwCnf",
    "outputId": "16855926-8e73-4173-9455-c5fcac549146",
    "tags": []
   },
   "outputs": [
    {
     "data": {
      "text/plain": [
       "4177.726328803671"
      ]
     },
     "execution_count": 52,
     "metadata": {},
     "output_type": "execute_result"
    }
   ],
   "source": [
    "TR_Err_5 = np.mean((y_train - y_hat_5) ** 2)\n",
    "TR_Err_5"
   ]
  },
  {
   "cell_type": "markdown",
   "metadata": {
    "id": "GTzBQPRlwvPS"
   },
   "source": [
    "### 9차 모델 Training Error\n",
    "\n",
    "* X 다항차수 변환\n",
    " - (768, 1) to (768, 9)"
   ]
  },
  {
   "cell_type": "code",
   "execution_count": 53,
   "metadata": {
    "ExecuteTime": {
     "end_time": "2023-12-06T02:15:51.848214Z",
     "start_time": "2023-12-06T02:15:51.842557Z"
    },
    "id": "CIScGdXVw1o2",
    "tags": []
   },
   "outputs": [],
   "source": [
    "from sklearn.preprocessing import PolynomialFeatures\n",
    "\n",
    "poly = PolynomialFeatures(degree = 9, include_bias = False)\n",
    "PX_9 = poly.fit_transform(X_train)"
   ]
  },
  {
   "cell_type": "code",
   "execution_count": 54,
   "metadata": {
    "ExecuteTime": {
     "end_time": "2023-12-06T02:15:52.088674Z",
     "start_time": "2023-12-06T02:15:52.083688Z"
    },
    "colab": {
     "base_uri": "https://localhost:8080/"
    },
    "executionInfo": {
     "elapsed": 129,
     "status": "ok",
     "timestamp": 1664034016718,
     "user": {
      "displayName": "이정구",
      "userId": "17400242557229223804"
     },
     "user_tz": -540
    },
    "id": "bR5LnHES5lwZ",
    "outputId": "42da7d87-de7c-408d-ebc3-b6c2562970cf",
    "tags": []
   },
   "outputs": [
    {
     "data": {
      "text/plain": [
       "((768, 1), (768, 9))"
      ]
     },
     "execution_count": 54,
     "metadata": {},
     "output_type": "execute_result"
    }
   ],
   "source": [
    "X_train.shape, PX_9.shape"
   ]
  },
  {
   "cell_type": "markdown",
   "metadata": {
    "id": "kVCozYuE8SGD"
   },
   "source": [
    "* 모델 생성"
   ]
  },
  {
   "cell_type": "code",
   "execution_count": 55,
   "metadata": {
    "ExecuteTime": {
     "end_time": "2023-12-06T02:15:55.877836Z",
     "start_time": "2023-12-06T02:15:55.867259Z"
    },
    "colab": {
     "base_uri": "https://localhost:8080/"
    },
    "executionInfo": {
     "elapsed": 128,
     "status": "ok",
     "timestamp": 1664034016720,
     "user": {
      "displayName": "이정구",
      "userId": "17400242557229223804"
     },
     "user_tz": -540
    },
    "id": "t70whAC-xEE7",
    "outputId": "648cec32-7756-4fe9-cd04-190b6f544b69",
    "tags": []
   },
   "outputs": [
    {
     "data": {
      "text/html": [
       "<style>#sk-container-id-7 {color: black;}#sk-container-id-7 pre{padding: 0;}#sk-container-id-7 div.sk-toggleable {background-color: white;}#sk-container-id-7 label.sk-toggleable__label {cursor: pointer;display: block;width: 100%;margin-bottom: 0;padding: 0.3em;box-sizing: border-box;text-align: center;}#sk-container-id-7 label.sk-toggleable__label-arrow:before {content: \"▸\";float: left;margin-right: 0.25em;color: #696969;}#sk-container-id-7 label.sk-toggleable__label-arrow:hover:before {color: black;}#sk-container-id-7 div.sk-estimator:hover label.sk-toggleable__label-arrow:before {color: black;}#sk-container-id-7 div.sk-toggleable__content {max-height: 0;max-width: 0;overflow: hidden;text-align: left;background-color: #f0f8ff;}#sk-container-id-7 div.sk-toggleable__content pre {margin: 0.2em;color: black;border-radius: 0.25em;background-color: #f0f8ff;}#sk-container-id-7 input.sk-toggleable__control:checked~div.sk-toggleable__content {max-height: 200px;max-width: 100%;overflow: auto;}#sk-container-id-7 input.sk-toggleable__control:checked~label.sk-toggleable__label-arrow:before {content: \"▾\";}#sk-container-id-7 div.sk-estimator input.sk-toggleable__control:checked~label.sk-toggleable__label {background-color: #d4ebff;}#sk-container-id-7 div.sk-label input.sk-toggleable__control:checked~label.sk-toggleable__label {background-color: #d4ebff;}#sk-container-id-7 input.sk-hidden--visually {border: 0;clip: rect(1px 1px 1px 1px);clip: rect(1px, 1px, 1px, 1px);height: 1px;margin: -1px;overflow: hidden;padding: 0;position: absolute;width: 1px;}#sk-container-id-7 div.sk-estimator {font-family: monospace;background-color: #f0f8ff;border: 1px dotted black;border-radius: 0.25em;box-sizing: border-box;margin-bottom: 0.5em;}#sk-container-id-7 div.sk-estimator:hover {background-color: #d4ebff;}#sk-container-id-7 div.sk-parallel-item::after {content: \"\";width: 100%;border-bottom: 1px solid gray;flex-grow: 1;}#sk-container-id-7 div.sk-label:hover label.sk-toggleable__label {background-color: #d4ebff;}#sk-container-id-7 div.sk-serial::before {content: \"\";position: absolute;border-left: 1px solid gray;box-sizing: border-box;top: 0;bottom: 0;left: 50%;z-index: 0;}#sk-container-id-7 div.sk-serial {display: flex;flex-direction: column;align-items: center;background-color: white;padding-right: 0.2em;padding-left: 0.2em;position: relative;}#sk-container-id-7 div.sk-item {position: relative;z-index: 1;}#sk-container-id-7 div.sk-parallel {display: flex;align-items: stretch;justify-content: center;background-color: white;position: relative;}#sk-container-id-7 div.sk-item::before, #sk-container-id-7 div.sk-parallel-item::before {content: \"\";position: absolute;border-left: 1px solid gray;box-sizing: border-box;top: 0;bottom: 0;left: 50%;z-index: -1;}#sk-container-id-7 div.sk-parallel-item {display: flex;flex-direction: column;z-index: 1;position: relative;background-color: white;}#sk-container-id-7 div.sk-parallel-item:first-child::after {align-self: flex-end;width: 50%;}#sk-container-id-7 div.sk-parallel-item:last-child::after {align-self: flex-start;width: 50%;}#sk-container-id-7 div.sk-parallel-item:only-child::after {width: 0;}#sk-container-id-7 div.sk-dashed-wrapped {border: 1px dashed gray;margin: 0 0.4em 0.5em 0.4em;box-sizing: border-box;padding-bottom: 0.4em;background-color: white;}#sk-container-id-7 div.sk-label label {font-family: monospace;font-weight: bold;display: inline-block;line-height: 1.2em;}#sk-container-id-7 div.sk-label-container {text-align: center;}#sk-container-id-7 div.sk-container {/* jupyter's `normalize.less` sets `[hidden] { display: none; }` but bootstrap.min.css set `[hidden] { display: none !important; }` so we also need the `!important` here to be able to override the default hidden behavior on the sphinx rendered scikit-learn.org. See: https://github.com/scikit-learn/scikit-learn/issues/21755 */display: inline-block !important;position: relative;}#sk-container-id-7 div.sk-text-repr-fallback {display: none;}</style><div id=\"sk-container-id-7\" class=\"sk-top-container\"><div class=\"sk-text-repr-fallback\"><pre>LinearRegression()</pre><b>In a Jupyter environment, please rerun this cell to show the HTML representation or trust the notebook. <br />On GitHub, the HTML representation is unable to render, please try loading this page with nbviewer.org.</b></div><div class=\"sk-container\" hidden><div class=\"sk-item\"><div class=\"sk-estimator sk-toggleable\"><input class=\"sk-toggleable__control sk-hidden--visually\" id=\"sk-estimator-id-7\" type=\"checkbox\" checked><label for=\"sk-estimator-id-7\" class=\"sk-toggleable__label sk-toggleable__label-arrow\">LinearRegression</label><div class=\"sk-toggleable__content\"><pre>LinearRegression()</pre></div></div></div></div></div>"
      ],
      "text/plain": [
       "LinearRegression()"
      ]
     },
     "execution_count": 55,
     "metadata": {},
     "output_type": "execute_result"
    }
   ],
   "source": [
    "from sklearn.linear_model import LinearRegression\n",
    "\n",
    "Model_9 = LinearRegression()\n",
    "Model_9.fit(PX_9, y_train)"
   ]
  },
  {
   "cell_type": "markdown",
   "metadata": {
    "id": "2hwsUpYI8VIZ"
   },
   "source": [
    "* 모델 정보(학습결과) 확인"
   ]
  },
  {
   "cell_type": "code",
   "execution_count": 56,
   "metadata": {
    "ExecuteTime": {
     "end_time": "2023-12-06T02:15:56.694193Z",
     "start_time": "2023-12-06T02:15:56.690940Z"
    },
    "colab": {
     "base_uri": "https://localhost:8080/"
    },
    "executionInfo": {
     "elapsed": 127,
     "status": "ok",
     "timestamp": 1664034016721,
     "user": {
      "displayName": "이정구",
      "userId": "17400242557229223804"
     },
     "user_tz": -540
    },
    "id": "z-mGhFLuxKmX",
    "outputId": "4359dedc-2c7d-46fc-b73a-4632a2483ff6",
    "tags": []
   },
   "outputs": [
    {
     "name": "stdout",
     "output_type": "stream",
     "text": [
      "[ 0.0000000000000000000000000479174184660893\n",
      "  0.00000000000000000036149462670149356\n",
      "  0.00000000000000000002186332153417754\n",
      "  0.00000000000000000960688875936692\n",
      "  0.000000000000003177326406206501\n",
      "  0.0000000000006336691114048881\n",
      " -0.0000000000000022880589641056528\n",
      "  0.0000000000000000027751494738402227\n",
      " -0.0000000000000000000011271003953322504   ]\n",
      "-440.08258376406695\n"
     ]
    }
   ],
   "source": [
    "print(Model_9.coef_)\n",
    "print(Model_9.intercept_)"
   ]
  },
  {
   "cell_type": "markdown",
   "metadata": {
    "id": "gQxmNJas8YX4"
   },
   "source": [
    "* y_hat(예측값) 생성"
   ]
  },
  {
   "cell_type": "code",
   "execution_count": 57,
   "metadata": {
    "ExecuteTime": {
     "end_time": "2023-12-06T02:16:01.074171Z",
     "start_time": "2023-12-06T02:16:01.067136Z"
    },
    "colab": {
     "base_uri": "https://localhost:8080/"
    },
    "executionInfo": {
     "elapsed": 127,
     "status": "ok",
     "timestamp": 1664034016723,
     "user": {
      "displayName": "이정구",
      "userId": "17400242557229223804"
     },
     "user_tz": -540
    },
    "id": "BfI4gKrWxNYg",
    "outputId": "f9e32a6d-a4ba-4f3c-dd78-b2be80d7c94d",
    "tags": []
   },
   "outputs": [
    {
     "data": {
      "text/plain": [
       "(768,)"
      ]
     },
     "execution_count": 57,
     "metadata": {},
     "output_type": "execute_result"
    }
   ],
   "source": [
    "PX_9_pred = poly.fit_transform(X_train)\n",
    "\n",
    "y_hat_9 = Model_9.predict(PX_9_pred)\n",
    "\n",
    "y_hat_9.shape"
   ]
  },
  {
   "cell_type": "markdown",
   "metadata": {
    "id": "hS00kqky8avR"
   },
   "source": [
    "* MSE(Mean Squared Error) 계산"
   ]
  },
  {
   "cell_type": "code",
   "execution_count": 58,
   "metadata": {
    "ExecuteTime": {
     "end_time": "2023-12-06T02:16:01.559969Z",
     "start_time": "2023-12-06T02:16:01.555253Z"
    },
    "colab": {
     "base_uri": "https://localhost:8080/"
    },
    "executionInfo": {
     "elapsed": 126,
     "status": "ok",
     "timestamp": 1664034016724,
     "user": {
      "displayName": "이정구",
      "userId": "17400242557229223804"
     },
     "user_tz": -540
    },
    "id": "f6juRnbixUR-",
    "outputId": "186330dd-5a92-4108-9a07-301d4a718dae",
    "tags": []
   },
   "outputs": [
    {
     "data": {
      "text/plain": [
       "4086.7199908143884"
      ]
     },
     "execution_count": 58,
     "metadata": {},
     "output_type": "execute_result"
    }
   ],
   "source": [
    "TR_Err_9 = np.mean((y_train - y_hat_9) ** 2)\n",
    "TR_Err_9"
   ]
  },
  {
   "cell_type": "markdown",
   "metadata": {
    "id": "82jcD2nD7U_H"
   },
   "source": [
    "### 3개 모델 Training Error 비교"
   ]
  },
  {
   "cell_type": "code",
   "execution_count": 59,
   "metadata": {
    "ExecuteTime": {
     "end_time": "2023-12-06T02:16:02.062286Z",
     "start_time": "2023-12-06T02:16:02.058313Z"
    },
    "colab": {
     "base_uri": "https://localhost:8080/"
    },
    "executionInfo": {
     "elapsed": 124,
     "status": "ok",
     "timestamp": 1664034016725,
     "user": {
      "displayName": "이정구",
      "userId": "17400242557229223804"
     },
     "user_tz": -540
    },
    "id": "4uWS5D3K7KUH",
    "outputId": "a55c8a84-a706-4f3d-caa4-f3ab2321aae5",
    "tags": []
   },
   "outputs": [
    {
     "name": "stdout",
     "output_type": "stream",
     "text": [
      "1차 모델 :  5763.983779426344\n",
      "5차 모델 :  4177.726328803671\n",
      "9차 모델 :  4086.7199908143884\n"
     ]
    }
   ],
   "source": [
    "print('1차 모델 : ', TR_Err_1)\n",
    "print('5차 모델 : ', TR_Err_5)\n",
    "print('9차 모델 : ', TR_Err_9)\n",
    "#차수가 높아질수록 mse 적게나온다 -> 그렇다고해서 좋은걸까?\n",
    "#학습한 결과가 트레이닝 데이터에만 최적화된 모델을 생성한것일 수도 있음 -> 오히려 차수가 높은것은 위험하다 -> 일반화가 안되어있는것\n",
    "#=> 이것을 과적합 되었다고 한다."
   ]
  },
  {
   "cell_type": "markdown",
   "metadata": {
    "id": "icAwm4RJx8mr"
   },
   "source": [
    "## Testing Error\n",
    "* import Packages"
   ]
  },
  {
   "cell_type": "code",
   "execution_count": 92,
   "metadata": {
    "ExecuteTime": {
     "end_time": "2023-12-06T02:16:04.373405Z",
     "start_time": "2023-12-06T02:16:04.370312Z"
    },
    "id": "gamtF6KHzFDA",
    "tags": []
   },
   "outputs": [],
   "source": [
    "import pandas as pd\n",
    "import matplotlib.pyplot as plt\n",
    "import seaborn as sns "
   ]
  },
  {
   "cell_type": "markdown",
   "metadata": {
    "id": "5aqFSinKzODe"
   },
   "source": [
    "* pandas DataFrame\n",
    " - 'Electric.csv' From github"
   ]
  },
  {
   "cell_type": "code",
   "execution_count": 60,
   "metadata": {
    "ExecuteTime": {
     "end_time": "2023-12-06T02:16:05.951255Z",
     "start_time": "2023-12-06T02:16:05.778300Z"
    },
    "colab": {
     "base_uri": "https://localhost:8080/"
    },
    "executionInfo": {
     "elapsed": 128,
     "status": "ok",
     "timestamp": 1664034016736,
     "user": {
      "displayName": "이정구",
      "userId": "17400242557229223804"
     },
     "user_tz": -540
    },
    "id": "M-ba67p0zGvN",
    "outputId": "7c885ff7-5d79-41f6-c7e9-da4d82bba84b",
    "tags": []
   },
   "outputs": [
    {
     "data": {
      "text/plain": [
       "(768, 9)"
      ]
     },
     "execution_count": 60,
     "metadata": {},
     "output_type": "execute_result"
    }
   ],
   "source": [
    "url = 'https://raw.githubusercontent.com/rusita-ai/pyData/master/Electric.csv'\n",
    "\n",
    "Elec = pd.read_csv(url)\n",
    "\n",
    "Elec.shape"
   ]
  },
  {
   "cell_type": "markdown",
   "metadata": {
    "id": "ftblAl99zSYE"
   },
   "source": [
    "### Train_Data vs. Test_Data"
   ]
  },
  {
   "cell_type": "markdown",
   "metadata": {
    "id": "fzeqK_248443"
   },
   "source": [
    "#### DataFrame Split 데이터 프레임을 기준으로 길이로 자른다\n",
    "* 8:2 Split(614:154)\n",
    "* 80% Train_DF & 20% Test_DF"
   ]
  },
  {
   "cell_type": "code",
   "execution_count": 61,
   "metadata": {
    "ExecuteTime": {
     "end_time": "2023-12-06T02:16:26.800672Z",
     "start_time": "2023-12-06T02:16:26.795184Z"
    },
    "id": "KM9SDD37zkwC",
    "tags": []
   },
   "outputs": [],
   "source": [
    "from sklearn.model_selection import train_test_split\n",
    "\n",
    "TR_Elec, TE_Elec = train_test_split(Elec, \n",
    "                                    test_size = 0.2, \n",
    "                                    random_state = 2045) #재현을 위해 꼭 넣어야한다"
   ]
  },
  {
   "cell_type": "code",
   "execution_count": 64,
   "metadata": {
    "ExecuteTime": {
     "end_time": "2023-12-06T02:16:31.007211Z",
     "start_time": "2023-12-06T02:16:31.002787Z"
    },
    "colab": {
     "base_uri": "https://localhost:8080/"
    },
    "executionInfo": {
     "elapsed": 126,
     "status": "ok",
     "timestamp": 1664034016737,
     "user": {
      "displayName": "이정구",
      "userId": "17400242557229223804"
     },
     "user_tz": -540
    },
    "id": "NUE-gofNNGMt",
    "outputId": "ef136607-2e4e-474f-ec3d-4d5d97885b95",
    "tags": []
   },
   "outputs": [
    {
     "data": {
      "text/plain": [
       "((614, 9), (154, 9))"
      ]
     },
     "execution_count": 64,
     "metadata": {},
     "output_type": "execute_result"
    }
   ],
   "source": [
    "TR_Elec.shape, TE_Elec.shape"
   ]
  },
  {
   "cell_type": "markdown",
   "metadata": {
    "id": "-ugPjMIW8_7Q"
   },
   "source": [
    "* 80% TR_Elec DataFrame"
   ]
  },
  {
   "cell_type": "code",
   "execution_count": 65,
   "metadata": {
    "ExecuteTime": {
     "end_time": "2023-12-06T02:16:37.431140Z",
     "start_time": "2023-12-06T02:16:37.411911Z"
    },
    "colab": {
     "base_uri": "https://localhost:8080/",
     "height": 206
    },
    "executionInfo": {
     "elapsed": 126,
     "status": "ok",
     "timestamp": 1664034016739,
     "user": {
      "displayName": "이정구",
      "userId": "17400242557229223804"
     },
     "user_tz": -540
    },
    "id": "n6jXKKuo0GW5",
    "outputId": "e4585675-6dd5-4330-eefd-04b288d603eb",
    "tags": []
   },
   "outputs": [
    {
     "data": {
      "text/html": [
       "<div>\n",
       "<style scoped>\n",
       "    .dataframe tbody tr th:only-of-type {\n",
       "        vertical-align: middle;\n",
       "    }\n",
       "\n",
       "    .dataframe tbody tr th {\n",
       "        vertical-align: top;\n",
       "    }\n",
       "\n",
       "    .dataframe thead th {\n",
       "        text-align: right;\n",
       "    }\n",
       "</style>\n",
       "<table border=\"1\" class=\"dataframe\">\n",
       "  <thead>\n",
       "    <tr style=\"text-align: right;\">\n",
       "      <th></th>\n",
       "      <th>compactness</th>\n",
       "      <th>surface_area</th>\n",
       "      <th>wall_area</th>\n",
       "      <th>roof_area</th>\n",
       "      <th>height</th>\n",
       "      <th>orientation</th>\n",
       "      <th>glazing_area</th>\n",
       "      <th>glazing_area_distribution</th>\n",
       "      <th>electricity</th>\n",
       "    </tr>\n",
       "  </thead>\n",
       "  <tbody>\n",
       "    <tr>\n",
       "      <th>555</th>\n",
       "      <td>0.74</td>\n",
       "      <td>686.0</td>\n",
       "      <td>245.0</td>\n",
       "      <td>220.5</td>\n",
       "      <td>3.5</td>\n",
       "      <td>5</td>\n",
       "      <td>0.40</td>\n",
       "      <td>1</td>\n",
       "      <td>145.5</td>\n",
       "    </tr>\n",
       "    <tr>\n",
       "      <th>355</th>\n",
       "      <td>0.79</td>\n",
       "      <td>637.0</td>\n",
       "      <td>343.0</td>\n",
       "      <td>147.0</td>\n",
       "      <td>7.0</td>\n",
       "      <td>5</td>\n",
       "      <td>0.25</td>\n",
       "      <td>2</td>\n",
       "      <td>389.8</td>\n",
       "    </tr>\n",
       "    <tr>\n",
       "      <th>200</th>\n",
       "      <td>0.86</td>\n",
       "      <td>588.0</td>\n",
       "      <td>294.0</td>\n",
       "      <td>147.0</td>\n",
       "      <td>7.0</td>\n",
       "      <td>2</td>\n",
       "      <td>0.10</td>\n",
       "      <td>4</td>\n",
       "      <td>264.4</td>\n",
       "    </tr>\n",
       "    <tr>\n",
       "      <th>669</th>\n",
       "      <td>0.62</td>\n",
       "      <td>808.5</td>\n",
       "      <td>367.5</td>\n",
       "      <td>220.5</td>\n",
       "      <td>3.5</td>\n",
       "      <td>3</td>\n",
       "      <td>0.40</td>\n",
       "      <td>3</td>\n",
       "      <td>163.5</td>\n",
       "    </tr>\n",
       "    <tr>\n",
       "      <th>561</th>\n",
       "      <td>0.69</td>\n",
       "      <td>735.0</td>\n",
       "      <td>294.0</td>\n",
       "      <td>220.5</td>\n",
       "      <td>3.5</td>\n",
       "      <td>3</td>\n",
       "      <td>0.40</td>\n",
       "      <td>1</td>\n",
       "      <td>147.0</td>\n",
       "    </tr>\n",
       "  </tbody>\n",
       "</table>\n",
       "</div>"
      ],
      "text/plain": [
       "     compactness  surface_area  wall_area  roof_area  height  orientation  \\\n",
       "555         0.74         686.0      245.0      220.5     3.5            5   \n",
       "355         0.79         637.0      343.0      147.0     7.0            5   \n",
       "200         0.86         588.0      294.0      147.0     7.0            2   \n",
       "669         0.62         808.5      367.5      220.5     3.5            3   \n",
       "561         0.69         735.0      294.0      220.5     3.5            3   \n",
       "\n",
       "     glazing_area  glazing_area_distribution  electricity  \n",
       "555          0.40                          1        145.5  \n",
       "355          0.25                          2        389.8  \n",
       "200          0.10                          4        264.4  \n",
       "669          0.40                          3        163.5  \n",
       "561          0.40                          1        147.0  "
      ]
     },
     "execution_count": 65,
     "metadata": {},
     "output_type": "execute_result"
    }
   ],
   "source": [
    "TR_Elec.head()"
   ]
  },
  {
   "cell_type": "markdown",
   "metadata": {
    "id": "rMGdFWFo9Qvp"
   },
   "source": [
    "* 20% TE_Elec DataFrame"
   ]
  },
  {
   "cell_type": "code",
   "execution_count": 66,
   "metadata": {
    "ExecuteTime": {
     "end_time": "2023-12-06T02:16:40.118361Z",
     "start_time": "2023-12-06T02:16:40.107879Z"
    },
    "colab": {
     "base_uri": "https://localhost:8080/",
     "height": 206
    },
    "executionInfo": {
     "elapsed": 126,
     "status": "ok",
     "timestamp": 1664034016740,
     "user": {
      "displayName": "이정구",
      "userId": "17400242557229223804"
     },
     "user_tz": -540
    },
    "id": "CDwUJUZA0ZvH",
    "outputId": "1fb98f77-c7dc-444b-aada-3e948dc2555b",
    "tags": []
   },
   "outputs": [
    {
     "data": {
      "text/html": [
       "<div>\n",
       "<style scoped>\n",
       "    .dataframe tbody tr th:only-of-type {\n",
       "        vertical-align: middle;\n",
       "    }\n",
       "\n",
       "    .dataframe tbody tr th {\n",
       "        vertical-align: top;\n",
       "    }\n",
       "\n",
       "    .dataframe thead th {\n",
       "        text-align: right;\n",
       "    }\n",
       "</style>\n",
       "<table border=\"1\" class=\"dataframe\">\n",
       "  <thead>\n",
       "    <tr style=\"text-align: right;\">\n",
       "      <th></th>\n",
       "      <th>compactness</th>\n",
       "      <th>surface_area</th>\n",
       "      <th>wall_area</th>\n",
       "      <th>roof_area</th>\n",
       "      <th>height</th>\n",
       "      <th>orientation</th>\n",
       "      <th>glazing_area</th>\n",
       "      <th>glazing_area_distribution</th>\n",
       "      <th>electricity</th>\n",
       "    </tr>\n",
       "  </thead>\n",
       "  <tbody>\n",
       "    <tr>\n",
       "      <th>414</th>\n",
       "      <td>0.71</td>\n",
       "      <td>710.5</td>\n",
       "      <td>269.5</td>\n",
       "      <td>220.50</td>\n",
       "      <td>3.5</td>\n",
       "      <td>4</td>\n",
       "      <td>0.25</td>\n",
       "      <td>3</td>\n",
       "      <td>121.0</td>\n",
       "    </tr>\n",
       "    <tr>\n",
       "      <th>475</th>\n",
       "      <td>0.64</td>\n",
       "      <td>784.0</td>\n",
       "      <td>343.0</td>\n",
       "      <td>220.50</td>\n",
       "      <td>3.5</td>\n",
       "      <td>5</td>\n",
       "      <td>0.25</td>\n",
       "      <td>4</td>\n",
       "      <td>166.2</td>\n",
       "    </tr>\n",
       "    <tr>\n",
       "      <th>511</th>\n",
       "      <td>0.71</td>\n",
       "      <td>710.5</td>\n",
       "      <td>269.5</td>\n",
       "      <td>220.50</td>\n",
       "      <td>3.5</td>\n",
       "      <td>5</td>\n",
       "      <td>0.25</td>\n",
       "      <td>5</td>\n",
       "      <td>122.7</td>\n",
       "    </tr>\n",
       "    <tr>\n",
       "      <th>213</th>\n",
       "      <td>0.76</td>\n",
       "      <td>661.5</td>\n",
       "      <td>416.5</td>\n",
       "      <td>122.50</td>\n",
       "      <td>7.0</td>\n",
       "      <td>3</td>\n",
       "      <td>0.10</td>\n",
       "      <td>4</td>\n",
       "      <td>323.8</td>\n",
       "    </tr>\n",
       "    <tr>\n",
       "      <th>339</th>\n",
       "      <td>0.98</td>\n",
       "      <td>514.5</td>\n",
       "      <td>294.0</td>\n",
       "      <td>110.25</td>\n",
       "      <td>7.0</td>\n",
       "      <td>5</td>\n",
       "      <td>0.25</td>\n",
       "      <td>2</td>\n",
       "      <td>286.0</td>\n",
       "    </tr>\n",
       "  </tbody>\n",
       "</table>\n",
       "</div>"
      ],
      "text/plain": [
       "     compactness  surface_area  wall_area  roof_area  height  orientation  \\\n",
       "414         0.71         710.5      269.5     220.50     3.5            4   \n",
       "475         0.64         784.0      343.0     220.50     3.5            5   \n",
       "511         0.71         710.5      269.5     220.50     3.5            5   \n",
       "213         0.76         661.5      416.5     122.50     7.0            3   \n",
       "339         0.98         514.5      294.0     110.25     7.0            5   \n",
       "\n",
       "     glazing_area  glazing_area_distribution  electricity  \n",
       "414          0.25                          3        121.0  \n",
       "475          0.25                          4        166.2  \n",
       "511          0.25                          5        122.7  \n",
       "213          0.10                          4        323.8  \n",
       "339          0.25                          2        286.0  "
      ]
     },
     "execution_count": 66,
     "metadata": {},
     "output_type": "execute_result"
    }
   ],
   "source": [
    "TE_Elec.head()"
   ]
  },
  {
   "cell_type": "markdown",
   "metadata": {
    "id": "V4sA5av7caj_"
   },
   "source": [
    "#### Array Split x와 y를 지정해서 x,y 각각의 트레인, 테스트 분리\n",
    "* X_train, X_test & y_train, y_test"
   ]
  },
  {
   "cell_type": "code",
   "execution_count": 67,
   "metadata": {
    "ExecuteTime": {
     "end_time": "2023-12-06T02:17:56.673486Z",
     "start_time": "2023-12-06T02:17:56.666769Z"
    },
    "id": "wiX_onvQb5KE",
    "tags": []
   },
   "outputs": [],
   "source": [
    "from sklearn.model_selection import train_test_split\n",
    "\n",
    "X_train, X_test, y_train, y_test = train_test_split(Elec[['surface_area']], \n",
    "                                                    Elec['electricity'], \n",
    "                                                    test_size = 0.2, \n",
    "                                                    random_state = 2045)"
   ]
  },
  {
   "cell_type": "code",
   "execution_count": 68,
   "metadata": {
    "ExecuteTime": {
     "end_time": "2023-12-06T02:17:58.343928Z",
     "start_time": "2023-12-06T02:17:58.339760Z"
    },
    "colab": {
     "base_uri": "https://localhost:8080/"
    },
    "executionInfo": {
     "elapsed": 125,
     "status": "ok",
     "timestamp": 1664034016741,
     "user": {
      "displayName": "이정구",
      "userId": "17400242557229223804"
     },
     "user_tz": -540
    },
    "id": "h7zLa-7ZcvBT",
    "outputId": "47164023-bcce-441d-cc85-b8fd509635f3",
    "tags": []
   },
   "outputs": [
    {
     "data": {
      "text/plain": [
       "((614, 1), (614,), (154, 1), (154,))"
      ]
     },
     "execution_count": 68,
     "metadata": {},
     "output_type": "execute_result"
    }
   ],
   "source": [
    "X_train.shape, y_train.shape, X_test.shape, y_test.shape "
   ]
  },
  {
   "cell_type": "markdown",
   "metadata": {
    "id": "oB7cj8eadmNH"
   },
   "source": [
    "* 80% X_train Array"
   ]
  },
  {
   "cell_type": "code",
   "execution_count": 69,
   "metadata": {
    "ExecuteTime": {
     "end_time": "2023-12-06T02:18:01.090122Z",
     "start_time": "2023-12-06T02:18:01.083226Z"
    },
    "colab": {
     "base_uri": "https://localhost:8080/",
     "height": 206
    },
    "executionInfo": {
     "elapsed": 124,
     "status": "ok",
     "timestamp": 1664034016742,
     "user": {
      "displayName": "이정구",
      "userId": "17400242557229223804"
     },
     "user_tz": -540
    },
    "id": "vtpc9xNddNkn",
    "outputId": "bba3659d-9f8c-4909-cfe1-e42b7023032f",
    "tags": []
   },
   "outputs": [
    {
     "data": {
      "text/html": [
       "<div>\n",
       "<style scoped>\n",
       "    .dataframe tbody tr th:only-of-type {\n",
       "        vertical-align: middle;\n",
       "    }\n",
       "\n",
       "    .dataframe tbody tr th {\n",
       "        vertical-align: top;\n",
       "    }\n",
       "\n",
       "    .dataframe thead th {\n",
       "        text-align: right;\n",
       "    }\n",
       "</style>\n",
       "<table border=\"1\" class=\"dataframe\">\n",
       "  <thead>\n",
       "    <tr style=\"text-align: right;\">\n",
       "      <th></th>\n",
       "      <th>surface_area</th>\n",
       "    </tr>\n",
       "  </thead>\n",
       "  <tbody>\n",
       "    <tr>\n",
       "      <th>555</th>\n",
       "      <td>686.0</td>\n",
       "    </tr>\n",
       "    <tr>\n",
       "      <th>355</th>\n",
       "      <td>637.0</td>\n",
       "    </tr>\n",
       "    <tr>\n",
       "      <th>200</th>\n",
       "      <td>588.0</td>\n",
       "    </tr>\n",
       "    <tr>\n",
       "      <th>669</th>\n",
       "      <td>808.5</td>\n",
       "    </tr>\n",
       "    <tr>\n",
       "      <th>561</th>\n",
       "      <td>735.0</td>\n",
       "    </tr>\n",
       "  </tbody>\n",
       "</table>\n",
       "</div>"
      ],
      "text/plain": [
       "     surface_area\n",
       "555         686.0\n",
       "355         637.0\n",
       "200         588.0\n",
       "669         808.5\n",
       "561         735.0"
      ]
     },
     "execution_count": 69,
     "metadata": {},
     "output_type": "execute_result"
    }
   ],
   "source": [
    "X_train.head()"
   ]
  },
  {
   "cell_type": "markdown",
   "metadata": {
    "id": "DXSs9GkOdsVO"
   },
   "source": [
    "* 80% y_train Array"
   ]
  },
  {
   "cell_type": "code",
   "execution_count": 70,
   "metadata": {
    "ExecuteTime": {
     "end_time": "2023-12-06T02:18:01.712209Z",
     "start_time": "2023-12-06T02:18:01.706812Z"
    },
    "colab": {
     "base_uri": "https://localhost:8080/"
    },
    "executionInfo": {
     "elapsed": 125,
     "status": "ok",
     "timestamp": 1664034016743,
     "user": {
      "displayName": "이정구",
      "userId": "17400242557229223804"
     },
     "user_tz": -540
    },
    "id": "-_x-C6-PdctF",
    "outputId": "2a10d374-745d-44b6-e553-4005700342ba",
    "tags": []
   },
   "outputs": [
    {
     "data": {
      "text/plain": [
       "555    145.5\n",
       "355    389.8\n",
       "200    264.4\n",
       "669    163.5\n",
       "561    147.0\n",
       "Name: electricity, dtype: float64"
      ]
     },
     "execution_count": 70,
     "metadata": {},
     "output_type": "execute_result"
    }
   ],
   "source": [
    "y_train.head()"
   ]
  },
  {
   "cell_type": "markdown",
   "metadata": {
    "id": "hHwxwMcBHyAB"
   },
   "source": [
    "#### Distribution Visualization\n",
    "* Train Data"
   ]
  },
  {
   "cell_type": "code",
   "execution_count": 71,
   "metadata": {
    "ExecuteTime": {
     "end_time": "2023-12-06T02:18:13.449161Z",
     "start_time": "2023-12-06T02:18:13.226732Z"
    },
    "colab": {
     "base_uri": "https://localhost:8080/",
     "height": 280
    },
    "executionInfo": {
     "elapsed": 124,
     "status": "ok",
     "timestamp": 1664034016745,
     "user": {
      "displayName": "이정구",
      "userId": "17400242557229223804"
     },
     "user_tz": -540
    },
    "id": "2Py89NmeH-ID",
    "outputId": "c1d644e8-bb13-44c9-9dac-926e60f36f91",
    "tags": []
   },
   "outputs": [
    {
     "data": {
      "image/png": "[encoded data removed]",
      "text/plain": [
       "<Figure size 640x480 with 1 Axes>"
      ]
     },
     "metadata": {},
     "output_type": "display_data"
    }
   ],
   "source": [
    "sns.scatterplot(x = TR_Elec['surface_area'], y = TR_Elec['electricity'])\n",
    "plt.show()"
   ]
  },
  {
   "cell_type": "markdown",
   "metadata": {
    "id": "HOz7SgP7LIRb"
   },
   "source": [
    "* Test Data"
   ]
  },
  {
   "cell_type": "code",
   "execution_count": 72,
   "metadata": {
    "ExecuteTime": {
     "end_time": "2023-12-06T02:18:16.667201Z",
     "start_time": "2023-12-06T02:18:16.514615Z"
    },
    "colab": {
     "base_uri": "https://localhost:8080/",
     "height": 280
    },
    "executionInfo": {
     "elapsed": 123,
     "status": "ok",
     "timestamp": 1664034016746,
     "user": {
      "displayName": "이정구",
      "userId": "17400242557229223804"
     },
     "user_tz": -540
    },
    "id": "Cbu__Ov8IsW-",
    "outputId": "a9447aed-462d-45d2-ebcc-3e33e1443953",
    "tags": []
   },
   "outputs": [
    {
     "data": {
      "image/png": "[encoded data removed]",
      "text/plain": [
       "<Figure size 640x480 with 1 Axes>"
      ]
     },
     "metadata": {},
     "output_type": "display_data"
    }
   ],
   "source": [
    "sns.scatterplot(x=TE_Elec['surface_area'], y = TE_Elec['electricity'])\n",
    "plt.show()"
   ]
  },
  {
   "cell_type": "markdown",
   "metadata": {
    "id": "xTmLtl680h_A"
   },
   "source": [
    "### 1차 모델 Testing Error"
   ]
  },
  {
   "cell_type": "markdown",
   "metadata": {
    "id": "LxX77A129jvm"
   },
   "source": [
    "* Train_Data로 모델 생성"
   ]
  },
  {
   "cell_type": "code",
   "execution_count": 73,
   "metadata": {
    "ExecuteTime": {
     "end_time": "2023-12-06T02:20:09.435809Z",
     "start_time": "2023-12-06T02:20:09.429081Z"
    },
    "colab": {
     "base_uri": "https://localhost:8080/"
    },
    "executionInfo": {
     "elapsed": 123,
     "status": "ok",
     "timestamp": 1664034016747,
     "user": {
      "displayName": "이정구",
      "userId": "17400242557229223804"
     },
     "user_tz": -540
    },
    "id": "dbPXqa4m04Rt",
    "outputId": "58d9b809-391c-4834-ccdc-608a8780a9a2",
    "tags": []
   },
   "outputs": [
    {
     "data": {
      "text/html": [
       "<style>#sk-container-id-9 {color: black;}#sk-container-id-9 pre{padding: 0;}#sk-container-id-9 div.sk-toggleable {background-color: white;}#sk-container-id-9 label.sk-toggleable__label {cursor: pointer;display: block;width: 100%;margin-bottom: 0;padding: 0.3em;box-sizing: border-box;text-align: center;}#sk-container-id-9 label.sk-toggleable__label-arrow:before {content: \"▸\";float: left;margin-right: 0.25em;color: #696969;}#sk-container-id-9 label.sk-toggleable__label-arrow:hover:before {color: black;}#sk-container-id-9 div.sk-estimator:hover label.sk-toggleable__label-arrow:before {color: black;}#sk-container-id-9 div.sk-toggleable__content {max-height: 0;max-width: 0;overflow: hidden;text-align: left;background-color: #f0f8ff;}#sk-container-id-9 div.sk-toggleable__content pre {margin: 0.2em;color: black;border-radius: 0.25em;background-color: #f0f8ff;}#sk-container-id-9 input.sk-toggleable__control:checked~div.sk-toggleable__content {max-height: 200px;max-width: 100%;overflow: auto;}#sk-container-id-9 input.sk-toggleable__control:checked~label.sk-toggleable__label-arrow:before {content: \"▾\";}#sk-container-id-9 div.sk-estimator input.sk-toggleable__control:checked~label.sk-toggleable__label {background-color: #d4ebff;}#sk-container-id-9 div.sk-label input.sk-toggleable__control:checked~label.sk-toggleable__label {background-color: #d4ebff;}#sk-container-id-9 input.sk-hidden--visually {border: 0;clip: rect(1px 1px 1px 1px);clip: rect(1px, 1px, 1px, 1px);height: 1px;margin: -1px;overflow: hidden;padding: 0;position: absolute;width: 1px;}#sk-container-id-9 div.sk-estimator {font-family: monospace;background-color: #f0f8ff;border: 1px dotted black;border-radius: 0.25em;box-sizing: border-box;margin-bottom: 0.5em;}#sk-container-id-9 div.sk-estimator:hover {background-color: #d4ebff;}#sk-container-id-9 div.sk-parallel-item::after {content: \"\";width: 100%;border-bottom: 1px solid gray;flex-grow: 1;}#sk-container-id-9 div.sk-label:hover label.sk-toggleable__label {background-color: #d4ebff;}#sk-container-id-9 div.sk-serial::before {content: \"\";position: absolute;border-left: 1px solid gray;box-sizing: border-box;top: 0;bottom: 0;left: 50%;z-index: 0;}#sk-container-id-9 div.sk-serial {display: flex;flex-direction: column;align-items: center;background-color: white;padding-right: 0.2em;padding-left: 0.2em;position: relative;}#sk-container-id-9 div.sk-item {position: relative;z-index: 1;}#sk-container-id-9 div.sk-parallel {display: flex;align-items: stretch;justify-content: center;background-color: white;position: relative;}#sk-container-id-9 div.sk-item::before, #sk-container-id-9 div.sk-parallel-item::before {content: \"\";position: absolute;border-left: 1px solid gray;box-sizing: border-box;top: 0;bottom: 0;left: 50%;z-index: -1;}#sk-container-id-9 div.sk-parallel-item {display: flex;flex-direction: column;z-index: 1;position: relative;background-color: white;}#sk-container-id-9 div.sk-parallel-item:first-child::after {align-self: flex-end;width: 50%;}#sk-container-id-9 div.sk-parallel-item:last-child::after {align-self: flex-start;width: 50%;}#sk-container-id-9 div.sk-parallel-item:only-child::after {width: 0;}#sk-container-id-9 div.sk-dashed-wrapped {border: 1px dashed gray;margin: 0 0.4em 0.5em 0.4em;box-sizing: border-box;padding-bottom: 0.4em;background-color: white;}#sk-container-id-9 div.sk-label label {font-family: monospace;font-weight: bold;display: inline-block;line-height: 1.2em;}#sk-container-id-9 div.sk-label-container {text-align: center;}#sk-container-id-9 div.sk-container {/* jupyter's `normalize.less` sets `[hidden] { display: none; }` but bootstrap.min.css set `[hidden] { display: none !important; }` so we also need the `!important` here to be able to override the default hidden behavior on the sphinx rendered scikit-learn.org. See: https://github.com/scikit-learn/scikit-learn/issues/21755 */display: inline-block !important;position: relative;}#sk-container-id-9 div.sk-text-repr-fallback {display: none;}</style><div id=\"sk-container-id-9\" class=\"sk-top-container\"><div class=\"sk-text-repr-fallback\"><pre>LinearRegression()</pre><b>In a Jupyter environment, please rerun this cell to show the HTML representation or trust the notebook. <br />On GitHub, the HTML representation is unable to render, please try loading this page with nbviewer.org.</b></div><div class=\"sk-container\" hidden><div class=\"sk-item\"><div class=\"sk-estimator sk-toggleable\"><input class=\"sk-toggleable__control sk-hidden--visually\" id=\"sk-estimator-id-9\" type=\"checkbox\" checked><label for=\"sk-estimator-id-9\" class=\"sk-toggleable__label sk-toggleable__label-arrow\">LinearRegression</label><div class=\"sk-toggleable__content\"><pre>LinearRegression()</pre></div></div></div></div></div>"
      ],
      "text/plain": [
       "LinearRegression()"
      ]
     },
     "execution_count": 73,
     "metadata": {},
     "output_type": "execute_result"
    }
   ],
   "source": [
    "from sklearn.linear_model import LinearRegression\n",
    "\n",
    "Model_1 = LinearRegression() #리니어 회귀모형을 만들거야\n",
    "Model_1.fit(X_train, y_train) #데이터(x)와 정답(y)을 넣고 fit을 시킬거야"
   ]
  },
  {
   "cell_type": "markdown",
   "metadata": {
    "id": "a6QmqUZ29s66"
   },
   "source": [
    "* Test_Data로 y_hat(예측값) 생성"
   ]
  },
  {
   "cell_type": "code",
   "execution_count": 85,
   "metadata": {
    "ExecuteTime": {
     "end_time": "2023-12-06T02:20:17.864959Z",
     "start_time": "2023-12-06T02:20:17.859732Z"
    },
    "colab": {
     "base_uri": "https://localhost:8080/"
    },
    "executionInfo": {
     "elapsed": 120,
     "status": "ok",
     "timestamp": 1664034016747,
     "user": {
      "displayName": "이정구",
      "userId": "17400242557229223804"
     },
     "user_tz": -540
    },
    "id": "HczWyVch1ZkT",
    "outputId": "75c14811-33ad-4afa-dd48-6d721e57b62a",
    "tags": []
   },
   "outputs": [
    {
     "data": {
      "text/plain": [
       "(154,)"
      ]
     },
     "execution_count": 85,
     "metadata": {},
     "output_type": "execute_result"
    }
   ],
   "source": [
    "y_hat_1 = Model_1.predict(X_test)\n",
    "\n",
    "y_hat_1.shape"
   ]
  },
  {
   "cell_type": "markdown",
   "metadata": {
    "id": "rL05sSmY90_6"
   },
   "source": [
    "* Test_Data로 MSE(Mean Squared Error) 계산"
   ]
  },
  {
   "cell_type": "code",
   "execution_count": 84,
   "metadata": {
    "ExecuteTime": {
     "end_time": "2023-12-06T02:20:35.656713Z",
     "start_time": "2023-12-06T02:20:35.651501Z"
    },
    "colab": {
     "base_uri": "https://localhost:8080/"
    },
    "executionInfo": {
     "elapsed": 119,
     "status": "ok",
     "timestamp": 1664034016748,
     "user": {
      "displayName": "이정구",
      "userId": "17400242557229223804"
     },
     "user_tz": -540
    },
    "id": "2XSrsIVQ1sjx",
    "outputId": "8777990b-b9d4-49b7-b6d1-677c21dbbcb0",
    "tags": []
   },
   "outputs": [
    {
     "data": {
      "text/plain": [
       "6044.17654762927"
      ]
     },
     "execution_count": 84,
     "metadata": {},
     "output_type": "execute_result"
    }
   ],
   "source": [
    "from sklearn.metrics import mean_squared_error\n",
    "\n",
    "TE_Err_1 = mean_squared_error(y_test, y_hat_1)\n",
    "TE_Err_1"
   ]
  },
  {
   "cell_type": "markdown",
   "metadata": {
    "id": "zUTttyqJ0sii"
   },
   "source": [
    "### 5차 모델 Testing Error"
   ]
  },
  {
   "cell_type": "markdown",
   "metadata": {
    "id": "WgegP62m-ApK"
   },
   "source": [
    "* Train_Data로 모델 생성"
   ]
  },
  {
   "cell_type": "code",
   "execution_count": 75,
   "metadata": {
    "ExecuteTime": {
     "end_time": "2023-12-06T02:20:44.001839Z",
     "start_time": "2023-12-06T02:20:43.995696Z"
    },
    "id": "07QoopoB2ABJ",
    "tags": []
   },
   "outputs": [],
   "source": [
    "from sklearn.preprocessing import PolynomialFeatures\n",
    "\n",
    "poly = PolynomialFeatures(degree = 5, include_bias = False)\n",
    "PX_5_TR = poly.fit_transform(X_train)"
   ]
  },
  {
   "cell_type": "code",
   "execution_count": 76,
   "metadata": {
    "ExecuteTime": {
     "end_time": "2023-12-06T02:23:37.794481Z",
     "start_time": "2023-12-06T02:23:37.787355Z"
    },
    "colab": {
     "base_uri": "https://localhost:8080/"
    },
    "executionInfo": {
     "elapsed": 117,
     "status": "ok",
     "timestamp": 1664034016749,
     "user": {
      "displayName": "이정구",
      "userId": "17400242557229223804"
     },
     "user_tz": -540
    },
    "id": "L2gYi_IB2V11",
    "outputId": "724fb1c0-3460-4fb6-a4f8-9ca302df0b7a",
    "tags": []
   },
   "outputs": [
    {
     "data": {
      "text/html": [
       "<style>#sk-container-id-10 {color: black;}#sk-container-id-10 pre{padding: 0;}#sk-container-id-10 div.sk-toggleable {background-color: white;}#sk-container-id-10 label.sk-toggleable__label {cursor: pointer;display: block;width: 100%;margin-bottom: 0;padding: 0.3em;box-sizing: border-box;text-align: center;}#sk-container-id-10 label.sk-toggleable__label-arrow:before {content: \"▸\";float: left;margin-right: 0.25em;color: #696969;}#sk-container-id-10 label.sk-toggleable__label-arrow:hover:before {color: black;}#sk-container-id-10 div.sk-estimator:hover label.sk-toggleable__label-arrow:before {color: black;}#sk-container-id-10 div.sk-toggleable__content {max-height: 0;max-width: 0;overflow: hidden;text-align: left;background-color: #f0f8ff;}#sk-container-id-10 div.sk-toggleable__content pre {margin: 0.2em;color: black;border-radius: 0.25em;background-color: #f0f8ff;}#sk-container-id-10 input.sk-toggleable__control:checked~div.sk-toggleable__content {max-height: 200px;max-width: 100%;overflow: auto;}#sk-container-id-10 input.sk-toggleable__control:checked~label.sk-toggleable__label-arrow:before {content: \"▾\";}#sk-container-id-10 div.sk-estimator input.sk-toggleable__control:checked~label.sk-toggleable__label {background-color: #d4ebff;}#sk-container-id-10 div.sk-label input.sk-toggleable__control:checked~label.sk-toggleable__label {background-color: #d4ebff;}#sk-container-id-10 input.sk-hidden--visually {border: 0;clip: rect(1px 1px 1px 1px);clip: rect(1px, 1px, 1px, 1px);height: 1px;margin: -1px;overflow: hidden;padding: 0;position: absolute;width: 1px;}#sk-container-id-10 div.sk-estimator {font-family: monospace;background-color: #f0f8ff;border: 1px dotted black;border-radius: 0.25em;box-sizing: border-box;margin-bottom: 0.5em;}#sk-container-id-10 div.sk-estimator:hover {background-color: #d4ebff;}#sk-container-id-10 div.sk-parallel-item::after {content: \"\";width: 100%;border-bottom: 1px solid gray;flex-grow: 1;}#sk-container-id-10 div.sk-label:hover label.sk-toggleable__label {background-color: #d4ebff;}#sk-container-id-10 div.sk-serial::before {content: \"\";position: absolute;border-left: 1px solid gray;box-sizing: border-box;top: 0;bottom: 0;left: 50%;z-index: 0;}#sk-container-id-10 div.sk-serial {display: flex;flex-direction: column;align-items: center;background-color: white;padding-right: 0.2em;padding-left: 0.2em;position: relative;}#sk-container-id-10 div.sk-item {position: relative;z-index: 1;}#sk-container-id-10 div.sk-parallel {display: flex;align-items: stretch;justify-content: center;background-color: white;position: relative;}#sk-container-id-10 div.sk-item::before, #sk-container-id-10 div.sk-parallel-item::before {content: \"\";position: absolute;border-left: 1px solid gray;box-sizing: border-box;top: 0;bottom: 0;left: 50%;z-index: -1;}#sk-container-id-10 div.sk-parallel-item {display: flex;flex-direction: column;z-index: 1;position: relative;background-color: white;}#sk-container-id-10 div.sk-parallel-item:first-child::after {align-self: flex-end;width: 50%;}#sk-container-id-10 div.sk-parallel-item:last-child::after {align-self: flex-start;width: 50%;}#sk-container-id-10 div.sk-parallel-item:only-child::after {width: 0;}#sk-container-id-10 div.sk-dashed-wrapped {border: 1px dashed gray;margin: 0 0.4em 0.5em 0.4em;box-sizing: border-box;padding-bottom: 0.4em;background-color: white;}#sk-container-id-10 div.sk-label label {font-family: monospace;font-weight: bold;display: inline-block;line-height: 1.2em;}#sk-container-id-10 div.sk-label-container {text-align: center;}#sk-container-id-10 div.sk-container {/* jupyter's `normalize.less` sets `[hidden] { display: none; }` but bootstrap.min.css set `[hidden] { display: none !important; }` so we also need the `!important` here to be able to override the default hidden behavior on the sphinx rendered scikit-learn.org. See: https://github.com/scikit-learn/scikit-learn/issues/21755 */display: inline-block !important;position: relative;}#sk-container-id-10 div.sk-text-repr-fallback {display: none;}</style><div id=\"sk-container-id-10\" class=\"sk-top-container\"><div class=\"sk-text-repr-fallback\"><pre>LinearRegression()</pre><b>In a Jupyter environment, please rerun this cell to show the HTML representation or trust the notebook. <br />On GitHub, the HTML representation is unable to render, please try loading this page with nbviewer.org.</b></div><div class=\"sk-container\" hidden><div class=\"sk-item\"><div class=\"sk-estimator sk-toggleable\"><input class=\"sk-toggleable__control sk-hidden--visually\" id=\"sk-estimator-id-10\" type=\"checkbox\" checked><label for=\"sk-estimator-id-10\" class=\"sk-toggleable__label sk-toggleable__label-arrow\">LinearRegression</label><div class=\"sk-toggleable__content\"><pre>LinearRegression()</pre></div></div></div></div></div>"
      ],
      "text/plain": [
       "LinearRegression()"
      ]
     },
     "execution_count": 76,
     "metadata": {},
     "output_type": "execute_result"
    }
   ],
   "source": [
    "from sklearn.linear_model import LinearRegression\n",
    "\n",
    "Model_5 = LinearRegression()\n",
    "Model_5.fit(PX_5_TR, y_train)"
   ]
  },
  {
   "cell_type": "markdown",
   "metadata": {
    "id": "N8BZiTXL-D7w"
   },
   "source": [
    "* Test_Data로 y_hat(예측값) 생성"
   ]
  },
  {
   "cell_type": "code",
   "execution_count": 77,
   "metadata": {
    "ExecuteTime": {
     "end_time": "2023-12-06T02:23:48.033153Z",
     "start_time": "2023-12-06T02:23:48.027688Z"
    },
    "id": "s0vWzS2x2mIr",
    "tags": []
   },
   "outputs": [],
   "source": [
    "PX_5_TE = poly.transform(X_test)\n",
    "\n",
    "y_hat_5 = Model_5.predict(PX_5_TE)"
   ]
  },
  {
   "cell_type": "markdown",
   "metadata": {
    "id": "1ZkU-TZs-GQZ"
   },
   "source": [
    "* Test_Data로 MSE(Mean Squared Error) 계산"
   ]
  },
  {
   "cell_type": "code",
   "execution_count": 78,
   "metadata": {
    "ExecuteTime": {
     "end_time": "2023-12-06T02:23:50.080530Z",
     "start_time": "2023-12-06T02:23:50.075416Z"
    },
    "colab": {
     "base_uri": "https://localhost:8080/"
    },
    "executionInfo": {
     "elapsed": 114,
     "status": "ok",
     "timestamp": 1664034016749,
     "user": {
      "displayName": "이정구",
      "userId": "17400242557229223804"
     },
     "user_tz": -540
    },
    "id": "_hTbryXk2aOR",
    "outputId": "84141b55-3392-42b7-c431-a655c592cadd",
    "tags": []
   },
   "outputs": [
    {
     "data": {
      "text/plain": [
       "4330.599756506618"
      ]
     },
     "execution_count": 78,
     "metadata": {},
     "output_type": "execute_result"
    }
   ],
   "source": [
    "from sklearn.metrics import mean_squared_error\n",
    "\n",
    "TE_Err_5 = mean_squared_error(y_test, y_hat_5)\n",
    "TE_Err_5"
   ]
  },
  {
   "cell_type": "markdown",
   "metadata": {
    "id": "cMNr8jsS0unk"
   },
   "source": [
    "### 9차 모델 Testing Error"
   ]
  },
  {
   "cell_type": "markdown",
   "metadata": {
    "id": "kodHOk3T-K0C"
   },
   "source": [
    "* Train_Data로 모델 생성"
   ]
  },
  {
   "cell_type": "code",
   "execution_count": 79,
   "metadata": {
    "ExecuteTime": {
     "end_time": "2023-12-06T02:23:52.569122Z",
     "start_time": "2023-12-06T02:23:52.563103Z"
    },
    "id": "YNnHqIQV3rg0",
    "tags": []
   },
   "outputs": [],
   "source": [
    "from sklearn.preprocessing import PolynomialFeatures\n",
    "\n",
    "poly = PolynomialFeatures(degree = 9, include_bias = False)\n",
    "PX_9_TR = poly.fit_transform(X_train)"
   ]
  },
  {
   "cell_type": "code",
   "execution_count": 80,
   "metadata": {
    "ExecuteTime": {
     "end_time": "2023-12-06T02:23:52.906701Z",
     "start_time": "2023-12-06T02:23:52.899662Z"
    },
    "colab": {
     "base_uri": "https://localhost:8080/"
    },
    "executionInfo": {
     "elapsed": 113,
     "status": "ok",
     "timestamp": 1664034016751,
     "user": {
      "displayName": "이정구",
      "userId": "17400242557229223804"
     },
     "user_tz": -540
    },
    "id": "y46Q80OD3umm",
    "outputId": "5cbbe65a-0acb-41aa-83eb-2325b323f050",
    "tags": []
   },
   "outputs": [
    {
     "data": {
      "text/html": [
       "<style>#sk-container-id-11 {color: black;}#sk-container-id-11 pre{padding: 0;}#sk-container-id-11 div.sk-toggleable {background-color: white;}#sk-container-id-11 label.sk-toggleable__label {cursor: pointer;display: block;width: 100%;margin-bottom: 0;padding: 0.3em;box-sizing: border-box;text-align: center;}#sk-container-id-11 label.sk-toggleable__label-arrow:before {content: \"▸\";float: left;margin-right: 0.25em;color: #696969;}#sk-container-id-11 label.sk-toggleable__label-arrow:hover:before {color: black;}#sk-container-id-11 div.sk-estimator:hover label.sk-toggleable__label-arrow:before {color: black;}#sk-container-id-11 div.sk-toggleable__content {max-height: 0;max-width: 0;overflow: hidden;text-align: left;background-color: #f0f8ff;}#sk-container-id-11 div.sk-toggleable__content pre {margin: 0.2em;color: black;border-radius: 0.25em;background-color: #f0f8ff;}#sk-container-id-11 input.sk-toggleable__control:checked~div.sk-toggleable__content {max-height: 200px;max-width: 100%;overflow: auto;}#sk-container-id-11 input.sk-toggleable__control:checked~label.sk-toggleable__label-arrow:before {content: \"▾\";}#sk-container-id-11 div.sk-estimator input.sk-toggleable__control:checked~label.sk-toggleable__label {background-color: #d4ebff;}#sk-container-id-11 div.sk-label input.sk-toggleable__control:checked~label.sk-toggleable__label {background-color: #d4ebff;}#sk-container-id-11 input.sk-hidden--visually {border: 0;clip: rect(1px 1px 1px 1px);clip: rect(1px, 1px, 1px, 1px);height: 1px;margin: -1px;overflow: hidden;padding: 0;position: absolute;width: 1px;}#sk-container-id-11 div.sk-estimator {font-family: monospace;background-color: #f0f8ff;border: 1px dotted black;border-radius: 0.25em;box-sizing: border-box;margin-bottom: 0.5em;}#sk-container-id-11 div.sk-estimator:hover {background-color: #d4ebff;}#sk-container-id-11 div.sk-parallel-item::after {content: \"\";width: 100%;border-bottom: 1px solid gray;flex-grow: 1;}#sk-container-id-11 div.sk-label:hover label.sk-toggleable__label {background-color: #d4ebff;}#sk-container-id-11 div.sk-serial::before {content: \"\";position: absolute;border-left: 1px solid gray;box-sizing: border-box;top: 0;bottom: 0;left: 50%;z-index: 0;}#sk-container-id-11 div.sk-serial {display: flex;flex-direction: column;align-items: center;background-color: white;padding-right: 0.2em;padding-left: 0.2em;position: relative;}#sk-container-id-11 div.sk-item {position: relative;z-index: 1;}#sk-container-id-11 div.sk-parallel {display: flex;align-items: stretch;justify-content: center;background-color: white;position: relative;}#sk-container-id-11 div.sk-item::before, #sk-container-id-11 div.sk-parallel-item::before {content: \"\";position: absolute;border-left: 1px solid gray;box-sizing: border-box;top: 0;bottom: 0;left: 50%;z-index: -1;}#sk-container-id-11 div.sk-parallel-item {display: flex;flex-direction: column;z-index: 1;position: relative;background-color: white;}#sk-container-id-11 div.sk-parallel-item:first-child::after {align-self: flex-end;width: 50%;}#sk-container-id-11 div.sk-parallel-item:last-child::after {align-self: flex-start;width: 50%;}#sk-container-id-11 div.sk-parallel-item:only-child::after {width: 0;}#sk-container-id-11 div.sk-dashed-wrapped {border: 1px dashed gray;margin: 0 0.4em 0.5em 0.4em;box-sizing: border-box;padding-bottom: 0.4em;background-color: white;}#sk-container-id-11 div.sk-label label {font-family: monospace;font-weight: bold;display: inline-block;line-height: 1.2em;}#sk-container-id-11 div.sk-label-container {text-align: center;}#sk-container-id-11 div.sk-container {/* jupyter's `normalize.less` sets `[hidden] { display: none; }` but bootstrap.min.css set `[hidden] { display: none !important; }` so we also need the `!important` here to be able to override the default hidden behavior on the sphinx rendered scikit-learn.org. See: https://github.com/scikit-learn/scikit-learn/issues/21755 */display: inline-block !important;position: relative;}#sk-container-id-11 div.sk-text-repr-fallback {display: none;}</style><div id=\"sk-container-id-11\" class=\"sk-top-container\"><div class=\"sk-text-repr-fallback\"><pre>LinearRegression()</pre><b>In a Jupyter environment, please rerun this cell to show the HTML representation or trust the notebook. <br />On GitHub, the HTML representation is unable to render, please try loading this page with nbviewer.org.</b></div><div class=\"sk-container\" hidden><div class=\"sk-item\"><div class=\"sk-estimator sk-toggleable\"><input class=\"sk-toggleable__control sk-hidden--visually\" id=\"sk-estimator-id-11\" type=\"checkbox\" checked><label for=\"sk-estimator-id-11\" class=\"sk-toggleable__label sk-toggleable__label-arrow\">LinearRegression</label><div class=\"sk-toggleable__content\"><pre>LinearRegression()</pre></div></div></div></div></div>"
      ],
      "text/plain": [
       "LinearRegression()"
      ]
     },
     "execution_count": 80,
     "metadata": {},
     "output_type": "execute_result"
    }
   ],
   "source": [
    "from sklearn.linear_model import LinearRegression\n",
    "\n",
    "Model_9 = LinearRegression()\n",
    "Model_9.fit(PX_9_TR, y_train)"
   ]
  },
  {
   "cell_type": "markdown",
   "metadata": {
    "id": "uUE_NC1h-N0j"
   },
   "source": [
    "* Test_Data로 y_hat(예측값) 생성"
   ]
  },
  {
   "cell_type": "code",
   "execution_count": 81,
   "metadata": {
    "ExecuteTime": {
     "end_time": "2023-12-06T02:23:54.914300Z",
     "start_time": "2023-12-06T02:23:54.907638Z"
    },
    "id": "cnx2uDy43zUH",
    "tags": []
   },
   "outputs": [],
   "source": [
    "PX_9_TE = poly.transform(X_test)\n",
    "\n",
    "y_hat_9 = Model_9.predict(PX_9_TE)"
   ]
  },
  {
   "cell_type": "markdown",
   "metadata": {
    "id": "fOLJqMah-QtF"
   },
   "source": [
    "* Test_Data로 MSE(Mean Squared Error) 계산"
   ]
  },
  {
   "cell_type": "code",
   "execution_count": 82,
   "metadata": {
    "ExecuteTime": {
     "end_time": "2023-12-06T02:23:55.639863Z",
     "start_time": "2023-12-06T02:23:55.633949Z"
    },
    "colab": {
     "base_uri": "https://localhost:8080/"
    },
    "executionInfo": {
     "elapsed": 110,
     "status": "ok",
     "timestamp": 1664034016751,
     "user": {
      "displayName": "이정구",
      "userId": "17400242557229223804"
     },
     "user_tz": -540
    },
    "id": "Q1WX60_Q346t",
    "outputId": "ea400f94-023d-4de8-e68a-40c95229b767",
    "tags": []
   },
   "outputs": [
    {
     "data": {
      "text/plain": [
       "4238.689067159362"
      ]
     },
     "execution_count": 82,
     "metadata": {},
     "output_type": "execute_result"
    }
   ],
   "source": [
    "from sklearn.metrics import mean_squared_error\n",
    "\n",
    "TE_Err_9 = mean_squared_error(y_test, y_hat_9)\n",
    "TE_Err_9"
   ]
  },
  {
   "cell_type": "markdown",
   "metadata": {
    "id": "Pp77Bjdi9Awz"
   },
   "source": [
    "### 3개 모델 Testing Error 비교"
   ]
  },
  {
   "cell_type": "code",
   "execution_count": 86,
   "metadata": {
    "ExecuteTime": {
     "end_time": "2023-12-06T02:23:57.942669Z",
     "start_time": "2023-12-06T02:23:57.939087Z"
    },
    "colab": {
     "base_uri": "https://localhost:8080/"
    },
    "executionInfo": {
     "elapsed": 109,
     "status": "ok",
     "timestamp": 1664034016752,
     "user": {
      "displayName": "이정구",
      "userId": "17400242557229223804"
     },
     "user_tz": -540
    },
    "id": "ZuM-UxKg9SJQ",
    "outputId": "b693a887-0016-4027-8509-057632b0ae43",
    "tags": []
   },
   "outputs": [
    {
     "name": "stdout",
     "output_type": "stream",
     "text": [
      "1차 모델 :  6044.17654762927\n",
      "5차 모델 :  4330.599756506618\n",
      "9차 모델 :  4238.689067159362\n"
     ]
    }
   ],
   "source": [
    "print('1차 모델 : ', TE_Err_1)\n",
    "print('5차 모델 : ', TE_Err_5) \n",
    "print('9차 모델 : ', TE_Err_9)"
   ]
  },
  {
   "cell_type": "markdown",
   "metadata": {
    "id": "wfw5Kcsd9584"
   },
   "source": [
    "## Validation Approach\n",
    "* import Packages"
   ]
  },
  {
   "cell_type": "code",
   "execution_count": 87,
   "metadata": {
    "ExecuteTime": {
     "end_time": "2023-12-06T02:32:52.606731Z",
     "start_time": "2023-12-06T02:32:52.603048Z"
    },
    "id": "2kfSLXXC_su6",
    "tags": []
   },
   "outputs": [],
   "source": [
    "import pandas as pd"
   ]
  },
  {
   "cell_type": "markdown",
   "metadata": {
    "id": "LSadk-D__6G2"
   },
   "source": [
    "* pandas DataFrame"
   ]
  },
  {
   "cell_type": "code",
   "execution_count": 88,
   "metadata": {
    "ExecuteTime": {
     "end_time": "2023-12-06T02:32:54.702592Z",
     "start_time": "2023-12-06T02:32:54.234658Z"
    },
    "colab": {
     "base_uri": "https://localhost:8080/"
    },
    "executionInfo": {
     "elapsed": 106,
     "status": "ok",
     "timestamp": 1664034016752,
     "user": {
      "displayName": "이정구",
      "userId": "17400242557229223804"
     },
     "user_tz": -540
    },
    "id": "iKnAHvIK_24y",
    "outputId": "612a4f10-9f5e-4358-89ab-a4e02566bab7",
    "tags": []
   },
   "outputs": [
    {
     "name": "stdout",
     "output_type": "stream",
     "text": [
      "<class 'pandas.core.frame.DataFrame'>\n",
      "RangeIndex: 768 entries, 0 to 767\n",
      "Data columns (total 9 columns):\n",
      " #   Column                     Non-Null Count  Dtype  \n",
      "---  ------                     --------------  -----  \n",
      " 0   compactness                768 non-null    float64\n",
      " 1   surface_area               768 non-null    float64\n",
      " 2   wall_area                  768 non-null    float64\n",
      " 3   roof_area                  768 non-null    float64\n",
      " 4   height                     768 non-null    float64\n",
      " 5   orientation                768 non-null    int64  \n",
      " 6   glazing_area               768 non-null    float64\n",
      " 7   glazing_area_distribution  768 non-null    int64  \n",
      " 8   electricity                768 non-null    float64\n",
      "dtypes: float64(7), int64(2)\n",
      "memory usage: 54.1 KB\n"
     ]
    }
   ],
   "source": [
    "url = 'https://raw.githubusercontent.com/rusita-ai/pyData/master/Electric.csv'\n",
    "\n",
    "Elec = pd.read_csv(url)\n",
    "\n",
    "Elec.info()"
   ]
  },
  {
   "cell_type": "markdown",
   "metadata": {
    "id": "fZCZ8E5DBNoz"
   },
   "source": [
    "### Train vs. Validation vs. Test\n",
    "* 6:2:2 Split(462:153:153)"
   ]
  },
  {
   "cell_type": "markdown",
   "metadata": {
    "id": "grQnlsef--Zs"
   },
   "source": [
    "#### sklearn Package 사용\n",
    "* train_test_split( )"
   ]
  },
  {
   "cell_type": "markdown",
   "metadata": {
    "id": "SBe7FGHizswg"
   },
   "source": [
    "* 20% Test_Data(153)"
   ]
  },
  {
   "cell_type": "code",
   "execution_count": 89,
   "metadata": {
    "ExecuteTime": {
     "end_time": "2023-12-06T02:34:27.625802Z",
     "start_time": "2023-12-06T02:34:27.619173Z"
    },
    "colab": {
     "base_uri": "https://localhost:8080/"
    },
    "executionInfo": {
     "elapsed": 105,
     "status": "ok",
     "timestamp": 1664034016753,
     "user": {
      "displayName": "이정구",
      "userId": "17400242557229223804"
     },
     "user_tz": -540
    },
    "id": "4QMaTBwUAQCb",
    "outputId": "d84013ec-7c8e-44e3-fc3e-0be78c3737ac",
    "tags": []
   },
   "outputs": [
    {
     "name": "stdout",
     "output_type": "stream",
     "text": [
      "(615, 1) (615,)\n",
      "(153, 1) (153,)\n"
     ]
    }
   ],
   "source": [
    "## from sklearn.model_selection import train_test_split\n",
    "\n",
    "X_remain, X_test, y_remain, y_test = train_test_split(Elec[['surface_area']], \n",
    "                                                      Elec['electricity'], \n",
    "                                                      test_size = int(len(Elec) * 0.2),\n",
    "                                                      random_state = 2045)\n",
    "\n",
    "print(X_remain.shape, y_remain.shape)\n",
    "print(X_test.shape, y_test.shape)"
   ]
  },
  {
   "cell_type": "markdown",
   "metadata": {
    "id": "0SdqqgDezvXS"
   },
   "source": [
    "* 60% Train_Data(462) & 20% Validation_Data(153)"
   ]
  },
  {
   "cell_type": "code",
   "execution_count": 90,
   "metadata": {
    "ExecuteTime": {
     "end_time": "2023-12-06T02:37:27.816655Z",
     "start_time": "2023-12-06T02:37:27.810731Z"
    },
    "colab": {
     "base_uri": "https://localhost:8080/"
    },
    "executionInfo": {
     "elapsed": 102,
     "status": "ok",
     "timestamp": 1664034016753,
     "user": {
      "displayName": "이정구",
      "userId": "17400242557229223804"
     },
     "user_tz": -540
    },
    "id": "yep6NPnMBxJG",
    "outputId": "be70ae29-3153-412a-ea91-c4dbe78274f5",
    "tags": []
   },
   "outputs": [
    {
     "name": "stdout",
     "output_type": "stream",
     "text": [
      "(462, 1) (462,)\n",
      "(153, 1) (153,)\n",
      "(153, 1) (153,)\n"
     ]
    }
   ],
   "source": [
    "# 남은 80%학습데이터에서 나머지 20%(전체 길이 기준)를 또 추출\n",
    "X_train, X_valid, y_train, y_valid = train_test_split(X_remain, y_remain, \n",
    "                                                      test_size = int(len(Elec) * 0.2), \n",
    "                                                      random_state = 2045)\n",
    "\n",
    "print(X_train.shape, y_train.shape)\n",
    "print(X_valid.shape, y_valid.shape)\n",
    "print(X_test.shape, y_test.shape)"
   ]
  },
  {
   "cell_type": "markdown",
   "metadata": {},
   "source": [
    "* 추후에 모델 학습 메서드의 validation인자를 통해 쉽게 검증 데이터를 분리할 수 있음"
   ]
  },
  {
   "cell_type": "markdown",
   "metadata": {
    "id": "tx1S_WzJCb2k"
   },
   "source": [
    "### 5차 모델 Validation Error"
   ]
  },
  {
   "cell_type": "markdown",
   "metadata": {
    "id": "fzYImusB_-rP"
   },
   "source": [
    "* Train_Data로 모델 생성"
   ]
  },
  {
   "cell_type": "code",
   "execution_count": 120,
   "metadata": {
    "ExecuteTime": {
     "end_time": "2023-12-06T02:38:20.609097Z",
     "start_time": "2023-12-06T02:38:20.602915Z"
    },
    "id": "6VSaJgoeI4xn",
    "tags": []
   },
   "outputs": [],
   "source": [
    "from sklearn.preprocessing import PolynomialFeatures\n",
    "\n",
    "poly = PolynomialFeatures(degree = 5, include_bias = False)\n",
    "PX_5_TR = poly.fit_transform(X_train)"
   ]
  },
  {
   "cell_type": "code",
   "execution_count": 121,
   "metadata": {
    "ExecuteTime": {
     "end_time": "2023-12-06T02:38:20.954003Z",
     "start_time": "2023-12-06T02:38:20.946417Z"
    },
    "colab": {
     "base_uri": "https://localhost:8080/"
    },
    "executionInfo": {
     "elapsed": 1421,
     "status": "ok",
     "timestamp": 1664034018074,
     "user": {
      "displayName": "이정구",
      "userId": "17400242557229223804"
     },
     "user_tz": -540
    },
    "id": "2jI4U309DyiU",
    "outputId": "3522cee8-ac23-41dd-80f9-8a86b436a0db",
    "tags": []
   },
   "outputs": [
    {
     "data": {
      "text/html": [
       "<style>#sk-container-id-14 {color: black;background-color: white;}#sk-container-id-14 pre{padding: 0;}#sk-container-id-14 div.sk-toggleable {background-color: white;}#sk-container-id-14 label.sk-toggleable__label {cursor: pointer;display: block;width: 100%;margin-bottom: 0;padding: 0.3em;box-sizing: border-box;text-align: center;}#sk-container-id-14 label.sk-toggleable__label-arrow:before {content: \"▸\";float: left;margin-right: 0.25em;color: #696969;}#sk-container-id-14 label.sk-toggleable__label-arrow:hover:before {color: black;}#sk-container-id-14 div.sk-estimator:hover label.sk-toggleable__label-arrow:before {color: black;}#sk-container-id-14 div.sk-toggleable__content {max-height: 0;max-width: 0;overflow: hidden;text-align: left;background-color: #f0f8ff;}#sk-container-id-14 div.sk-toggleable__content pre {margin: 0.2em;color: black;border-radius: 0.25em;background-color: #f0f8ff;}#sk-container-id-14 input.sk-toggleable__control:checked~div.sk-toggleable__content {max-height: 200px;max-width: 100%;overflow: auto;}#sk-container-id-14 input.sk-toggleable__control:checked~label.sk-toggleable__label-arrow:before {content: \"▾\";}#sk-container-id-14 div.sk-estimator input.sk-toggleable__control:checked~label.sk-toggleable__label {background-color: #d4ebff;}#sk-container-id-14 div.sk-label input.sk-toggleable__control:checked~label.sk-toggleable__label {background-color: #d4ebff;}#sk-container-id-14 input.sk-hidden--visually {border: 0;clip: rect(1px 1px 1px 1px);clip: rect(1px, 1px, 1px, 1px);height: 1px;margin: -1px;overflow: hidden;padding: 0;position: absolute;width: 1px;}#sk-container-id-14 div.sk-estimator {font-family: monospace;background-color: #f0f8ff;border: 1px dotted black;border-radius: 0.25em;box-sizing: border-box;margin-bottom: 0.5em;}#sk-container-id-14 div.sk-estimator:hover {background-color: #d4ebff;}#sk-container-id-14 div.sk-parallel-item::after {content: \"\";width: 100%;border-bottom: 1px solid gray;flex-grow: 1;}#sk-container-id-14 div.sk-label:hover label.sk-toggleable__label {background-color: #d4ebff;}#sk-container-id-14 div.sk-serial::before {content: \"\";position: absolute;border-left: 1px solid gray;box-sizing: border-box;top: 0;bottom: 0;left: 50%;z-index: 0;}#sk-container-id-14 div.sk-serial {display: flex;flex-direction: column;align-items: center;background-color: white;padding-right: 0.2em;padding-left: 0.2em;position: relative;}#sk-container-id-14 div.sk-item {position: relative;z-index: 1;}#sk-container-id-14 div.sk-parallel {display: flex;align-items: stretch;justify-content: center;background-color: white;position: relative;}#sk-container-id-14 div.sk-item::before, #sk-container-id-14 div.sk-parallel-item::before {content: \"\";position: absolute;border-left: 1px solid gray;box-sizing: border-box;top: 0;bottom: 0;left: 50%;z-index: -1;}#sk-container-id-14 div.sk-parallel-item {display: flex;flex-direction: column;z-index: 1;position: relative;background-color: white;}#sk-container-id-14 div.sk-parallel-item:first-child::after {align-self: flex-end;width: 50%;}#sk-container-id-14 div.sk-parallel-item:last-child::after {align-self: flex-start;width: 50%;}#sk-container-id-14 div.sk-parallel-item:only-child::after {width: 0;}#sk-container-id-14 div.sk-dashed-wrapped {border: 1px dashed gray;margin: 0 0.4em 0.5em 0.4em;box-sizing: border-box;padding-bottom: 0.4em;background-color: white;}#sk-container-id-14 div.sk-label label {font-family: monospace;font-weight: bold;display: inline-block;line-height: 1.2em;}#sk-container-id-14 div.sk-label-container {text-align: center;}#sk-container-id-14 div.sk-container {/* jupyter's `normalize.less` sets `[hidden] { display: none; }` but bootstrap.min.css set `[hidden] { display: none !important; }` so we also need the `!important` here to be able to override the default hidden behavior on the sphinx rendered scikit-learn.org. See: https://github.com/scikit-learn/scikit-learn/issues/21755 */display: inline-block !important;position: relative;}#sk-container-id-14 div.sk-text-repr-fallback {display: none;}</style><div id=\"sk-container-id-14\" class=\"sk-top-container\"><div class=\"sk-text-repr-fallback\"><pre>LinearRegression()</pre><b>In a Jupyter environment, please rerun this cell to show the HTML representation or trust the notebook. <br />On GitHub, the HTML representation is unable to render, please try loading this page with nbviewer.org.</b></div><div class=\"sk-container\" hidden><div class=\"sk-item\"><div class=\"sk-estimator sk-toggleable\"><input class=\"sk-toggleable__control sk-hidden--visually\" id=\"sk-estimator-id-14\" type=\"checkbox\" checked><label for=\"sk-estimator-id-14\" class=\"sk-toggleable__label sk-toggleable__label-arrow\">LinearRegression</label><div class=\"sk-toggleable__content\"><pre>LinearRegression()</pre></div></div></div></div></div>"
      ],
      "text/plain": [
       "LinearRegression()"
      ]
     },
     "execution_count": 121,
     "metadata": {},
     "output_type": "execute_result"
    }
   ],
   "source": [
    "from sklearn.linear_model import LinearRegression\n",
    "\n",
    "Model_5 = LinearRegression()\n",
    "Model_5.fit(PX_5_TR, y_train)"
   ]
  },
  {
   "cell_type": "markdown",
   "metadata": {
    "id": "eADTY5MVAAZn"
   },
   "source": [
    "* Validation_Data로 y_hat(예측값) 생성 및 MSE 계산"
   ]
  },
  {
   "cell_type": "code",
   "execution_count": 123,
   "metadata": {
    "ExecuteTime": {
     "end_time": "2023-12-06T02:38:21.968454Z",
     "start_time": "2023-12-06T02:38:21.962321Z"
    },
    "id": "eWvNogUVJFYS",
    "tags": []
   },
   "outputs": [],
   "source": [
    "PX_5_VD = poly.transform(X_valid)\n",
    "\n",
    "y_hat_5 = Model_5.predict(PX_5_VD)"
   ]
  },
  {
   "cell_type": "code",
   "execution_count": 124,
   "metadata": {
    "ExecuteTime": {
     "end_time": "2023-12-06T02:38:22.488330Z",
     "start_time": "2023-12-06T02:38:22.482390Z"
    },
    "colab": {
     "base_uri": "https://localhost:8080/"
    },
    "executionInfo": {
     "elapsed": 46,
     "status": "ok",
     "timestamp": 1664034018076,
     "user": {
      "displayName": "이정구",
      "userId": "17400242557229223804"
     },
     "user_tz": -540
    },
    "id": "9crzE4F0D71w",
    "outputId": "d4e10440-f934-4b21-ad6f-5f381f81e6d0",
    "tags": []
   },
   "outputs": [
    {
     "data": {
      "text/plain": [
       "4136.43122786305"
      ]
     },
     "execution_count": 124,
     "metadata": {},
     "output_type": "execute_result"
    }
   ],
   "source": [
    "from sklearn.metrics import mean_squared_error\n",
    "\n",
    "MSE_5 = mean_squared_error(y_valid, y_hat_5)\n",
    "MSE_5"
   ]
  },
  {
   "cell_type": "markdown",
   "metadata": {
    "id": "YM1oz3Y_DA0_"
   },
   "source": [
    "### 9차 모델 Validation Error"
   ]
  },
  {
   "cell_type": "markdown",
   "metadata": {
    "id": "gCfldW53AOtk"
   },
   "source": [
    "* Train_Data로 모델 생성"
   ]
  },
  {
   "cell_type": "code",
   "execution_count": 125,
   "metadata": {
    "ExecuteTime": {
     "end_time": "2023-12-06T02:39:00.976570Z",
     "start_time": "2023-12-06T02:39:00.970096Z"
    },
    "id": "ujrXE5BNJlLJ",
    "tags": []
   },
   "outputs": [],
   "source": [
    "from sklearn.preprocessing import PolynomialFeatures\n",
    "\n",
    "poly = PolynomialFeatures(degree = 9, include_bias = False)\n",
    "PX_9_TR = poly.fit_transform(X_train)"
   ]
  },
  {
   "cell_type": "code",
   "execution_count": 126,
   "metadata": {
    "ExecuteTime": {
     "end_time": "2023-12-06T02:39:01.201715Z",
     "start_time": "2023-12-06T02:39:01.195705Z"
    },
    "colab": {
     "base_uri": "https://localhost:8080/"
    },
    "executionInfo": {
     "elapsed": 39,
     "status": "ok",
     "timestamp": 1664034018077,
     "user": {
      "displayName": "이정구",
      "userId": "17400242557229223804"
     },
     "user_tz": -540
    },
    "id": "Ts5kCp0VEH-k",
    "outputId": "ce3f4a36-851b-40b4-f732-20a640a046e9",
    "tags": []
   },
   "outputs": [
    {
     "data": {
      "text/html": [
       "<style>#sk-container-id-15 {color: black;background-color: white;}#sk-container-id-15 pre{padding: 0;}#sk-container-id-15 div.sk-toggleable {background-color: white;}#sk-container-id-15 label.sk-toggleable__label {cursor: pointer;display: block;width: 100%;margin-bottom: 0;padding: 0.3em;box-sizing: border-box;text-align: center;}#sk-container-id-15 label.sk-toggleable__label-arrow:before {content: \"▸\";float: left;margin-right: 0.25em;color: #696969;}#sk-container-id-15 label.sk-toggleable__label-arrow:hover:before {color: black;}#sk-container-id-15 div.sk-estimator:hover label.sk-toggleable__label-arrow:before {color: black;}#sk-container-id-15 div.sk-toggleable__content {max-height: 0;max-width: 0;overflow: hidden;text-align: left;background-color: #f0f8ff;}#sk-container-id-15 div.sk-toggleable__content pre {margin: 0.2em;color: black;border-radius: 0.25em;background-color: #f0f8ff;}#sk-container-id-15 input.sk-toggleable__control:checked~div.sk-toggleable__content {max-height: 200px;max-width: 100%;overflow: auto;}#sk-container-id-15 input.sk-toggleable__control:checked~label.sk-toggleable__label-arrow:before {content: \"▾\";}#sk-container-id-15 div.sk-estimator input.sk-toggleable__control:checked~label.sk-toggleable__label {background-color: #d4ebff;}#sk-container-id-15 div.sk-label input.sk-toggleable__control:checked~label.sk-toggleable__label {background-color: #d4ebff;}#sk-container-id-15 input.sk-hidden--visually {border: 0;clip: rect(1px 1px 1px 1px);clip: rect(1px, 1px, 1px, 1px);height: 1px;margin: -1px;overflow: hidden;padding: 0;position: absolute;width: 1px;}#sk-container-id-15 div.sk-estimator {font-family: monospace;background-color: #f0f8ff;border: 1px dotted black;border-radius: 0.25em;box-sizing: border-box;margin-bottom: 0.5em;}#sk-container-id-15 div.sk-estimator:hover {background-color: #d4ebff;}#sk-container-id-15 div.sk-parallel-item::after {content: \"\";width: 100%;border-bottom: 1px solid gray;flex-grow: 1;}#sk-container-id-15 div.sk-label:hover label.sk-toggleable__label {background-color: #d4ebff;}#sk-container-id-15 div.sk-serial::before {content: \"\";position: absolute;border-left: 1px solid gray;box-sizing: border-box;top: 0;bottom: 0;left: 50%;z-index: 0;}#sk-container-id-15 div.sk-serial {display: flex;flex-direction: column;align-items: center;background-color: white;padding-right: 0.2em;padding-left: 0.2em;position: relative;}#sk-container-id-15 div.sk-item {position: relative;z-index: 1;}#sk-container-id-15 div.sk-parallel {display: flex;align-items: stretch;justify-content: center;background-color: white;position: relative;}#sk-container-id-15 div.sk-item::before, #sk-container-id-15 div.sk-parallel-item::before {content: \"\";position: absolute;border-left: 1px solid gray;box-sizing: border-box;top: 0;bottom: 0;left: 50%;z-index: -1;}#sk-container-id-15 div.sk-parallel-item {display: flex;flex-direction: column;z-index: 1;position: relative;background-color: white;}#sk-container-id-15 div.sk-parallel-item:first-child::after {align-self: flex-end;width: 50%;}#sk-container-id-15 div.sk-parallel-item:last-child::after {align-self: flex-start;width: 50%;}#sk-container-id-15 div.sk-parallel-item:only-child::after {width: 0;}#sk-container-id-15 div.sk-dashed-wrapped {border: 1px dashed gray;margin: 0 0.4em 0.5em 0.4em;box-sizing: border-box;padding-bottom: 0.4em;background-color: white;}#sk-container-id-15 div.sk-label label {font-family: monospace;font-weight: bold;display: inline-block;line-height: 1.2em;}#sk-container-id-15 div.sk-label-container {text-align: center;}#sk-container-id-15 div.sk-container {/* jupyter's `normalize.less` sets `[hidden] { display: none; }` but bootstrap.min.css set `[hidden] { display: none !important; }` so we also need the `!important` here to be able to override the default hidden behavior on the sphinx rendered scikit-learn.org. See: https://github.com/scikit-learn/scikit-learn/issues/21755 */display: inline-block !important;position: relative;}#sk-container-id-15 div.sk-text-repr-fallback {display: none;}</style><div id=\"sk-container-id-15\" class=\"sk-top-container\"><div class=\"sk-text-repr-fallback\"><pre>LinearRegression()</pre><b>In a Jupyter environment, please rerun this cell to show the HTML representation or trust the notebook. <br />On GitHub, the HTML representation is unable to render, please try loading this page with nbviewer.org.</b></div><div class=\"sk-container\" hidden><div class=\"sk-item\"><div class=\"sk-estimator sk-toggleable\"><input class=\"sk-toggleable__control sk-hidden--visually\" id=\"sk-estimator-id-15\" type=\"checkbox\" checked><label for=\"sk-estimator-id-15\" class=\"sk-toggleable__label sk-toggleable__label-arrow\">LinearRegression</label><div class=\"sk-toggleable__content\"><pre>LinearRegression()</pre></div></div></div></div></div>"
      ],
      "text/plain": [
       "LinearRegression()"
      ]
     },
     "execution_count": 126,
     "metadata": {},
     "output_type": "execute_result"
    }
   ],
   "source": [
    "Model_9 = LinearRegression()\n",
    "Model_9.fit(PX_9_TR, y_train)"
   ]
  },
  {
   "cell_type": "markdown",
   "metadata": {
    "id": "ziLt-Z8BALJb"
   },
   "source": [
    "* Validation_Data로 y_hat(예측값) 생성 및 MSE 계산"
   ]
  },
  {
   "cell_type": "code",
   "execution_count": 127,
   "metadata": {
    "ExecuteTime": {
     "end_time": "2023-12-06T02:39:01.624064Z",
     "start_time": "2023-12-06T02:39:01.619208Z"
    },
    "id": "chStqudLJq27",
    "tags": []
   },
   "outputs": [],
   "source": [
    "PX9_valid = poly.transform(X_valid)\n",
    "\n",
    "y_hat_9 = Model_9.predict(PX9_valid)"
   ]
  },
  {
   "cell_type": "code",
   "execution_count": 128,
   "metadata": {
    "ExecuteTime": {
     "end_time": "2023-12-06T02:39:01.888906Z",
     "start_time": "2023-12-06T02:39:01.883762Z"
    },
    "colab": {
     "base_uri": "https://localhost:8080/"
    },
    "executionInfo": {
     "elapsed": 33,
     "status": "ok",
     "timestamp": 1664034018078,
     "user": {
      "displayName": "이정구",
      "userId": "17400242557229223804"
     },
     "user_tz": -540
    },
    "id": "NS18UiwwEZSb",
    "outputId": "ceb6d906-6516-41f8-fbb4-544ddfe606ed",
    "tags": []
   },
   "outputs": [
    {
     "data": {
      "text/plain": [
       "3955.9733124048375"
      ]
     },
     "execution_count": 128,
     "metadata": {},
     "output_type": "execute_result"
    }
   ],
   "source": [
    "MSE_9 = mean_squared_error(y_valid, y_hat_9)\n",
    "MSE_9"
   ]
  },
  {
   "cell_type": "markdown",
   "metadata": {
    "id": "tJx51kbHDKBq"
   },
   "source": [
    "### 2개 모델 Validation Error 비교"
   ]
  },
  {
   "cell_type": "code",
   "execution_count": 129,
   "metadata": {
    "ExecuteTime": {
     "end_time": "2023-12-06T02:39:03.069813Z",
     "start_time": "2023-12-06T02:39:03.066290Z"
    },
    "colab": {
     "base_uri": "https://localhost:8080/"
    },
    "executionInfo": {
     "elapsed": 28,
     "status": "ok",
     "timestamp": 1664034018079,
     "user": {
      "displayName": "이정구",
      "userId": "17400242557229223804"
     },
     "user_tz": -540
    },
    "id": "XwyaJ21FFWvs",
    "outputId": "39c796f2-b5b6-47e3-b2df-97222f1450d9",
    "tags": []
   },
   "outputs": [
    {
     "name": "stdout",
     "output_type": "stream",
     "text": [
      "5차 모델 MSE_5  :  4136.43122786305\n",
      "9차 모델 MSE_9  :  3955.9733124048375\n"
     ]
    }
   ],
   "source": [
    "print('5차 모델 MSE_5  : ', MSE_5)\n",
    "print('9차 모델 MSE_9  : ', MSE_9)"
   ]
  },
  {
   "cell_type": "markdown",
   "metadata": {
    "id": "kJorFSxR2YV8"
   },
   "source": [
    "### 4) 최종 9차 모델을 Test_Data에 적용"
   ]
  },
  {
   "cell_type": "markdown",
   "metadata": {
    "id": "fl7sTk6CAzXw"
   },
   "source": [
    "* Test_Data로 y_hat(예측값) 생성 및 MSE 계산"
   ]
  },
  {
   "cell_type": "code",
   "execution_count": 130,
   "metadata": {
    "ExecuteTime": {
     "end_time": "2023-12-06T02:40:01.554555Z",
     "start_time": "2023-12-06T02:40:01.546358Z"
    },
    "colab": {
     "base_uri": "https://localhost:8080/"
    },
    "executionInfo": {
     "elapsed": 21,
     "status": "ok",
     "timestamp": 1664034018079,
     "user": {
      "displayName": "이정구",
      "userId": "17400242557229223804"
     },
     "user_tz": -540
    },
    "id": "O_H8hY-RF0G0",
    "outputId": "28f0709e-4431-43e1-f4f1-63ce1a834ef3",
    "tags": []
   },
   "outputs": [
    {
     "data": {
      "text/plain": [
       "4220.885732042768"
      ]
     },
     "execution_count": 130,
     "metadata": {},
     "output_type": "execute_result"
    }
   ],
   "source": [
    "PX9_TE = poly.transform(X_test)\n",
    "\n",
    "mean_squared_error(y_test, Model_9.predict(PX9_TE))"
   ]
  },
  {
   "cell_type": "markdown",
   "metadata": {
    "id": "6GgNUzQfBJwf"
   },
   "source": [
    "# The End "
   ]
  }
 ],
 "metadata": {
  "colab": {
   "collapsed_sections": [],
   "provenance": []
  },
  "kernelspec": {
   "display_name": "Python 3 (ipykernel)",
   "language": "python",
   "name": "python3"
  },
  "language_info": {
   "codemirror_mode": {
    "name": "ipython",
    "version": 3
   },
   "file_extension": ".py",
   "mimetype": "text/x-python",
   "name": "python",
   "nbconvert_exporter": "python",
   "pygments_lexer": "ipython3",
   "version": "3.11.5"
  },
  "toc": {
   "base_numbering": 1,
   "nav_menu": {},
   "number_sections": true,
   "sideBar": true,
   "skip_h1_title": false,
   "title_cell": "Table of Contents",
   "title_sidebar": "Contents",
   "toc_cell": false,
   "toc_position": {
    "height": "calc(100% - 180px)",
    "left": "10px",
    "top": "150px",
    "width": "191.594px"
   },
   "toc_section_display": true,
   "toc_window_display": true
  },
  "varInspector": {
   "cols": {
    "lenName": 16,
    "lenType": 16,
    "lenVar": 40
   },
   "kernels_config": {
    "python": {
     "delete_cmd_postfix": "",
     "delete_cmd_prefix": "del ",
     "library": "var_list.py",
     "varRefreshCmd": "print(var_dic_list())"
    },
    "r": {
     "delete_cmd_postfix": ") ",
     "delete_cmd_prefix": "rm(",
     "library": "var_list.r",
     "varRefreshCmd": "cat(var_dic_list()) "
    }
   },
   "types_to_exclude": [
    "module",
    "function",
    "builtin_function_or_method",
    "instance",
    "_Feature"
   ],
   "window_display": false
  }
 },
 "nbformat": 4,
 "nbformat_minor": 4
}
